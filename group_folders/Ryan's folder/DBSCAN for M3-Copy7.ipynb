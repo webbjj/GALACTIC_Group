{
 "cells": [
  {
   "cell_type": "markdown",
   "metadata": {},
   "source": [
    "## How to use the t-SNE algorithm on APOGEE globular cluster data. \n",
    "##### Steffani Grondin (September 23, 2022)"
   ]
  },
  {
   "cell_type": "code",
   "execution_count": null,
   "metadata": {
    "scrolled": true
   },
   "outputs": [],
   "source": [
    "%pip install sklearn\n",
    "%pip install shapely"
   ]
  },
  {
   "cell_type": "code",
   "execution_count": null,
   "metadata": {
    "scrolled": true
   },
   "outputs": [],
   "source": [
    "%pip install shapely"
   ]
  },
  {
   "cell_type": "code",
   "execution_count": null,
   "metadata": {},
   "outputs": [],
   "source": [
    "%pip install tqdm"
   ]
  },
  {
   "cell_type": "markdown",
   "metadata": {},
   "source": [
    "## Notes for this program"
   ]
  },
  {
   "cell_type": "markdown",
   "metadata": {},
   "source": [
    "My parameter list is different from Steffani's. My param list is shown below:\\\\\\\\\n",
    "param_list = ['# APOGEE_ID_', 'GAIAEDR3_SOURCE_ID', 'GAIAEDR3_PARALLAX', 'GAIAEDR3_PARALLAX_ERROR', 'RA', 'DEC', 'GAIAEDR3_PMRA', 'GAIAEDR3_PMRA_ERROR', 'GAIAEDR3_PMDEC', 'GAIAEDR3_PMDEC_ERROR', 'GAIAEDR3_DR2_RADIAL_VELOCITY', 'GAIAEDR3_DR2_RADIAL_VELOCITY_ERROR', 'SNR', 'FE_H', 'FE_H_ERR', 'C_FE', 'C_FE_ERR', 'CI_FE', 'CI_FE_ERR', 'N_FE', 'N_FE_ERR', 'O_FE', 'O_FE_ERR', 'MG_FE', 'MG_FE_ERR', 'AL_FE', 'AL_FE_ERR', 'SI_FE', 'SI_FE_ERR', 'P_FE', 'P_FE_ERR', 'S_FE', 'S_FE_ERR', 'K_FE', 'K_FE_ERR', 'CA_FE', 'CA_FE_ERR', 'TI_FE', 'TI_FE_ERR', 'TIII_FE', 'TIII_FE_ERR', 'V_FE', 'V_FE_ERR', 'CR_FE', 'CR_FE_ERR', 'MN_FE', 'MN_FE_ERR', 'CO_FE', 'CO_FE_ERR', 'NI_FE', 'NI_FE_ERR']\\\\\\\\\n",
    "\n",
    "So basically the RA index is 4, DEC index is 5, RV index is 10, and the first chemical abundance is at 13. The chemical abundances follow Steffani's form (e.g. abundance1, abundance1_error, abundance2, abundance2_error, etc.). What I did was make the standardizing step for both tSNE and UMAP take in the index of the first chemical abundance and from there it automatically adds 2 for each chem abundance going up.\\\\\\\\\n",
    "\n",
    "Basically if you use my param_list it'll work. The param_list variable is just a list of strings of the index titles, I have a function somewhere that grabs the data for those indices.\\\\\\\\\n",
    "\n",
    "For each GC, we just need the ra, dec, rhm_deg (rhm depends on dist I think).\\\\\n",
    "There are global parameters for all GCs as well, so the parameter list, fov, and chemical abundance starting index.\\\\\\\\\n",
    "\n",
    "LMK if shit dont work and there's probably something I forgot to explain."
   ]
  },
  {
   "cell_type": "markdown",
   "metadata": {},
   "source": [
    "#### STEP 0: Import the necessary packages/algorithms."
   ]
  },
  {
   "cell_type": "code",
   "execution_count": 1,
   "metadata": {
    "tags": [
     "hide-input"
    ]
   },
   "outputs": [],
   "source": [
    "# General analysis/plotting packages:\n",
    "import matplotlib.pyplot as plt\n",
    "import numpy as np\n",
    "import math\n",
    "import warnings\n",
    "warnings.simplefilter(action='ignore', category=FutureWarning)\n",
    "import pandas as pd\n",
    "import matplotlib.pyplot as plt\n",
    "from matplotlib.ticker import FormatStrFormatter\n",
    "from matplotlib import rc\n",
    "plt.rcParams['mathtext.fontset'] = 'stix'\n",
    "plt.rcParams['font.family'] = 'STIXGeneral'\n",
    "from collections import Counter\n",
    "\n",
    "# Specific t-SNE/visualization packages:\n",
    "from sklearn.manifold import TSNE\n",
    "from shapely.geometry import Point, Polygon\n",
    "\n",
    "# UMAP shit\n",
    "# Import UMAP\n",
    "import umap.umap_ as umap\n",
    "\n",
    "# Try using SKLEARN's StandardScaler to standardize the data\n",
    "from sklearn.preprocessing import StandardScaler\n",
    "\n",
    "# I/O\n",
    "import sys\n",
    "\n",
    "# OS\n",
    "import os\n",
    "\n",
    "# dbscan\n",
    "from sklearn.cluster import DBSCAN\n",
    "\n",
    "# tqdm\n",
    "from tqdm.notebook import tqdm\n",
    "\n",
    "# KDTree\n",
    "from scipy.spatial import cKDTree\n",
    "\n",
    "# mode\n",
    "from scipy import stats as st"
   ]
  },
  {
   "cell_type": "markdown",
   "metadata": {},
   "source": [
    "### Step 1: Load in the clusters"
   ]
  },
  {
   "cell_type": "markdown",
   "metadata": {},
   "source": [
    "#### Load in selected star cluster\n",
    "Input RA and DEC and the program will load in all the stars within a $10^o$ by $10^o$ FOV."
   ]
  },
  {
   "cell_type": "code",
   "execution_count": 2,
   "metadata": {},
   "outputs": [],
   "source": [
    "'''Read in APOGEE CSV file'''\n",
    "\n",
    "apogee_filt = pd.read_csv('data/APOGEEDR17_GAIAEDR3_filter.csv', delimiter=',')\n",
    "apogee_nofilt = pd.read_csv('data/APOGEEDR17_GAIAEDR3_noflagfilter.csv', delimiter=',')\n",
    "GC_db = pd.read_csv('data/nice_GCs.csv', delimiter=',')"
   ]
  },
  {
   "cell_type": "code",
   "execution_count": 3,
   "metadata": {
    "tags": [
     "hide-input"
    ]
   },
   "outputs": [],
   "source": [
    "### Finding stars within a set FOV of the GC centre\n",
    "def find_cluster_stars(ra, dec, fov, df, name, rhm_deg, rt_deg):\n",
    "    \n",
    "    stars = []\n",
    "    for count, i in enumerate(df['RA'].values):\n",
    "        if i >= ra - fov and i <= ra + fov and df['DEC'].values[count] >= dec - fov and df['DEC'].values[count] <= dec + fov:\n",
    "            stars.append(df.loc[count])\n",
    "            \n",
    "    print(len(stars), 'stars in a 10x10 fov of the GC')\n",
    "    \n",
    "    if len(stars) != 0:\n",
    "        # create a folder with name of GC only if there are stars in the field\n",
    "        try: \n",
    "            os.makedirs('GCs_nice_norad/' + name)\n",
    "        except OSError as error:\n",
    "            print('Directory ' + name+ ' already exists')\n",
    "\n",
    "    ra_arr = np.empty(len(stars), dtype=float)\n",
    "    dec_arr = np.empty(len(stars), dtype=float)\n",
    "    for count, i in enumerate(stars):\n",
    "        ra_arr[count] = i['RA']\n",
    "        dec_arr[count] = i['DEC']\n",
    "    \n",
    "    rhm_circ = plt.Circle((ra, dec), rhm_deg, color='r', fill=False, label='rhm')\n",
    "    rhm_rt_circ = plt.Circle((ra, dec), (rhm_deg + rt_deg)/2, color='g', fill=False, label='1/2 rhm, rt')\n",
    "    rt_circ = plt.Circle((ra, dec), rt_deg, color='b', fill=False, label='rt')\n",
    "    \n",
    "    #plt.figure(figsize=(10,10))\n",
    "    fig, ax = plt.subplots(1, figsize=(20,20))\n",
    "    '''fig = plt.gcf()\n",
    "    ax = plt.gca()'''\n",
    "    plt.plot(ra_arr, dec_arr, 'ok', linestyle='none', markersize=1, label='Stars')\n",
    "    plt.plot(ra, dec, 'or', linestyle='none', markersize=5, label='GC centre')\n",
    "    ax.add_patch(rhm_circ)\n",
    "    ax.add_patch(rhm_rt_circ)\n",
    "    ax.add_patch(rt_circ)\n",
    "    plt.xlabel('RA')\n",
    "    plt.ylabel('DEC')\n",
    "    plt.title(name)\n",
    "    plt.xlim(ra - fov - 1, ra + fov + 1)\n",
    "    plt.ylim(dec - fov - 1, dec + fov + 1)\n",
    "    '''try:\n",
    "        plt.savefig('GCs_nice_norad/'+name+'/radec.png')\n",
    "    except:\n",
    "        print('No stars yo')'''\n",
    "    #plt.show()\n",
    "    ax.legend(loc='best')\n",
    "    plt.close('all')\n",
    "    return stars\n",
    "            "
   ]
  },
  {
   "cell_type": "markdown",
   "metadata": {},
   "source": [
    "#### Separating list of stars into lists by parameter"
   ]
  },
  {
   "cell_type": "code",
   "execution_count": 4,
   "metadata": {},
   "outputs": [],
   "source": [
    "def split_star_list(stars, parameters):\n",
    "    param_dict = {}\n",
    "    for i in parameters:\n",
    "        if str(i) == '# APOGEE_ID_':\n",
    "            param_dict[str(i)] = np.empty(len(stars), dtype=object)\n",
    "        else:\n",
    "            param_dict[str(i)] = np.empty(len(stars))\n",
    "    for count,i in enumerate(stars):\n",
    "        for j in parameters:\n",
    "            param_dict[str(j)][count] = i[str(j)]\n",
    "            \n",
    "    return param_dict\n",
    "        "
   ]
  },
  {
   "cell_type": "markdown",
   "metadata": {},
   "source": [
    "#### Separating the dictionary values into a columns list"
   ]
  },
  {
   "cell_type": "code",
   "execution_count": 5,
   "metadata": {},
   "outputs": [],
   "source": [
    "def split_cols(GC_param, parameters):\n",
    "    cols = []\n",
    "    for i in range(len(GC_param)):\n",
    "        cols.append(GC_param[str(parameters[i])])\n",
    "    \n",
    "    return cols"
   ]
  },
  {
   "cell_type": "markdown",
   "metadata": {},
   "source": [
    "#### Master GC load function"
   ]
  },
  {
   "cell_type": "code",
   "execution_count": 6,
   "metadata": {},
   "outputs": [],
   "source": [
    "def master_load(ra, dec, fov, dataset, params, name, rhm_deg, rt_deg):\n",
    "    stars_found = find_cluster_stars(ra, dec, fov, dataset, name, rhm_deg, rt_deg)\n",
    "    GC_dict = split_star_list(stars_found, params)\n",
    "    GC_cols = split_cols(GC_dict, param_list)\n",
    "    \n",
    "    return [GC_dict, GC_cols]\n",
    "    "
   ]
  },
  {
   "cell_type": "markdown",
   "metadata": {},
   "source": [
    "### Step 2: Filter the data"
   ]
  },
  {
   "cell_type": "markdown",
   "metadata": {},
   "source": [
    "#### Filter 1 for data: Removing all stars without PM"
   ]
  },
  {
   "cell_type": "code",
   "execution_count": 7,
   "metadata": {},
   "outputs": [],
   "source": [
    "def pm_filter(GC_dict, GC_cols):\n",
    "    ### Filter 1: Remove stars that do not have proper motion values. ###\n",
    "    pm_filter_nan = np.isnan(GC_dict['GAIAEDR3_PMRA'])\n",
    "    pm_filter = np.where(pm_filter_nan==False)\n",
    "    data_pmfilter = []\n",
    "    for i in GC_cols:\n",
    "        x = np.array(i)[pm_filter]\n",
    "        data_pmfilter.append(x)\n",
    "    #print(\"There are {} stars in our sample after the proper motion filtering.\".format(len(data_pmfilter[0])))\n",
    "    \n",
    "    return data_pmfilter"
   ]
  },
  {
   "cell_type": "markdown",
   "metadata": {},
   "source": [
    "#### Filter 2 for data: Removing all stars that do not have chemical abundances"
   ]
  },
  {
   "cell_type": "code",
   "execution_count": 8,
   "metadata": {},
   "outputs": [],
   "source": [
    "def chem_filter(data_pmfilter, init_abundance_index):\n",
    "    ### Filter 2: Remove stars that do not have data for all 19 abundances. ###\n",
    "    abundance_filter = np.where((data_pmfilter[init_abundance_index] > -9999) & (data_pmfilter[init_abundance_index + 2] > -9999) & (data_pmfilter[init_abundance_index + 4]  > -9999)\n",
    "                                & (data_pmfilter[init_abundance_index + 6]  > -9999) & (data_pmfilter[ init_abundance_index + 8]  > -9999) & (data_pmfilter[init_abundance_index + 10]  > -9999)\n",
    "                                & (data_pmfilter[init_abundance_index + 12]  > -9999) & (data_pmfilter[init_abundance_index + 14]  > -9999) & (data_pmfilter[init_abundance_index + 16]  > -9999)\n",
    "                                & (data_pmfilter[init_abundance_index + 18]  > -9999) & (data_pmfilter[init_abundance_index + 20]  > -9999) & (data_pmfilter[init_abundance_index + 22]  > -9999)\n",
    "                                & (data_pmfilter[init_abundance_index + 24]  > -9999) & (data_pmfilter[init_abundance_index + 26]  > -9999) & (data_pmfilter[init_abundance_index + 28]  > -9999)\n",
    "                                & (data_pmfilter[init_abundance_index + 30]  > -9999) & (data_pmfilter[init_abundance_index + 32]  > -9999) & (data_pmfilter[init_abundance_index + 34]  > -9999)\n",
    "                                & (data_pmfilter[init_abundance_index + 36]  > -9999))\n",
    "\n",
    "    data_abundancefilter = []\n",
    "    for i in data_pmfilter:\n",
    "        y = np.array(i)[abundance_filter]\n",
    "        data_abundancefilter.append(y)\n",
    "    #print(\"There are {} stars in our sample after the abundance filtering.\".format(len(data_abundancefilter[0])))\n",
    "    \n",
    "    return data_abundancefilter"
   ]
  },
  {
   "cell_type": "markdown",
   "metadata": {},
   "source": [
    "#### Filter 3 for data: Removing all duplicate spectra"
   ]
  },
  {
   "cell_type": "code",
   "execution_count": 9,
   "metadata": {},
   "outputs": [],
   "source": [
    "# changed all indices of 0 to 4 (RA) and 23 to 12 (SNR)\n",
    "def dup_filter(data_abundancefilter):\n",
    "    d =  Counter(data_abundancefilter[4])\n",
    "    #print(d)\n",
    "    duplicates = [k for k, v in d.items() if v > 1]\n",
    "    a_list = np.array(range(0, len(duplicates)))\n",
    "    max_SNR_array = []\n",
    "\n",
    "    for i in a_list:\n",
    "        indices = np.where(data_abundancefilter[4] == duplicates[i])\n",
    "        snr_val = data_abundancefilter[12][indices]\n",
    "        maximum = max(snr_val)\n",
    "        # 4 is RA, 12 is SNR\n",
    "        index_maximum = np.where((data_abundancefilter[4] == duplicates[i]) & (data_abundancefilter[12] == maximum))\n",
    "        #print(index_maximum[4])\n",
    "        index_maximum = int(index_maximum[4])\n",
    "        max_SNR_array.append(index_maximum)\n",
    "\n",
    "    idx_sort = np.argsort(data_abundancefilter[4])\n",
    "    sorted_ra_array = data_abundancefilter[4][idx_sort]\n",
    "    vals, idx_start, count = np.unique(sorted_ra_array, return_counts=True, return_index=True)\n",
    "    res = np.split(idx_sort, idx_start[1:])\n",
    "    vals = vals[count == 1]\n",
    "    listtest =  np.array(range(0, len(vals)))\n",
    "\n",
    "    unique_array = []\n",
    "    for i in listtest:\n",
    "        unique_val = np.where(vals[i] == data_abundancefilter[4])\n",
    "        unique_val = int(unique_val[0])\n",
    "        unique_array.append(unique_val)\n",
    "\n",
    "    #print(\"There are {} stars that do not have duplicate spectra.\".format(len(unique_array)))\n",
    "    #print(\"There are {} stars that have multiple spectra, in which we select highest SNR.\".format(len(max_SNR_array)))\n",
    "    \n",
    "    if len(max_SNR_array) != 0:\n",
    "        duplicates_filter = np.concatenate((unique_array, max_SNR_array))\n",
    "        sortedarray = np.sort(duplicates_filter)\n",
    "\n",
    "        data_duplicatesfilter = []\n",
    "        for i in data_abundancefilter:\n",
    "            z = np.array(i)[duplicates_filter]\n",
    "            data_duplicatesfilter.append(z)\n",
    "\n",
    "        #print(\"There are {} stars in our sample after removing sources with duplicate spectra.\".format(len(data_duplicatesfilter[0])))\n",
    "    \n",
    "    else:\n",
    "        #print('There were no duplicate spectra.')\n",
    "        data_duplicatesfilter = data_abundancefilter\n",
    "    \n",
    "    return data_duplicatesfilter"
   ]
  },
  {
   "cell_type": "markdown",
   "metadata": {},
   "source": [
    "#### Filter 4 for data: Removing all low SNR"
   ]
  },
  {
   "cell_type": "code",
   "execution_count": 10,
   "metadata": {},
   "outputs": [],
   "source": [
    "def SNR_filter(data_duplicatesfilter):\n",
    "    SNR_filter = np.where(data_duplicatesfilter[12] > 50)\n",
    "    data_snrfilter = []\n",
    "    for i in data_duplicatesfilter:\n",
    "        a = np.array(i)[SNR_filter]\n",
    "        data_snrfilter.append(a)\n",
    "\n",
    "    #print(\"There are {} stars in our sample after removing sources with low SNR.\".format(len(data_snrfilter[0])))\n",
    "\n",
    "    #print(data_snrfilter[12])\n",
    "    return data_snrfilter"
   ]
  },
  {
   "cell_type": "markdown",
   "metadata": {},
   "source": [
    "#### Master filter function"
   ]
  },
  {
   "cell_type": "code",
   "execution_count": 11,
   "metadata": {},
   "outputs": [],
   "source": [
    "def master_filter(GC_dict, GC_cols):\n",
    "    M3_pm_filter = pm_filter(GC_dict, GC_cols)\n",
    "    M3_abundance_filter = chem_filter(M3_pm_filter, 13)\n",
    "    M3_duplicates_filter = dup_filter(M3_abundance_filter)\n",
    "    M3_SNR_filter = SNR_filter(M3_duplicates_filter)\n",
    "    \n",
    "    print('\\nThe final amount of stars in our sample is:', len(M3_SNR_filter[0]))\n",
    "    return M3_SNR_filter"
   ]
  },
  {
   "cell_type": "markdown",
   "metadata": {},
   "source": [
    "#### STEP 3: Define parameters for your GC of interest. \n",
    "\n",
    "These parameters are taken from the Baumgardt & Hilker (2018) catalogue: https://people.smp.uq.edu.au/HolgerBaumgardt/globular/."
   ]
  },
  {
   "cell_type": "markdown",
   "metadata": {},
   "source": [
    "#### STEP 4: Define a control group of cluster members.\n",
    "\n",
    "We must define a control group of likely cluster members of M3 so we can see where these stars end up in the t-SNE projection. "
   ]
  },
  {
   "cell_type": "markdown",
   "metadata": {},
   "source": [
    "# multiply the rhm by fraction * rt / rhm, varying the fraction from 1/rt to 1 and plot for the first 20-30 GCs.\n",
    "\n",
    "# see how this affects the control group clustering\n",
    "\n",
    "# update: stay at 8 rhm for now, change the perplexity and see whats up\n",
    "\n",
    "# update 2: fix halfway between rhm and rt. if its over rt, then something fucked yo"
   ]
  },
  {
   "cell_type": "code",
   "execution_count": 12,
   "metadata": {},
   "outputs": [],
   "source": [
    "def control_group(data_filter, ra, dec, rhm_deg, rt_deg):\n",
    "# Select all the stars within some radius of the cluster:\n",
    "    def in_circle(center_x, center_y, radius, x, y):\n",
    "        square_dist = (center_x - x) ** 2 + (center_y - y) ** 2\n",
    "        return square_dist <= (radius) ** 2\n",
    "\n",
    "    print('rhm: {:.2f}\\trt: {:.2f}'.format(rhm_deg, rt_deg))\n",
    "    \n",
    "    ra_filtered = data_filter[4]\n",
    "    dec_filtered = data_filter[5]\n",
    "\n",
    "    control_size = min((rhm_deg + rt_deg) / 2, rt_deg)\n",
    "    \n",
    "    # Select stars within halfway between r,hm and rt (useful for large enough sample of probable cluster members):\n",
    "    in_halfmass = in_circle(ra, dec, control_size, ra_filtered, dec_filtered)  \n",
    "    indices_control = np.where(in_halfmass==True)\n",
    "    \n",
    "    # check for stars within rt\n",
    "    in_rt = in_circle(ra, dec, rt_deg, ra_filtered, dec_filtered)\n",
    "    indices_control_rt = np.where(in_rt == True)\n",
    "    \n",
    "    #frac = np.sort(np.linspace(rhm_deg, rt_deg, 5)) / rhm_deg\n",
    "    #print(frac)\n",
    "    \n",
    "    controlgroup = []\n",
    "    for i in data_filter:\n",
    "        b = np.array(i)[indices_control]\n",
    "        controlgroup.append(b)\n",
    "\n",
    "\n",
    "    # Example control group parameters: \n",
    "    ra_control = controlgroup[0]\n",
    "    dec_control = controlgroup[1]\n",
    "\n",
    "    print(\"There are {} stars within half-dist of rhm and rt\".format(len(ra_control)) + ' and {} stars within the rt'.format(len(indices_control_rt[0])))\n",
    "    \n",
    "    #print('There are', [len(i[0]) for i in indices_control_scale], 'stars in our GC control group for a scale factor of', ['%.2f' %i for i in frac], '*rhm. Using 8*rhm gives', len(indices_control[0]))\n",
    "    \n",
    "    # no control stars within rt\n",
    "    if len(indices_control[0]) == 0 and len(indices_control_rt[0]) == 0:\n",
    "        print('No control stars within half of rhm, rt and 1 rt')\n",
    "        return [None]\n",
    "    \n",
    "    elif len(indices_control[0]) == 0 and len(indices_control_rt[0]) != 0:\n",
    "        print('No control stars within half of rhm, rt but yes control stars within rt')\n",
    "        return [None]\n",
    "    \n",
    "    else:\n",
    "        return [indices_control_rt]"
   ]
  },
  {
   "cell_type": "markdown",
   "metadata": {},
   "source": [
    "#### STEP 5: Run t-SNE on the control group and full filtered sample of APOGEE DR17 stars.\n",
    "\n",
    "First, we standardize the data to ensure that no elements dominate or skew the t-SNE run. We want to include 19 chemical abundances and radial velocities in our run.\n"
   ]
  },
  {
   "cell_type": "code",
   "execution_count": 13,
   "metadata": {},
   "outputs": [],
   "source": [
    "def standardize_data(data_filter, param_dict):\n",
    "    '''\n",
    "    Takes in a dictionary of parameters with the parameter name as the key and the index in the APOGEE file as the key value.\n",
    "    '''\n",
    "    \n",
    "    pretsne_array = []\n",
    "    params_arr = []\n",
    "    \n",
    "    for key in param_dict:\n",
    "        pretsne_array.append(data_filter[param_dict[key]])\n",
    "        params_arr.append(key)\n",
    "    \n",
    "    pretsne_array = np.array(pretsne_array)\n",
    "    \n",
    "    standardized = []\n",
    "    \n",
    "    for i in pretsne_array:\n",
    "        #print(i)\n",
    "        mean, sigma = np.nanmean(i), np.nanstd(i)\n",
    "        #print(mean)\n",
    "        norm = (i - mean) / sigma\n",
    "        standardized.append(norm)\n",
    "        \n",
    "    #print('The chosen parameters for the ML algorithms were:', params_arr)\n",
    "    return standardized"
   ]
  },
  {
   "cell_type": "markdown",
   "metadata": {},
   "source": [
    "#### tSNE function"
   ]
  },
  {
   "cell_type": "code",
   "execution_count": 14,
   "metadata": {},
   "outputs": [],
   "source": [
    "def master_tSNE(data_filter, param_dict, indices_control, name, num_total_stars):\n",
    "    standardized_array = standardize_data(data_filter, param_dict)\n",
    "    \n",
    "    # Transpose the standardized + filtered array:\n",
    "    standardized_array_transpose = np.transpose(standardized_array)\n",
    "    \n",
    "    #print(len(standardized_array_transpose))\n",
    "    \n",
    "    '''perp = np.arange(0, 101, 10)\n",
    "    perp[0] = 1\n",
    "    \n",
    "    tsne_dimX_perp = []\n",
    "    tsne_dimY_perp = []\n",
    "    tsne_dimX_control_perp = []\n",
    "    tsne_dimY_control_perp = []\n",
    "    \n",
    "    for i in perp:\n",
    "        if i > num_total_stars:\n",
    "            print('Perplexity exceeds total stars')\n",
    "            tsne_dimX_perp.append(None)\n",
    "            tsne_dimY_perp.append(None)\n",
    "            tsne_dimX_control_perp.append(None)\n",
    "            tsne_dimY_control_perp.append(None)\n",
    "        \n",
    "        else:\n",
    "            tsne_init_perp = TSNE(n_components=2, perplexity=i)\n",
    "            tsne_2d_perp = tsne_init_perp.fit_transform(standardized_array_transpose)\n",
    "\n",
    "            tsne_dimX_perp.append(tsne_2d_perp[:, 0])\n",
    "            tsne_dimY_perp.append(tsne_2d_perp[:, 1])\n",
    "\n",
    "            #print(len(tsne_dimX_perp[-1]))\n",
    "\n",
    "            tsne_dimX_control_perp.append(tsne_dimX_perp[-1][indices_control])\n",
    "            tsne_dimY_control_perp.append(tsne_dimY_perp[-1][indices_control])\n",
    "\n",
    "            fig, ax = plt.subplots(figsize=(8,6))\n",
    "            ax.scatter(tsne_dimX_perp[-1], tsne_dimY_perp[-1], s=1, c='gray', label='APOGEE DR17 stars')\n",
    "            ax.scatter(tsne_dimX_control_perp[-1] , tsne_dimY_control_perp[-1], s=45, edgecolor='k', c='hotpink', label='Control Group')\n",
    "            ax.set_xlabel(\"t-SNE X-Dimension\", fontsize=16)\n",
    "            ax.set_ylabel(\"t-SNE Y-Dimension\", fontsize=16)\n",
    "            ax.set_title(name + ', perp: ' + str(i))\n",
    "            ax.tick_params(axis='both', which='major', labelsize=16)\n",
    "            ax.tick_params(axis='both', which='minor', labelsize=16)\n",
    "            ax.legend(fontsize=16, loc=1)\n",
    "            plt.savefig('GCs/'+name+'/tsne'+str(i)+'.png')\n",
    "            #plt.show()\n",
    "    plt.close('all')'''\n",
    "    # Run t-SNE on the transposed array:\n",
    "    tsne_init = TSNE(n_components=2, perplexity=50)\n",
    "    tsne_2d = tsne_init.fit_transform(standardized_array_transpose)\n",
    "\n",
    "    # Get t-SNE outputs for complete filtered dataset:\n",
    "    tsne_dimX = tsne_2d[:, 0]\n",
    "    tsne_dimY = tsne_2d[:, 1]\n",
    "\n",
    "    # Get t-SNE outputs for control group:\n",
    "    tsne_dimX_control = tsne_dimX[indices_control]\n",
    "    tsne_dimY_control = tsne_dimY[indices_control]\n",
    "    \n",
    "    fig, ax = plt.subplots(figsize=(8,6))\n",
    "    ax.scatter(tsne_dimX, tsne_dimY, s=1, c='gray', label='APOGEE DR17 stars')\n",
    "    ax.scatter(tsne_dimX_control , tsne_dimY_control, s=40, edgecolor='k', c='hotpink', label='Control Group')\n",
    "    ax.set_xlabel(\"t-SNE X-Dimension\", fontsize=16)\n",
    "    ax.set_ylabel(\"t-SNE Y-Dimension\", fontsize=16)\n",
    "    ax.set_title(name)\n",
    "    ax.tick_params(axis='both', which='major', labelsize=16)\n",
    "    ax.tick_params(axis='both', which='minor', labelsize=16)\n",
    "    ax.legend(fontsize=16, loc=1)\n",
    "    plt.savefig('GCs_nice_norad/'+name+'/tsne.png')\n",
    "    #plt.show()\n",
    "    plt.close('all')\n",
    "    \n",
    "    #print('Total: ', len(t_SNE_dimX), 'Control: ', len(tsne_dimX_control[0]))\n",
    "    \n",
    "    return [tsne_dimX, tsne_dimY, tsne_dimX_control, tsne_dimY_control]"
   ]
  },
  {
   "cell_type": "markdown",
   "metadata": {},
   "source": [
    "#### UMAP function"
   ]
  },
  {
   "cell_type": "code",
   "execution_count": 15,
   "metadata": {},
   "outputs": [],
   "source": [
    "def master_UMAP(data_filter, param_dict, indices_control, name, num_total_stars):\n",
    "    standardize = standardize_data(data_filter, param_dict)\n",
    "    #print(len(standardize))\n",
    "    \n",
    "    # Transpose the standardized + filtered array:\n",
    "    standardized_array_transpose = np.transpose(standardize)\n",
    "    \n",
    "    '''neigh = np.arange(0, 101, 10)\n",
    "    neigh[0] = 2\n",
    "    \n",
    "    umap_dimX_neigh = []\n",
    "    umap_dimY_neigh = []\n",
    "    umap_dimX_control_neigh = []\n",
    "    umap_dimY_control_neigh = []\n",
    "    \n",
    "    for i in neigh:\n",
    "        if i > num_total_stars:\n",
    "            print('n_neighbors exceeds total stars')\n",
    "            umap_dimX_neigh.append(None)\n",
    "            umap_dimY_neigh.append(None)\n",
    "            umap_dimX_control_neigh.append(None)\n",
    "            umap_dimY_control_neigh.append(None)\n",
    "        \n",
    "        else:            \n",
    "            reducer_neigh = umap.UMAP(n_neighbors=i)\n",
    "            embedding_neigh = reducer_neigh.fit_transform(standardized_array_transpose)\n",
    "\n",
    "            umap_dimX_neigh.append(embedding_neigh[:, 0])\n",
    "            umap_dimY_neigh.append(embedding_neigh[:, 1])\n",
    "\n",
    "            umap_dimX_control_neigh.append(umap_dimX_neigh[-1][indices_control])\n",
    "            umap_dimY_control_neigh.append(umap_dimY_neigh[-1][indices_control])\n",
    "\n",
    "            fig, ax = plt.subplots(figsize=(8,6))\n",
    "            ax.scatter(umap_dimX_neigh[-1], umap_dimY_neigh[-1], s=1, c='gray', label='APOGEE DR17 stars')\n",
    "            ax.scatter(umap_dimX_control_neigh[-1], umap_dimY_control_neigh[-1], s=45, edgecolor='k', c='hotpink', label='Control Group')\n",
    "            ax.set_xlabel(\"UMAP X-Dimension\", fontsize=16)\n",
    "            ax.set_ylabel(\"UMAP Y-Dimension\", fontsize=16)\n",
    "            ax.set_title(name + ', n_neigh: ' + str(i))\n",
    "            ax.tick_params(axis='both', which='major', labelsize=16)\n",
    "            ax.tick_params(axis='both', which='minor', labelsize=16)\n",
    "            ax.legend(fontsize=16)\n",
    "            plt.savefig('GCs/'+name+'/umap'+str(i)+'.png')\n",
    "            #plt.show()\n",
    "            #print('Total:',len(umap_dimX),'control:',len(umap_dimX_control[0]))\n",
    "    plt.close('all')'''\n",
    "    \n",
    "    # Run umap on the transposed array:\n",
    "    reducer = umap.UMAP(n_neighbors=50)\n",
    "    embedding = reducer.fit_transform(standardized_array_transpose)\n",
    "\n",
    "    # Get umap outputs for complete filtered dataset:\n",
    "    umap_dimX = embedding[:, 0]\n",
    "    umap_dimY = embedding[:, 1]\n",
    "\n",
    "    # Get umap outputs for control group:\n",
    "    umap_dimX_control = umap_dimX[indices_control]\n",
    "    umap_dimY_control = umap_dimY[indices_control]\n",
    "\n",
    "    fig, ax = plt.subplots(figsize=(8,6))\n",
    "    ax.scatter(umap_dimX, umap_dimY, s=1, c='gray', label='APOGEE DR17 stars')\n",
    "    ax.scatter(umap_dimX_control , umap_dimY_control, s=40, edgecolor='k', c='hotpink', label='Control Group')\n",
    "    ax.set_xlabel(\"UMAP X-Dimension\", fontsize=16)\n",
    "    ax.set_ylabel(\"UMAP Y-Dimension\", fontsize=16)\n",
    "    ax.set_title(name)\n",
    "    ax.tick_params(axis='both', which='major', labelsize=16)\n",
    "    ax.tick_params(axis='both', which='minor', labelsize=16)\n",
    "    ax.legend(fontsize=16)\n",
    "    plt.savefig('GCs_nice_norad/'+name+'/umap.png')\n",
    "    plt.close('all')\n",
    "    #plt.show()\n",
    "    #print('Total:',len(umap_dimX),'control:',len(umap_dimX_control[0]))\n",
    "    \n",
    "    return [umap_dimX, umap_dimY, umap_dimX_control, umap_dimY_control]"
   ]
  },
  {
   "cell_type": "markdown",
   "metadata": {},
   "source": [
    "#### Choosing which parameters to use for tSNE and UMAP"
   ]
  },
  {
   "cell_type": "code",
   "execution_count": 16,
   "metadata": {},
   "outputs": [],
   "source": [
    "def ask_input_param(param):\n",
    "    inp = input('Do you want to keep ' + param + ' as a parameter? [y/n]')\n",
    "    if inp.lower() == 'y':\n",
    "        return True\n",
    "    elif inp.lower() == 'n':\n",
    "        return False\n",
    "    else:\n",
    "        print('Not a valid input, trying again')\n",
    "        return ask_input_param(param)\n",
    "        "
   ]
  },
  {
   "cell_type": "code",
   "execution_count": 17,
   "metadata": {},
   "outputs": [],
   "source": [
    "def choose_params(master_param_dict):\n",
    "    parameter_dict = {}\n",
    "\n",
    "    for i in master_param_dict:\n",
    "        if ask_input_param(i):\n",
    "            parameter_dict[i] = master_param_dict[i]\n",
    "            \n",
    "    return parameter_dict"
   ]
  },
  {
   "cell_type": "markdown",
   "metadata": {},
   "source": [
    "#### Taking in datasheet and name and automatically getting the parameters"
   ]
  },
  {
   "cell_type": "code",
   "execution_count": 18,
   "metadata": {},
   "outputs": [],
   "source": [
    "def GC_params(GC_name, db):\n",
    "    GC = db.loc[db['Cluster'] == GC_name].iloc[0]\n",
    "    name = GC['Cluster']\n",
    "    ra = GC['RA']\n",
    "    dec = GC['DEC']\n",
    "    mass = GC['Mass']\n",
    "    rhm = GC['rhm'] # will steff fix this, nobody knows # edit she did\n",
    "    rt = GC['rt']\n",
    "    rho_c = GC['rho_c']\n",
    "    sig0 = GC['sig0']\n",
    "    vesc = GC['vesc']\n",
    "    c = GC['c']\n",
    "    d_Sun = GC['R_Sun'] * 1e3\n",
    "    rhm_deg = math.degrees(math.atan(rhm / d_Sun))\n",
    "    rt_deg = math.degrees(math.atan(rt / d_Sun))\n",
    "    \n",
    "    return ra, dec, rhm_deg, rt_deg"
   ]
  },
  {
   "cell_type": "code",
   "execution_count": 19,
   "metadata": {},
   "outputs": [],
   "source": [
    "def input_GC_name(db):\n",
    "    GC_name = input(\"Please enter the GC name according to Steff's catalogue:\")\n",
    "    if db.loc[db['Cluster'] == GC_name].empty:\n",
    "        print('Not a valid name, double check and try again')\n",
    "        return input_GC_name(db)\n",
    "    else:\n",
    "        return GC_name"
   ]
  },
  {
   "cell_type": "markdown",
   "metadata": {},
   "source": [
    "### Master function (automatic version)"
   ]
  },
  {
   "cell_type": "code",
   "execution_count": 20,
   "metadata": {},
   "outputs": [],
   "source": [
    "def master_func_auto(GC_name, master_param_dict, fov, db, dataset, params, ML):\n",
    "    print('\\nProcessing:', GC_name)\n",
    "    ML_values = {0, 1, 2}    \n",
    "    if ML not in ML_values:\n",
    "        raise ValueError('ML index not one of %r.' % ML_values)\n",
    "    \n",
    "    # getting GC parameteters\n",
    "    ra, dec, rhm_deg, rt_deg = GC_params(GC_name, db)\n",
    "    \n",
    "    # loading\n",
    "    GC_dict, GC_cols = master_load(ra, dec, fov, dataset, params, GC_name, rhm_deg, rt_deg)\n",
    "    \n",
    "    # filtering\n",
    "    GC_filter_data = master_filter(GC_dict, GC_cols)\n",
    "    \n",
    "    if GC_filter_data[0].size == 0:\n",
    "        print(\"This shit don't got no stars bruh\\n\")\n",
    "        return [None, None, None, None, None, None, None, None]\n",
    "    \n",
    "    else:\n",
    "        # control grouping\n",
    "        GC_indices_control = control_group(GC_filter_data, ra, dec, rhm_deg, rt_deg)\n",
    "        \n",
    "        # no control stars\n",
    "        #print(GC_indices_control)\n",
    "        if GC_indices_control[0] is None:\n",
    "            print(\"This shit got no control stars\\n\")\n",
    "            return [None, None, None, None, None, None, None, None]\n",
    "        \n",
    "        else:\n",
    "            # choosing parameters\n",
    "            param_dict = master_param_dict\n",
    "\n",
    "            if ML == 0:\n",
    "                # tSNEing\n",
    "                tSNE_X, tSNE_Y, tSNE_control_X, tSNE_control_Y = master_tSNE(GC_filter_data, param_dict, GC_indices_control, GC_name, GC_filter_data[0].size)\n",
    "\n",
    "                # UMAPing\n",
    "                UMAP_X, UMAP_Y, UMAP_control_X, UMAP_control_Y = master_UMAP(GC_filter_data, param_dict, GC_indices_control, GC_name, GC_filter_data[0].size)\n",
    "\n",
    "                print('Done!\\n')\n",
    "                return [tSNE_X, tSNE_Y, tSNE_control_X, tSNE_control_Y, UMAP_X, UMAP_Y, UMAP_control_X, UMAP_control_Y, GC_indices_control]\n",
    "\n",
    "            elif ML == 1:\n",
    "                # tSNEing\n",
    "                tSNE_X, tSNE_Y, tSNE_control_X, tSNE_control_Y = master_tSNE(GC_filter_data, param_dict, GC_indices_control, GC_filter_data[0].size)\n",
    "\n",
    "                print('Done!\\n')\n",
    "                return [tSNE_X, tSNE_Y, tSNE_control_X, tSNE_control_Y, None, None, None, None]\n",
    "\n",
    "            elif ML == 2:\n",
    "                # UMAPing\n",
    "                UMAP_X, UMAP_Y, UMAP_control_X, UMAP_control_Y = master_UMAP(GC_filter_data, param_dict, GC_indices_control, GC_filter_data[0].size)\n",
    "\n",
    "                print('Done!\\n')\n",
    "                return [None, None, None, None, UMAP_X, UMAP_Y, UMAP_control_X, UMAP_control_Y]"
   ]
  },
  {
   "cell_type": "markdown",
   "metadata": {},
   "source": [
    "#### Global GC params"
   ]
  },
  {
   "cell_type": "code",
   "execution_count": 21,
   "metadata": {},
   "outputs": [],
   "source": [
    "param_list = ['# APOGEE_ID_', 'GAIAEDR3_SOURCE_ID', 'GAIAEDR3_PARALLAX', 'GAIAEDR3_PARALLAX_ERROR',\n",
    "              'RA', 'DEC', 'GAIAEDR3_PMRA', 'GAIAEDR3_PMRA_ERROR', 'GAIAEDR3_PMDEC', 'GAIAEDR3_PMDEC_ERROR', \n",
    "              'VHELIO_AVG', 'VERR', 'SNR',\n",
    "              'FE_H', 'FE_H_ERR', 'C_FE', 'C_FE_ERR', 'CI_FE', 'CI_FE_ERR', 'N_FE', 'N_FE_ERR',\n",
    "              'O_FE', 'O_FE_ERR', 'MG_FE', 'MG_FE_ERR', 'AL_FE', 'AL_FE_ERR', 'SI_FE', 'SI_FE_ERR',\n",
    "              'P_FE', 'P_FE_ERR', 'S_FE', 'S_FE_ERR', 'K_FE', 'K_FE_ERR', 'CA_FE', 'CA_FE_ERR',\n",
    "              'TI_FE', 'TI_FE_ERR', 'TIII_FE', 'TIII_FE_ERR', 'V_FE', 'V_FE_ERR', 'CR_FE', 'CR_FE_ERR',\n",
    "              'MN_FE', 'MN_FE_ERR', 'CO_FE', 'CO_FE_ERR', 'NI_FE', 'NI_FE_ERR']\n",
    "\n",
    "abundance_index = 13 # index where the first chemical abundance starts\n",
    "RV_index = 10 # where the radial velocity index is (NOTE: USE VHELIO_AVG NOT THE STUPID GAIA ONE)\n",
    "PMRA_index = 6 # PMRA index\n",
    "PMDEC_index = 8 # PMDEC index\n",
    "\n",
    "# dictionary of all relevant parameters we could ever want for tSNE and UMAP\n",
    "# the abundances should skip every other one due to it being [chem1, chem1_err, chem2, chem2_err, etc.]\n",
    "all_param_dict = {'FE_H': abundance_index,\n",
    "                 'C_FE': abundance_index + 2,\n",
    "                 'CI_FE': abundance_index + 4,\n",
    "                 'N_FE': abundance_index + 6,\n",
    "                 'O_FE': abundance_index + 8,\n",
    "                 'MG_FE': abundance_index + 10,\n",
    "                 'AL_FE': abundance_index + 12,\n",
    "                 'SI_FE': abundance_index + 14,\n",
    "                 'P_FE': abundance_index + 16,\n",
    "                 'S_FE': abundance_index + 18,\n",
    "                 'K_FE': abundance_index + 20,\n",
    "                 'CA_FE': abundance_index + 22,\n",
    "                 'TI_FE': abundance_index + 24,\n",
    "                 'TIII_FE': abundance_index + 26,\n",
    "                 'V_FE': abundance_index + 28,\n",
    "                 'CR_FE': abundance_index + 30,\n",
    "                 'MN_FE': abundance_index + 32,\n",
    "                 'CO_FE': abundance_index + 34,\n",
    "                 'NI_FE': abundance_index + 36,\n",
    "                 'RV': RV_index,\n",
    "                 'PMRA': PMRA_index,\n",
    "                 'PMDEC': PMDEC_index}\n",
    "\n",
    "\n",
    "fov = 5 # field of view (note: for x by x, use fov = x/2)\n",
    "ML_index = 0 # 0 for both tSNE and UMAP, 1 for only tSNE, 2 for only UMAP, any other value will raise an error"
   ]
  },
  {
   "cell_type": "markdown",
   "metadata": {},
   "source": [
    "#### Reading in from the GC database"
   ]
  },
  {
   "cell_type": "code",
   "execution_count": 22,
   "metadata": {},
   "outputs": [],
   "source": [
    "GC_name_list = GC_db.loc[:, 'Cluster']\n",
    "GC_stars_dict = {}"
   ]
  },
  {
   "cell_type": "code",
   "execution_count": 23,
   "metadata": {},
   "outputs": [],
   "source": [
    "GC_ra_list = GC_db.loc[:, 'RA']\n",
    "GC_dec_list = GC_db.loc[:, 'DEC']"
   ]
  },
  {
   "cell_type": "code",
   "execution_count": 25,
   "metadata": {},
   "outputs": [],
   "source": [
    "import time"
   ]
  },
  {
   "cell_type": "markdown",
   "metadata": {},
   "source": [
    "## fix radius halfway between rhm and rt and run again. Fix max as rt. keep perp and neighs at 40 or 50. "
   ]
  },
  {
   "cell_type": "code",
   "execution_count": 26,
   "metadata": {
    "scrolled": true
   },
   "outputs": [
    {
     "data": {
      "application/vnd.jupyter.widget-view+json": {
       "model_id": "9a0c88defcaa44bd9b01496e6c663d2e",
       "version_major": 2,
       "version_minor": 0
      },
      "text/plain": [
       "HBox(children=(HTML(value=''), FloatProgress(value=0.0, max=31.0), HTML(value='')))"
      ]
     },
     "metadata": {},
     "output_type": "display_data"
    },
    {
     "name": "stdout",
     "output_type": "stream",
     "text": [
      "\n",
      "Processing: NGC_104\n",
      "467 stars in a 10x10 fov of the GC\n",
      "Directory NGC_104 already exists\n",
      "\n",
      "The final amount of stars in our sample is: 467\n",
      "rhm: 0.08\trt: 1.61\n",
      "There are 137 stars within half-dist of rhm and rt and 185 stars within the rt\n",
      "Done!\n",
      "\n",
      "\n",
      "Processing: NGC_288\n",
      "293 stars in a 10x10 fov of the GC\n",
      "Directory NGC_288 already exists\n",
      "\n",
      "The final amount of stars in our sample is: 287\n",
      "rhm: 0.05\trt: 0.60\n",
      "There are 49 stars within half-dist of rhm and rt and 84 stars within the rt\n",
      "Done!\n",
      "\n",
      "\n",
      "Processing: NGC_362\n",
      "1218 stars in a 10x10 fov of the GC\n",
      "Directory NGC_362 already exists\n",
      "\n",
      "The final amount of stars in our sample is: 1215\n",
      "rhm: 0.02\trt: 0.60\n",
      "There are 38 stars within half-dist of rhm and rt and 61 stars within the rt\n",
      "Done!\n",
      "\n",
      "\n",
      "Processing: NGC_1851\n",
      "311 stars in a 10x10 fov of the GC\n",
      "Directory NGC_1851 already exists\n",
      "\n",
      "The final amount of stars in our sample is: 307\n",
      "rhm: 0.01\trt: 0.61\n",
      "There are 44 stars within half-dist of rhm and rt and 116 stars within the rt\n",
      "Done!\n",
      "\n",
      "\n",
      "Processing: NGC_1904\n",
      "248 stars in a 10x10 fov of the GC\n",
      "Directory NGC_1904 already exists\n",
      "\n",
      "The final amount of stars in our sample is: 246\n",
      "rhm: 0.01\trt: 0.29\n",
      "There are 35 stars within half-dist of rhm and rt and 60 stars within the rt\n",
      "Done!\n",
      "\n",
      "\n",
      "Processing: NGC_2808\n",
      "566 stars in a 10x10 fov of the GC\n",
      "Directory NGC_2808 already exists\n",
      "\n",
      "The final amount of stars in our sample is: 565\n",
      "rhm: 0.02\trt: 0.94\n",
      "There are 132 stars within half-dist of rhm and rt and 249 stars within the rt\n",
      "Done!\n",
      "\n",
      "\n",
      "Processing: NGC_3201\n",
      "1065 stars in a 10x10 fov of the GC\n",
      "Directory NGC_3201 already exists\n",
      "\n",
      "The final amount of stars in our sample is: 1064\n",
      "rhm: 0.08\trt: 0.94\n",
      "There are 271 stars within half-dist of rhm and rt and 372 stars within the rt\n",
      "Done!\n",
      "\n",
      "\n",
      "Processing: NGC_4590\n",
      "310 stars in a 10x10 fov of the GC\n",
      "Directory NGC_4590 already exists\n",
      "\n",
      "The final amount of stars in our sample is: 307\n",
      "rhm: 0.04\trt: 0.43\n",
      "There are 45 stars within half-dist of rhm and rt and 69 stars within the rt\n",
      "Done!\n",
      "\n",
      "\n",
      "Processing: NGC_5024\n",
      "592 stars in a 10x10 fov of the GC\n",
      "Directory NGC_5024 already exists\n",
      "\n",
      "The final amount of stars in our sample is: 587\n",
      "rhm: 0.03\trt: 0.55\n",
      "There are 44 stars within half-dist of rhm and rt and 69 stars within the rt\n",
      "Done!\n",
      "\n",
      "\n",
      "Processing: NGC_5053\n",
      "634 stars in a 10x10 fov of the GC\n",
      "Directory NGC_5053 already exists\n",
      "\n",
      "The final amount of stars in our sample is: 628\n",
      "rhm: 0.06\trt: 0.32\n",
      "There are 13 stars within half-dist of rhm and rt and 21 stars within the rt\n",
      "Done!\n",
      "\n",
      "\n",
      "Processing: NGC_5272\n",
      "1906 stars in a 10x10 fov of the GC\n",
      "Directory NGC_5272 already exists\n",
      "\n",
      "The final amount of stars in our sample is: 1891\n",
      "rhm: 0.04\trt: 0.72\n",
      "There are 136 stars within half-dist of rhm and rt and 184 stars within the rt\n",
      "Done!\n",
      "\n",
      "\n",
      "Processing: NGC_5466\n",
      "914 stars in a 10x10 fov of the GC\n",
      "Directory NGC_5466 already exists\n",
      "\n",
      "The final amount of stars in our sample is: 904\n",
      "rhm: 0.05\trt: 0.28\n",
      "There are 12 stars within half-dist of rhm and rt and 23 stars within the rt\n",
      "Done!\n",
      "\n",
      "\n",
      "Processing: NGC_5904\n",
      "927 stars in a 10x10 fov of the GC\n",
      "Directory NGC_5904 already exists\n",
      "\n",
      "The final amount of stars in our sample is: 927\n",
      "rhm: 0.04\trt: 0.63\n",
      "There are 126 stars within half-dist of rhm and rt and 174 stars within the rt\n",
      "Done!\n",
      "\n",
      "\n",
      "Processing: NGC_6121\n",
      "3307 stars in a 10x10 fov of the GC\n",
      "Directory NGC_6121 already exists\n",
      "\n",
      "The final amount of stars in our sample is: 3292\n",
      "rhm: 0.11\trt: 1.65\n",
      "There are 357 stars within half-dist of rhm and rt and 557 stars within the rt\n",
      "Done!\n",
      "\n",
      "\n",
      "Processing: NGC_6171\n",
      "733 stars in a 10x10 fov of the GC\n",
      "Directory NGC_6171 already exists\n",
      "\n",
      "The final amount of stars in our sample is: 733\n",
      "rhm: 0.04\trt: 0.37\n",
      "There are 46 stars within half-dist of rhm and rt and 98 stars within the rt\n",
      "Done!\n",
      "\n",
      "\n",
      "Processing: NGC_6205\n",
      "2345 stars in a 10x10 fov of the GC\n",
      "Directory NGC_6205 already exists\n",
      "\n",
      "The final amount of stars in our sample is: 2324\n",
      "rhm: 0.04\trt: 1.04\n",
      "There are 110 stars within half-dist of rhm and rt and 221 stars within the rt\n",
      "Done!\n",
      "\n",
      "\n",
      "Processing: NGC_6218\n",
      "986 stars in a 10x10 fov of the GC\n",
      "Directory NGC_6218 already exists\n",
      "\n",
      "The final amount of stars in our sample is: 981\n",
      "rhm: 0.05\trt: 0.51\n",
      "There are 102 stars within half-dist of rhm and rt and 190 stars within the rt\n",
      "Done!\n",
      "\n",
      "\n",
      "Processing: NGC_6229\n",
      "811 stars in a 10x10 fov of the GC\n",
      "Directory NGC_6229 already exists\n",
      "\n",
      "The final amount of stars in our sample is: 806\n",
      "rhm: 0.01\trt: 0.40\n",
      "There are 10 stars within half-dist of rhm and rt and 24 stars within the rt\n",
      "Done!\n",
      "\n",
      "\n",
      "Processing: NGC_6254\n",
      "815 stars in a 10x10 fov of the GC\n",
      "Directory NGC_6254 already exists\n",
      "\n",
      "The final amount of stars in our sample is: 811\n",
      "rhm: 0.05\trt: 0.61\n",
      "There are 122 stars within half-dist of rhm and rt and 217 stars within the rt\n",
      "Done!\n",
      "\n",
      "\n",
      "Processing: NGC_6273\n",
      "3054 stars in a 10x10 fov of the GC\n",
      "Directory NGC_6273 already exists\n",
      "\n",
      "The final amount of stars in our sample is: 3044\n",
      "rhm: 0.03\trt: 0.27\n",
      "There are 40 stars within half-dist of rhm and rt and 47 stars within the rt\n",
      "Done!\n",
      "\n",
      "\n",
      "Processing: NGC_6293\n",
      "2935 stars in a 10x10 fov of the GC\n",
      "Directory NGC_6293 already exists\n",
      "\n",
      "The final amount of stars in our sample is: 2926\n",
      "rhm: 0.03\trt: 0.16\n",
      "There are 9 stars within half-dist of rhm and rt and 10 stars within the rt\n",
      "Done!\n",
      "\n",
      "\n",
      "Processing: NGC_6341\n",
      "536 stars in a 10x10 fov of the GC\n",
      "Directory NGC_6341 already exists\n",
      "\n",
      "The final amount of stars in our sample is: 535\n",
      "rhm: 0.03\trt: 0.81\n",
      "There are 84 stars within half-dist of rhm and rt and 146 stars within the rt\n",
      "Done!\n",
      "\n",
      "\n",
      "Processing: NGC_6388\n",
      "424 stars in a 10x10 fov of the GC\n",
      "Directory NGC_6388 already exists\n",
      "\n",
      "The final amount of stars in our sample is: 424\n",
      "rhm: 0.02\trt: 0.52\n",
      "There are 66 stars within half-dist of rhm and rt and 95 stars within the rt\n",
      "Done!\n",
      "\n",
      "\n",
      "Processing: NGC_6397\n",
      "1107 stars in a 10x10 fov of the GC\n",
      "Directory NGC_6397 already exists\n",
      "\n",
      "The final amount of stars in our sample is: 1106\n",
      "rhm: 0.09\trt: 1.21\n",
      "There are 180 stars within half-dist of rhm and rt and 200 stars within the rt\n",
      "Done!\n",
      "\n",
      "\n",
      "Processing: NGC_6656\n",
      "2678 stars in a 10x10 fov of the GC\n",
      "Directory NGC_6656 already exists\n",
      "\n",
      "The final amount of stars in our sample is: 2675\n",
      "rhm: 0.09\trt: 1.34\n",
      "There are 508 stars within half-dist of rhm and rt and 716 stars within the rt\n",
      "Done!\n",
      "\n",
      "\n",
      "Processing: NGC_6715\n",
      "2441 stars in a 10x10 fov of the GC\n",
      "Directory NGC_6715 already exists\n",
      "\n",
      "The final amount of stars in our sample is: 2439\n",
      "rhm: 0.01\trt: 0.62\n",
      "There are 69 stars within half-dist of rhm and rt and 160 stars within the rt\n",
      "Done!\n",
      "\n",
      "\n",
      "Processing: NGC_6752\n",
      "230 stars in a 10x10 fov of the GC\n",
      "Directory NGC_6752 already exists\n",
      "\n",
      "The final amount of stars in our sample is: 230\n",
      "rhm: 0.07\trt: 0.94\n",
      "There are 129 stars within half-dist of rhm and rt and 181 stars within the rt\n",
      "Done!\n",
      "\n",
      "\n",
      "Processing: NGC_6809\n",
      "861 stars in a 10x10 fov of the GC\n",
      "Directory NGC_6809 already exists\n",
      "\n",
      "The final amount of stars in our sample is: 859\n",
      "rhm: 0.07\trt: 0.55\n",
      "There are 104 stars within half-dist of rhm and rt and 162 stars within the rt\n",
      "Done!\n",
      "\n",
      "\n",
      "Processing: NGC_6838\n",
      "2625 stars in a 10x10 fov of the GC\n",
      "Directory NGC_6838 already exists\n",
      "\n",
      "The final amount of stars in our sample is: 2614\n",
      "rhm: 0.09\trt: 0.62\n",
      "There are 134 stars within half-dist of rhm and rt and 259 stars within the rt\n",
      "Done!\n",
      "\n",
      "\n",
      "Processing: NGC_7078\n",
      "1207 stars in a 10x10 fov of the GC\n",
      "Directory NGC_7078 already exists\n",
      "\n",
      "The final amount of stars in our sample is: 1195\n",
      "rhm: 0.02\trt: 0.75\n",
      "There are 135 stars within half-dist of rhm and rt and 312 stars within the rt\n",
      "Done!\n",
      "\n",
      "\n",
      "Processing: NGC_7089\n",
      "785 stars in a 10x10 fov of the GC\n",
      "Directory NGC_7089 already exists\n",
      "\n",
      "The final amount of stars in our sample is: 779\n",
      "rhm: 0.02\trt: 0.55\n",
      "There are 31 stars within half-dist of rhm and rt and 69 stars within the rt\n",
      "Done!\n",
      "\n",
      "\n",
      "that shit took 7.53714835246404 mins\n"
     ]
    }
   ],
   "source": [
    "start = time.time()\n",
    "\n",
    "for count, i in enumerate(tqdm(GC_name_list)):\n",
    "    GC_stars_dict[i] = master_func_auto(i, all_param_dict, fov, GC_db, apogee_nofilt, param_list, ML_index)\n",
    "    \n",
    "end = time.time()\n",
    "\n",
    "print('that shit took', (end - start) / 60, 'mins')"
   ]
  },
  {
   "cell_type": "markdown",
   "metadata": {},
   "source": [
    "### Breaking up the dictionary into individual arrays of stars in ML space"
   ]
  },
  {
   "cell_type": "markdown",
   "metadata": {},
   "source": [
    "#### all hyperparams"
   ]
  },
  {
   "cell_type": "code",
   "execution_count": 27,
   "metadata": {
    "scrolled": true
   },
   "outputs": [
    {
     "name": "stdout",
     "output_type": "stream",
     "text": [
      "31\n"
     ]
    }
   ],
   "source": [
    "print(len(GC_stars_dict))\n",
    "\n",
    "#GC_name_list = []\n",
    "control_stars_list = []\n",
    "total_stars_list = []\n",
    "\n",
    "sum = 0\n",
    "for key in GC_stars_dict:\n",
    "    #GC_name_list.append(key)\n",
    "    if GC_stars_dict[key][2] is None:\n",
    "        control_stars_list.append(0)\n",
    "        total_stars_list.append(0)\n",
    "    else:\n",
    "        sum += 1\n",
    "        control_stars_list.append(len(GC_stars_dict[key][2]))\n",
    "        total_stars_list.append(len(GC_stars_dict[key][0]))\n",
    "    \n",
    "#print(control_stars_list)\n",
    "#print(len(GC_name_list))\n",
    "#print(sum)"
   ]
  },
  {
   "cell_type": "code",
   "execution_count": 28,
   "metadata": {},
   "outputs": [
    {
     "name": "stdout",
     "output_type": "stream",
     "text": [
      "31\n"
     ]
    }
   ],
   "source": [
    "new_control_stars_list = []\n",
    "new_total_stars_list = []\n",
    "new_stars_index_list = []\n",
    "\n",
    "for i in range(len(control_stars_list)):\n",
    "    #print(control_stars_list[i])\n",
    "    if control_stars_list[i] != 0:\n",
    "        new_control_stars_list.append(control_stars_list[i])\n",
    "        new_total_stars_list.append(total_stars_list[i])\n",
    "        new_stars_index_list.append(i)\n",
    "        \n",
    "print(len(new_stars_index_list))"
   ]
  },
  {
   "cell_type": "code",
   "execution_count": 29,
   "metadata": {},
   "outputs": [],
   "source": [
    "GC_name_arr = np.empty(len(new_stars_index_list), dtype=np.ndarray)\n",
    "\n",
    "tsne_control_X = np.empty(len(new_stars_index_list), dtype=np.ndarray)\n",
    "tsne_control_Y = np.empty(len(new_stars_index_list), dtype=np.ndarray)\n",
    "tsne_all_X = np.empty(len(new_stars_index_list), dtype=np.ndarray)\n",
    "tsne_all_Y = np.empty(len(new_stars_index_list), dtype=np.ndarray)\n",
    "\n",
    "umap_control_X = np.empty(len(new_stars_index_list), dtype=np.ndarray)\n",
    "umap_control_Y = np.empty(len(new_stars_index_list), dtype=np.ndarray)\n",
    "umap_all_X = np.empty(len(new_stars_index_list), dtype=np.ndarray)\n",
    "umap_all_Y = np.empty(len(new_stars_index_list), dtype=np.ndarray)\n",
    "\n",
    "control_indices_rad = np.empty(len(new_stars_index_list), dtype=np.ndarray)\n",
    "\n",
    "for i in range(len(new_stars_index_list)):\n",
    "    ind = new_stars_index_list[i]\n",
    "    #print(ind)\n",
    "    GC_name_arr[i] = GC_name_list[ind]\n",
    "    \n",
    "    tsne_control_X[i] = GC_stars_dict[GC_name_arr[i]][2]\n",
    "    tsne_control_Y[i] = GC_stars_dict[GC_name_arr[i]][3]\n",
    "    tsne_all_X[i] = GC_stars_dict[GC_name_arr[i]][0]\n",
    "    tsne_all_Y[i] = GC_stars_dict[GC_name_arr[i]][1]\n",
    "    \n",
    "    umap_control_X[i] = GC_stars_dict[GC_name_arr[i]][6]\n",
    "    umap_control_Y[i] = GC_stars_dict[GC_name_arr[i]][7]\n",
    "    umap_all_X[i] = GC_stars_dict[GC_name_arr[i]][4]\n",
    "    umap_all_Y[i] = GC_stars_dict[GC_name_arr[i]][5]\n",
    "    \n",
    "    control_indices_rad[i] = GC_stars_dict[GC_name_arr[i]][8]"
   ]
  },
  {
   "cell_type": "markdown",
   "metadata": {},
   "source": [
    "# see steffs thing about dbscan\n",
    "# cut out trash [done]\n",
    "# run db scan on one (both tsne and umap) to verify its picking up the right cluster\n",
    "# run db scan on all of them if ^ works\n",
    "# run db scan first on control stars, then run it on the entire field and pick out the ones that are in the same group as control stars db scan\n",
    "# then run the ML shit on the good groups without kinematics, only chem\n",
    "# db scan again using same process and final stars are the extra tidal candidates"
   ]
  },
  {
   "cell_type": "markdown",
   "metadata": {},
   "source": [
    "## setting eps = 3 for tsne and eps = 2 for umap, min_samples = 10 for both, and trying to match the ctrl grouping to all grouping\n",
    "\n",
    "### for any clusters with more than 2 groups, ignore for now"
   ]
  },
  {
   "cell_type": "markdown",
   "metadata": {},
   "source": [
    "## metaheuristics\n",
    "\n",
    "need a way to find when we over or under cluster the data\n",
    "\n",
    "Josh thinks theres a way to do this. We want a metric to find \"good\" clustering and tune umap, tsne, DBSCAN params until we meet that metric or choose the best one\n",
    "\n",
    "we expect clusters to have stars close to their neighbours, similar dist between neighbours. At edge of diff clusters, the stars of two diff clusters will be farther from each other. How do we figure out how a cluster has a gap and how big the gap is.\n",
    "\n",
    "\n",
    "we want benchmark to be automated. easiett way is to scale based on data set and umap projection. eps is linkage dist - want to tune based on typical dist of two samples. First get the nearest neighbor distance for every object, we will get a histogram. Pick a pecentile of that for a starting point for eps. (95% is a good starting point).\n",
    "Then adjust a constant in front of eps that automatically adjust to umap sizes. Explore a grid of values to see \n",
    "\n",
    "Min samples similar percentage of total dataset objects.\n",
    "\n",
    "Grid of values for eps and min samples.\n",
    "\n",
    "finally find a happy metric :)"
   ]
  },
  {
   "cell_type": "markdown",
   "metadata": {},
   "source": [
    "#### first we start with M3 as a test\n",
    "#### want to find the nearest neighbor dist for every star in umap"
   ]
  },
  {
   "cell_type": "code",
   "execution_count": 30,
   "metadata": {},
   "outputs": [],
   "source": [
    "def plot_ML(name, tsne, umap):\n",
    "    \n",
    "    fig = plt.figure(figsize=(10,10))\n",
    "    plt.plot(tsne[2], tsne[3], 'ok', ms='1') # all\n",
    "    plt.plot(tsne[0], tsne[1], 'or', ms='5') # ctrl\n",
    "    plt.title(name + ' tsne', fontsize=30)\n",
    "    plt.savefig('GCs_DBSCAN_matrix/' + name + '/tsne.png')\n",
    "    \n",
    "    fig = plt.figure(figsize=(10,10))\n",
    "    plt.plot(umap[2], umap[3], 'ok', ms='1') # all\n",
    "    plt.plot(umap[0], umap[1], 'or', ms='5') # ctrl\n",
    "    plt.title(name + ' umap', fontsize=30)\n",
    "    plt.savefig('GCs_DBSCAN_matrix/' + name + '/umap.png')"
   ]
  },
  {
   "cell_type": "markdown",
   "metadata": {},
   "source": [
    "## stick with method 3\n",
    "## make a heat map of the control star groups w/ # of main group control stars, pick out the best eps and min_samps, then that group is now the set of control stars we use\n",
    "## take those control stars and run the whole shit again with only chemicals\n",
    "## dbscan the changing eps and min_samples for all stars and pick out the group with the control stars (should only be mainly one group now cuz we cut out the other stuff, unless the main group is split in multiple parts)\n",
    "## make a heat map of the number of stars (control and non-control) in that identified group, see if we can find an optimal eps / min_sample for each\n",
    "## run it on all chemicals no kin with this optimal eps / min_sample, keeping note of the ones with multiple populations\n",
    "\n",
    "## heat map should be eps vs min_samples"
   ]
  },
  {
   "cell_type": "markdown",
   "metadata": {},
   "source": [
    "### step 1: dbscan the control stars [Done]\n",
    "#### a) Use the eps thing\n",
    "#### b) Use ball method\n",
    "#### c) Save the group affiliations\n",
    "### step 1.5: heat map of number of stars in the largest group, choose the optimal eps min_samps [done]\n",
    "### step 2: pick out the group with most stars of the control stars\n",
    "#### a) Match control star labels to groups, pick the group with the most labels\n",
    "#### b) Make note of those GCs which have multiple populations in control stars\n",
    "### step 3: save which control stars are in that group\n",
    "#### a) New control star array with only those from step 2\n",
    "### step 4: run the entire reduction again with this new control group and without kinematics\n",
    "### step 5: run dbscan on all stars\n",
    "#### a) Use the eps thing\n",
    "#### b) Use ball method\n",
    "### step 6: from the dbscan, match the control stars to a group within all stars and save the number of stars in that group\n",
    "### step 7: make a heat map of the number of stars in that group (control + extra) for each eps and min_samples\n",
    "#### might be good to have a parameter that says if the number of stars in the group is within x% of the total stars (x >= 90 or something), match that as an error or something\n",
    "### step 8: look for maximum in regions that are not overdensities"
   ]
  },
  {
   "cell_type": "markdown",
   "metadata": {},
   "source": [
    "### steps 1 and 1.5"
   ]
  },
  {
   "cell_type": "code",
   "execution_count": 31,
   "metadata": {},
   "outputs": [],
   "source": [
    "def db_ctrl(name, title, x, y):\n",
    "    plt.clf()\n",
    "    \n",
    "    ### setting up data for dbscan\n",
    "    X = np.c_[x, y] # column stack (i think) for second column for DBSCAN\n",
    "    \n",
    "    ### cKDTree to find nearest neighbour distance\n",
    "    col = np.column_stack([x,y]) # column stack for cKDTree\n",
    "    tree=cKDTree(col) # making a tree\n",
    "    dist, arg = tree.query(col, k=2) # querying tree for nearest neighbour distance\n",
    "    percentile_95 =  np.percentile(dist[:,1], 95) # taking the 95th percentile of that distance\n",
    "    \n",
    "    \n",
    "    ### using the nearest neighbour percentile distance to make eps arrays to cycle through\n",
    "    eps_const = np.linspace(0.1, 4, 10) # same array that multiplies into the 95th percentile\n",
    "    eps_arr = eps_const * percentile_95 # eps array to try with DBSCAN\n",
    "    \n",
    "    \n",
    "    ### making min_sample arrays to cycle through\n",
    "    # use a ball method to count nearest n neighbours within a radius of 95 percentile of nearest neighbouring distance\n",
    "    ball = tree.query_ball_tree(tree, percentile_95) # ball method where we query a ball of size 95th percentile of nearest neighbour for # of neighbors\n",
    "    neigh = [len(i) for i in ball]\n",
    "    neigh_95 = np.percentile(neigh, 95) # 95th percentile of number of neighbors\n",
    "    \n",
    "    neigh_const = np.linspace(0.1, 2, 10)\n",
    "    neigh_arr = neigh_const * neigh_95\n",
    "    neigh_arr = [int(i) for i in neigh_arr]\n",
    "    \n",
    "    # plot of histogram of nearest neighbor numbers in a ball of size 95th percentile of nearest neighbour distances\n",
    "    # plot of histogram of nearest neighbour distances\n",
    "    fig, ax = plt.subplots(2, 1, figsize=(24,12))\n",
    "    ax[0].hist(dist[:,1], color='grey', edgecolor='black')\n",
    "    ax[0].set_xlabel('Nearest neighbour dist', fontsize=30)\n",
    "    ax[0].set_title(title + ' nearest neighbour distance w/ 95th percentile as ' + str(percentile_95), fontsize=50)\n",
    "    ax[1].hist(neigh, color='grey', edgecolor='black')\n",
    "    ax[1].set_xlabel('# neighbours', fontsize=30)\n",
    "    ax[1].set_title(title + ' number of neighbour within ' + str(round(percentile_95,3)) + ' w/ 95th percentile as ' + str(round(neigh_95, 3)), fontsize=50)\n",
    "    plt.tight_layout()\n",
    "    plt.savefig('GCs_DBSCAN_matrix2/' + name + '/' + title + '_neigh_hist_ctrl.png')\n",
    "    fig.clear()\n",
    "    plt.close(fig)\n",
    "    \n",
    "    clusterings_lst = [] # list of clusterings\n",
    "    labels_lst = [] # list of labels\n",
    "    n_clusters_lst = [] # list of clusters\n",
    "\n",
    "    # dbscan\n",
    "    for i in range(len(neigh_arr)):\n",
    "        for j in range(len(eps_arr)):\n",
    "            # all\n",
    "            db = DBSCAN(eps=eps_arr[j], min_samples=neigh_arr[i]).fit(X)\n",
    "            clusterings_lst.append(db)\n",
    "            labels_lst.append(db.labels_)\n",
    "            n_clusters_lst.append(len(set(db.labels_)) - (1 if -1 in db.labels_ else 0))\n",
    "    \n",
    "    unique_labels_lst = []\n",
    "    core_samples_masks_lst = []\n",
    "    colors_lst = []\n",
    "    \n",
    "\n",
    "    for i in range(len(labels_lst)):\n",
    "        # all\n",
    "        unique_labels_lst.append(set(labels_lst[i]))\n",
    "        core_samples_masks_lst.append(np.zeros_like(labels_lst[i], dtype=bool))\n",
    "        core_samples_masks_lst[i][clusterings_lst[i].core_sample_indices_] = True\n",
    "        colors_lst.append([plt.cm.Spectral(each) for each in np.linspace(0, 1, len(unique_labels_lst[i]))])\n",
    "\n",
    "    \n",
    "    # all\n",
    "    fig, ax = plt.subplots(10, 10, figsize=(150,150))\n",
    "    for i in range(10):\n",
    "        for j in range(10):\n",
    "            for k, col in zip(unique_labels_lst[i + 10*j], colors_lst[i + 10*j]):\n",
    "                if k == -1:\n",
    "                    # Black used for noise.\n",
    "                    lab = 'Noise'\n",
    "                    col = [0, 0, 0, 1]\n",
    "                else:\n",
    "                    lab = 'Group ' + str(k)\n",
    "\n",
    "                class_member_mask = labels_lst[i + 10*j] == k\n",
    "\n",
    "                xy = X[class_member_mask & core_samples_masks_lst[i + 10*j]]\n",
    "                ax[i][j].plot(\n",
    "                    xy[:, 0],\n",
    "                    xy[:, 1],\n",
    "                    \"o\",\n",
    "                    markerfacecolor=tuple(col),\n",
    "                    markeredgecolor=\"k\",\n",
    "                    markersize=14,\n",
    "                    label=lab\n",
    "                )\n",
    "\n",
    "                xy = X[class_member_mask & ~core_samples_masks_lst[i + 10*j]]\n",
    "                ax[i][j].plot(\n",
    "                    xy[:, 0],\n",
    "                    xy[:, 1],\n",
    "                    \"o\",\n",
    "                    markerfacecolor=tuple(col),\n",
    "                    markeredgecolor=\"k\",\n",
    "                    markersize=6,\n",
    "                )\n",
    "\n",
    "            ax[i][j].set_xlabel('X', fontsize=40)\n",
    "            ax[i][j].set_ylabel('Y', fontsize=40)\n",
    "            ax[i][j].legend(fontsize=20)\n",
    "            ax[i][j].set_title(name + ' ' + title + f'DBSCAN groups\\neps = ' + str(round(eps_arr[i], 2)) + ' min_samples = ' + str(neigh_arr[j]) + f'\\nEstimated number of clusters: {n_clusters_lst[i + 10*j]}', fontsize=30)\n",
    "\n",
    "    plt.tight_layout()\n",
    "    file_name = 'GCs_DBSCAN_matrix2/' + name + '/' + title + '_dbscan_matrix_ctrl.png'\n",
    "    plt.savefig(file_name)\n",
    "    #plt.show()\n",
    "    fig.clear()\n",
    "    plt.close(fig)\n",
    "    \n",
    "    \n",
    "    ### heat map\n",
    "    \n",
    "    max_group_label = []\n",
    "    max_group_count = []\n",
    "\n",
    "    for ind, counts in enumerate(labels_lst):\n",
    "        # get unique \n",
    "        lab, cow = np.unique(counts, return_counts=True)\n",
    "\n",
    "        # getting index of most members\n",
    "        max_pos = np.argmax(cow)\n",
    "        #print(lab, lab[max_pos])\n",
    "        # returning the group label, number of members for largest group\n",
    "        if lab[max_pos] == -1:\n",
    "            max_group_count.append(0)\n",
    "        else:\n",
    "            max_group_count.append(cow[max_pos])\n",
    "        max_group_label.append(lab[max_pos])\n",
    "    \n",
    "    \n",
    "    # right now the data is [e1s1, e1s2, e1s3, e1s4, e1s5, e1s6, e1s7, e1s8, e1s9, e1s10, e2s1, e2s2, e2s3, etc.]\n",
    "    # need to break it up into a 10 by 10\n",
    "    max_group_count_arr = np.empty((10,10), dtype=int)\n",
    "    \n",
    "    for ind, item in enumerate(max_group_count):\n",
    "        if item >= 0.95 * len(x): # cutting out any ones that are 95% of the data size\n",
    "            item = 0\n",
    "        max_group_count_arr[ind%10][ind//10] = item\n",
    "    \n",
    "    \n",
    "    fig, ax = plt.subplots(1, figsize=(12,12))\n",
    "    im = ax.imshow(max_group_count_arr, cmap='RdPu', interpolation = 'None')\n",
    "    ax.set_xticks(np.arange(-.5, 9, 1))\n",
    "    ax.set_yticks(np.arange(-.5, 9, 1))\n",
    "    ax.set_xticklabels(neigh_arr)\n",
    "    ax.set_yticklabels(eps_arr)\n",
    "    ax.set_ylabel('eps', fontsize=20)\n",
    "    ax.set_xlabel('min samples', fontsize=20)\n",
    "    #ax.yaxis.set_major_formatter(FormatStrFormatter('%.2f'))\n",
    "    ax.grid(color='w', linestyle='-', linewidth=2)\n",
    "    plt.colorbar(im)\n",
    "    plt.savefig('GCs_DBSCAN_matrix2/' + name + '/' + title + '_heatmap_ctrl.png')\n",
    "    fig.clear()\n",
    "    plt.close(fig)\n",
    "    \n",
    "    # indices for the max section of heat map\n",
    "    max_eps_ind, max_samp_ind = np.unravel_index(max_group_count_arr.argmax(), max_group_count_arr.shape) \n",
    "    \n",
    "    \n",
    "    return [eps_arr[max_eps_ind], neigh_arr[max_samp_ind]]"
   ]
  },
  {
   "cell_type": "code",
   "execution_count": 32,
   "metadata": {},
   "outputs": [
    {
     "name": "stdout",
     "output_type": "stream",
     "text": [
      "Directory NGC_5272 already exists\n",
      "That shit took  0.7448810497919719  mins\n"
     ]
    },
    {
     "data": {
      "text/plain": [
       "<Figure size 432x288 with 0 Axes>"
      ]
     },
     "metadata": {},
     "output_type": "display_data"
    }
   ],
   "source": [
    "start = time.time()\n",
    "\n",
    "try: \n",
    "    os.makedirs('GCs_DBSCAN_matrix2/' + GC_name_arr[11])\n",
    "except OSError as error:\n",
    "    print('Directory ' + GC_name_arr[10] + ' already exists')\n",
    "\n",
    "M3_tsne_eps_ctrl, M3_tsne_samp_ctrl = db_ctrl(GC_name_arr[10], 'tsne', tsne_control_X[10][0], tsne_control_Y[10][0])\n",
    "M3_umap_eps_ctrl, M3_umap_samp_ctrl = db_ctrl(GC_name_arr[10], 'umap', umap_control_X[10][0], umap_control_Y[10][0])\n",
    "\n",
    "end = time.time()\n",
    "print('That shit took ', (end - start) / 60, ' mins')"
   ]
  },
  {
   "cell_type": "code",
   "execution_count": 33,
   "metadata": {},
   "outputs": [],
   "source": [
    "def db_opt(name, title, x, y, eps, samp):\n",
    "    plt.clf()\n",
    "    \n",
    "    ### setting up data for dbscan\n",
    "    X = np.c_[x, y] # column stack (i think) for second column for DBSCAN\n",
    "    \n",
    "    # dbscan\n",
    "    db = DBSCAN(eps=eps, min_samples=samp).fit(X)\n",
    "    clusterings = db\n",
    "    labels = db.labels_\n",
    "    n_clusters = len(set(db.labels_)) - (1 if -1 in db.labels_ else 0)\n",
    "    \n",
    "    unique_labels = set(labels)\n",
    "    core_samples_masks = np.zeros_like(labels, dtype=bool)\n",
    "    core_samples_masks = clusterings.core_sample_indices_ = True\n",
    "    colors = [plt.cm.Spectral(each) for each in np.linspace(0, 1, len(unique_labels))]\n",
    "\n",
    "    \n",
    "    # all\n",
    "    fig, ax = plt.subplots(1, figsize=(20,20))\n",
    "    for k, col in zip(unique_labels, colors):\n",
    "        if k == -1:\n",
    "            # Black used for noise.\n",
    "            lab = 'Noise'\n",
    "            col = [0, 0, 0, 1]\n",
    "        else:\n",
    "            lab = 'Group ' + str(k)\n",
    "\n",
    "        class_member_mask = labels == k\n",
    "\n",
    "        xy = X[class_member_mask & core_samples_masks]\n",
    "        ax.plot(\n",
    "            xy[:, 0],\n",
    "            xy[:, 1],\n",
    "            \"o\",\n",
    "            markerfacecolor=tuple(col),\n",
    "            markeredgecolor=\"k\",\n",
    "            markersize=14,\n",
    "            label=lab\n",
    "        )\n",
    "\n",
    "        xy = X[class_member_mask & ~core_samples_masks]\n",
    "        ax.plot(\n",
    "            xy[:, 0],\n",
    "            xy[:, 1],\n",
    "            \"o\",\n",
    "            markerfacecolor=tuple(col),\n",
    "            markeredgecolor=\"k\",\n",
    "            markersize=6,\n",
    "        )\n",
    "\n",
    "    ax.set_xlabel('X', fontsize=40)\n",
    "    ax.set_ylabel('Y', fontsize=40)\n",
    "    ax.legend(fontsize=20)\n",
    "    ax.set_title(name + ' ' + title + f'DBSCAN groups\\neps = ' + str(round(eps, 2)) + ' min_samples = ' + str(samp) + f'\\nEstimated number of clusters: {n_clusters}', fontsize=30)\n",
    "\n",
    "    plt.tight_layout()\n",
    "    file_name = 'GCs_DBSCAN_matrix2/' + name + '/' + title + '_dbscan.png'\n",
    "    plt.savefig(file_name)\n",
    "    #plt.show()\n",
    "    \n",
    "    plt.clf()\n",
    "    \n",
    "    return labels"
   ]
  },
  {
   "cell_type": "code",
   "execution_count": 34,
   "metadata": {},
   "outputs": [],
   "source": [
    "def final_control_group(controls, labels_tsne, labels_umap):\n",
    "    lab_tsne, cow_tsne = np.unique(labels_tsne, return_counts=True)\n",
    "    \n",
    "    tsne_arg = np.argmax(cow_tsne)\n",
    "    max_group_num_tsne = lab_tsne[tsne_arg]\n",
    "    max_group_count_tsne = cow_tsne[tsne_arg]\n",
    "    max_group_indices_tsne = []\n",
    "    \n",
    "    other_group_counter_tsne = [0 for _ in range(len(lab_tsne))]\n",
    "    \n",
    "    lab_umap, cow_umap = np.unique(labels_umap, return_counts=True)\n",
    "    umap_arg = np.argmax(cow_umap)\n",
    "    max_group_num_umap = lab_umap[umap_arg]\n",
    "    max_group_count_umap = cow_umap[umap_arg]\n",
    "    max_group_indices_umap = []\n",
    "    \n",
    "    other_group_counter_umap = [0 for _ in range(len(lab_umap))]\n",
    "    \n",
    "    # matching control stars to those with a label of max group num\n",
    "    for ind, item in enumerate(labels_tsne):\n",
    "        temp_lab_tsne = np.copy(lab_tsne)\n",
    "        temp_lab_tsne = np.delete(lab_tsne, tsne_arg)\n",
    "        if item == max_group_num_tsne:\n",
    "            max_group_indices_tsne.append(ind)\n",
    "        else:\n",
    "            for i in range(len(temp_lab_tsne)):\n",
    "                if item == i:\n",
    "                    other_group_counter_tsne[i] += 1\n",
    "\n",
    "    for ind, item in enumerate(labels_umap):\n",
    "        #print(item)\n",
    "        #print(max_group_num_umap)\n",
    "        temp_lab_umap = np.copy(lab_umap)\n",
    "        temp_lab_umap = np.delete(lab_umap, umap_arg)\n",
    "        if item == max_group_num_umap:\n",
    "            max_group_indices_umap.append(ind)\n",
    "        else:\n",
    "            for i in range(len(temp_lab_umap)):\n",
    "                if item == i:\n",
    "                    other_group_counter_umap[i] += 1\n",
    "    \n",
    "    \n",
    "    # final for each ML\n",
    "    ctrl_indices_tsne = controls[max_group_indices_tsne]\n",
    "    ctrl_indices_umap = controls[max_group_indices_umap]\n",
    "    \n",
    "    \n",
    "    final_ctrl_indices = []\n",
    "    \n",
    "    # finding same ones\n",
    "    for i in ctrl_indices_tsne:\n",
    "        if i in ctrl_indices_umap:\n",
    "            final_ctrl_indices.append(i)\n",
    "\n",
    "    \n",
    "    return [final_ctrl_indices, other_group_counter_tsne, other_group_counter_umap, max_group_num_tsne, max_group_num_umap]"
   ]
  },
  {
   "cell_type": "markdown",
   "metadata": {},
   "source": [
    "### M3 tsne and umap dbscan and choosing main group"
   ]
  },
  {
   "cell_type": "code",
   "execution_count": 35,
   "metadata": {
    "scrolled": true
   },
   "outputs": [
    {
     "data": {
      "text/plain": [
       "<Figure size 432x288 with 0 Axes>"
      ]
     },
     "metadata": {},
     "output_type": "display_data"
    },
    {
     "data": {
      "text/plain": [
       "<Figure size 1440x1440 with 0 Axes>"
      ]
     },
     "metadata": {},
     "output_type": "display_data"
    },
    {
     "data": {
      "text/plain": [
       "<Figure size 1440x1440 with 0 Axes>"
      ]
     },
     "metadata": {},
     "output_type": "display_data"
    }
   ],
   "source": [
    "M3_tsne_ctrl_labels = db_opt(GC_name_arr[10], 'tsne', tsne_control_X[10][0], tsne_control_Y[10][0], M3_tsne_eps_ctrl, M3_tsne_samp_ctrl)\n",
    "M3_umap_ctrl_labels = db_opt(GC_name_arr[10], 'umap', umap_control_X[10][0], umap_control_Y[10][0], M3_umap_eps_ctrl, M3_umap_samp_ctrl)"
   ]
  },
  {
   "cell_type": "markdown",
   "metadata": {},
   "source": [
    "### M3 final control stars"
   ]
  },
  {
   "cell_type": "code",
   "execution_count": 36,
   "metadata": {},
   "outputs": [],
   "source": [
    "M3_final_ctrl, M3_tsne_other, M3_umap_other, M3_tsne_ctrl_lab, M3_umap_ctrl_lab = final_control_group(control_indices_rad[10][0][0], M3_tsne_ctrl_labels, M3_umap_ctrl_labels)"
   ]
  },
  {
   "cell_type": "code",
   "execution_count": 37,
   "metadata": {
    "scrolled": true
   },
   "outputs": [
    {
     "data": {
      "text/plain": [
       "118"
      ]
     },
     "execution_count": 37,
     "metadata": {},
     "output_type": "execute_result"
    }
   ],
   "source": [
    "len(M3_final_ctrl)"
   ]
  },
  {
   "cell_type": "code",
   "execution_count": 38,
   "metadata": {},
   "outputs": [
    {
     "data": {
      "text/plain": [
       "array([ 430,  442,  445,  448,  452,  457,  474,  478,  479,  484,  485,\n",
       "        487,  494,  496,  498,  499,  501,  506,  511,  513,  514,  515,\n",
       "        516,  519,  520,  521,  522,  524,  525,  526,  528,  529,  530,\n",
       "        531,  532,  534,  536,  540,  542,  544,  547,  550,  552,  559,\n",
       "        561,  568,  569,  570,  571,  577,  578,  582,  588,  593,  594,\n",
       "        595,  601,  605,  606,  613,  615,  619,  622,  624,  631,  632,\n",
       "       1458, 1460, 1464, 1477, 1481, 1495, 1499, 1501, 1502, 1504, 1509,\n",
       "       1512, 1515, 1516, 1519, 1520, 1522, 1523, 1527, 1529, 1530, 1531,\n",
       "       1532, 1535, 1536, 1538, 1539, 1540, 1541, 1542, 1543, 1546, 1547,\n",
       "       1548, 1550, 1551, 1552, 1553, 1555, 1556, 1557, 1558, 1560, 1563,\n",
       "       1565, 1567, 1568, 1569, 1570, 1572, 1575, 1576, 1577, 1579, 1580,\n",
       "       1581, 1583, 1584, 1587, 1588, 1589, 1591, 1592, 1593, 1594, 1595,\n",
       "       1598, 1599, 1600, 1602, 1605, 1606, 1607, 1608, 1609, 1612, 1613,\n",
       "       1614, 1615, 1616, 1618, 1621, 1624, 1626, 1627, 1630, 1631, 1632,\n",
       "       1635, 1636, 1638, 1639, 1641, 1642, 1646, 1647, 1648, 1650, 1651,\n",
       "       1652, 1655, 1656, 1658, 1659, 1661, 1663, 1666, 1668, 1672, 1674,\n",
       "       1680, 1683, 1686, 1690, 1696, 1700, 1705, 1707], dtype=int64)"
      ]
     },
     "execution_count": 38,
     "metadata": {},
     "output_type": "execute_result"
    }
   ],
   "source": [
    "control_indices_rad[10][0][0]"
   ]
  },
  {
   "cell_type": "code",
   "execution_count": 39,
   "metadata": {},
   "outputs": [
    {
     "data": {
      "text/plain": [
       "[<matplotlib.lines.Line2D at 0x1ba94bf5eb0>]"
      ]
     },
     "execution_count": 39,
     "metadata": {},
     "output_type": "execute_result"
    },
    {
     "data": {
      "image/png": "[encoded data removed]",
      "text/plain": [
       "<Figure size 432x288 with 1 Axes>"
      ]
     },
     "metadata": {
      "needs_background": "light"
     },
     "output_type": "display_data"
    }
   ],
   "source": [
    "plt.plot(tsne_all_X[10], tsne_all_Y[10], 'ok', ms=1)\n",
    "plt.plot(tsne_all_X[10][M3_final_ctrl], tsne_all_Y[10][M3_final_ctrl], 'or', ms=5)"
   ]
  },
  {
   "cell_type": "code",
   "execution_count": 40,
   "metadata": {},
   "outputs": [
    {
     "data": {
      "text/plain": [
       "[59, 0, 0]"
      ]
     },
     "execution_count": 40,
     "metadata": {},
     "output_type": "execute_result"
    }
   ],
   "source": [
    "M3_tsne_other"
   ]
  },
  {
   "cell_type": "code",
   "execution_count": 41,
   "metadata": {},
   "outputs": [
    {
     "data": {
      "text/plain": [
       "[12, 0, 14, 0]"
      ]
     },
     "execution_count": 41,
     "metadata": {},
     "output_type": "execute_result"
    }
   ],
   "source": [
    "M3_umap_other"
   ]
  },
  {
   "cell_type": "markdown",
   "metadata": {},
   "source": [
    "### run again with new control group and no kin"
   ]
  },
  {
   "cell_type": "code",
   "execution_count": 42,
   "metadata": {},
   "outputs": [],
   "source": [
    "param_list = ['# APOGEE_ID_', 'GAIAEDR3_SOURCE_ID', 'GAIAEDR3_PARALLAX', 'GAIAEDR3_PARALLAX_ERROR',\n",
    "              'RA', 'DEC', 'GAIAEDR3_PMRA', 'GAIAEDR3_PMRA_ERROR', 'GAIAEDR3_PMDEC', 'GAIAEDR3_PMDEC_ERROR', \n",
    "              'VHELIO_AVG', 'VERR', 'SNR',\n",
    "              'FE_H', 'FE_H_ERR', 'C_FE', 'C_FE_ERR', 'CI_FE', 'CI_FE_ERR', 'N_FE', 'N_FE_ERR',\n",
    "              'O_FE', 'O_FE_ERR', 'MG_FE', 'MG_FE_ERR', 'AL_FE', 'AL_FE_ERR', 'SI_FE', 'SI_FE_ERR',\n",
    "              'P_FE', 'P_FE_ERR', 'S_FE', 'S_FE_ERR', 'K_FE', 'K_FE_ERR', 'CA_FE', 'CA_FE_ERR',\n",
    "              'TI_FE', 'TI_FE_ERR', 'TIII_FE', 'TIII_FE_ERR', 'V_FE', 'V_FE_ERR', 'CR_FE', 'CR_FE_ERR',\n",
    "              'MN_FE', 'MN_FE_ERR', 'CO_FE', 'CO_FE_ERR', 'NI_FE', 'NI_FE_ERR']\n",
    "\n",
    "abundance_index = 13 # index where the first chemical abundance starts\n",
    "RV_index = 10 # where the radial velocity index is (NOTE: USE VHELIO_AVG NOT THE STUPID GAIA ONE)\n",
    "PMRA_index = 6 # PMRA index\n",
    "PMDEC_index = 8 # PMDEC index\n",
    "\n",
    "# dictionary of all relevant parameters we could ever want for tSNE and UMAP\n",
    "# the abundances should skip every other one due to it being [chem1, chem1_err, chem2, chem2_err, etc.]\n",
    "all_param_dict_norad = {'FE_H': abundance_index,\n",
    "                 'C_FE': abundance_index + 2,\n",
    "                 'CI_FE': abundance_index + 4,\n",
    "                 'N_FE': abundance_index + 6,\n",
    "                 'O_FE': abundance_index + 8,\n",
    "                 'MG_FE': abundance_index + 10,\n",
    "                 'AL_FE': abundance_index + 12,\n",
    "                 'SI_FE': abundance_index + 14,\n",
    "                 'P_FE': abundance_index + 16,\n",
    "                 'S_FE': abundance_index + 18,\n",
    "                 'K_FE': abundance_index + 20,\n",
    "                 'CA_FE': abundance_index + 22,\n",
    "                 'TI_FE': abundance_index + 24,\n",
    "                 'TIII_FE': abundance_index + 26,\n",
    "                 'V_FE': abundance_index + 28,\n",
    "                 'CR_FE': abundance_index + 30,\n",
    "                 'MN_FE': abundance_index + 32,\n",
    "                 'CO_FE': abundance_index + 34,\n",
    "                 'NI_FE': abundance_index + 36}\n",
    "\n",
    "\n",
    "fov = 5 # field of view (note: for x by x, use fov = x/2)\n",
    "ML_index = 0 # 0 for both tSNE and UMAP, 1 for only tSNE, 2 for only UMAP, any other value will raise an error"
   ]
  },
  {
   "cell_type": "code",
   "execution_count": 43,
   "metadata": {},
   "outputs": [],
   "source": [
    "def master_func_nokin(GC_name, master_param_dict, fov, db, dataset, params, ML, GC_indices_control):\n",
    "    print('\\nProcessing:', GC_name)\n",
    "    ML_values = {0, 1, 2}    \n",
    "    if ML not in ML_values:\n",
    "        raise ValueError('ML index not one of %r.' % ML_values)\n",
    "    \n",
    "    # getting GC parameteters\n",
    "    ra, dec, rhm_deg, rt_deg = GC_params(GC_name, db)\n",
    "    \n",
    "    # loading\n",
    "    GC_dict, GC_cols = master_load(ra, dec, fov, dataset, params, GC_name, rhm_deg, rt_deg)\n",
    "    \n",
    "    # filtering\n",
    "    GC_filter_data = master_filter(GC_dict, GC_cols)\n",
    "    \n",
    "    if GC_filter_data[0].size == 0:\n",
    "        print(\"This shit don't got no stars bruh\\n\")\n",
    "        return [None, None, None, None, None, None, None, None]\n",
    "    \n",
    "    else:\n",
    "        # choosing parameters\n",
    "        param_dict = master_param_dict\n",
    "\n",
    "        if ML == 0:\n",
    "            # tSNEing\n",
    "            tSNE_X, tSNE_Y, tSNE_control_X, tSNE_control_Y = master_tSNE(GC_filter_data, param_dict, GC_indices_control, GC_name, GC_filter_data[0].size)\n",
    "\n",
    "            # UMAPing\n",
    "            UMAP_X, UMAP_Y, UMAP_control_X, UMAP_control_Y = master_UMAP(GC_filter_data, param_dict, GC_indices_control, GC_name, GC_filter_data[0].size)\n",
    "\n",
    "            print('Done!\\n')\n",
    "            return [tSNE_X, tSNE_Y, tSNE_control_X, tSNE_control_Y, UMAP_X, UMAP_Y, UMAP_control_X, UMAP_control_Y, GC_indices_control]\n",
    "\n",
    "        elif ML == 1:\n",
    "            # tSNEing\n",
    "            tSNE_X, tSNE_Y, tSNE_control_X, tSNE_control_Y = master_tSNE(GC_filter_data, param_dict, GC_indices_control, GC_filter_data[0].size)\n",
    "\n",
    "            print('Done!\\n')\n",
    "            return [tSNE_X, tSNE_Y, tSNE_control_X, tSNE_control_Y, None, None, None, None]\n",
    "\n",
    "        elif ML == 2:\n",
    "            # UMAPing\n",
    "            UMAP_X, UMAP_Y, UMAP_control_X, UMAP_control_Y = master_UMAP(GC_filter_data, param_dict, GC_indices_control, GC_filter_data[0].size)\n",
    "\n",
    "            print('Done!\\n')\n",
    "            return [None, None, None, None, UMAP_X, UMAP_Y, UMAP_control_X, UMAP_control_Y]"
   ]
  },
  {
   "cell_type": "code",
   "execution_count": 44,
   "metadata": {},
   "outputs": [],
   "source": [
    "GC_stars_dict_norad = {}\n",
    "\n",
    "test_indices_arr = np.zeros(32, dtype=np.ndarray)\n",
    "\n",
    "for i in range(len(test_indices_arr)):\n",
    "    if i == 10:\n",
    "        test_indices_arr[i] = M3_final_ctrl\n",
    "    else:\n",
    "        test_indices_arr[i] = [0, 1]"
   ]
  },
  {
   "cell_type": "code",
   "execution_count": 45,
   "metadata": {},
   "outputs": [
    {
     "name": "stdout",
     "output_type": "stream",
     "text": [
      "\n",
      "Processing: NGC_5272\n",
      "1906 stars in a 10x10 fov of the GC\n",
      "Directory NGC_5272 already exists\n",
      "\n",
      "The final amount of stars in our sample is: 1891\n",
      "Done!\n",
      "\n"
     ]
    }
   ],
   "source": [
    "GC_stars_dict_norad[GC_name_list[10]] = master_func_nokin(GC_name_list[10], all_param_dict_norad, fov, GC_db, apogee_nofilt, param_list, ML_index, M3_final_ctrl)\n"
   ]
  },
  {
   "cell_type": "code",
   "execution_count": 46,
   "metadata": {},
   "outputs": [
    {
     "data": {
      "application/vnd.jupyter.widget-view+json": {
       "model_id": "9c1348b71caf4d6ca612291f7ae4559e",
       "version_major": 2,
       "version_minor": 0
      },
      "text/plain": [
       "HBox(children=(HTML(value=''), FloatProgress(value=0.0, max=31.0), HTML(value='')))"
      ]
     },
     "metadata": {},
     "output_type": "display_data"
    },
    {
     "name": "stdout",
     "output_type": "stream",
     "text": [
      "\n",
      "Processing: NGC_104\n",
      "467 stars in a 10x10 fov of the GC\n",
      "Directory NGC_104 already exists\n",
      "\n",
      "The final amount of stars in our sample is: 467\n",
      "Done!\n",
      "\n",
      "\n",
      "Processing: NGC_288\n",
      "293 stars in a 10x10 fov of the GC\n",
      "Directory NGC_288 already exists\n",
      "\n",
      "The final amount of stars in our sample is: 287\n",
      "Done!\n",
      "\n",
      "\n",
      "Processing: NGC_362\n",
      "1218 stars in a 10x10 fov of the GC\n",
      "Directory NGC_362 already exists\n",
      "\n",
      "The final amount of stars in our sample is: 1215\n",
      "Done!\n",
      "\n",
      "\n",
      "Processing: NGC_1851\n",
      "311 stars in a 10x10 fov of the GC\n",
      "Directory NGC_1851 already exists\n",
      "\n",
      "The final amount of stars in our sample is: 307\n",
      "Done!\n",
      "\n",
      "\n",
      "Processing: NGC_1904\n",
      "248 stars in a 10x10 fov of the GC\n",
      "Directory NGC_1904 already exists\n",
      "\n",
      "The final amount of stars in our sample is: 246\n",
      "Done!\n",
      "\n",
      "\n",
      "Processing: NGC_2808\n",
      "566 stars in a 10x10 fov of the GC\n",
      "Directory NGC_2808 already exists\n",
      "\n",
      "The final amount of stars in our sample is: 565\n",
      "Done!\n",
      "\n",
      "\n",
      "Processing: NGC_3201\n",
      "1065 stars in a 10x10 fov of the GC\n",
      "Directory NGC_3201 already exists\n",
      "\n",
      "The final amount of stars in our sample is: 1064\n",
      "Done!\n",
      "\n",
      "\n",
      "Processing: NGC_4590\n",
      "310 stars in a 10x10 fov of the GC\n",
      "Directory NGC_4590 already exists\n",
      "\n",
      "The final amount of stars in our sample is: 307\n",
      "Done!\n",
      "\n",
      "\n",
      "Processing: NGC_5024\n",
      "592 stars in a 10x10 fov of the GC\n",
      "Directory NGC_5024 already exists\n",
      "\n",
      "The final amount of stars in our sample is: 587\n",
      "Done!\n",
      "\n",
      "\n",
      "Processing: NGC_5053\n",
      "634 stars in a 10x10 fov of the GC\n",
      "Directory NGC_5053 already exists\n",
      "\n",
      "The final amount of stars in our sample is: 628\n",
      "Done!\n",
      "\n",
      "\n",
      "Processing: NGC_5272\n",
      "1906 stars in a 10x10 fov of the GC\n",
      "Directory NGC_5272 already exists\n",
      "\n",
      "The final amount of stars in our sample is: 1891\n",
      "Done!\n",
      "\n",
      "\n",
      "Processing: NGC_5466\n",
      "914 stars in a 10x10 fov of the GC\n",
      "Directory NGC_5466 already exists\n",
      "\n",
      "The final amount of stars in our sample is: 904\n",
      "Done!\n",
      "\n",
      "\n",
      "Processing: NGC_5904\n",
      "927 stars in a 10x10 fov of the GC\n",
      "Directory NGC_5904 already exists\n",
      "\n",
      "The final amount of stars in our sample is: 927\n",
      "Done!\n",
      "\n",
      "\n",
      "Processing: NGC_6121\n",
      "3307 stars in a 10x10 fov of the GC\n",
      "Directory NGC_6121 already exists\n",
      "\n",
      "The final amount of stars in our sample is: 3292\n",
      "Done!\n",
      "\n",
      "\n",
      "Processing: NGC_6171\n",
      "733 stars in a 10x10 fov of the GC\n",
      "Directory NGC_6171 already exists\n",
      "\n",
      "The final amount of stars in our sample is: 733\n",
      "Done!\n",
      "\n",
      "\n",
      "Processing: NGC_6205\n",
      "2345 stars in a 10x10 fov of the GC\n",
      "Directory NGC_6205 already exists\n",
      "\n",
      "The final amount of stars in our sample is: 2324\n",
      "Done!\n",
      "\n",
      "\n",
      "Processing: NGC_6218\n",
      "986 stars in a 10x10 fov of the GC\n",
      "Directory NGC_6218 already exists\n",
      "\n",
      "The final amount of stars in our sample is: 981\n",
      "Done!\n",
      "\n",
      "\n",
      "Processing: NGC_6229\n",
      "811 stars in a 10x10 fov of the GC\n",
      "Directory NGC_6229 already exists\n",
      "\n",
      "The final amount of stars in our sample is: 806\n",
      "Done!\n",
      "\n",
      "\n",
      "Processing: NGC_6254\n",
      "815 stars in a 10x10 fov of the GC\n",
      "Directory NGC_6254 already exists\n",
      "\n",
      "The final amount of stars in our sample is: 811\n",
      "Done!\n",
      "\n",
      "\n",
      "Processing: NGC_6273\n",
      "3054 stars in a 10x10 fov of the GC\n",
      "Directory NGC_6273 already exists\n",
      "\n",
      "The final amount of stars in our sample is: 3044\n",
      "Done!\n",
      "\n",
      "\n",
      "Processing: NGC_6293\n",
      "2935 stars in a 10x10 fov of the GC\n",
      "Directory NGC_6293 already exists\n",
      "\n",
      "The final amount of stars in our sample is: 2926\n",
      "Done!\n",
      "\n",
      "\n",
      "Processing: NGC_6341\n",
      "536 stars in a 10x10 fov of the GC\n",
      "Directory NGC_6341 already exists\n",
      "\n",
      "The final amount of stars in our sample is: 535\n",
      "Done!\n",
      "\n",
      "\n",
      "Processing: NGC_6388\n",
      "424 stars in a 10x10 fov of the GC\n",
      "Directory NGC_6388 already exists\n",
      "\n",
      "The final amount of stars in our sample is: 424\n",
      "Done!\n",
      "\n",
      "\n",
      "Processing: NGC_6397\n",
      "1107 stars in a 10x10 fov of the GC\n",
      "Directory NGC_6397 already exists\n",
      "\n",
      "The final amount of stars in our sample is: 1106\n",
      "Done!\n",
      "\n",
      "\n",
      "Processing: NGC_6656\n",
      "2678 stars in a 10x10 fov of the GC\n",
      "Directory NGC_6656 already exists\n",
      "\n",
      "The final amount of stars in our sample is: 2675\n",
      "Done!\n",
      "\n",
      "\n",
      "Processing: NGC_6715\n",
      "2441 stars in a 10x10 fov of the GC\n",
      "Directory NGC_6715 already exists\n",
      "\n",
      "The final amount of stars in our sample is: 2439\n",
      "Done!\n",
      "\n",
      "\n",
      "Processing: NGC_6752\n",
      "230 stars in a 10x10 fov of the GC\n",
      "Directory NGC_6752 already exists\n",
      "\n",
      "The final amount of stars in our sample is: 230\n",
      "Done!\n",
      "\n",
      "\n",
      "Processing: NGC_6809\n",
      "861 stars in a 10x10 fov of the GC\n",
      "Directory NGC_6809 already exists\n",
      "\n",
      "The final amount of stars in our sample is: 859\n",
      "Done!\n",
      "\n",
      "\n",
      "Processing: NGC_6838\n",
      "2625 stars in a 10x10 fov of the GC\n",
      "Directory NGC_6838 already exists\n",
      "\n",
      "The final amount of stars in our sample is: 2614\n",
      "Done!\n",
      "\n",
      "\n",
      "Processing: NGC_7078\n",
      "1207 stars in a 10x10 fov of the GC\n",
      "Directory NGC_7078 already exists\n",
      "\n",
      "The final amount of stars in our sample is: 1195\n",
      "Done!\n",
      "\n",
      "\n",
      "Processing: NGC_7089\n",
      "785 stars in a 10x10 fov of the GC\n",
      "Directory NGC_7089 already exists\n",
      "\n",
      "The final amount of stars in our sample is: 779\n",
      "Done!\n",
      "\n",
      "\n",
      "that shit took 7.719328677654266 mins\n"
     ]
    }
   ],
   "source": [
    "start = time.time()\n",
    "\n",
    "for count, i in enumerate(tqdm(GC_name_list)):\n",
    "    GC_stars_dict_norad[i] = master_func_nokin(i, all_param_dict_norad, fov, GC_db, apogee_nofilt, param_list, ML_index, test_indices_arr[count])\n",
    "    \n",
    "end = time.time()\n",
    "\n",
    "print('that shit took', (end - start) / 60, 'mins')"
   ]
  },
  {
   "cell_type": "markdown",
   "metadata": {},
   "source": [
    "### break up into individual arrays"
   ]
  },
  {
   "cell_type": "code",
   "execution_count": 61,
   "metadata": {},
   "outputs": [],
   "source": [
    "control_stars_list_norad = []\n",
    "total_stars_list_norad = []\n",
    "\n",
    "sum = 0\n",
    "for key in GC_stars_dict_norad:\n",
    "    #GC_name_list.append(key)\n",
    "    if GC_stars_dict_norad[key][2] is None:\n",
    "        control_stars_list_norad.append(0)\n",
    "        total_stars_list_norad.append(0)\n",
    "    else:\n",
    "        sum += 1\n",
    "        control_stars_list_norad.append(len(GC_stars_dict_norad[key][2]))\n",
    "        total_stars_list_norad.append(len(GC_stars_dict_norad[key][0]))\n",
    "    \n",
    "#print(control_stars_list_norad)\n",
    "#print(len(GC_name_list_norad))\n",
    "#print(sum)"
   ]
  },
  {
   "cell_type": "code",
   "execution_count": 48,
   "metadata": {},
   "outputs": [
    {
     "name": "stdout",
     "output_type": "stream",
     "text": [
      "31\n"
     ]
    }
   ],
   "source": [
    "new_control_stars_list_norad = []\n",
    "new_total_stars_list_norad = []\n",
    "new_stars_index_list_norad = []\n",
    "\n",
    "for i in range(len(control_stars_list_norad)):\n",
    "    #print(control_stars_list[i])\n",
    "    if control_stars_list_norad[i] != 0:\n",
    "        new_control_stars_list_norad.append(control_stars_list_norad[i])\n",
    "        new_total_stars_list_norad.append(total_stars_list_norad[i])\n",
    "        new_stars_index_list_norad.append(i)\n",
    "        \n",
    "print(len(new_stars_index_list_norad))"
   ]
  },
  {
   "cell_type": "code",
   "execution_count": 49,
   "metadata": {},
   "outputs": [],
   "source": [
    "GC_name_arr_norad = np.empty(len(new_stars_index_list_norad), dtype=np.ndarray)\n",
    "\n",
    "tsne_control_X_norad = np.empty(len(new_stars_index_list_norad), dtype=np.ndarray)\n",
    "tsne_control_Y_norad = np.empty(len(new_stars_index_list_norad), dtype=np.ndarray)\n",
    "tsne_all_X_norad = np.empty(len(new_stars_index_list_norad), dtype=np.ndarray)\n",
    "tsne_all_Y_norad = np.empty(len(new_stars_index_list_norad), dtype=np.ndarray)\n",
    "\n",
    "umap_control_X_norad = np.empty(len(new_stars_index_list_norad), dtype=np.ndarray)\n",
    "umap_control_Y_norad = np.empty(len(new_stars_index_list_norad), dtype=np.ndarray)\n",
    "umap_all_X_norad = np.empty(len(new_stars_index_list_norad), dtype=np.ndarray)\n",
    "umap_all_Y_norad = np.empty(len(new_stars_index_list_norad), dtype=np.ndarray)\n",
    "\n",
    "control_indices_norad = np.empty(len(new_stars_index_list_norad), dtype=np.ndarray)\n",
    "\n",
    "for i in range(len(new_stars_index_list_norad)):\n",
    "    ind = new_stars_index_list_norad[i]\n",
    "    #print(ind)\n",
    "    GC_name_arr_norad[i] = GC_name_list[ind]\n",
    "    \n",
    "    tsne_control_X_norad[i] = GC_stars_dict_norad[GC_name_arr[i]][2]\n",
    "    tsne_control_Y_norad[i] = GC_stars_dict_norad[GC_name_arr[i]][3]\n",
    "    tsne_all_X_norad[i] = GC_stars_dict_norad[GC_name_arr[i]][0]\n",
    "    tsne_all_Y_norad[i] = GC_stars_dict_norad[GC_name_arr[i]][1]\n",
    "    \n",
    "    umap_control_X_norad[i] = GC_stars_dict_norad[GC_name_arr_norad[i]][6]\n",
    "    umap_control_Y_norad[i] = GC_stars_dict_norad[GC_name_arr_norad[i]][7]\n",
    "    umap_all_X_norad[i] = GC_stars_dict_norad[GC_name_arr_norad[i]][4]\n",
    "    umap_all_Y_norad[i] = GC_stars_dict_norad[GC_name_arr_norad[i]][5]\n",
    "    \n",
    "    control_indices_norad[i] = GC_stars_dict_norad[GC_name_arr_norad[i]][8]"
   ]
  },
  {
   "cell_type": "markdown",
   "metadata": {},
   "source": [
    "### run the no kin stuff with dbscan and heat map"
   ]
  },
  {
   "cell_type": "markdown",
   "metadata": {},
   "source": [
    "# need a new function, cant recycle the only db function since that one only found the max group whereas we need to now find the control stars group"
   ]
  },
  {
   "cell_type": "code",
   "execution_count": 50,
   "metadata": {},
   "outputs": [],
   "source": [
    "def db(name, title, x, y, control_indices):\n",
    "    plt.clf()\n",
    "    \n",
    "    ### setting up data for dbscan\n",
    "    X = np.c_[x, y] # column stack (i think) for second column for DBSCAN\n",
    "    \n",
    "    ### cKDTree to find nearest neighbour distance\n",
    "    col = np.column_stack([x,y]) # column stack for cKDTree\n",
    "    tree=cKDTree(col) # making a tree\n",
    "    dist, arg = tree.query(col, k=2) # querying tree for nearest neighbour distance\n",
    "    percentile_95 =  np.percentile(dist[:,1], 95) # taking the 95th percentile of that distance\n",
    "    \n",
    "    \n",
    "    ### using the nearest neighbour percentile distance to make eps arrays to cycle through\n",
    "    eps_const = np.linspace(0.1, 4, 10) # same array that multiplies into the 95th percentile\n",
    "    eps_arr = eps_const * percentile_95 # eps array to try with DBSCAN\n",
    "    \n",
    "    \n",
    "    ### making min_sample arrays to cycle through\n",
    "    # use a ball method to count nearest n neighbours within a radius of 95 percentile of nearest neighbouring distance\n",
    "    ball = tree.query_ball_tree(tree, percentile_95) # ball method where we query a ball of size 95th percentile of nearest neighbour for # of neighbors\n",
    "    neigh = [len(i) for i in ball]\n",
    "    neigh_95 = np.percentile(neigh, 95) # 95th percentile of number of neighbors\n",
    "    \n",
    "    neigh_const = np.linspace(0.1, 2, 10)\n",
    "    neigh_arr = neigh_const * neigh_95\n",
    "    neigh_arr = [int(i) for i in neigh_arr]\n",
    "    \n",
    "    # plot of histogram of nearest neighbor numbers in a ball of size 95th percentile of nearest neighbour distances\n",
    "    # plot of histogram of nearest neighbour distances\n",
    "    fig, ax = plt.subplots(2, 1, figsize=(24,12))\n",
    "    ax[0].hist(dist[:,1], color='grey', edgecolor='black')\n",
    "    ax[0].set_xlabel('Nearest neighbour dist', fontsize=30)\n",
    "    ax[0].set_title(title + ' nearest neighbour distance w/ 95th percentile as ' + str(percentile_95), fontsize=50)\n",
    "    ax[1].hist(neigh, color='grey', edgecolor='black')\n",
    "    ax[1].set_xlabel('# neighbours', fontsize=30)\n",
    "    ax[1].set_title(title + ' number of neighbour within ' + str(round(percentile_95,3)) + ' w/ 95th percentile as ' + str(round(neigh_95, 3)), fontsize=50)\n",
    "    plt.tight_layout()\n",
    "    plt.savefig('GCs_DBSCAN_matrix2/' + name + '/' + title + '_neigh_hist.png')\n",
    "    fig.clear()\n",
    "    plt.close(fig)\n",
    "    \n",
    "    clusterings_lst = [] # list of clusterings\n",
    "    labels_lst = [] # list of labels\n",
    "    n_clusters_lst = [] # list of clusters\n",
    "\n",
    "    # dbscan\n",
    "    for i in range(len(neigh_arr)):\n",
    "        for j in range(len(eps_arr)):\n",
    "            # all\n",
    "            db = DBSCAN(eps=eps_arr[j], min_samples=neigh_arr[i]).fit(X)\n",
    "            clusterings_lst.append(db)\n",
    "            labels_lst.append(db.labels_)\n",
    "            n_clusters_lst.append(len(set(db.labels_)) - (1 if -1 in db.labels_ else 0))\n",
    "    \n",
    "    unique_labels_lst = []\n",
    "    core_samples_masks_lst = []\n",
    "    colors_lst = []\n",
    "    \n",
    "\n",
    "    for i in range(len(labels_lst)):\n",
    "        # all\n",
    "        unique_labels_lst.append(set(labels_lst[i]))\n",
    "        core_samples_masks_lst.append(np.zeros_like(labels_lst[i], dtype=bool))\n",
    "        core_samples_masks_lst[i][clusterings_lst[i].core_sample_indices_] = True\n",
    "        colors_lst.append([plt.cm.Spectral(each) for each in np.linspace(0, 1, len(unique_labels_lst[i]))])\n",
    "\n",
    "    \n",
    "    # all\n",
    "    fig, ax = plt.subplots(10, 10, figsize=(150,150))\n",
    "    for i in range(10):\n",
    "        for j in range(10):\n",
    "            for k, col in zip(unique_labels_lst[i + 10*j], colors_lst[i + 10*j]):\n",
    "                if k == -1:\n",
    "                    # Black used for noise.\n",
    "                    lab = 'Noise'\n",
    "                    col = [0, 0, 0, 1]\n",
    "                else:\n",
    "                    lab = 'Group ' + str(k)\n",
    "\n",
    "                class_member_mask = labels_lst[i + 10*j] == k\n",
    "\n",
    "                xy = X[class_member_mask & core_samples_masks_lst[i + 10*j]]\n",
    "                ax[i][j].plot(\n",
    "                    xy[:, 0],\n",
    "                    xy[:, 1],\n",
    "                    \"o\",\n",
    "                    markerfacecolor=tuple(col),\n",
    "                    markeredgecolor=\"k\",\n",
    "                    markersize=14,\n",
    "                    label=lab\n",
    "                )\n",
    "\n",
    "                xy = X[class_member_mask & ~core_samples_masks_lst[i + 10*j]]\n",
    "                ax[i][j].plot(\n",
    "                    xy[:, 0],\n",
    "                    xy[:, 1],\n",
    "                    \"o\",\n",
    "                    markerfacecolor=tuple(col),\n",
    "                    markeredgecolor=\"k\",\n",
    "                    markersize=6,\n",
    "                )\n",
    "\n",
    "            ax[i][j].set_xlabel('X', fontsize=40)\n",
    "            ax[i][j].set_ylabel('Y', fontsize=40)\n",
    "            ax[i][j].legend(fontsize=20)\n",
    "            ax[i][j].set_title(name + ' ' + title + f'DBSCAN groups\\neps = ' + str(round(eps_arr[i], 2)) + ' min_samples = ' + str(neigh_arr[j]) + f'\\nEstimated number of clusters: {n_clusters_lst[i + 10*j]}', fontsize=30)\n",
    "\n",
    "    plt.tight_layout()\n",
    "    file_name = 'GCs_DBSCAN_matrix2/' + name + '/' + title + '_dbscan_matrix.png'\n",
    "    plt.savefig(file_name)\n",
    "    #plt.show()\n",
    "    fig.clear()\n",
    "    plt.close(fig)\n",
    "    \n",
    "    \n",
    "    ### heat map\n",
    "    \n",
    "    max_group_label = []\n",
    "    max_group_count = []\n",
    "\n",
    "    for ind, labels in enumerate(labels_lst):\n",
    "        # get unique\n",
    "        lab, cow = np.unique(labels, return_counts=True)\n",
    "\n",
    "        # getting index of most control members\n",
    "        control_labels = labels_lst[ind][control_indices] # labels of the control stars\n",
    "        #print(control_labels)\n",
    "        max_lab = st.mode(control_labels)[0][0] # find the most common label\n",
    "        #print(max_lab)\n",
    "        max_pos = np.where(lab == max_lab)[0][0] # find the index of that common label for control stars\n",
    "        #print(cow, max_pos)\n",
    "        # returning the group label, number of members for largest control star group\n",
    "        if max_lab == -1: # if the majority of control stars are in the noise\n",
    "            max_group_label.append(lab[max_pos])\n",
    "            max_group_count.append(0)\n",
    "        else:\n",
    "            max_group_label.append(lab[max_pos])\n",
    "            max_group_count.append(cow[max_pos])\n",
    "    \n",
    "    \n",
    "    # right now the data is [e1s1, e1s2, e1s3, e1s4, e1s5, e1s6, e1s7, e1s8, e1s9, e1s10, e2s1, e2s2, e2s3, etc.]\n",
    "    # need to break it up into a 10 by 10\n",
    "    max_group_count_arr = np.empty((10,10), dtype=int)\n",
    "    \n",
    "    for ind, item in enumerate(max_group_count):\n",
    "        if item >= 0.95 * len(x): # cutting out any ones that are 95% of the data size\n",
    "            item = 0\n",
    "        max_group_count_arr[ind%10][ind//10] = item\n",
    "    \n",
    "    \n",
    "    fig, ax = plt.subplots(1, figsize=(12,12))\n",
    "    im = ax.imshow(max_group_count_arr, cmap='RdPu', interpolation = 'None')\n",
    "    ax.set_xticks(np.arange(-.5, 9, 1))\n",
    "    ax.set_yticks(np.arange(-.5, 9, 1))\n",
    "    ax.set_xticklabels(neigh_arr)\n",
    "    ax.set_yticklabels(eps_arr)\n",
    "    ax.set_xlabel('Min Samples')\n",
    "    ax.set_ylabel('eps')\n",
    "    #ax.yaxis.set_major_formatter(FormatStrFormatter('%.2f'))\n",
    "    ax.grid(color='w', linestyle='-', linewidth=2)\n",
    "    plt.colorbar(im)\n",
    "    plt.savefig('GCs_DBSCAN_matrix2/' + name + '/' + title + '_heatmap.png')\n",
    "    fig.clear()\n",
    "    plt.close(fig)\n",
    "    \n",
    "    # indices for the max section of heat map\n",
    "    max_eps_ind, max_samp_ind = np.unravel_index(max_group_count_arr.argmax(), max_group_count_arr.shape) \n",
    "    \n",
    "    \n",
    "    return [eps_arr[max_eps_ind], neigh_arr[max_samp_ind]]"
   ]
  },
  {
   "cell_type": "code",
   "execution_count": 62,
   "metadata": {},
   "outputs": [
    {
     "data": {
      "text/plain": [
       "1"
      ]
     },
     "execution_count": 62,
     "metadata": {},
     "output_type": "execute_result"
    }
   ],
   "source": [
    "M3_tsne_ctrl_lab"
   ]
  },
  {
   "cell_type": "code",
   "execution_count": 51,
   "metadata": {},
   "outputs": [],
   "source": [
    "temp_max_lab_arr_tsne = np.zeros(32)\n",
    "temp_max_lab_arr_tsne[10] = M3_tsne_ctrl_lab"
   ]
  },
  {
   "cell_type": "code",
   "execution_count": 52,
   "metadata": {},
   "outputs": [
    {
     "name": "stdout",
     "output_type": "stream",
     "text": [
      "Directory NGC_5272 already exists\n"
     ]
    },
    {
     "name": "stderr",
     "output_type": "stream",
     "text": [
      "<ipython-input-50-7eaaebea87e3>:109: UserWarning: Tight layout not applied. tight_layout cannot make axes height small enough to accommodate all axes decorations\n",
      "  plt.tight_layout()\n",
      "<ipython-input-50-7eaaebea87e3>:109: UserWarning: Tight layout not applied. tight_layout cannot make axes height small enough to accommodate all axes decorations\n",
      "  plt.tight_layout()\n"
     ]
    },
    {
     "name": "stdout",
     "output_type": "stream",
     "text": [
      "That shit took  4.242466203371683  mins\n"
     ]
    },
    {
     "data": {
      "text/plain": [
       "<Figure size 432x288 with 0 Axes>"
      ]
     },
     "metadata": {},
     "output_type": "display_data"
    }
   ],
   "source": [
    "start = time.time()\n",
    "\n",
    "try: \n",
    "    os.makedirs('GCs_DBSCAN_matrix2/' + GC_name_arr[10])\n",
    "except OSError as error:\n",
    "    print('Directory ' + GC_name_arr[10] + ' already exists')\n",
    "\n",
    "M3_tsne_eps_all, M3_tsne_samp_all = db(GC_name_arr[10], 'tsne', tsne_all_X_norad[10], tsne_all_Y_norad[10], control_indices_norad[10])\n",
    "M3_umap_eps_all, M3_umap_samp_all = db(GC_name_arr[10], 'umap', umap_all_X_norad[10], umap_all_Y_norad[10], control_indices_norad[10])\n",
    "\n",
    "end = time.time()\n",
    "print('That shit took ', (end - start) / 60, ' mins')"
   ]
  },
  {
   "cell_type": "markdown",
   "metadata": {},
   "source": [
    "### M3 choosing eps and min samp"
   ]
  },
  {
   "cell_type": "code",
   "execution_count": 53,
   "metadata": {},
   "outputs": [
    {
     "data": {
      "text/plain": [
       "<Figure size 432x288 with 0 Axes>"
      ]
     },
     "metadata": {},
     "output_type": "display_data"
    },
    {
     "data": {
      "text/plain": [
       "<Figure size 1440x1440 with 0 Axes>"
      ]
     },
     "metadata": {},
     "output_type": "display_data"
    },
    {
     "data": {
      "text/plain": [
       "<Figure size 1440x1440 with 0 Axes>"
      ]
     },
     "metadata": {},
     "output_type": "display_data"
    }
   ],
   "source": [
    "M3_tsne_all_labels = db_opt(GC_name_arr[10], 'tsne', tsne_all_X[10], tsne_all_Y[10], M3_tsne_eps_all, M3_tsne_samp_all)\n",
    "M3_umap_all_labels = db_opt(GC_name_arr[10], 'umap', umap_all_X[10], umap_all_Y[10], M3_umap_eps_all, M3_umap_samp_all)"
   ]
  },
  {
   "cell_type": "markdown",
   "metadata": {},
   "source": [
    "### Now we need to match control stars to the right group"
   ]
  },
  {
   "cell_type": "code",
   "execution_count": 54,
   "metadata": {},
   "outputs": [],
   "source": [
    "def final_et(control_indices, labels_tsne, labels_umap):\n",
    "    ### first find the most common control star label\n",
    "    tsne_et_ind = []\n",
    "    umap_et_ind = []\n",
    "    \n",
    "    # get unique\n",
    "    lab_tsne, cow_tsne = np.unique(labels_tsne, return_counts=True)\n",
    "    lab_umap, cow_umap = np.unique(labels_tsne, return_counts=True)\n",
    "\n",
    "    # getting index of most control members\n",
    "    control_labels_tsne = labels_tsne[control_indices] # labels of the control stars\n",
    "    max_lab_tsne = st.mode(control_labels_tsne)[0][0] # find the most common label\n",
    "    \n",
    "    control_labels_umap = labels_umap[control_indices] # labels of the control stars\n",
    "    print(len(control_labels_umap))\n",
    "    max_lab_umap = st.mode(control_labels_umap)[0][0] # find the most common label\n",
    "\n",
    "    for ind, labels in enumerate(labels_tsne):\n",
    "        if labels == max_lab_tsne:\n",
    "            tsne_et_ind.append(ind)\n",
    "    \n",
    "    for ind, labels in enumerate(labels_umap):\n",
    "        if labels == max_lab_umap:\n",
    "            umap_et_ind.append(ind)\n",
    "    \n",
    "    final_tsne = []\n",
    "    final_umap = []\n",
    "    final_et = []\n",
    "    \n",
    "    for i in tsne_et_ind:\n",
    "        if i in umap_et_ind and i not in control_indices:\n",
    "            final_et.append(i)\n",
    "    \n",
    "    for i in tsne_et_ind:\n",
    "        if i not in control_indices:\n",
    "            final_tsne.append(i)\n",
    "            \n",
    "    for i in umap_et_ind:\n",
    "        if i not in control_indices:\n",
    "            final_umap.append(i)\n",
    "            \n",
    "    return [final_et, final_tsne, final_umap]"
   ]
  },
  {
   "cell_type": "code",
   "execution_count": 55,
   "metadata": {},
   "outputs": [
    {
     "name": "stdout",
     "output_type": "stream",
     "text": [
      "118\n"
     ]
    }
   ],
   "source": [
    "M3_final_et, M3_final_tsne, M3_final_umap = final_et(control_indices_norad[10], M3_tsne_all_labels, M3_umap_all_labels)"
   ]
  },
  {
   "cell_type": "code",
   "execution_count": 56,
   "metadata": {
    "scrolled": true
   },
   "outputs": [
    {
     "data": {
      "text/plain": [
       "97"
      ]
     },
     "execution_count": 56,
     "metadata": {},
     "output_type": "execute_result"
    }
   ],
   "source": [
    "len(M3_final_et)"
   ]
  },
  {
   "cell_type": "code",
   "execution_count": 57,
   "metadata": {},
   "outputs": [
    {
     "data": {
      "text/plain": [
       "98"
      ]
     },
     "execution_count": 57,
     "metadata": {},
     "output_type": "execute_result"
    }
   ],
   "source": [
    "len(M3_final_tsne)"
   ]
  },
  {
   "cell_type": "code",
   "execution_count": 58,
   "metadata": {},
   "outputs": [
    {
     "data": {
      "text/plain": [
       "101"
      ]
     },
     "execution_count": 58,
     "metadata": {},
     "output_type": "execute_result"
    }
   ],
   "source": [
    "len(M3_final_umap)"
   ]
  },
  {
   "cell_type": "code",
   "execution_count": 59,
   "metadata": {},
   "outputs": [],
   "source": [
    "def plot_shit(name, n, final_et):\n",
    "    #plt.close('all')\n",
    "    M3_ra = GC_db['RA'][n]\n",
    "    M3_dec = GC_db['DEC'][n]\n",
    "    M3_rt = GC_db['rt'][n]\n",
    "    M3_d_Sun = GC_db['R_Sun'][n] * 1e3\n",
    "    M3_rt_deg = math.degrees(math.atan(M3_rt / M3_d_Sun))\n",
    "    M3_fov = 5\n",
    "\n",
    "    M3_stars = []\n",
    "    for count, i in enumerate(apogee_nofilt['RA'].values):\n",
    "        if i >= M3_ra - M3_fov and i <= M3_ra + M3_fov and apogee_nofilt['DEC'].values[count] >= M3_dec - M3_fov and apogee_nofilt['DEC'].values[count] <= M3_dec + M3_fov:\n",
    "            M3_stars.append(apogee_nofilt.loc[count])\n",
    "\n",
    "    print(len(M3_stars), 'stars in a 10x10 fov of the GC')\n",
    "\n",
    "    '''if len(M3_stars) != 0:\n",
    "        # create a folder with name of GC only if there are stars in the field\n",
    "        try: \n",
    "            os.makedirs('GCs_nice/' + name)\n",
    "        except OSError as error:\n",
    "            print('Directory ' + name+ ' already exists')'''\n",
    "\n",
    "    M3_ra_arr = np.empty(len(M3_stars), dtype=float)\n",
    "    M3_dec_arr = np.empty(len(M3_stars), dtype=float)\n",
    "    for count, i in enumerate(M3_stars):\n",
    "        M3_ra_arr[count] = i['RA']\n",
    "        M3_dec_arr[count] = i['DEC']     \n",
    "        \n",
    "    #M3_rhm_circ = plt.Circle((M3_ra, M3_dec), M3_rhm_deg, color='r', fill=False, label='rhm')\n",
    "    #M3_rhm_rt_circ = plt.Circle((M3_ra, M3_dec), (rhm_deg + rt_deg)/2, color='g', fill=False, label='1/2 rhm, rt')\n",
    "    M3_rt_circ = plt.Circle((M3_ra, M3_dec), M3_rt_deg, color='b', fill=False, label='rt')\n",
    "    \n",
    "    try: \n",
    "        os.makedirs('GCs_test/' + GC_name_arr[n])\n",
    "    except OSError as error:\n",
    "        print('Directory ' + GC_name_arr[n] + ' already exists')\n",
    "    \n",
    "    #plt.figure(figsize=(10,10))\n",
    "    fig, ax = plt.subplots(1, figsize=(10,10))\n",
    "    ax.plot(M3_ra_arr, M3_dec_arr, 'ok', linestyle='none', markersize=1, label='Stars')\n",
    "    ax.plot(M3_ra, M3_dec, color='cyan', marker='x', linestyle='none', markersize=5, label='GC centre')\n",
    "    ax.plot(M3_ra_arr[final_et], M3_dec_arr[final_et], color='fuchsia', linestyle='none', marker='*', ms=5, label='ET Candidates')\n",
    "    #ax.add_patch(rhm_circ)\n",
    "    #ax.add_patch(rhm_rt_circ)\n",
    "    ax.add_patch(M3_rt_circ)\n",
    "    ax.set_xlabel('RA', fontsize=20)\n",
    "    ax.set_ylabel('DEC', fontsize=20)\n",
    "    ax.set_title('Final stars for ' + GC_name_arr[n], fontsize=20)\n",
    "    ax.set_xlim(M3_ra - M3_fov - 1, M3_ra + M3_fov + 1)\n",
    "    ax.set_ylim(M3_dec - M3_fov - 1, M3_dec + M3_fov + 1)\n",
    "    ax.legend(loc='best', fontsize=20)\n",
    "    plt.savefig('GCs_DBSCAN_matrix2/' + name + '/final_et.png')\n",
    "    plt.show()\n",
    "    \n",
    "    '''fig, ax = plt.subplots(2, 2, figsize=(20,20))\n",
    "    \n",
    "    # all tsne\n",
    "    ax[0][0].plot(tsne_all_X[n], tsne_all_Y[n], 'ok', ms=1, label='All stars')\n",
    "    ax[0][0].plot(tsne_control_X[n][0], tsne_control_Y[n][0], 'or', ms=3, label='Control stars')\n",
    "    ax[0][0].plot(tsne_all_X[n][tsne_et_stars_index[n]], tsne_all_Y[n][tsne_et_stars_index[n]], 'ob', ms=5, label='ET stars', alpha=0.3)\n",
    "    ax[0][0].set_title('tsne all params', fontsize=20)\n",
    "    ax[0][0].legend(fontsize=20)\n",
    "    \n",
    "    # all umap\n",
    "    ax[0][1].plot(umap_all_X[n], umap_all_Y[n], 'ok', ms=1, label='All stars')\n",
    "    ax[0][1].plot(umap_control_X[n][0], umap_control_Y[n][0], 'or', ms=3, label='Control stars')\n",
    "    ax[0][1].plot(umap_all_X[n][umap_et_stars_index[n]], umap_all_Y[n][umap_et_stars_index[n]], 'ob', ms=5, label='ET stars', alpha=0.3)\n",
    "    ax[0][1].set_title('umap all params', fontsize=20)\n",
    "    ax[0][1].legend(fontsize=20)\n",
    "    \n",
    "    # no pm, rv tsne\n",
    "    ax[1][0].plot(tsne_all_X_norad[n], tsne_all_Y_norad[n], 'ok', ms=1, label='All stars')\n",
    "    ax[1][0].plot(tsne_control_X_norad[n][0], tsne_control_Y_norad[n][0], 'or', ms=3, label='Control stars')\n",
    "    ax[1][0].plot(tsne_all_X_norad[n][tsne_et_stars_index_norad[n]], tsne_all_Y_norad[n][tsne_et_stars_index_norad[n]], 'ob', ms=5, label='ET stars', alpha=0.3)\n",
    "    ax[1][0].set_title('tsne no pm, rv', fontsize=20)\n",
    "    ax[1][0].legend(fontsize=20)\n",
    "    \n",
    "    # no pm, rv umap\n",
    "    ax[1][1].plot(umap_all_X_norad[n], umap_all_Y_norad[n], 'ok', ms=1, label='All stars')\n",
    "    ax[1][1].plot(umap_control_X_norad[n][0], umap_control_Y_norad[n][0], 'or', ms=3, label='Control stars')\n",
    "    ax[1][1].plot(umap_all_X_norad[n][umap_et_stars_index_norad[n]], umap_all_Y_norad[n][umap_et_stars_index_norad[n]], 'ob', ms=5, label='ET stars', alpha=0.3)\n",
    "    ax[1][1].set_title('umap no pm, rv', fontsize=20)\n",
    "    ax[1][1].legend(fontsize=20)\n",
    "    \n",
    "    plt.tight_layout()\n",
    "    plt.show()'''\n"
   ]
  },
  {
   "cell_type": "code",
   "execution_count": 60,
   "metadata": {
    "scrolled": false
   },
   "outputs": [
    {
     "name": "stdout",
     "output_type": "stream",
     "text": [
      "1906 stars in a 10x10 fov of the GC\n",
      "Directory NGC_5272 already exists\n"
     ]
    },
    {
     "data": {
      "image/png": "[encoded data removed]",
      "text/plain": [
       "<Figure size 720x720 with 1 Axes>"
      ]
     },
     "metadata": {
      "needs_background": "light"
     },
     "output_type": "display_data"
    }
   ],
   "source": [
    "plot_shit(GC_name_arr[10], 10, M3_final_et)"
   ]
  },
  {
   "cell_type": "code",
   "execution_count": null,
   "metadata": {},
   "outputs": [],
   "source": []
  },
  {
   "cell_type": "code",
   "execution_count": null,
   "metadata": {},
   "outputs": [],
   "source": []
  },
  {
   "cell_type": "code",
   "execution_count": null,
   "metadata": {},
   "outputs": [],
   "source": []
  },
  {
   "cell_type": "code",
   "execution_count": null,
   "metadata": {},
   "outputs": [],
   "source": []
  },
  {
   "cell_type": "code",
   "execution_count": null,
   "metadata": {},
   "outputs": [],
   "source": []
  },
  {
   "cell_type": "code",
   "execution_count": null,
   "metadata": {},
   "outputs": [],
   "source": []
  },
  {
   "cell_type": "code",
   "execution_count": 224,
   "metadata": {},
   "outputs": [
    {
     "data": {
      "text/plain": [
       "True"
      ]
     },
     "execution_count": 224,
     "metadata": {},
     "output_type": "execute_result"
    }
   ],
   "source": [
    "a = [2,2,2,4,2,3,5,7,8,9]\n",
    "b = st.mode(a)[0][0]\n",
    "\n",
    "b == 2"
   ]
  },
  {
   "cell_type": "code",
   "execution_count": null,
   "metadata": {},
   "outputs": [],
   "source": []
  },
  {
   "cell_type": "code",
   "execution_count": null,
   "metadata": {},
   "outputs": [],
   "source": []
  },
  {
   "cell_type": "code",
   "execution_count": null,
   "metadata": {},
   "outputs": [],
   "source": []
  },
  {
   "cell_type": "code",
   "execution_count": null,
   "metadata": {},
   "outputs": [],
   "source": []
  },
  {
   "cell_type": "code",
   "execution_count": null,
   "metadata": {},
   "outputs": [],
   "source": []
  },
  {
   "cell_type": "code",
   "execution_count": null,
   "metadata": {},
   "outputs": [],
   "source": []
  },
  {
   "cell_type": "code",
   "execution_count": null,
   "metadata": {},
   "outputs": [],
   "source": []
  },
  {
   "cell_type": "code",
   "execution_count": null,
   "metadata": {},
   "outputs": [],
   "source": []
  },
  {
   "cell_type": "markdown",
   "metadata": {},
   "source": [
    "### step 1.5 heat map for ctrl"
   ]
  },
  {
   "cell_type": "code",
   "execution_count": null,
   "metadata": {},
   "outputs": [],
   "source": [
    "M3_ctrl_labels = []\n",
    "M3_ctrl_count = []\n",
    "\n",
    "max_group_label = []\n",
    "max_group_count = []\n",
    "\n",
    "for ind, counts in enumerate(M3_tsne_labels_ctrl[0]):\n",
    "    labels, count = np.unique(counts, return_counts=True)\n",
    "    \n",
    "    # getting index of most members\n",
    "    max_pos = np.argmax(count)\n",
    "    # returning the group label, number of members for largest group\n",
    "    max_group_label.append(labels[max_pos])\n",
    "    max_group_count.append(count[max_pos])\n",
    "    \n"
   ]
  },
  {
   "cell_type": "code",
   "execution_count": null,
   "metadata": {},
   "outputs": [],
   "source": []
  },
  {
   "cell_type": "code",
   "execution_count": null,
   "metadata": {},
   "outputs": [],
   "source": [
    "# right now the data is [e1s1, e1s2, e1s3, e1s4, e1s5, e1s6, e1s7, e1s8, e1s9, e1s10, e2s1, e2s2, e2s3, etc.]\n",
    "# need to break it up into a 10 by 10\n",
    "max_group_count_arr = np.empty((10,10), dtype=int)\n",
    "\n",
    "\n",
    "for ind, item in enumerate(max_group_count):\n",
    "    if item >= 0.95 * len(control_indices_rad[11][0][0]):\n",
    "        item = 0\n",
    "    max_group_count_arr[ind//10][ind%10] = item"
   ]
  },
  {
   "cell_type": "code",
   "execution_count": null,
   "metadata": {},
   "outputs": [],
   "source": [
    "max_group_count_arr"
   ]
  },
  {
   "cell_type": "code",
   "execution_count": null,
   "metadata": {},
   "outputs": [],
   "source": [
    "eps_arr = np.linspace(0.1, 2, 10)\n",
    "neigh_arr = np.linspace(1, 40, 10)"
   ]
  },
  {
   "cell_type": "code",
   "execution_count": null,
   "metadata": {},
   "outputs": [],
   "source": [
    "fig, ax = plt.subplots(1)\n",
    "\n",
    "im = ax.imshow(max_group_count_arr, cmap='Pastel1', interpolation = 'None', vmin=0, vmax=1)\n",
    "\n",
    "ax.set_xticklabels(eps_arr)\n",
    "ax.set_yticklabels(neigh_arr)\n",
    "\n",
    "ax.set_xticks(np.arange(-.5, 10, 1))\n",
    "ax.set_yticks(np.arange(-.5, 10, 1))\n",
    "\n",
    "ax.grid(color='w', linestyle='-', linewidth=2)\n",
    "plt.colorbar(im)\n",
    "\n"
   ]
  },
  {
   "cell_type": "code",
   "execution_count": null,
   "metadata": {},
   "outputs": [],
   "source": []
  },
  {
   "cell_type": "code",
   "execution_count": null,
   "metadata": {},
   "outputs": [],
   "source": [
    "tsne_db_labels = [[] for _ in range(len(GC_name_arr))]\n",
    "umap_db_labels = [[] for _ in range(len(GC_name_arr))]\n",
    "\n",
    "start = time.time()\n",
    "\n",
    "for i in tqdm(range(26, len(GC_name_arr))):\n",
    "    plt.clf()\n",
    "    try: \n",
    "        os.makedirs('GCs_DBSCAN_matrix/' + GC_name_arr[i])\n",
    "    except OSError as error:\n",
    "        print('Directory ' + GC_name_arr[i] + ' already exists')\n",
    "\n",
    "    plot_ML(GC_name_arr[i], [tsne_control_X[i][0], tsne_control_Y[i][0], tsne_all_X[i], tsne_all_Y[i]], [umap_control_X[i][0], umap_control_Y[i][0], umap_all_X[i], umap_all_Y[i]])\n",
    "\n",
    "    tsne_db_labels[i].append(db(GC_name_arr[i], 'tsne', tsne_all_X[i], tsne_all_Y[i], tsne_control_X[i][0], tsne_control_Y[i][0])) # tsne\n",
    "    umap_db_labels[i].append(db(GC_name_arr[i], 'umap', umap_all_X[i], umap_all_Y[i], umap_control_X[i][0], umap_control_Y[i][0])) # umap\n",
    "\n",
    "\n",
    "    print('Done ' + GC_name_arr[i])\n",
    "    \n",
    "end = time.time()\n",
    "print('That shit took ', (end - start) / 60, ' mins')"
   ]
  },
  {
   "cell_type": "code",
   "execution_count": null,
   "metadata": {},
   "outputs": [],
   "source": []
  },
  {
   "cell_type": "code",
   "execution_count": null,
   "metadata": {},
   "outputs": [],
   "source": []
  },
  {
   "cell_type": "code",
   "execution_count": null,
   "metadata": {},
   "outputs": [],
   "source": []
  },
  {
   "cell_type": "code",
   "execution_count": null,
   "metadata": {},
   "outputs": [],
   "source": []
  },
  {
   "cell_type": "code",
   "execution_count": null,
   "metadata": {},
   "outputs": [],
   "source": []
  },
  {
   "cell_type": "markdown",
   "metadata": {},
   "source": [
    "### run it again without proper motion and radial velocities"
   ]
  },
  {
   "cell_type": "code",
   "execution_count": null,
   "metadata": {},
   "outputs": [],
   "source": [
    "param_list = ['# APOGEE_ID_', 'GAIAEDR3_SOURCE_ID', 'GAIAEDR3_PARALLAX', 'GAIAEDR3_PARALLAX_ERROR',\n",
    "              'RA', 'DEC', 'GAIAEDR3_PMRA', 'GAIAEDR3_PMRA_ERROR', 'GAIAEDR3_PMDEC', 'GAIAEDR3_PMDEC_ERROR', \n",
    "              'VHELIO_AVG', 'VERR', 'SNR',\n",
    "              'FE_H', 'FE_H_ERR', 'C_FE', 'C_FE_ERR', 'CI_FE', 'CI_FE_ERR', 'N_FE', 'N_FE_ERR',\n",
    "              'O_FE', 'O_FE_ERR', 'MG_FE', 'MG_FE_ERR', 'AL_FE', 'AL_FE_ERR', 'SI_FE', 'SI_FE_ERR',\n",
    "              'P_FE', 'P_FE_ERR', 'S_FE', 'S_FE_ERR', 'K_FE', 'K_FE_ERR', 'CA_FE', 'CA_FE_ERR',\n",
    "              'TI_FE', 'TI_FE_ERR', 'TIII_FE', 'TIII_FE_ERR', 'V_FE', 'V_FE_ERR', 'CR_FE', 'CR_FE_ERR',\n",
    "              'MN_FE', 'MN_FE_ERR', 'CO_FE', 'CO_FE_ERR', 'NI_FE', 'NI_FE_ERR']\n",
    "\n",
    "abundance_index = 13 # index where the first chemical abundance starts\n",
    "RV_index = 10 # where the radial velocity index is (NOTE: USE VHELIO_AVG NOT THE STUPID GAIA ONE)\n",
    "PMRA_index = 6 # PMRA index\n",
    "PMDEC_index = 8 # PMDEC index\n",
    "\n",
    "# dictionary of all relevant parameters we could ever want for tSNE and UMAP\n",
    "# the abundances should skip every other one due to it being [chem1, chem1_err, chem2, chem2_err, etc.]\n",
    "all_param_dict_norad = {'FE_H': abundance_index,\n",
    "                 'C_FE': abundance_index + 2,\n",
    "                 'CI_FE': abundance_index + 4,\n",
    "                 'N_FE': abundance_index + 6,\n",
    "                 'O_FE': abundance_index + 8,\n",
    "                 'MG_FE': abundance_index + 10,\n",
    "                 'AL_FE': abundance_index + 12,\n",
    "                 'SI_FE': abundance_index + 14,\n",
    "                 'P_FE': abundance_index + 16,\n",
    "                 'S_FE': abundance_index + 18,\n",
    "                 'K_FE': abundance_index + 20,\n",
    "                 'CA_FE': abundance_index + 22,\n",
    "                 'TI_FE': abundance_index + 24,\n",
    "                 'TIII_FE': abundance_index + 26,\n",
    "                 'V_FE': abundance_index + 28,\n",
    "                 'CR_FE': abundance_index + 30,\n",
    "                 'MN_FE': abundance_index + 32,\n",
    "                 'CO_FE': abundance_index + 34,\n",
    "                 'NI_FE': abundance_index + 36}\n",
    "\n",
    "\n",
    "fov = 5 # field of view (note: for x by x, use fov = x/2)\n",
    "ML_index = 0 # 0 for both tSNE and UMAP, 1 for only tSNE, 2 for only UMAP, any other value will raise an error"
   ]
  },
  {
   "cell_type": "code",
   "execution_count": null,
   "metadata": {},
   "outputs": [],
   "source": [
    "start = time.time()\n",
    "\n",
    "for count, i in enumerate(tqdm(GC_name_list)):\n",
    "    GC_stars_dict_norad[i] = master_func_auto(i, all_param_dict_norad, fov, GC_db, apogee_nofilt, param_list, ML_index)\n",
    "    \n",
    "end = time.time()\n",
    "\n",
    "print('that shit took', (end - start) / 60, 'mins')"
   ]
  },
  {
   "cell_type": "markdown",
   "metadata": {},
   "source": [
    "#### without pm and rv"
   ]
  },
  {
   "cell_type": "code",
   "execution_count": null,
   "metadata": {},
   "outputs": [],
   "source": [
    "print(len(GC_stars_dict_norad))\n",
    "\n",
    "#GC_name_list = []\n",
    "control_stars_list_norad = []\n",
    "total_stars_list_norad = []\n",
    "\n",
    "sum = 0\n",
    "for key in GC_stars_dict_norad:\n",
    "    #GC_name_list.append(key)\n",
    "    if GC_stars_dict_norad[key][2] is None:\n",
    "        control_stars_list_norad.append(0)\n",
    "        total_stars_list_norad.append(0)\n",
    "    else:\n",
    "        sum += 1\n",
    "        control_stars_list_norad.append(len(GC_stars_dict_norad[key][2]))\n",
    "        total_stars_list_norad.append(len(GC_stars_dict_norad[key][0]))\n",
    "    \n",
    "#print(control_stars_list_norad)\n",
    "#print(len(GC_name_list_norad))\n",
    "#print(sum)"
   ]
  },
  {
   "cell_type": "code",
   "execution_count": null,
   "metadata": {},
   "outputs": [],
   "source": [
    "new_control_stars_list_norad = []\n",
    "new_total_stars_list_norad = []\n",
    "new_stars_index_list_norad = []\n",
    "\n",
    "for i in range(len(control_stars_list_norad)):\n",
    "    #print(control_stars_list[i])\n",
    "    if control_stars_list_norad[i] != 0:\n",
    "        new_control_stars_list_norad.append(control_stars_list_norad[i])\n",
    "        new_total_stars_list_norad.append(total_stars_list_norad[i])\n",
    "        new_stars_index_list_norad.append(i)\n",
    "        \n",
    "print(len(new_stars_index_list_norad))"
   ]
  },
  {
   "cell_type": "code",
   "execution_count": null,
   "metadata": {},
   "outputs": [],
   "source": [
    "GC_name_arr_norad = np.empty(len(new_stars_index_list_norad), dtype=np.ndarray)\n",
    "\n",
    "tsne_control_X_norad = np.empty(len(new_stars_index_list_norad), dtype=np.ndarray)\n",
    "tsne_control_Y_norad = np.empty(len(new_stars_index_list_norad), dtype=np.ndarray)\n",
    "tsne_all_X_norad = np.empty(len(new_stars_index_list_norad), dtype=np.ndarray)\n",
    "tsne_all_Y_norad = np.empty(len(new_stars_index_list_norad), dtype=np.ndarray)\n",
    "\n",
    "umap_control_X_norad = np.empty(len(new_stars_index_list_norad), dtype=np.ndarray)\n",
    "umap_control_Y_norad = np.empty(len(new_stars_index_list_norad), dtype=np.ndarray)\n",
    "umap_all_X_norad = np.empty(len(new_stars_index_list_norad), dtype=np.ndarray)\n",
    "umap_all_Y_norad = np.empty(len(new_stars_index_list_norad), dtype=np.ndarray)\n",
    "\n",
    "control_indices_norad = np.empty(len(new_stars_index_list_norad), dtype=np.ndarray)\n",
    "\n",
    "for i in range(len(new_stars_index_list_norad)):\n",
    "    ind = new_stars_index_list_norad[i]\n",
    "    #print(ind)\n",
    "    GC_name_arr_norad[i] = GC_name_list_norad[ind]\n",
    "    \n",
    "    tsne_control_X_norad[i] = GC_stars_dict_norad[GC_name_arr[i]][2]\n",
    "    tsne_control_Y_norad[i] = GC_stars_dict_norad[GC_name_arr[i]][3]\n",
    "    tsne_all_X_norad[i] = GC_stars_dict_norad[GC_name_arr[i]][0]\n",
    "    tsne_all_Y_norad[i] = GC_stars_dict_norad[GC_name_arr[i]][1]\n",
    "    \n",
    "    umap_control_X_norad[i] = GC_stars_dict_norad[GC_name_arr_norad[i]][6]\n",
    "    umap_control_Y_norad[i] = GC_stars_dict_norad[GC_name_arr_norad[i]][7]\n",
    "    umap_all_X_norad[i] = GC_stars_dict_norad[GC_name_arr_norad[i]][4]\n",
    "    umap_all_Y_norad[i] = GC_stars_dict_norad[GC_name_arr_norad[i]][5]\n",
    "    \n",
    "    control_indices_norad[i] = GC_stars_dict_norad[GC_name_arr_norad[i]][8]"
   ]
  },
  {
   "cell_type": "code",
   "execution_count": null,
   "metadata": {},
   "outputs": [],
   "source": []
  },
  {
   "cell_type": "code",
   "execution_count": null,
   "metadata": {},
   "outputs": [],
   "source": []
  },
  {
   "cell_type": "code",
   "execution_count": null,
   "metadata": {},
   "outputs": [],
   "source": []
  },
  {
   "cell_type": "code",
   "execution_count": null,
   "metadata": {},
   "outputs": [],
   "source": []
  },
  {
   "cell_type": "code",
   "execution_count": null,
   "metadata": {},
   "outputs": [],
   "source": [
    "def db(name, title, x, y, x_ctrl, y_ctrl):       \n",
    "    plt.clf()\n",
    "    \n",
    "    ### setting up data for dbscan\n",
    "    X = np.c_[x, y] # column stack (i think) for second column for DBSCAN\n",
    "    X_ctrl = np.c_[x_ctrl, y_ctrl]\n",
    "    \n",
    "    ### cKDTree to find nearest neighbour distance\n",
    "    # all stars\n",
    "    col = np.column_stack([x,y]) # column stack for cKDTree\n",
    "    tree=cKDTree(col) # making a tree\n",
    "    dist, arg = tree.query(col, k=2) # querying tree for nearest neighbour distance\n",
    "    percentile_95 =  np.percentile(dist[:,1], 95) # taking the 95th percentile of that distance\n",
    "    \n",
    "    # control stars\n",
    "    col_ctrl = np.column_stack([x_ctrl,y_ctrl])\n",
    "    tree_ctrl = cKDTree(col_ctrl)\n",
    "    dist_ctrl, arg_ctrl = tree_ctrl.query(col_ctrl, k=2)\n",
    "    percentile_95_ctrl = np.percentile(dist_ctrl[:,1], 95)\n",
    "\n",
    "    \n",
    "    ### plot of histogram of nearest neighbour distances\n",
    "    fig, ax = plt.subplots(2, 1, figsize=(24,12))\n",
    "    ax[0].hist(dist_ctrl[:,1], color='grey', edgecolor='black')\n",
    "    ax[0].set_xlabel('Nearest neighbour dist', fontsize=30)\n",
    "    ax[0].set_title(title + ' ctrl stars nearest neighbour distance w/ 95th percentile as ' + str(percentile_95_ctrl), fontsize=50)\n",
    "    ax[1].hist(dist[:,1], color='grey', edgecolor='black')\n",
    "    ax[1].set_xlabel('Nearest neighbour dist', fontsize=30)\n",
    "    ax[1].set_title(title + ' all stars nearest neighbour distance w/ 95th percentile as ' + str(percentile_95), fontsize=50)\n",
    "    plt.tight_layout()\n",
    "    plt.savefig('GCs_DBSCAN_matrix/' + name + '/eps_hist.png')\n",
    "    \n",
    "    \n",
    "    ### using the nearest neighbour percentile distance to make eps arrays to cycle through\n",
    "    eps_const = np.linspace(0.1, 4, 10) # same array that multiplies into the 95th percentile\n",
    "    eps_arr = eps_const * percentile_95 # eps array to try with DBSCAN\n",
    "    eps_arr_ctrl = eps_const * percentile_95_ctrl\n",
    "    \n",
    "    \n",
    "    ### making min_sample arrays to cycle through with 2 diff options:\n",
    "    # 1. use a diff sample array for the control and all stars. this is some set fraction of the stars\n",
    "    # 2. use the same sample array of 1 to # of control stars\n",
    "    # 3. use a ball method to count nearest n neighbours within a radius of 95 percentile of nearest neighbouring distance\n",
    "    # method 1\n",
    "    beta = 0.9 * len(x) # set 90% of stars\n",
    "    samp_const = np.linspace(0.01, 2 * len(x_ctrl) / len(x), 10) # constant to multiply the min samples thingy, going from 0.01 to twice the ratio of ctlr to all stars\n",
    "    samp_arr = samp_const * int(max(1, round(beta))) # array for min samples for all stars\n",
    "    samp_arr = [int(i) for i in samp_arr]\n",
    "    \n",
    "    beta_ctrl = 0.9 * len(x_ctrl) # set 90% of stars\n",
    "    samp_arr_ctrl = samp_const * int(max(1, round(beta_ctrl)))\n",
    "    samp_arr_ctrl = [int(i) for i in samp_arr_ctrl]\n",
    "    \n",
    "    # method 2\n",
    "    samp_arr_both = np.linspace(1, len(x_ctrl), 10) # test array 1 for min samples for ctrl stars. this is diff as all stars is usually way too big for ctrl star purposes\n",
    "    samp_arr_both = [int(i) for i in samp_arr_both]\n",
    "    \n",
    "    # method 3\n",
    "    ball = tree.query_ball_tree(tree, percentile_95) # ball method where we query a ball of size 95th percentile of nearest neighbour for # of neighbors\n",
    "    neigh = [len(i) for i in ball]\n",
    "    neigh_95 = np.percentile(neigh, 95) # 95th percentile of number of neighbors\n",
    "    \n",
    "    neigh_const = np.linspace(0.1, 2, 10)\n",
    "    neigh_arr = neigh_const * neigh_95\n",
    "    neigh_arr = [int(i) for i in neigh_arr]\n",
    "                                \n",
    "    ball_ctrl = tree_ctrl.query_ball_tree(tree_ctrl, percentile_95_ctrl)\n",
    "    neigh_ctrl = [len(i) for i in ball_ctrl]\n",
    "    neigh_95_ctrl = np.percentile(neigh_ctrl, 95)\n",
    "    \n",
    "    neigh_const = np.linspace(0.1, 2, 10)\n",
    "    neigh_arr_ctrl = neigh_const * neigh_95_ctrl\n",
    "    neigh_arr_ctrl = [int(i) for i in neigh_arr_ctrl]\n",
    "    \n",
    "    # plot of histogram of nearest neighbor numbers in a ball of size 95th percentile of nearest neighbour distances\n",
    "    fig, ax = plt.subplots(2, 1, figsize=(24,12))\n",
    "    ax[0].hist(neigh_ctrl, color='grey', edgecolor='black')\n",
    "    ax[0].set_xlabel('# neighbours', fontsize=30)\n",
    "    ax[0].set_title(title + ' ctrl stars number of neighbour within ' + str(round(percentile_95_ctrl,3)) + ' w/ 95th percentile as ' + str(round(neigh_95_ctrl, 3)), fontsize=50)\n",
    "    ax[1].hist(neigh, color='grey', edgecolor='black')\n",
    "    ax[1].set_xlabel('# neighbours', fontsize=30)\n",
    "    ax[1].set_title(title + ' all stars number of neighbour within ' + str(round(percentile_95,3)) + ' w/ 95th percentile as ' + str(round(neigh_95, 3)), fontsize=50)\n",
    "    plt.tight_layout()\n",
    "    plt.savefig('GCs_DBSCAN_matrix/' + name + '/neigh_hist.png')\n",
    "    \n",
    "    \n",
    "    clusterings_lst = [] # list of clusterings\n",
    "    labels_lst = [] # list of labels\n",
    "    n_clusters_lst = [] # list of clusters\n",
    "    \n",
    "    clusterings_lst_ctrl = []\n",
    "    labels_lst_ctrl = []\n",
    "    n_clusters_lst_ctrl = []\n",
    "\n",
    "    # dbscan\n",
    "    for i in range(len(eps_arr)):\n",
    "        for j in range(len(samp_arr)):\n",
    "            # all stars\n",
    "            db = DBSCAN(eps=eps_arr[i], min_samples=neigh_arr[j]).fit(X)\n",
    "            clusterings_lst.append(db)\n",
    "            labels_lst.append(db.labels_)\n",
    "            n_clusters_lst.append(len(set(db.labels_)) - (1 if -1 in db.labels_ else 0))\n",
    "\n",
    "            # ctrl stars\n",
    "            db_ctrl = DBSCAN(eps=eps_arr_ctrl[i], min_samples=neigh_arr_ctrl[j]).fit(X_ctrl)\n",
    "            clusterings_lst_ctrl.append(db_ctrl)\n",
    "            labels_lst_ctrl.append(db_ctrl.labels_)\n",
    "            n_clusters_lst_ctrl.append(len(set(db_ctrl.labels_)) - (1 if -1 in db_ctrl.labels_ else 0))\n",
    "    \n",
    "    unique_labels_lst = []\n",
    "    core_samples_masks_lst = []\n",
    "    colors_lst = []\n",
    "    \n",
    "    unique_labels_lst_ctrl = []\n",
    "    core_samples_masks_lst_ctrl = []\n",
    "    colors_lst_ctrl = []\n",
    "\n",
    "    for i in range(len(labels_lst)):\n",
    "        # all\n",
    "        unique_labels_lst.append(set(labels_lst[i]))\n",
    "        core_samples_masks_lst.append(np.zeros_like(labels_lst[i], dtype=bool))\n",
    "        core_samples_masks_lst[i][clusterings_lst[i].core_sample_indices_] = True\n",
    "        colors_lst.append([plt.cm.Spectral(each) for each in np.linspace(0, 1, len(unique_labels_lst[i]))])\n",
    "        \n",
    "        # ctrl\n",
    "        unique_labels_lst_ctrl.append(set(labels_lst_ctrl[i]))\n",
    "        core_samples_masks_lst_ctrl.append(np.zeros_like(labels_lst_ctrl[i], dtype=bool))\n",
    "        core_samples_masks_lst_ctrl[i][clusterings_lst_ctrl[i].core_sample_indices_] = True\n",
    "        colors_lst_ctrl.append([plt.cm.Spectral(each) for each in np.linspace(0, 1, len(unique_labels_lst_ctrl[i]))])\n",
    "\n",
    "    \n",
    "    # all\n",
    "    fig, ax = plt.subplots(10, 10, figsize=(200,200))\n",
    "    for i in range(10):\n",
    "        for j in range(10):\n",
    "            for k, col in zip(unique_labels_lst[i + 10*j], colors_lst[i + 10*j]):\n",
    "                if k == -1:\n",
    "                    # Black used for noise.\n",
    "                    lab = 'Noise'\n",
    "                    col = [0, 0, 0, 1]\n",
    "                else:\n",
    "                    lab = 'Group ' + str(k)\n",
    "\n",
    "                class_member_mask = labels_lst[i + 10*j] == k\n",
    "\n",
    "                xy = X[class_member_mask & core_samples_masks_lst[i + 10*j]]\n",
    "                ax[i][j].plot(\n",
    "                    xy[:, 0],\n",
    "                    xy[:, 1],\n",
    "                    \"o\",\n",
    "                    markerfacecolor=tuple(col),\n",
    "                    markeredgecolor=\"k\",\n",
    "                    markersize=14,\n",
    "                    label=lab\n",
    "                )\n",
    "\n",
    "                xy = X[class_member_mask & ~core_samples_masks_lst[i + 10*j]]\n",
    "                ax[i][j].plot(\n",
    "                    xy[:, 0],\n",
    "                    xy[:, 1],\n",
    "                    \"o\",\n",
    "                    markerfacecolor=tuple(col),\n",
    "                    markeredgecolor=\"k\",\n",
    "                    markersize=6,\n",
    "                )\n",
    "\n",
    "            ax[i][j].set_xlabel('X', fontsize=40)\n",
    "            ax[i][j].set_ylabel('Y', fontsize=40)\n",
    "            ax[i][j].legend(fontsize=20)\n",
    "            ax[i][j].set_title(name + ' ' + title + f' all stars DBSCAN groups\\neps = ' + str(round(eps_arr[j], 2)) + ' min_samples = ' + str(neigh_arr[i]) + f'\\nEstimated number of clusters: {n_clusters_lst[i + 10*j]}', fontsize=30)\n",
    "\n",
    "    plt.tight_layout()\n",
    "    file_name = 'GCs_DBSCAN_matrix/' + name + '/db_all_' + title + '_tree_ball.png'\n",
    "    plt.savefig(file_name)\n",
    "    #plt.show()\n",
    "    \n",
    "    # ctrl\n",
    "    fig, ax = plt.subplots(10, 10, figsize=(200,200))\n",
    "    for i in range(10):\n",
    "        for j in range(10):\n",
    "            for k, col in zip(unique_labels_lst_ctrl[i + 10*j], colors_lst_ctrl[i + 10*j]):\n",
    "                if k == -1:\n",
    "                    # Black used for noise.\n",
    "                    lab = 'Noise'\n",
    "                    col = [0, 0, 0, 1]\n",
    "                else:\n",
    "                    lab = 'Group ' + str(k)\n",
    "\n",
    "                class_member_mask = labels_lst_ctrl[i + 5*j] == k\n",
    "\n",
    "                xy = X_ctrl[class_member_mask & core_samples_masks_lst_ctrl[i + 10*j]]\n",
    "                ax[i][j].plot(\n",
    "                    xy[:, 0],\n",
    "                    xy[:, 1],\n",
    "                    \"o\",\n",
    "                    markerfacecolor=tuple(col),\n",
    "                    markeredgecolor=\"k\",\n",
    "                    markersize=14,\n",
    "                    label=lab\n",
    "                )\n",
    "\n",
    "                xy = X_ctrl[class_member_mask & ~core_samples_masks_lst_ctrl[i + 10*j]]\n",
    "                ax[i][j].plot(\n",
    "                    xy[:, 0],\n",
    "                    xy[:, 1],\n",
    "                    \"o\",\n",
    "                    markerfacecolor=tuple(col),\n",
    "                    markeredgecolor=\"k\",\n",
    "                    markersize=6,\n",
    "                )\n",
    "\n",
    "            ax[i][j].set_xlabel('X', fontsize=40)\n",
    "            ax[i][j].set_ylabel('Y', fontsize=40)\n",
    "            ax[i][j].legend(fontsize=20)\n",
    "            ax[i][j].set_title(name + ' ' + title + f' ctrl stars DBSCAN groups\\neps = ' + str(round(eps_arr_ctrl[j], 2)) + ' min_samples = ' + str(neigh_arr_ctrl[i]) + f'\\nEstimated number of clusters: {n_clusters_lst_ctrl[i + 10*j]}', fontsize=30)\n",
    "\n",
    "    plt.tight_layout()\n",
    "    file_name = 'GCs_DBSCAN_matrix/' + name + '/db_ctrl_' + title + '_tree_ball.png'\n",
    "    plt.savefig(file_name)\n",
    "    #plt.show()\n",
    "    \n",
    "    plt.clf()\n",
    "    \n",
    "    return [labels_lst, labels_lst_ctrl]"
   ]
  },
  {
   "cell_type": "code",
   "execution_count": null,
   "metadata": {},
   "outputs": [],
   "source": []
  },
  {
   "cell_type": "code",
   "execution_count": null,
   "metadata": {
    "scrolled": false
   },
   "outputs": [],
   "source": [
    "tsne_db_labels = [[] for _ in range(len(GC_name_arr))]\n",
    "umap_db_labels = [[] for _ in range(len(GC_name_arr))]\n",
    "\n",
    "start = time.time()\n",
    "\n",
    "for i in tqdm(range(26, len(GC_name_arr))):\n",
    "    plt.clf()\n",
    "    try: \n",
    "        os.makedirs('GCs_DBSCAN_matrix/' + GC_name_arr[i])\n",
    "    except OSError as error:\n",
    "        print('Directory ' + GC_name_arr[i] + ' already exists')\n",
    "\n",
    "    plot_ML(GC_name_arr[i], [tsne_control_X[i][0], tsne_control_Y[i][0], tsne_all_X[i], tsne_all_Y[i]], [umap_control_X[i][0], umap_control_Y[i][0], umap_all_X[i], umap_all_Y[i]])\n",
    "\n",
    "    tsne_db_labels[i].append(db(GC_name_arr[i], 'tsne', tsne_all_X[i], tsne_all_Y[i], tsne_control_X[i][0], tsne_control_Y[i][0])) # tsne\n",
    "    umap_db_labels[i].append(db(GC_name_arr[i], 'umap', umap_all_X[i], umap_all_Y[i], umap_control_X[i][0], umap_control_Y[i][0])) # umap\n",
    "\n",
    "\n",
    "    print('Done ' + GC_name_arr[i])\n",
    "    \n",
    "end = time.time()\n",
    "print('That shit took ', (end - start) / 60, ' mins')\n",
    "    "
   ]
  },
  {
   "cell_type": "code",
   "execution_count": null,
   "metadata": {},
   "outputs": [],
   "source": []
  },
  {
   "cell_type": "code",
   "execution_count": null,
   "metadata": {},
   "outputs": [],
   "source": [
    "\n",
    "    \n",
    "tsne_ctrl_db_labels = []\n",
    "tsne_all_db_labels = []\n",
    "umap_ctrl_db_labels = []\n",
    "umap_all_db_labels = []\n",
    "\n",
    "for n in tqdm(range(len(GC_name_arr))):\n",
    "    try: \n",
    "        os.makedirs('GCs_DBSCAN_matrix/' + GC_name_arr[n])\n",
    "    except OSError as error:\n",
    "        print('Directory ' + GC_name_arr[n] + ' already exists')\n",
    "    \n",
    "    plot_ML(GC_name_arr[n], [tsne_control_X[n][0], tsne_control_Y[n][0], tsne_all_X[n], tsne_all_Y[n]], [umap_control_X[n][0], umap_control_Y[n][0], umap_all_X[n], umap_all_Y[n]])\n",
    "    \n",
    "    tsne_X_ctrl = np.c_[tsne_control_X[n][0], tsne_control_Y[n][0]]\n",
    "    tsne_X_all = np.c_[tsne_all_X[n], tsne_all_Y[n]]\n",
    "    umap_X_ctrl = np.c_[umap_control_X[n][0], umap_control_Y[n][0]]\n",
    "    umap_X_all = np.c_[umap_all_X[n], umap_all_Y[n]]\n",
    "    \n",
    "    \n",
    "    \n",
    "    tsne_ctrl_db_labels.append(db_ctrl_tsne_2(GC_name_arr[n], tsne_X_ctrl))\n",
    "    tsne_all_db_labels.append(db_all_tsne_2(GC_name_arr[n], tsne_X_all))\n",
    "    umap_ctrl_db_labels.append(db_ctrl_umap_2(GC_name_arr[n], umap_X_ctrl))\n",
    "    umap_all_db_labels.append(db_all_umap_2(GC_name_arr[n], umap_X_all))\n",
    "    \n",
    "    print('Done ' + GC_name_arr[n])\n",
    "    "
   ]
  },
  {
   "cell_type": "code",
   "execution_count": null,
   "metadata": {},
   "outputs": [],
   "source": []
  },
  {
   "cell_type": "code",
   "execution_count": null,
   "metadata": {},
   "outputs": [],
   "source": []
  },
  {
   "cell_type": "code",
   "execution_count": null,
   "metadata": {},
   "outputs": [],
   "source": []
  },
  {
   "cell_type": "code",
   "execution_count": null,
   "metadata": {},
   "outputs": [],
   "source": []
  },
  {
   "cell_type": "code",
   "execution_count": null,
   "metadata": {},
   "outputs": [],
   "source": []
  },
  {
   "cell_type": "code",
   "execution_count": null,
   "metadata": {},
   "outputs": [],
   "source": []
  },
  {
   "cell_type": "code",
   "execution_count": null,
   "metadata": {},
   "outputs": [],
   "source": []
  },
  {
   "cell_type": "code",
   "execution_count": null,
   "metadata": {},
   "outputs": [],
   "source": []
  },
  {
   "cell_type": "code",
   "execution_count": null,
   "metadata": {},
   "outputs": [],
   "source": []
  },
  {
   "cell_type": "code",
   "execution_count": null,
   "metadata": {},
   "outputs": [],
   "source": []
  },
  {
   "cell_type": "code",
   "execution_count": null,
   "metadata": {},
   "outputs": [],
   "source": []
  },
  {
   "cell_type": "code",
   "execution_count": null,
   "metadata": {},
   "outputs": [],
   "source": [
    "def db_ctrl_umap(name, umap_X_ctrl):\n",
    "    plt.close('all')\n",
    "    eps_arr_umap = np.arange(0.1, 3., 0.2)\n",
    "    clusterings_umap_ctrl_lst = []\n",
    "    labels_umap_ctrl_lst = []\n",
    "    n_clusters_umap_ctrl_lst = []\n",
    "\n",
    "    for i in eps_arr_umap:\n",
    "        db = DBSCAN(eps=i, min_samples = 10).fit(umap_X_ctrl)\n",
    "        clusterings_umap_ctrl_lst.append(db)\n",
    "        labels_umap_ctrl_lst.append(db.labels_)\n",
    "        n_clusters_umap_ctrl_lst.append(len(set(db.labels_)) - (1 if -1 in db.labels_ else 0))\n",
    "    \n",
    "    unique_labels_umap_ctrl_lst = []\n",
    "    core_samples_masks_umap_ctrl_lst = []\n",
    "    colors_umap_ctrl_lst = []\n",
    "\n",
    "    for i in range(len(labels_umap_ctrl_lst)):\n",
    "        unique_labels_umap_ctrl_lst.append(set(labels_umap_ctrl_lst[i]))\n",
    "        core_samples_masks_umap_ctrl_lst.append(np.zeros_like(labels_umap_ctrl_lst[i], dtype=bool))\n",
    "        core_samples_masks_umap_ctrl_lst[i][clusterings_umap_ctrl_lst[i].core_sample_indices_] = True\n",
    "\n",
    "        colors_umap_ctrl_lst.append([plt.cm.Spectral(each) for each in np.linspace(0, 1, len(unique_labels_umap_ctrl_lst[i]))])\n",
    "\n",
    "    fig, ax = plt.subplots(3, 5, figsize=(80,50))\n",
    "\n",
    "    for i in range(5):\n",
    "        for j in range(3):\n",
    "            for k, col in zip(unique_labels_umap_ctrl_lst[i + 5*j], colors_umap_ctrl_lst[i + 5*j]):\n",
    "                if k == -1:\n",
    "                    # Black used for noise.\n",
    "                    lab = 'Noise'\n",
    "                    col = [0, 0, 0, 1]\n",
    "                else:\n",
    "                    lab = 'Group ' + str(k)\n",
    "\n",
    "                class_member_mask = labels_umap_ctrl_lst[i + 5*j] == k\n",
    "\n",
    "                xy = umap_X_ctrl[class_member_mask & core_samples_masks_umap_ctrl_lst[i + 5*j]]\n",
    "                ax[j][i].plot(\n",
    "                    xy[:, 0],\n",
    "                    xy[:, 1],\n",
    "                    \"o\",\n",
    "                    markerfacecolor=tuple(col),\n",
    "                    markeredgecolor=\"k\",\n",
    "                    markersize=14,\n",
    "                    label=lab\n",
    "                )\n",
    "\n",
    "                xy = umap_X_ctrl[class_member_mask & ~core_samples_masks_umap_ctrl_lst[i + 5*j]]\n",
    "                ax[j][i].plot(\n",
    "                    xy[:, 0],\n",
    "                    xy[:, 1],\n",
    "                    \"o\",\n",
    "                    markerfacecolor=tuple(col),\n",
    "                    markeredgecolor=\"k\",\n",
    "                    markersize=6,\n",
    "                )\n",
    "\n",
    "            ax[j][i].set_xlabel('umap X', fontsize=40)\n",
    "            ax[j][i].set_ylabel('umap Y', fontsize=40)\n",
    "            ax[j][i].legend(fontsize=20)\n",
    "            ax[j][i].set_title(name + f\" umap ctrl Stars DBSCAN groups\\neps = \" + str(round(eps_arr_umap[i + 5*j], 2)) + ' min_samples = 10' + f\"\\nEstimated number of clusters: {n_clusters_umap_ctrl_lst[i + 5*j]}\", fontsize=50)\n",
    "\n",
    "    plt.tight_layout()\n",
    "    file_name = 'GCs_DBSCAN/' + name + '/db_umap_ctrl.png'\n",
    "    plt.savefig(file_name)\n",
    "    #plt.show()\n",
    "    \n",
    "    return labels_umap_ctrl_list"
   ]
  },
  {
   "cell_type": "code",
   "execution_count": null,
   "metadata": {},
   "outputs": [],
   "source": [
    "def db_all_umap_2(name, umap_X_all):\n",
    "    plt.close('all')\n",
    "    #eps_arr_umap = np.arange(0.1, 3., 0.2)\n",
    "    \n",
    "    db_umap_all = DBSCAN(eps=2, min_samples = 10).fit(umap_X_all)\n",
    "    labels_umap_all_2 = db_umap_all.labels_\n",
    "    n_clusters_umap_all_2 = len(set(db_umap_all.labels_)) - (1 if -1 in db_umap_all.labels_ else 0)\n",
    "\n",
    "    unique_labels_umap_all_2 = set(labels_umap_all_2)\n",
    "    core_samples_masks_umap_all_2 = np.zeros_like(labels_umap_all_2, dtype=bool)\n",
    "    core_samples_masks_umap_all_2[db_umap_all.core_sample_indices_] = True\n",
    "\n",
    "    colors_umap_all_2 = [plt.cm.Spectral(each) for each in np.linspace(0, 1, len(unique_labels_umap_all_2))]\n",
    "\n",
    "    fig, ax = plt.subplots(1, figsize=(80,50))\n",
    "\n",
    "    for k, col in zip(unique_labels_umap_all_2, colors_umap_all_2):\n",
    "        if k == -1:\n",
    "            # Black used for noise.\n",
    "            lab = 'Noise'\n",
    "            col = [0, 0, 0, 1]\n",
    "        else:\n",
    "            lab = 'Group ' + str(k)\n",
    "\n",
    "        class_member_mask = labels_umap_all_2 == k\n",
    "\n",
    "        xy = umap_X_all[class_member_mask & core_samples_masks_umap_all_2]\n",
    "        ax.plot(\n",
    "            xy[:, 0],\n",
    "            xy[:, 1],\n",
    "            \"o\",\n",
    "            markerfacecolor=tuple(col),\n",
    "            markeredgecolor=\"k\",\n",
    "            markersize=14,\n",
    "            label=lab\n",
    "        )\n",
    "\n",
    "        xy = umap_X_all[class_member_mask & ~core_samples_masks_umap_all_2]\n",
    "        ax.plot(\n",
    "            xy[:, 0],\n",
    "            xy[:, 1],\n",
    "            \"o\",\n",
    "            markerfacecolor=tuple(col),\n",
    "            markeredgecolor=\"k\",\n",
    "            markersize=6,\n",
    "        )\n",
    "\n",
    "    ax.set_xlabel('umap X', fontsize=40)\n",
    "    ax.set_ylabel('umap Y', fontsize=40)\n",
    "    ax.legend(fontsize=20)\n",
    "    ax.set_title(name + f'umap all Stars DBSCAN groups\\neps = 2, min_samples = 10' + f\"\\nEstimated number of clusters: {n_clusters_umap_all_2}\", fontsize=50)\n",
    "\n",
    "    plt.tight_layout()\n",
    "    file_name = 'GCs_DBSCAN_set_eps_norad/' + name + '/db_umap_all.png'\n",
    "    #plt.savefig(file_name)\n",
    "    #plt.show()\n",
    "    \n",
    "    return labels_umap_all_2"
   ]
  },
  {
   "cell_type": "markdown",
   "metadata": {},
   "source": [
    "#### all params"
   ]
  },
  {
   "cell_type": "code",
   "execution_count": null,
   "metadata": {},
   "outputs": [],
   "source": [
    "tsne_ctrl_db_labels = []\n",
    "tsne_all_db_labels = []\n",
    "umap_ctrl_db_labels = []\n",
    "umap_all_db_labels = []\n",
    "\n",
    "for n in tqdm(range(len(GC_name_arr))):\n",
    "    '''try: \n",
    "        os.makedirs('GCs_DBSCAN_set_eps/' + GC_name_arr[n])\n",
    "    except OSError as error:\n",
    "        print('Directory ' + GC_name_arr[n] + ' already exists')'''\n",
    "    \n",
    "    plot_ML(GC_name_arr[n], [tsne_control_X[n][0], tsne_control_Y[n][0], tsne_all_X[n], tsne_all_Y[n]], [umap_control_X[n][0], umap_control_Y[n][0], umap_all_X[n], umap_all_Y[n]])\n",
    "    \n",
    "    tsne_X_ctrl = np.c_[tsne_control_X[n][0], tsne_control_Y[n][0]]\n",
    "    tsne_X_all = np.c_[tsne_all_X[n], tsne_all_Y[n]]\n",
    "    umap_X_ctrl = np.c_[umap_control_X[n][0], umap_control_Y[n][0]]\n",
    "    umap_X_all = np.c_[umap_all_X[n], umap_all_Y[n]]\n",
    "    \n",
    "    \n",
    "    \n",
    "    tsne_ctrl_db_labels.append(db_ctrl_tsne_2(GC_name_arr[n], tsne_X_ctrl))\n",
    "    tsne_all_db_labels.append(db_all_tsne_2(GC_name_arr[n], tsne_X_all))\n",
    "    umap_ctrl_db_labels.append(db_ctrl_umap_2(GC_name_arr[n], umap_X_ctrl))\n",
    "    umap_all_db_labels.append(db_all_umap_2(GC_name_arr[n], umap_X_all))\n",
    "    \n",
    "    print('Done ' + GC_name_arr[n])\n",
    "    "
   ]
  },
  {
   "cell_type": "markdown",
   "metadata": {},
   "source": [
    "#### no kin"
   ]
  },
  {
   "cell_type": "code",
   "execution_count": null,
   "metadata": {},
   "outputs": [],
   "source": [
    "tsne_ctrl_db_labels_norad = []\n",
    "tsne_all_db_labels_norad = []\n",
    "umap_ctrl_db_labels_norad = []\n",
    "umap_all_db_labels_norad = []\n",
    "\n",
    "for n in tqdm(range(len(GC_name_arr_norad))):\n",
    "    '''try: \n",
    "        os.makedirs('GCs_DBSCAN_set_eps_norad/' + GC_name_arr_norad[n])\n",
    "    except OSError as error:\n",
    "        print('Directory ' + GC_name_arr_norad[n] + ' already exists')'''\n",
    "    \n",
    "    plot_ML(GC_name_arr_norad[n], [tsne_control_X_norad[n][0], tsne_control_Y_norad[n][0], tsne_all_X_norad[n], tsne_all_Y_norad[n]], [umap_control_X_norad[n][0], umap_control_Y_norad[n][0], umap_all_X_norad[n], umap_all_Y_norad[n]])\n",
    "    \n",
    "    tsne_X_ctrl_norad = np.c_[tsne_control_X_norad[n][0], tsne_control_Y_norad[n][0]]\n",
    "    tsne_X_all_norad = np.c_[tsne_all_X_norad[n], tsne_all_Y_norad[n]]\n",
    "    umap_X_ctrl_norad = np.c_[umap_control_X_norad[n][0], umap_control_Y_norad[n][0]]\n",
    "    umap_X_all_norad = np.c_[umap_all_X_norad[n], umap_all_Y_norad[n]]\n",
    "    \n",
    "    \n",
    "    \n",
    "    tsne_ctrl_db_labels_norad.append(db_ctrl_tsne_2(GC_name_arr_norad[n], tsne_X_ctrl_norad))\n",
    "    tsne_all_db_labels_norad.append(db_all_tsne_2(GC_name_arr_norad[n], tsne_X_all_norad))\n",
    "    umap_ctrl_db_labels_norad.append(db_ctrl_umap_2(GC_name_arr_norad[n], umap_X_ctrl_norad))\n",
    "    umap_all_db_labels_norad.append(db_all_umap_2(GC_name_arr_norad[n], umap_X_all_norad))\n",
    "    \n",
    "    print('Done ' + GC_name_arr_norad[n])\n",
    "    "
   ]
  },
  {
   "cell_type": "code",
   "execution_count": null,
   "metadata": {},
   "outputs": [],
   "source": []
  },
  {
   "cell_type": "code",
   "execution_count": null,
   "metadata": {},
   "outputs": [],
   "source": []
  },
  {
   "cell_type": "markdown",
   "metadata": {},
   "source": [
    "### matching groups for all GCs (setting tsne ctrl as 0 and tsne all at 1, setting umap ctrl at 1, umap all at 1)\n",
    "### this wont work for all, but hopefully works for most"
   ]
  },
  {
   "cell_type": "markdown",
   "metadata": {},
   "source": [
    "### Update: Josh came up with a new method\n",
    "\n",
    "### group swappping\n",
    "\n",
    "easiest way to test is to have control stars and check which stars are in which group, that group is the group to use. If there are multiple groups, pick the one with the most common control stars.\n",
    "\n",
    "\n",
    "\n",
    "\n",
    "Also save the control members and the assignment to DBSCAN groups after doing ^ so that we know the frequency of control members in each group. We can overcluster but we dont want to undercluster\n",
    "\n",
    "We can find control group frequency historgram and we want to make sure the extra tidal stars follow the same kind of distribution\n"
   ]
  },
  {
   "cell_type": "markdown",
   "metadata": {},
   "source": [
    "### this seems to be working, just need to implement after we figure out the more important stuff above"
   ]
  },
  {
   "cell_type": "markdown",
   "metadata": {},
   "source": [
    "#### all params"
   ]
  },
  {
   "cell_type": "code",
   "execution_count": null,
   "metadata": {},
   "outputs": [],
   "source": [
    "tsne_ctrl_db_labels[11]"
   ]
  },
  {
   "cell_type": "code",
   "execution_count": null,
   "metadata": {},
   "outputs": [],
   "source": [
    "'''tsne_ctrl_grouping = [[] for _ in range(len(GC_name_arr))]\n",
    "tsne_all_grouping = [[] for _ in range(len(GC_name_arr))]\n",
    "umap_ctrl_grouping = [[] for _ in range(len(GC_name_arr))]\n",
    "umap_all_grouping = [[] for _ in range(len(GC_name_arr))]'''\n",
    "\n",
    "tsne_ctrl_grouping = []\n",
    "tsne_all_grouping = []\n",
    "umap_ctrl_grouping = []\n",
    "umap_all_grouping = []\n",
    "\n",
    "#control_labels_tsne_ctrl = tsne_ctrl_db_labels[11][control_indices_rad[11]]\n",
    "control_labels_tsne_all = tsne_all_db_labels[2][control_indices_rad[11]]\n",
    "\n",
    "#for index, label in enumerate(tsne_ctrl_db_labels[11]): # tsne ctrl\n",
    "    \n",
    "\n",
    "'''for index, label in enumerate(tsne_all_db_labels[11]): # tsne all\n",
    "    tsne_all_grouping_norad[i].append(index)'''\n",
    "    \n",
    "\n",
    "'''for index, label in enumerate(umap_ctrl_db_labels[i]): # umap ctrl\n",
    "    control_labels = label[control_indices_rad]\n",
    "\n",
    "for index, label in enumerate(umap_all_db_labels[i]): # umap all\n",
    "    control_labels = label[control_indices_rad]'''"
   ]
  },
  {
   "cell_type": "code",
   "execution_count": null,
   "metadata": {},
   "outputs": [],
   "source": [
    "tsne_ctrl_db_labels[11]"
   ]
  },
  {
   "cell_type": "code",
   "execution_count": null,
   "metadata": {},
   "outputs": [],
   "source": [
    "labels, count = np.unique(tsne_ctrl_db_labels[17], return_counts=True)\n",
    "plt.bar(labels, count, align='center')"
   ]
  },
  {
   "cell_type": "code",
   "execution_count": null,
   "metadata": {},
   "outputs": [],
   "source": [
    "control_labels_tsne_all[0]"
   ]
  },
  {
   "cell_type": "code",
   "execution_count": null,
   "metadata": {
    "scrolled": true
   },
   "outputs": [],
   "source": [
    "control_labels_tsne_all = tsne_all_db_labels[17][control_indices_rad[10]]\n",
    "labels, count = np.unique(control_labels_tsne_all[0], return_counts=True)\n",
    "\n",
    "plt.bar(labels, count, align='center')"
   ]
  },
  {
   "cell_type": "code",
   "execution_count": null,
   "metadata": {},
   "outputs": [],
   "source": [
    "plt.plot(tsne_all_X[11], tsne_all_Y[11], 'ok', ms=1)\n",
    "plt.plot(tsne_control_X[11][0], tsne_control_Y[11][0], 'or', ms=5)"
   ]
  },
  {
   "cell_type": "code",
   "execution_count": null,
   "metadata": {},
   "outputs": [],
   "source": [
    "tsne_ctrl_grouping = [[] for _ in range(len(GC_name_arr))]\n",
    "tsne_all_grouping = [[] for _ in range(len(GC_name_arr))]\n",
    "umap_ctrl_grouping = [[] for _ in range(len(GC_name_arr))]\n",
    "umap_all_grouping = [[] for _ in range(len(GC_name_arr))]\n",
    "\n",
    "'''tsne_ctrl_grouping_M3 = []\n",
    "tsne_all_grouping_M3 = []\n",
    "umap_ctrl_grouping_M3 = []\n",
    "umap_all_grouping_M3 = []'''\n",
    "\n",
    "for i in tqdm(range(len(GC_name_arr))):\n",
    "    for index, label in enumerate(tsne_ctrl_db_labels[i]): # tsne ctrl\n",
    "        control_labels = label[control_indices_rad]\n",
    "\n",
    "    for index, label in enumerate(tsne_all_db_labels[i]): # tsne all\n",
    "        control_label = label[control_indices_rad]\n",
    "\n",
    "    for index, label in enumerate(umap_ctrl_db_labels[i]): # umap ctrl\n",
    "        control_labels = label[control_indices_rad]\n",
    "\n",
    "    for index, label in enumerate(umap_all_db_labels[i]): # umap all\n",
    "        control_labels = label[control_indices_rad]"
   ]
  },
  {
   "cell_type": "code",
   "execution_count": null,
   "metadata": {},
   "outputs": [],
   "source": [
    "tsne_same_stars_index = [[] for _ in range(len(GC_name_arr))]\n",
    "tsne_et_stars_index = [[] for _ in range(len(GC_name_arr))]\n",
    "\n",
    "for n in tqdm(range(len(GC_name_arr))):\n",
    "    for i in tsne_all_grouping[n]:\n",
    "        ctrl_X_coord = tsne_control_X[n][0][tsne_ctrl_grouping[n]]\n",
    "        ctrl_Y_coord = tsne_control_Y[n][0][tsne_ctrl_grouping[n]]\n",
    "        all_X_coord = tsne_all_X[n][i]\n",
    "        all_Y_coord = tsne_all_Y[n][i]\n",
    "\n",
    "        if all_X_coord in ctrl_X_coord and all_Y_coord in ctrl_Y_coord:\n",
    "            tsne_same_stars_index[n].append(i)\n",
    "        else:\n",
    "            tsne_et_stars_index[n].append(i)"
   ]
  },
  {
   "cell_type": "code",
   "execution_count": null,
   "metadata": {},
   "outputs": [],
   "source": [
    "umap_same_stars_index = [[] for _ in range(len(GC_name_arr))]\n",
    "umap_et_stars_index = [[] for _ in range(len(GC_name_arr))]\n",
    "\n",
    "for n in tqdm(range(len(GC_name_arr))):\n",
    "    for i in umap_all_grouping[n]:\n",
    "        ctrl_X_coord = umap_control_X[n][0][umap_ctrl_grouping[n]]\n",
    "        ctrl_Y_coord = umap_control_Y[n][0][umap_ctrl_grouping[n]]\n",
    "        all_X_coord = umap_all_X[n][i]\n",
    "        all_Y_coord = umap_all_Y[n][i]\n",
    "\n",
    "        if all_X_coord in ctrl_X_coord and all_Y_coord in ctrl_Y_coord:\n",
    "            umap_same_stars_index[n].append(i)\n",
    "        else:\n",
    "            umap_et_stars_index[n].append(i)"
   ]
  },
  {
   "cell_type": "code",
   "execution_count": null,
   "metadata": {},
   "outputs": [],
   "source": [
    "for n in range(len(GC_name_arr)):\n",
    "    fig = plt.subplots(1, figsize=(10,10))\n",
    "    plt.plot(tsne_all_X[n], tsne_all_Y[n], 'ok', ms=1, label='All stars')\n",
    "    plt.plot(tsne_control_X[n][0], tsne_control_Y[n][0], 'or', ms=3, label='Control stars')\n",
    "    plt.plot(tsne_all_X[n][tsne_et_stars_index[n]], tsne_all_Y[n][tsne_et_stars_index[n]], 'ob', ms=5, label='ET stars')\n",
    "    #plt.plot(tsne_all_X[11][tsne_same_stars_index], tsne_all_Y[11][tsne_same_stars_index], 'og', ms=5)\n",
    "    plt.title('tsne', fontsize=20)\n",
    "    plt.legend(fontsize=20)\n",
    "    plt.savefig('GCs_DBSCAN_set_eps/' + GC_name_arr[n] + '/FINALSTARSTEST_tsne.png')\n",
    "    plt.close('all')\n",
    "    print(len(tsne_et_stars_index[n]))"
   ]
  },
  {
   "cell_type": "code",
   "execution_count": null,
   "metadata": {},
   "outputs": [],
   "source": [
    "for n in range(len(GC_name_arr)):\n",
    "    fig = plt.subplots(1, figsize=(10,10))\n",
    "    plt.plot(umap_all_X[n], umap_all_Y[n], 'ok', ms=1, label='All stars')\n",
    "    plt.plot(umap_control_X[n][0], umap_control_Y[n][0], 'or', ms=3, label='Control stars')\n",
    "    plt.plot(umap_all_X[n][umap_et_stars_index[n]], umap_all_Y[n][umap_et_stars_index[n]], 'ob', ms=5, label='ET stars')\n",
    "    #plt.plot(umap_all_X[11][umap_same_stars_index], umap_all_Y[11][umap_same_stars_index], 'og', ms=5)\n",
    "    plt.title('umap', fontsize=20)\n",
    "    plt.legend(fontsize=20)\n",
    "    plt.savefig('GCs_DBSCAN_set_eps/' + GC_name_arr[n] + '/FINALSTARSTEST_umap.png')\n",
    "    plt.close('all')\n",
    "    print(len(umap_et_stars_index[n]))"
   ]
  },
  {
   "cell_type": "code",
   "execution_count": null,
   "metadata": {},
   "outputs": [],
   "source": [
    "final_et_rad = [[] for _ in range(len(GC_name_arr))]\n",
    "\n",
    "for n in range(len(GC_name_arr)):\n",
    "    for i in tsne_et_stars_index[n]:\n",
    "        if i in umap_et_stars_index[n]:\n",
    "            final_et_rad[n].append(i)"
   ]
  },
  {
   "cell_type": "markdown",
   "metadata": {},
   "source": [
    "#### no pm rv"
   ]
  },
  {
   "cell_type": "code",
   "execution_count": null,
   "metadata": {},
   "outputs": [],
   "source": [
    "'''tsne_ctrl_grouping = [[] for _ in range(len(GC_name_arr))]\n",
    "tsne_all_grouping = [[] for _ in range(len(GC_name_arr))]\n",
    "umap_ctrl_grouping = [[] for _ in range(len(GC_name_arr))]\n",
    "umap_all_grouping = [[] for _ in range(len(GC_name_arr))]'''\n",
    "\n",
    "tsne_ctrl_grouping_norad = [[] for _ in range(len(GC_name_arr_norad))]\n",
    "tsne_all_grouping_norad = [[] for _ in range(len(GC_name_arr_norad))]\n",
    "umap_ctrl_grouping_norad = [[] for _ in range(len(GC_name_arr_norad))]\n",
    "umap_all_grouping_norad = [[] for _ in range(len(GC_name_arr_norad))]\n",
    "\n",
    "for i in range(len(GC_name_arr_norad)):\n",
    "    for index, label in enumerate(tsne_ctrl_db_labels_norad[i]):\n",
    "        if label == 0:\n",
    "            tsne_ctrl_grouping_norad[i].append(index)\n",
    "\n",
    "    for index, label in enumerate(tsne_all_db_labels_norad[i]):\n",
    "        if label == 1:\n",
    "            tsne_all_grouping_norad[i].append(index)\n",
    "\n",
    "    for index, label in enumerate(umap_ctrl_db_labels_norad[i]):\n",
    "        if label == 1:\n",
    "            umap_ctrl_grouping_norad[i].append(index)\n",
    "\n",
    "    for index, label in enumerate(umap_all_db_labels_norad[i]):\n",
    "        if label == 1:\n",
    "            umap_all_grouping_norad[i].append(index)"
   ]
  },
  {
   "cell_type": "code",
   "execution_count": null,
   "metadata": {},
   "outputs": [],
   "source": [
    "tsne_same_stars_index_norad = [[] for _ in range(len(GC_name_arr))]\n",
    "tsne_et_stars_index_norad = [[] for _ in range(len(GC_name_arr))]\n",
    "\n",
    "for n in tqdm(range(len(GC_name_arr))):\n",
    "    for i in tsne_all_grouping_norad[n]:\n",
    "        ctrl_X_coord_norad = tsne_control_X_norad[n][0][tsne_ctrl_grouping_norad[n]]\n",
    "        ctrl_Y_coord_norad = tsne_control_Y_norad[n][0][tsne_ctrl_grouping_norad[n]]\n",
    "        all_X_coord_norad = tsne_all_X_norad[n][i]\n",
    "        all_Y_coord_norad = tsne_all_Y_norad[n][i]\n",
    "\n",
    "        if all_X_coord_norad in ctrl_X_coord_norad and all_Y_coord_norad in ctrl_Y_coord_norad:\n",
    "            tsne_same_stars_index_norad[n].append(i)\n",
    "        else:\n",
    "            tsne_et_stars_index_norad[n].append(i)"
   ]
  },
  {
   "cell_type": "code",
   "execution_count": null,
   "metadata": {},
   "outputs": [],
   "source": [
    "umap_same_stars_index_norad = [[] for _ in range(len(GC_name_arr))]\n",
    "umap_et_stars_index_norad = [[] for _ in range(len(GC_name_arr))]\n",
    "\n",
    "for n in tqdm(range(len(GC_name_arr))):\n",
    "    for i in umap_all_grouping_norad[n]:\n",
    "        ctrl_X_coord_norad = umap_control_X_norad[n][0][umap_ctrl_grouping_norad[n]]\n",
    "        ctrl_Y_coord_norad = umap_control_Y_norad[n][0][umap_ctrl_grouping_norad[n]]\n",
    "        all_X_coord_norad = umap_all_X_norad[n][i]\n",
    "        all_Y_coord_norad = umap_all_Y_norad[n][i]\n",
    "\n",
    "        if all_X_coord_norad in ctrl_X_coord_norad and all_Y_coord_norad in ctrl_Y_coord_norad:\n",
    "            umap_same_stars_index_norad[n].append(i)\n",
    "        else:\n",
    "            umap_et_stars_index_norad[n].append(i)"
   ]
  },
  {
   "cell_type": "code",
   "execution_count": null,
   "metadata": {},
   "outputs": [],
   "source": [
    "for n in range(len(GC_name_arr)):\n",
    "    fig = plt.subplots(1, figsize=(10,10))\n",
    "    plt.plot(tsne_all_X_norad[n], tsne_all_Y_norad[n], 'ok', ms=1, label='All stars')\n",
    "    plt.plot(tsne_control_X_norad[n][0], tsne_control_Y_norad[n][0], 'or', ms=3, label='Control stars')\n",
    "    plt.plot(tsne_all_X_norad[n][tsne_et_stars_index_norad[n]], tsne_all_Y_norad[n][tsne_et_stars_index_norad[n]], 'ob', ms=5, label='ET stars')\n",
    "    #plt.plot(tsne_all_X[11][tsne_same_stars_index], tsne_all_Y[11][tsne_same_stars_index], 'og', ms=5)\n",
    "    plt.title('tsne', fontsize=20)\n",
    "    plt.legend(fontsize=20)\n",
    "    plt.savefig('GCs_DBSCAN_set_eps_norad/' + GC_name_arr[n] + '/FINALSTARSTEST_tsne.png')\n",
    "    plt.close('all')\n",
    "    print(len(tsne_et_stars_index_norad[n]))"
   ]
  },
  {
   "cell_type": "code",
   "execution_count": null,
   "metadata": {},
   "outputs": [],
   "source": [
    "for n in range(len(GC_name_arr)):\n",
    "    fig = plt.subplots(1, figsize=(10,10))\n",
    "    plt.plot(umap_all_X_norad[n], umap_all_Y_norad[n], 'ok', ms=1, label='All stars')\n",
    "    plt.plot(umap_control_X_norad[n][0], umap_control_Y_norad[n][0], 'or', ms=3, label='Control stars')\n",
    "    plt.plot(umap_all_X_norad[n][umap_et_stars_index_norad[n]], umap_all_Y_norad[n][umap_et_stars_index_norad[n]], 'ob', ms=5, label='ET stars')\n",
    "    #plt.plot(umap_all_X[11][umap_same_stars_index], umap_all_Y[11][umap_same_stars_index], 'og', ms=5)\n",
    "    plt.title('umap', fontsize=20)\n",
    "    plt.legend(fontsize=20)\n",
    "    plt.savefig('GCs_DBSCAN_set_eps_norad/' + GC_name_arr[n] + '/FINALSTARSTEST_umap.png')\n",
    "    plt.close('all')\n",
    "    print(len(umap_et_stars_index_norad[n]))"
   ]
  },
  {
   "cell_type": "code",
   "execution_count": null,
   "metadata": {},
   "outputs": [],
   "source": [
    "final_et_norad = [[] for _ in range(len(GC_name_arr))]\n",
    "\n",
    "for n in range(len(GC_name_arr)):\n",
    "    for i in tsne_et_stars_index_norad[n]:\n",
    "        if i in umap_et_stars_index_norad[n]:\n",
    "            final_et_norad[n].append(i)"
   ]
  },
  {
   "cell_type": "markdown",
   "metadata": {},
   "source": [
    "### final between all params and no pm rv"
   ]
  },
  {
   "cell_type": "code",
   "execution_count": null,
   "metadata": {},
   "outputs": [],
   "source": [
    "final_et = [[] for _ in range(len(GC_name_arr))]\n",
    "\n",
    "for n in range(len(GC_name_arr)):\n",
    "    for i in final_et_norad[n]:\n",
    "        if i in final_et_rad[n]:\n",
    "            final_et[n].append(i)\n",
    "\n",
    "    print(len(final_et[n]))"
   ]
  },
  {
   "cell_type": "code",
   "execution_count": null,
   "metadata": {},
   "outputs": [],
   "source": [
    "def plot_shit(n):\n",
    "    #plt.close('all')\n",
    "    M3_ra = GC_db['RA'][n]\n",
    "    M3_dec = GC_db['DEC'][n]\n",
    "    M3_rt = GC_db['rt'][n]\n",
    "    M3_d_Sun = GC_db['R_Sun'][n] * 1e3\n",
    "    M3_rt_deg = math.degrees(math.atan(M3_rt / M3_d_Sun))\n",
    "    M3_fov = 5\n",
    "\n",
    "    M3_stars = []\n",
    "    for count, i in enumerate(apogee_nofilt['RA'].values):\n",
    "        if i >= M3_ra - M3_fov and i <= M3_ra + M3_fov and apogee_nofilt['DEC'].values[count] >= M3_dec - M3_fov and apogee_nofilt['DEC'].values[count] <= M3_dec + M3_fov:\n",
    "            M3_stars.append(apogee_nofilt.loc[count])\n",
    "\n",
    "    print(len(M3_stars), 'stars in a 10x10 fov of the GC')\n",
    "\n",
    "    '''if len(M3_stars) != 0:\n",
    "        # create a folder with name of GC only if there are stars in the field\n",
    "        try: \n",
    "            os.makedirs('GCs_nice/' + name)\n",
    "        except OSError as error:\n",
    "            print('Directory ' + name+ ' already exists')'''\n",
    "\n",
    "    M3_ra_arr = np.empty(len(M3_stars), dtype=float)\n",
    "    M3_dec_arr = np.empty(len(M3_stars), dtype=float)\n",
    "    for count, i in enumerate(M3_stars):\n",
    "        M3_ra_arr[count] = i['RA']\n",
    "        M3_dec_arr[count] = i['DEC']     \n",
    "        \n",
    "    #M3_rhm_circ = plt.Circle((M3_ra, M3_dec), M3_rhm_deg, color='r', fill=False, label='rhm')\n",
    "    #M3_rhm_rt_circ = plt.Circle((M3_ra, M3_dec), (rhm_deg + rt_deg)/2, color='g', fill=False, label='1/2 rhm, rt')\n",
    "    M3_rt_circ = plt.Circle((M3_ra, M3_dec), M3_rt_deg, color='b', fill=False, label='rt')\n",
    "    \n",
    "    try: \n",
    "        os.makedirs('GCs_test/' + GC_name_arr[n])\n",
    "    except OSError as error:\n",
    "        print('Directory ' + GC_name_arr[n] + ' already exists')\n",
    "    \n",
    "    #plt.figure(figsize=(10,10))\n",
    "    fig, ax = plt.subplots(1, figsize=(10,10))\n",
    "    ax.plot(M3_ra_arr, M3_dec_arr, 'ok', linestyle='none', markersize=1, label='Stars')\n",
    "    ax.plot(M3_ra, M3_dec, color='cyan', marker='x', linestyle='none', markersize=5, label='GC centre')\n",
    "    ax.plot(M3_ra_arr[final_et[n]], M3_dec_arr[final_et[n]], color='fuchsia', linestyle='none', marker='*', ms=5, label='ET Candidates')\n",
    "    #ax.add_patch(rhm_circ)\n",
    "    #ax.add_patch(rhm_rt_circ)\n",
    "    ax.add_patch(M3_rt_circ)\n",
    "    ax.set_xlabel('RA')\n",
    "    ax.set_ylabel('DEC')\n",
    "    ax.set_title('Final stars for' + GC_name_arr[n], fontsize=20)\n",
    "    ax.set_xlim(M3_ra - M3_fov - 1, M3_ra + M3_fov + 1)\n",
    "    ax.set_ylim(M3_dec - M3_fov - 1, M3_dec + M3_fov + 1)\n",
    "    ax.legend(loc='best')\n",
    "    plt.show()\n",
    "    \n",
    "    fig, ax = plt.subplots(2, 2, figsize=(20,20))\n",
    "    \n",
    "    # all tsne\n",
    "    ax[0][0].plot(tsne_all_X[n], tsne_all_Y[n], 'ok', ms=1, label='All stars')\n",
    "    ax[0][0].plot(tsne_control_X[n][0], tsne_control_Y[n][0], 'or', ms=3, label='Control stars')\n",
    "    ax[0][0].plot(tsne_all_X[n][tsne_et_stars_index[n]], tsne_all_Y[n][tsne_et_stars_index[n]], 'ob', ms=5, label='ET stars', alpha=0.3)\n",
    "    ax[0][0].set_title('tsne all params', fontsize=20)\n",
    "    ax[0][0].legend(fontsize=20)\n",
    "    \n",
    "    # all umap\n",
    "    ax[0][1].plot(umap_all_X[n], umap_all_Y[n], 'ok', ms=1, label='All stars')\n",
    "    ax[0][1].plot(umap_control_X[n][0], umap_control_Y[n][0], 'or', ms=3, label='Control stars')\n",
    "    ax[0][1].plot(umap_all_X[n][umap_et_stars_index[n]], umap_all_Y[n][umap_et_stars_index[n]], 'ob', ms=5, label='ET stars', alpha=0.3)\n",
    "    ax[0][1].set_title('umap all params', fontsize=20)\n",
    "    ax[0][1].legend(fontsize=20)\n",
    "    \n",
    "    # no pm, rv tsne\n",
    "    ax[1][0].plot(tsne_all_X_norad[n], tsne_all_Y_norad[n], 'ok', ms=1, label='All stars')\n",
    "    ax[1][0].plot(tsne_control_X_norad[n][0], tsne_control_Y_norad[n][0], 'or', ms=3, label='Control stars')\n",
    "    ax[1][0].plot(tsne_all_X_norad[n][tsne_et_stars_index_norad[n]], tsne_all_Y_norad[n][tsne_et_stars_index_norad[n]], 'ob', ms=5, label='ET stars', alpha=0.3)\n",
    "    ax[1][0].set_title('tsne no pm, rv', fontsize=20)\n",
    "    ax[1][0].legend(fontsize=20)\n",
    "    \n",
    "    # no pm, rv umap\n",
    "    ax[1][1].plot(umap_all_X_norad[n], umap_all_Y_norad[n], 'ok', ms=1, label='All stars')\n",
    "    ax[1][1].plot(umap_control_X_norad[n][0], umap_control_Y_norad[n][0], 'or', ms=3, label='Control stars')\n",
    "    ax[1][1].plot(umap_all_X_norad[n][umap_et_stars_index_norad[n]], umap_all_Y_norad[n][umap_et_stars_index_norad[n]], 'ob', ms=5, label='ET stars', alpha=0.3)\n",
    "    ax[1][1].set_title('umap no pm, rv', fontsize=20)\n",
    "    ax[1][1].legend(fontsize=20)\n",
    "    \n",
    "    plt.tight_layout()\n",
    "    plt.show() \n"
   ]
  },
  {
   "cell_type": "code",
   "execution_count": null,
   "metadata": {
    "scrolled": true
   },
   "outputs": [],
   "source": [
    "for n in tqdm(range(len(GC_name_arr))):\n",
    "    plot_shit(n)"
   ]
  },
  {
   "cell_type": "markdown",
   "metadata": {},
   "source": []
  },
  {
   "cell_type": "markdown",
   "metadata": {},
   "source": []
  },
  {
   "cell_type": "code",
   "execution_count": null,
   "metadata": {},
   "outputs": [],
   "source": []
  }
 ],
 "metadata": {
  "kernelspec": {
   "display_name": "Python 3",
   "language": "python",
   "name": "python3"
  },
  "language_info": {
   "codemirror_mode": {
    "name": "ipython",
    "version": 3
   },
   "file_extension": ".py",
   "mimetype": "text/x-python",
   "name": "python",
   "nbconvert_exporter": "python",
   "pygments_lexer": "ipython3",
   "version": "3.8.5"
  }
 },
 "nbformat": 4,
 "nbformat_minor": 4
}
