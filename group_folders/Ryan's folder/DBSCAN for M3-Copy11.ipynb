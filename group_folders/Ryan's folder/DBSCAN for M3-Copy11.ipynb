{
 "cells": [
  {
   "cell_type": "markdown",
   "metadata": {},
   "source": [
    "## How to use the t-SNE algorithm on APOGEE globular cluster data. \n",
    "##### Steffani Grondin (September 23, 2022)"
   ]
  },
  {
   "cell_type": "code",
   "execution_count": null,
   "metadata": {
    "scrolled": true
   },
   "outputs": [],
   "source": [
    "%pip install sklearn\n",
    "%pip install shapely"
   ]
  },
  {
   "cell_type": "code",
   "execution_count": null,
   "metadata": {
    "scrolled": true
   },
   "outputs": [],
   "source": [
    "%pip install shapely"
   ]
  },
  {
   "cell_type": "code",
   "execution_count": null,
   "metadata": {},
   "outputs": [],
   "source": [
    "%pip install tqdm"
   ]
  },
  {
   "cell_type": "markdown",
   "metadata": {},
   "source": [
    "## Notes for this program"
   ]
  },
  {
   "cell_type": "markdown",
   "metadata": {},
   "source": [
    "My parameter list is different from Steffani's. My param list is shown below:\\\\\\\\\n",
    "param_list = ['# APOGEE_ID_', 'GAIAEDR3_SOURCE_ID', 'GAIAEDR3_PARALLAX', 'GAIAEDR3_PARALLAX_ERROR', 'RA', 'DEC', 'GAIAEDR3_PMRA', 'GAIAEDR3_PMRA_ERROR', 'GAIAEDR3_PMDEC', 'GAIAEDR3_PMDEC_ERROR', 'GAIAEDR3_DR2_RADIAL_VELOCITY', 'GAIAEDR3_DR2_RADIAL_VELOCITY_ERROR', 'SNR', 'FE_H', 'FE_H_ERR', 'C_FE', 'C_FE_ERR', 'CI_FE', 'CI_FE_ERR', 'N_FE', 'N_FE_ERR', 'O_FE', 'O_FE_ERR', 'MG_FE', 'MG_FE_ERR', 'AL_FE', 'AL_FE_ERR', 'SI_FE', 'SI_FE_ERR', 'P_FE', 'P_FE_ERR', 'S_FE', 'S_FE_ERR', 'K_FE', 'K_FE_ERR', 'CA_FE', 'CA_FE_ERR', 'TI_FE', 'TI_FE_ERR', 'TIII_FE', 'TIII_FE_ERR', 'V_FE', 'V_FE_ERR', 'CR_FE', 'CR_FE_ERR', 'MN_FE', 'MN_FE_ERR', 'CO_FE', 'CO_FE_ERR', 'NI_FE', 'NI_FE_ERR']\\\\\\\\\n",
    "\n",
    "So basically the RA index is 4, DEC index is 5, RV index is 10, and the first chemical abundance is at 13. The chemical abundances follow Steffani's form (e.g. abundance1, abundance1_error, abundance2, abundance2_error, etc.). What I did was make the standardizing step for both tSNE and UMAP take in the index of the first chemical abundance and from there it automatically adds 2 for each chem abundance going up.\\\\\\\\\n",
    "\n",
    "Basically if you use my param_list it'll work. The param_list variable is just a list of strings of the index titles, I have a function somewhere that grabs the data for those indices.\\\\\\\\\n",
    "\n",
    "For each GC, we just need the ra, dec, rhm_deg (rhm depends on dist I think).\\\\\n",
    "There are global parameters for all GCs as well, so the parameter list, fov, and chemical abundance starting index.\\\\\\\\\n",
    "\n",
    "LMK if shit dont work and there's probably something I forgot to explain."
   ]
  },
  {
   "cell_type": "markdown",
   "metadata": {},
   "source": [
    "#### STEP 0: Import the necessary packages/algorithms."
   ]
  },
  {
   "cell_type": "code",
   "execution_count": 1,
   "metadata": {
    "tags": [
     "hide-input"
    ]
   },
   "outputs": [],
   "source": [
    "# General analysis/plotting packages:\n",
    "import matplotlib.pyplot as plt\n",
    "import numpy as np\n",
    "import math\n",
    "import warnings\n",
    "warnings.simplefilter(action='ignore', category=FutureWarning)\n",
    "import pandas as pd\n",
    "import matplotlib.pyplot as plt\n",
    "from matplotlib.ticker import FormatStrFormatter\n",
    "from matplotlib import rc\n",
    "plt.rcParams['mathtext.fontset'] = 'stix'\n",
    "plt.rcParams['font.family'] = 'STIXGeneral'\n",
    "from collections import Counter\n",
    "\n",
    "# Specific t-SNE/visualization packages:\n",
    "from sklearn.manifold import TSNE\n",
    "from shapely.geometry import Point, Polygon\n",
    "\n",
    "# UMAP shit\n",
    "# Import UMAP\n",
    "import umap.umap_ as umap\n",
    "\n",
    "# Try using SKLEARN's StandardScaler to standardize the data\n",
    "from sklearn.preprocessing import StandardScaler\n",
    "\n",
    "# I/O\n",
    "import sys\n",
    "\n",
    "# OS\n",
    "import os\n",
    "\n",
    "# dbscan\n",
    "from sklearn.cluster import DBSCAN\n",
    "\n",
    "# tqdm\n",
    "from tqdm.notebook import tqdm\n",
    "\n",
    "# KDTree\n",
    "from scipy.spatial import cKDTree\n",
    "\n",
    "# mode\n",
    "from scipy import stats as st"
   ]
  },
  {
   "cell_type": "markdown",
   "metadata": {},
   "source": [
    "### Step 1: Load in the clusters"
   ]
  },
  {
   "cell_type": "markdown",
   "metadata": {},
   "source": [
    "#### Load in selected star cluster\n",
    "Input RA and DEC and the program will load in all the stars within a $10^o$ by $10^o$ FOV."
   ]
  },
  {
   "cell_type": "code",
   "execution_count": 2,
   "metadata": {},
   "outputs": [],
   "source": [
    "'''Read in APOGEE CSV file'''\n",
    "\n",
    "apogee_filt = pd.read_csv('data/APOGEEDR17_GAIAEDR3_filter.csv', delimiter=',')\n",
    "apogee_nofilt = pd.read_csv('data/APOGEEDR17_GAIAEDR3_noflagfilter.csv', delimiter=',')\n",
    "GC_db = pd.read_csv('data/nice_GCs.csv', delimiter=',')"
   ]
  },
  {
   "cell_type": "code",
   "execution_count": 3,
   "metadata": {
    "tags": [
     "hide-input"
    ]
   },
   "outputs": [],
   "source": [
    "### Finding stars within a set FOV of the GC centre\n",
    "def find_cluster_stars(ra, dec, fov, df, name, rhm_deg, rt_deg):\n",
    "    \n",
    "    stars = []\n",
    "    for count, i in enumerate(df['RA'].values):\n",
    "        if i >= ra - fov and i <= ra + fov and df['DEC'].values[count] >= dec - fov and df['DEC'].values[count] <= dec + fov:\n",
    "            stars.append(df.loc[count])\n",
    "            \n",
    "    print(len(stars), 'stars in a 10x10 fov of the GC')\n",
    "    \n",
    "    if len(stars) != 0:\n",
    "        # create a folder with name of GC only if there are stars in the field\n",
    "        try: \n",
    "            os.makedirs('GCs_nice_norad/' + name)\n",
    "        except OSError as error:\n",
    "            print('Directory ' + name+ ' already exists')\n",
    "\n",
    "    ra_arr = np.empty(len(stars), dtype=float)\n",
    "    dec_arr = np.empty(len(stars), dtype=float)\n",
    "    for count, i in enumerate(stars):\n",
    "        ra_arr[count] = i['RA']\n",
    "        dec_arr[count] = i['DEC']\n",
    "    \n",
    "    rhm_circ = plt.Circle((ra, dec), rhm_deg, color='r', fill=False, label='rhm')\n",
    "    rhm_rt_circ = plt.Circle((ra, dec), (rhm_deg + rt_deg)/2, color='g', fill=False, label='1/2 rhm, rt')\n",
    "    rt_circ = plt.Circle((ra, dec), rt_deg, color='b', fill=False, label='rt')\n",
    "    \n",
    "    #plt.figure(figsize=(10,10))\n",
    "    fig, ax = plt.subplots(1, figsize=(20,20))\n",
    "    '''fig = plt.gcf()\n",
    "    ax = plt.gca()'''\n",
    "    plt.plot(ra_arr, dec_arr, 'ok', linestyle='none', markersize=1, label='Stars')\n",
    "    plt.plot(ra, dec, 'or', linestyle='none', markersize=5, label='GC centre')\n",
    "    ax.add_patch(rhm_circ)\n",
    "    ax.add_patch(rhm_rt_circ)\n",
    "    ax.add_patch(rt_circ)\n",
    "    plt.xlabel('RA')\n",
    "    plt.ylabel('DEC')\n",
    "    plt.title(name)\n",
    "    plt.xlim(ra - fov - 1, ra + fov + 1)\n",
    "    plt.ylim(dec - fov - 1, dec + fov + 1)\n",
    "    '''try:\n",
    "        plt.savefig('GCs_nice_norad/'+name+'/radec.png')\n",
    "    except:\n",
    "        print('No stars yo')'''\n",
    "    #plt.show()\n",
    "    ax.legend(loc='best')\n",
    "    plt.close('all')\n",
    "    return stars\n",
    "            "
   ]
  },
  {
   "cell_type": "markdown",
   "metadata": {},
   "source": [
    "#### Separating list of stars into lists by parameter"
   ]
  },
  {
   "cell_type": "code",
   "execution_count": 4,
   "metadata": {},
   "outputs": [],
   "source": [
    "def split_star_list(stars, parameters):\n",
    "    param_dict = {}\n",
    "    for i in parameters:\n",
    "        if str(i) == '# APOGEE_ID_':\n",
    "            param_dict[str(i)] = np.empty(len(stars), dtype=object)\n",
    "        else:\n",
    "            param_dict[str(i)] = np.empty(len(stars))\n",
    "    for count,i in enumerate(stars):\n",
    "        for j in parameters:\n",
    "            param_dict[str(j)][count] = i[str(j)]\n",
    "            \n",
    "    return param_dict\n",
    "        "
   ]
  },
  {
   "cell_type": "markdown",
   "metadata": {},
   "source": [
    "#### Separating the dictionary values into a columns list"
   ]
  },
  {
   "cell_type": "code",
   "execution_count": 5,
   "metadata": {},
   "outputs": [],
   "source": [
    "def split_cols(GC_param, parameters):\n",
    "    cols = []\n",
    "    for i in range(len(GC_param)):\n",
    "        cols.append(GC_param[str(parameters[i])])\n",
    "    \n",
    "    return cols"
   ]
  },
  {
   "cell_type": "markdown",
   "metadata": {},
   "source": [
    "#### Master GC load function"
   ]
  },
  {
   "cell_type": "code",
   "execution_count": 6,
   "metadata": {},
   "outputs": [],
   "source": [
    "def master_load(ra, dec, fov, dataset, params, name, rhm_deg, rt_deg):\n",
    "    stars_found = find_cluster_stars(ra, dec, fov, dataset, name, rhm_deg, rt_deg)\n",
    "    GC_dict = split_star_list(stars_found, params)\n",
    "    GC_cols = split_cols(GC_dict, param_list)\n",
    "    \n",
    "    return [GC_dict, GC_cols]\n",
    "    "
   ]
  },
  {
   "cell_type": "markdown",
   "metadata": {},
   "source": [
    "### Step 2: Filter the data"
   ]
  },
  {
   "cell_type": "markdown",
   "metadata": {},
   "source": [
    "#### Filter 1 for data: Removing all stars without PM"
   ]
  },
  {
   "cell_type": "code",
   "execution_count": 7,
   "metadata": {},
   "outputs": [],
   "source": [
    "def pm_filter(GC_dict, GC_cols):\n",
    "    ### Filter 1: Remove stars that do not have proper motion values. ###\n",
    "    pm_filter_nan = np.isnan(GC_dict['GAIAEDR3_PMRA'])\n",
    "    pm_filter = np.where(pm_filter_nan==False)\n",
    "    data_pmfilter = []\n",
    "    for i in GC_cols:\n",
    "        x = np.array(i)[pm_filter]\n",
    "        data_pmfilter.append(x)\n",
    "    #print(\"There are {} stars in our sample after the proper motion filtering.\".format(len(data_pmfilter[0])))\n",
    "    \n",
    "    return data_pmfilter"
   ]
  },
  {
   "cell_type": "markdown",
   "metadata": {},
   "source": [
    "#### Filter 2 for data: Removing all stars that do not have chemical abundances"
   ]
  },
  {
   "cell_type": "code",
   "execution_count": 8,
   "metadata": {},
   "outputs": [],
   "source": [
    "def chem_filter(data_pmfilter, init_abundance_index):\n",
    "    ### Filter 2: Remove stars that do not have data for all 19 abundances. ###\n",
    "    abundance_filter = np.where((data_pmfilter[init_abundance_index] > -9999) & (data_pmfilter[init_abundance_index + 2] > -9999) & (data_pmfilter[init_abundance_index + 4]  > -9999)\n",
    "                                & (data_pmfilter[init_abundance_index + 6]  > -9999) & (data_pmfilter[ init_abundance_index + 8]  > -9999) & (data_pmfilter[init_abundance_index + 10]  > -9999)\n",
    "                                & (data_pmfilter[init_abundance_index + 12]  > -9999) & (data_pmfilter[init_abundance_index + 14]  > -9999) & (data_pmfilter[init_abundance_index + 16]  > -9999)\n",
    "                                & (data_pmfilter[init_abundance_index + 18]  > -9999) & (data_pmfilter[init_abundance_index + 20]  > -9999) & (data_pmfilter[init_abundance_index + 22]  > -9999)\n",
    "                                & (data_pmfilter[init_abundance_index + 24]  > -9999) & (data_pmfilter[init_abundance_index + 26]  > -9999) & (data_pmfilter[init_abundance_index + 28]  > -9999)\n",
    "                                & (data_pmfilter[init_abundance_index + 30]  > -9999) & (data_pmfilter[init_abundance_index + 32]  > -9999) & (data_pmfilter[init_abundance_index + 34]  > -9999)\n",
    "                                & (data_pmfilter[init_abundance_index + 36]  > -9999))\n",
    "\n",
    "    data_abundancefilter = []\n",
    "    for i in data_pmfilter:\n",
    "        y = np.array(i)[abundance_filter]\n",
    "        data_abundancefilter.append(y)\n",
    "    #print(\"There are {} stars in our sample after the abundance filtering.\".format(len(data_abundancefilter[0])))\n",
    "    \n",
    "    return data_abundancefilter"
   ]
  },
  {
   "cell_type": "markdown",
   "metadata": {},
   "source": [
    "#### Filter 3 for data: Removing all duplicate spectra"
   ]
  },
  {
   "cell_type": "code",
   "execution_count": 9,
   "metadata": {},
   "outputs": [],
   "source": [
    "# changed all indices of 0 to 4 (RA) and 23 to 12 (SNR)\n",
    "def dup_filter(data_abundancefilter):\n",
    "    d =  Counter(data_abundancefilter[4])\n",
    "    #print(d)\n",
    "    duplicates = [k for k, v in d.items() if v > 1]\n",
    "    a_list = np.array(range(0, len(duplicates)))\n",
    "    max_SNR_array = []\n",
    "\n",
    "    for i in a_list:\n",
    "        indices = np.where(data_abundancefilter[4] == duplicates[i])\n",
    "        snr_val = data_abundancefilter[12][indices]\n",
    "        maximum = max(snr_val)\n",
    "        # 4 is RA, 12 is SNR\n",
    "        index_maximum = np.where((data_abundancefilter[4] == duplicates[i]) & (data_abundancefilter[12] == maximum))\n",
    "        #print(index_maximum[4])\n",
    "        index_maximum = int(index_maximum[4])\n",
    "        max_SNR_array.append(index_maximum)\n",
    "\n",
    "    idx_sort = np.argsort(data_abundancefilter[4])\n",
    "    sorted_ra_array = data_abundancefilter[4][idx_sort]\n",
    "    vals, idx_start, count = np.unique(sorted_ra_array, return_counts=True, return_index=True)\n",
    "    res = np.split(idx_sort, idx_start[1:])\n",
    "    vals = vals[count == 1]\n",
    "    listtest =  np.array(range(0, len(vals)))\n",
    "\n",
    "    unique_array = []\n",
    "    for i in listtest:\n",
    "        unique_val = np.where(vals[i] == data_abundancefilter[4])\n",
    "        unique_val = int(unique_val[0])\n",
    "        unique_array.append(unique_val)\n",
    "\n",
    "    #print(\"There are {} stars that do not have duplicate spectra.\".format(len(unique_array)))\n",
    "    #print(\"There are {} stars that have multiple spectra, in which we select highest SNR.\".format(len(max_SNR_array)))\n",
    "    \n",
    "    if len(max_SNR_array) != 0:\n",
    "        duplicates_filter = np.concatenate((unique_array, max_SNR_array))\n",
    "        sortedarray = np.sort(duplicates_filter)\n",
    "\n",
    "        data_duplicatesfilter = []\n",
    "        for i in data_abundancefilter:\n",
    "            z = np.array(i)[duplicates_filter]\n",
    "            data_duplicatesfilter.append(z)\n",
    "\n",
    "        #print(\"There are {} stars in our sample after removing sources with duplicate spectra.\".format(len(data_duplicatesfilter[0])))\n",
    "    \n",
    "    else:\n",
    "        #print('There were no duplicate spectra.')\n",
    "        data_duplicatesfilter = data_abundancefilter\n",
    "    \n",
    "    return data_duplicatesfilter"
   ]
  },
  {
   "cell_type": "markdown",
   "metadata": {},
   "source": [
    "#### Filter 4 for data: Removing all low SNR"
   ]
  },
  {
   "cell_type": "code",
   "execution_count": 10,
   "metadata": {},
   "outputs": [],
   "source": [
    "def SNR_filter(data_duplicatesfilter):\n",
    "    SNR_filter = np.where(data_duplicatesfilter[12] > 50)\n",
    "    data_snrfilter = []\n",
    "    for i in data_duplicatesfilter:\n",
    "        a = np.array(i)[SNR_filter]\n",
    "        data_snrfilter.append(a)\n",
    "\n",
    "    #print(\"There are {} stars in our sample after removing sources with low SNR.\".format(len(data_snrfilter[0])))\n",
    "\n",
    "    #print(data_snrfilter[12])\n",
    "    return data_snrfilter"
   ]
  },
  {
   "cell_type": "markdown",
   "metadata": {},
   "source": [
    "#### Master filter function"
   ]
  },
  {
   "cell_type": "code",
   "execution_count": 11,
   "metadata": {},
   "outputs": [],
   "source": [
    "def master_filter(GC_dict, GC_cols):\n",
    "    M3_pm_filter = pm_filter(GC_dict, GC_cols)\n",
    "    M3_abundance_filter = chem_filter(M3_pm_filter, 13)\n",
    "    M3_duplicates_filter = dup_filter(M3_abundance_filter)\n",
    "    M3_SNR_filter = SNR_filter(M3_duplicates_filter)\n",
    "    \n",
    "    print('\\nThe final amount of stars in our sample is:', len(M3_SNR_filter[0]))\n",
    "    return M3_SNR_filter"
   ]
  },
  {
   "cell_type": "markdown",
   "metadata": {},
   "source": [
    "#### STEP 3: Define parameters for your GC of interest. \n",
    "\n",
    "These parameters are taken from the Baumgardt & Hilker (2018) catalogue: https://people.smp.uq.edu.au/HolgerBaumgardt/globular/."
   ]
  },
  {
   "cell_type": "markdown",
   "metadata": {},
   "source": [
    "#### STEP 4: Define a control group of cluster members.\n",
    "\n",
    "We must define a control group of likely cluster members of M3 so we can see where these stars end up in the t-SNE projection. "
   ]
  },
  {
   "cell_type": "markdown",
   "metadata": {},
   "source": [
    "# update Mar 21: new run with only rhm"
   ]
  },
  {
   "cell_type": "code",
   "execution_count": 12,
   "metadata": {},
   "outputs": [],
   "source": [
    "def control_group(data_filter, ra, dec, rhm_deg, rt_deg):\n",
    "# Select all the stars within some radius of the cluster:\n",
    "    def in_circle(center_x, center_y, radius, x, y):\n",
    "        square_dist = (center_x - x) ** 2 + (center_y - y) ** 2\n",
    "        return square_dist <= (radius) ** 2\n",
    "\n",
    "    print('rhm: {:.2f}\\trt: {:.2f}'.format(rhm_deg, rt_deg))\n",
    "    \n",
    "    ra_filtered = data_filter[4]\n",
    "    dec_filtered = data_filter[5]\n",
    "\n",
    "    control_size = min((rhm_deg + rt_deg) / 2, rt_deg)\n",
    "    \n",
    "    # Select stars within halfway between r,hm and rt (useful for large enough sample of probable cluster members):\n",
    "    in_halfmass = in_circle(ra, dec, control_size, ra_filtered, dec_filtered)  \n",
    "    indices_control = np.where(in_halfmass==True)\n",
    "    \n",
    "    # check for stars within rt\n",
    "    in_rt = in_circle(ra, dec, rt_deg, ra_filtered, dec_filtered)\n",
    "    indices_control_rt = np.where(in_rt == True)\n",
    "    \n",
    "    #frac = np.sort(np.linspace(rhm_deg, rt_deg, 5)) / rhm_deg\n",
    "    #print(frac)\n",
    "    \n",
    "    controlgroup = []\n",
    "    for i in data_filter:\n",
    "        b = np.array(i)[indices_control]\n",
    "        controlgroup.append(b)\n",
    "\n",
    "\n",
    "    # Example control group parameters: \n",
    "    ra_control = controlgroup[0]\n",
    "    dec_control = controlgroup[1]\n",
    "\n",
    "    print(\"There are {} stars within half-dist of rhm and rt\".format(len(ra_control)) + ' and {} stars within the rt'.format(len(indices_control_rt[0])))\n",
    "    \n",
    "    #print('There are', [len(i[0]) for i in indices_control_scale], 'stars in our GC control group for a scale factor of', ['%.2f' %i for i in frac], '*rhm. Using 8*rhm gives', len(indices_control[0]))\n",
    "    \n",
    "    # no control stars within rt\n",
    "    if len(indices_control[0]) == 0 and len(indices_control_rt[0]) == 0:\n",
    "        print('No control stars within half of rhm, rt and 1 rt')\n",
    "        return [None]\n",
    "    \n",
    "    elif len(indices_control[0]) == 0 and len(indices_control_rt[0]) != 0:\n",
    "        print('No control stars within half of rhm, rt but yes control stars within rt')\n",
    "        return [None]\n",
    "    \n",
    "    else:\n",
    "        return [indices_control]"
   ]
  },
  {
   "cell_type": "markdown",
   "metadata": {},
   "source": [
    "#### STEP 5: Run t-SNE on the control group and full filtered sample of APOGEE DR17 stars.\n",
    "\n",
    "First, we standardize the data to ensure that no elements dominate or skew the t-SNE run. We want to include 19 chemical abundances and radial velocities in our run.\n"
   ]
  },
  {
   "cell_type": "code",
   "execution_count": 13,
   "metadata": {},
   "outputs": [],
   "source": [
    "def standardize_data(data_filter, param_dict):\n",
    "    '''\n",
    "    Takes in a dictionary of parameters with the parameter name as the key and the index in the APOGEE file as the key value.\n",
    "    '''\n",
    "    \n",
    "    pretsne_array = []\n",
    "    params_arr = []\n",
    "    \n",
    "    for key in param_dict:\n",
    "        pretsne_array.append(data_filter[param_dict[key]])\n",
    "        params_arr.append(key)\n",
    "    \n",
    "    pretsne_array = np.array(pretsne_array)\n",
    "    \n",
    "    standardized = []\n",
    "    \n",
    "    for i in pretsne_array:\n",
    "        #print(i)\n",
    "        mean, sigma = np.nanmean(i), np.nanstd(i)\n",
    "        #print(mean)\n",
    "        norm = (i - mean) / sigma\n",
    "        standardized.append(norm)\n",
    "        \n",
    "    #print('The chosen parameters for the ML algorithms were:', params_arr)\n",
    "    return standardized"
   ]
  },
  {
   "cell_type": "markdown",
   "metadata": {},
   "source": [
    "#### tSNE function"
   ]
  },
  {
   "cell_type": "code",
   "execution_count": 14,
   "metadata": {},
   "outputs": [],
   "source": [
    "def master_tSNE(data_filter, param_dict, indices_control, name, num_total_stars):\n",
    "    standardized_array = standardize_data(data_filter, param_dict)\n",
    "    \n",
    "    # Transpose the standardized + filtered array:\n",
    "    standardized_array_transpose = np.transpose(standardized_array)\n",
    "    \n",
    "    #print(len(standardized_array_transpose))\n",
    "    \n",
    "    '''perp = np.arange(0, 101, 10)\n",
    "    perp[0] = 1\n",
    "    \n",
    "    tsne_dimX_perp = []\n",
    "    tsne_dimY_perp = []\n",
    "    tsne_dimX_control_perp = []\n",
    "    tsne_dimY_control_perp = []\n",
    "    \n",
    "    for i in perp:\n",
    "        if i > num_total_stars:\n",
    "            print('Perplexity exceeds total stars')\n",
    "            tsne_dimX_perp.append(None)\n",
    "            tsne_dimY_perp.append(None)\n",
    "            tsne_dimX_control_perp.append(None)\n",
    "            tsne_dimY_control_perp.append(None)\n",
    "        \n",
    "        else:\n",
    "            tsne_init_perp = TSNE(n_components=2, perplexity=i)\n",
    "            tsne_2d_perp = tsne_init_perp.fit_transform(standardized_array_transpose)\n",
    "\n",
    "            tsne_dimX_perp.append(tsne_2d_perp[:, 0])\n",
    "            tsne_dimY_perp.append(tsne_2d_perp[:, 1])\n",
    "\n",
    "            #print(len(tsne_dimX_perp[-1]))\n",
    "\n",
    "            tsne_dimX_control_perp.append(tsne_dimX_perp[-1][indices_control])\n",
    "            tsne_dimY_control_perp.append(tsne_dimY_perp[-1][indices_control])\n",
    "\n",
    "            fig, ax = plt.subplots(figsize=(8,6))\n",
    "            ax.scatter(tsne_dimX_perp[-1], tsne_dimY_perp[-1], s=1, c='gray', label='APOGEE DR17 stars')\n",
    "            ax.scatter(tsne_dimX_control_perp[-1] , tsne_dimY_control_perp[-1], s=45, edgecolor='k', c='hotpink', label='Control Group')\n",
    "            ax.set_xlabel(\"t-SNE X-Dimension\", fontsize=16)\n",
    "            ax.set_ylabel(\"t-SNE Y-Dimension\", fontsize=16)\n",
    "            ax.set_title(name + ', perp: ' + str(i))\n",
    "            ax.tick_params(axis='both', which='major', labelsize=16)\n",
    "            ax.tick_params(axis='both', which='minor', labelsize=16)\n",
    "            ax.legend(fontsize=16, loc=1)\n",
    "            plt.savefig('GCs/'+name+'/tsne'+str(i)+'.png')\n",
    "            #plt.show()\n",
    "    plt.close('all')'''\n",
    "    # Run t-SNE on the transposed array:\n",
    "    tsne_init = TSNE(n_components=2, perplexity=50)\n",
    "    tsne_2d = tsne_init.fit_transform(standardized_array_transpose)\n",
    "\n",
    "    # Get t-SNE outputs for complete filtered dataset:\n",
    "    tsne_dimX = tsne_2d[:, 0]\n",
    "    tsne_dimY = tsne_2d[:, 1]\n",
    "\n",
    "    # Get t-SNE outputs for control group:\n",
    "    tsne_dimX_control = tsne_dimX[indices_control]\n",
    "    tsne_dimY_control = tsne_dimY[indices_control]\n",
    "    \n",
    "    fig, ax = plt.subplots(figsize=(8,6))\n",
    "    ax.scatter(tsne_dimX, tsne_dimY, s=1, c='gray', label='APOGEE DR17 stars')\n",
    "    ax.scatter(tsne_dimX_control , tsne_dimY_control, s=40, edgecolor='k', c='hotpink', label='Control Group')\n",
    "    ax.set_xlabel(\"t-SNE X-Dimension\", fontsize=16)\n",
    "    ax.set_ylabel(\"t-SNE Y-Dimension\", fontsize=16)\n",
    "    ax.set_title(name)\n",
    "    ax.tick_params(axis='both', which='major', labelsize=16)\n",
    "    ax.tick_params(axis='both', which='minor', labelsize=16)\n",
    "    ax.legend(fontsize=16, loc=1)\n",
    "    plt.savefig('GCs_nice_norad/'+name+'/tsne.png')\n",
    "    #plt.show()\n",
    "    plt.close('all')\n",
    "    \n",
    "    #print('Total: ', len(t_SNE_dimX), 'Control: ', len(tsne_dimX_control[0]))\n",
    "    \n",
    "    return [tsne_dimX, tsne_dimY, tsne_dimX_control, tsne_dimY_control]"
   ]
  },
  {
   "cell_type": "markdown",
   "metadata": {},
   "source": [
    "#### UMAP function"
   ]
  },
  {
   "cell_type": "code",
   "execution_count": 15,
   "metadata": {},
   "outputs": [],
   "source": [
    "def master_UMAP(data_filter, param_dict, indices_control, name, num_total_stars):\n",
    "    standardize = standardize_data(data_filter, param_dict)\n",
    "    #print(len(standardize))\n",
    "    \n",
    "    # Transpose the standardized + filtered array:\n",
    "    standardized_array_transpose = np.transpose(standardize)\n",
    "    \n",
    "    '''neigh = np.arange(0, 101, 10)\n",
    "    neigh[0] = 2\n",
    "    \n",
    "    umap_dimX_neigh = []\n",
    "    umap_dimY_neigh = []\n",
    "    umap_dimX_control_neigh = []\n",
    "    umap_dimY_control_neigh = []\n",
    "    \n",
    "    for i in neigh:\n",
    "        if i > num_total_stars:\n",
    "            print('n_neighbors exceeds total stars')\n",
    "            umap_dimX_neigh.append(None)\n",
    "            umap_dimY_neigh.append(None)\n",
    "            umap_dimX_control_neigh.append(None)\n",
    "            umap_dimY_control_neigh.append(None)\n",
    "        \n",
    "        else:            \n",
    "            reducer_neigh = umap.UMAP(n_neighbors=i)\n",
    "            embedding_neigh = reducer_neigh.fit_transform(standardized_array_transpose)\n",
    "\n",
    "            umap_dimX_neigh.append(embedding_neigh[:, 0])\n",
    "            umap_dimY_neigh.append(embedding_neigh[:, 1])\n",
    "\n",
    "            umap_dimX_control_neigh.append(umap_dimX_neigh[-1][indices_control])\n",
    "            umap_dimY_control_neigh.append(umap_dimY_neigh[-1][indices_control])\n",
    "\n",
    "            fig, ax = plt.subplots(figsize=(8,6))\n",
    "            ax.scatter(umap_dimX_neigh[-1], umap_dimY_neigh[-1], s=1, c='gray', label='APOGEE DR17 stars')\n",
    "            ax.scatter(umap_dimX_control_neigh[-1], umap_dimY_control_neigh[-1], s=45, edgecolor='k', c='hotpink', label='Control Group')\n",
    "            ax.set_xlabel(\"UMAP X-Dimension\", fontsize=16)\n",
    "            ax.set_ylabel(\"UMAP Y-Dimension\", fontsize=16)\n",
    "            ax.set_title(name + ', n_neigh: ' + str(i))\n",
    "            ax.tick_params(axis='both', which='major', labelsize=16)\n",
    "            ax.tick_params(axis='both', which='minor', labelsize=16)\n",
    "            ax.legend(fontsize=16)\n",
    "            plt.savefig('GCs/'+name+'/umap'+str(i)+'.png')\n",
    "            #plt.show()\n",
    "            #print('Total:',len(umap_dimX),'control:',len(umap_dimX_control[0]))\n",
    "    plt.close('all')'''\n",
    "    \n",
    "    # Run umap on the transposed array:\n",
    "    reducer = umap.UMAP(n_neighbors=50)\n",
    "    embedding = reducer.fit_transform(standardized_array_transpose)\n",
    "\n",
    "    # Get umap outputs for complete filtered dataset:\n",
    "    umap_dimX = embedding[:, 0]\n",
    "    umap_dimY = embedding[:, 1]\n",
    "\n",
    "    # Get umap outputs for control group:\n",
    "    umap_dimX_control = umap_dimX[indices_control]\n",
    "    umap_dimY_control = umap_dimY[indices_control]\n",
    "\n",
    "    fig, ax = plt.subplots(figsize=(8,6))\n",
    "    ax.scatter(umap_dimX, umap_dimY, s=1, c='gray', label='APOGEE DR17 stars')\n",
    "    ax.scatter(umap_dimX_control , umap_dimY_control, s=40, edgecolor='k', c='hotpink', label='Control Group')\n",
    "    ax.set_xlabel(\"UMAP X-Dimension\", fontsize=16)\n",
    "    ax.set_ylabel(\"UMAP Y-Dimension\", fontsize=16)\n",
    "    ax.set_title(name)\n",
    "    ax.tick_params(axis='both', which='major', labelsize=16)\n",
    "    ax.tick_params(axis='both', which='minor', labelsize=16)\n",
    "    ax.legend(fontsize=16)\n",
    "    plt.savefig('GCs_nice_norad/'+name+'/umap.png')\n",
    "    plt.close('all')\n",
    "    #plt.show()\n",
    "    #print('Total:',len(umap_dimX),'control:',len(umap_dimX_control[0]))\n",
    "    \n",
    "    return [umap_dimX, umap_dimY, umap_dimX_control, umap_dimY_control]"
   ]
  },
  {
   "cell_type": "markdown",
   "metadata": {},
   "source": [
    "#### Choosing which parameters to use for tSNE and UMAP"
   ]
  },
  {
   "cell_type": "code",
   "execution_count": 16,
   "metadata": {},
   "outputs": [],
   "source": [
    "def ask_input_param(param):\n",
    "    inp = input('Do you want to keep ' + param + ' as a parameter? [y/n]')\n",
    "    if inp.lower() == 'y':\n",
    "        return True\n",
    "    elif inp.lower() == 'n':\n",
    "        return False\n",
    "    else:\n",
    "        print('Not a valid input, trying again')\n",
    "        return ask_input_param(param)\n",
    "        "
   ]
  },
  {
   "cell_type": "code",
   "execution_count": 17,
   "metadata": {},
   "outputs": [],
   "source": [
    "def choose_params(master_param_dict):\n",
    "    parameter_dict = {}\n",
    "\n",
    "    for i in master_param_dict:\n",
    "        if ask_input_param(i):\n",
    "            parameter_dict[i] = master_param_dict[i]\n",
    "            \n",
    "    return parameter_dict"
   ]
  },
  {
   "cell_type": "markdown",
   "metadata": {},
   "source": [
    "#### Taking in datasheet and name and automatically getting the parameters"
   ]
  },
  {
   "cell_type": "code",
   "execution_count": 18,
   "metadata": {},
   "outputs": [],
   "source": [
    "def GC_params(GC_name, db):\n",
    "    GC = db.loc[db['Cluster'] == GC_name].iloc[0]\n",
    "    name = GC['Cluster']\n",
    "    ra = GC['RA']\n",
    "    dec = GC['DEC']\n",
    "    mass = GC['Mass']\n",
    "    rhm = GC['rhm'] # will steff fix this, nobody knows # edit she did\n",
    "    rt = GC['rt']\n",
    "    rho_c = GC['rho_c']\n",
    "    sig0 = GC['sig0']\n",
    "    vesc = GC['vesc']\n",
    "    c = GC['c']\n",
    "    d_Sun = GC['R_Sun'] * 1e3\n",
    "    rhm_deg = math.degrees(math.atan(rhm / d_Sun))\n",
    "    rt_deg = math.degrees(math.atan(rt / d_Sun))\n",
    "    \n",
    "    return ra, dec, rhm_deg, rt_deg"
   ]
  },
  {
   "cell_type": "code",
   "execution_count": 19,
   "metadata": {},
   "outputs": [],
   "source": [
    "def input_GC_name(db):\n",
    "    GC_name = input(\"Please enter the GC name according to Steff's catalogue:\")\n",
    "    if db.loc[db['Cluster'] == GC_name].empty:\n",
    "        print('Not a valid name, double check and try again')\n",
    "        return input_GC_name(db)\n",
    "    else:\n",
    "        return GC_name"
   ]
  },
  {
   "cell_type": "markdown",
   "metadata": {},
   "source": [
    "### Master function (automatic version)"
   ]
  },
  {
   "cell_type": "code",
   "execution_count": 20,
   "metadata": {},
   "outputs": [],
   "source": [
    "def master_func_auto(GC_name, master_param_dict, fov, db, dataset, params, ML):\n",
    "    print('\\nProcessing:', GC_name)\n",
    "    ML_values = {0, 1, 2}    \n",
    "    if ML not in ML_values:\n",
    "        raise ValueError('ML index not one of %r.' % ML_values)\n",
    "    \n",
    "    # getting GC parameteters\n",
    "    ra, dec, rhm_deg, rt_deg = GC_params(GC_name, db)\n",
    "    \n",
    "    # loading\n",
    "    GC_dict, GC_cols = master_load(ra, dec, fov, dataset, params, GC_name, rhm_deg, rt_deg)\n",
    "    \n",
    "    # filtering\n",
    "    GC_filter_data = master_filter(GC_dict, GC_cols)\n",
    "    \n",
    "    if GC_filter_data[0].size == 0:\n",
    "        print(\"This shit don't got no stars bruh\\n\")\n",
    "        return [None, None, None, None, None, None, None, None]\n",
    "    \n",
    "    else:\n",
    "        # control grouping\n",
    "        GC_indices_control = control_group(GC_filter_data, ra, dec, rhm_deg, rt_deg)\n",
    "        \n",
    "        # no control stars\n",
    "        #print(GC_indices_control)\n",
    "        if GC_indices_control[0] is None:\n",
    "            print(\"This shit got no control stars\\n\")\n",
    "            return [None, None, None, None, None, None, None, None]\n",
    "        \n",
    "        else:\n",
    "            # choosing parameters\n",
    "            param_dict = master_param_dict\n",
    "\n",
    "            if ML == 0:\n",
    "                # tSNEing\n",
    "                tSNE_X, tSNE_Y, tSNE_control_X, tSNE_control_Y = master_tSNE(GC_filter_data, param_dict, GC_indices_control, GC_name, GC_filter_data[0].size)\n",
    "\n",
    "                # UMAPing\n",
    "                UMAP_X, UMAP_Y, UMAP_control_X, UMAP_control_Y = master_UMAP(GC_filter_data, param_dict, GC_indices_control, GC_name, GC_filter_data[0].size)\n",
    "\n",
    "                print('Done!\\n')\n",
    "                return [tSNE_X, tSNE_Y, tSNE_control_X, tSNE_control_Y, UMAP_X, UMAP_Y, UMAP_control_X, UMAP_control_Y, GC_indices_control]\n",
    "\n",
    "            elif ML == 1:\n",
    "                # tSNEing\n",
    "                tSNE_X, tSNE_Y, tSNE_control_X, tSNE_control_Y = master_tSNE(GC_filter_data, param_dict, GC_indices_control, GC_filter_data[0].size)\n",
    "\n",
    "                print('Done!\\n')\n",
    "                return [tSNE_X, tSNE_Y, tSNE_control_X, tSNE_control_Y, None, None, None, None]\n",
    "\n",
    "            elif ML == 2:\n",
    "                # UMAPing\n",
    "                UMAP_X, UMAP_Y, UMAP_control_X, UMAP_control_Y = master_UMAP(GC_filter_data, param_dict, GC_indices_control, GC_filter_data[0].size)\n",
    "\n",
    "                print('Done!\\n')\n",
    "                return [None, None, None, None, UMAP_X, UMAP_Y, UMAP_control_X, UMAP_control_Y]"
   ]
  },
  {
   "cell_type": "markdown",
   "metadata": {},
   "source": [
    "#### Global GC params"
   ]
  },
  {
   "cell_type": "code",
   "execution_count": 21,
   "metadata": {},
   "outputs": [],
   "source": [
    "param_list = ['# APOGEE_ID_', 'GAIAEDR3_SOURCE_ID', 'GAIAEDR3_PARALLAX', 'GAIAEDR3_PARALLAX_ERROR',\n",
    "              'RA', 'DEC', 'GAIAEDR3_PMRA', 'GAIAEDR3_PMRA_ERROR', 'GAIAEDR3_PMDEC', 'GAIAEDR3_PMDEC_ERROR', \n",
    "              'VHELIO_AVG', 'VERR', 'SNR',\n",
    "              'FE_H', 'FE_H_ERR', 'C_FE', 'C_FE_ERR', 'CI_FE', 'CI_FE_ERR', 'N_FE', 'N_FE_ERR',\n",
    "              'O_FE', 'O_FE_ERR', 'MG_FE', 'MG_FE_ERR', 'AL_FE', 'AL_FE_ERR', 'SI_FE', 'SI_FE_ERR',\n",
    "              'P_FE', 'P_FE_ERR', 'S_FE', 'S_FE_ERR', 'K_FE', 'K_FE_ERR', 'CA_FE', 'CA_FE_ERR',\n",
    "              'TI_FE', 'TI_FE_ERR', 'TIII_FE', 'TIII_FE_ERR', 'V_FE', 'V_FE_ERR', 'CR_FE', 'CR_FE_ERR',\n",
    "              'MN_FE', 'MN_FE_ERR', 'CO_FE', 'CO_FE_ERR', 'NI_FE', 'NI_FE_ERR']\n",
    "\n",
    "abundance_index = 13 # index where the first chemical abundance starts\n",
    "RV_index = 10 # where the radial velocity index is (NOTE: USE VHELIO_AVG NOT THE STUPID GAIA ONE)\n",
    "PMRA_index = 6 # PMRA index\n",
    "PMDEC_index = 8 # PMDEC index\n",
    "\n",
    "# dictionary of all relevant parameters we could ever want for tSNE and UMAP\n",
    "# the abundances should skip every other one due to it being [chem1, chem1_err, chem2, chem2_err, etc.]\n",
    "all_param_dict = {'FE_H': abundance_index,\n",
    "                 'C_FE': abundance_index + 2,\n",
    "                 'CI_FE': abundance_index + 4,\n",
    "                 'N_FE': abundance_index + 6,\n",
    "                 'O_FE': abundance_index + 8,\n",
    "                 'MG_FE': abundance_index + 10,\n",
    "                 'AL_FE': abundance_index + 12,\n",
    "                 'SI_FE': abundance_index + 14,\n",
    "                 'P_FE': abundance_index + 16,\n",
    "                 'S_FE': abundance_index + 18,\n",
    "                 'K_FE': abundance_index + 20,\n",
    "                 'CA_FE': abundance_index + 22,\n",
    "                 'TI_FE': abundance_index + 24,\n",
    "                 'TIII_FE': abundance_index + 26,\n",
    "                 'V_FE': abundance_index + 28,\n",
    "                 'CR_FE': abundance_index + 30,\n",
    "                 'MN_FE': abundance_index + 32,\n",
    "                 'CO_FE': abundance_index + 34,\n",
    "                 'NI_FE': abundance_index + 36,\n",
    "                 'RV': RV_index,\n",
    "                 'PMRA': PMRA_index,\n",
    "                 'PMDEC': PMDEC_index}\n",
    "\n",
    "\n",
    "fov = 5 # field of view (note: for x by x, use fov = x/2)\n",
    "ML_index = 0 # 0 for both tSNE and UMAP, 1 for only tSNE, 2 for only UMAP, any other value will raise an error"
   ]
  },
  {
   "cell_type": "markdown",
   "metadata": {},
   "source": [
    "#### Reading in from the GC database"
   ]
  },
  {
   "cell_type": "code",
   "execution_count": 22,
   "metadata": {},
   "outputs": [],
   "source": [
    "GC_name_list = GC_db.loc[:, 'Cluster']\n",
    "GC_stars_dict = {}"
   ]
  },
  {
   "cell_type": "code",
   "execution_count": 23,
   "metadata": {},
   "outputs": [],
   "source": [
    "GC_ra_list = GC_db.loc[:, 'RA']\n",
    "GC_dec_list = GC_db.loc[:, 'DEC']"
   ]
  },
  {
   "cell_type": "code",
   "execution_count": 24,
   "metadata": {},
   "outputs": [],
   "source": [
    "import time"
   ]
  },
  {
   "cell_type": "markdown",
   "metadata": {},
   "source": [
    "## fix radius halfway between rhm and rt and run again. Fix max as rt. keep perp and neighs at 40 or 50. "
   ]
  },
  {
   "cell_type": "code",
   "execution_count": 25,
   "metadata": {},
   "outputs": [
    {
     "data": {
      "application/vnd.jupyter.widget-view+json": {
       "model_id": "ada9bcb2f10149329a6d53e094350825",
       "version_major": 2,
       "version_minor": 0
      },
      "text/plain": [
       "HBox(children=(HTML(value=''), FloatProgress(value=0.0, max=31.0), HTML(value='')))"
      ]
     },
     "metadata": {},
     "output_type": "display_data"
    },
    {
     "name": "stdout",
     "output_type": "stream",
     "text": [
      "\n",
      "Processing: NGC_104\n",
      "467 stars in a 10x10 fov of the GC\n",
      "Directory NGC_104 already exists\n",
      "\n",
      "The final amount of stars in our sample is: 467\n",
      "rhm: 0.08\trt: 1.61\n",
      "There are 137 stars within half-dist of rhm and rt and 185 stars within the rt\n",
      "Done!\n",
      "\n",
      "\n",
      "Processing: NGC_288\n",
      "293 stars in a 10x10 fov of the GC\n",
      "Directory NGC_288 already exists\n",
      "\n",
      "The final amount of stars in our sample is: 287\n",
      "rhm: 0.05\trt: 0.60\n",
      "There are 49 stars within half-dist of rhm and rt and 84 stars within the rt\n",
      "Done!\n",
      "\n",
      "\n",
      "Processing: NGC_362\n",
      "1218 stars in a 10x10 fov of the GC\n",
      "Directory NGC_362 already exists\n",
      "\n",
      "The final amount of stars in our sample is: 1215\n",
      "rhm: 0.02\trt: 0.60\n",
      "There are 38 stars within half-dist of rhm and rt and 61 stars within the rt\n",
      "Done!\n",
      "\n",
      "\n",
      "Processing: NGC_1851\n",
      "311 stars in a 10x10 fov of the GC\n",
      "Directory NGC_1851 already exists\n",
      "\n",
      "The final amount of stars in our sample is: 307\n",
      "rhm: 0.01\trt: 0.61\n",
      "There are 44 stars within half-dist of rhm and rt and 116 stars within the rt\n",
      "Done!\n",
      "\n",
      "\n",
      "Processing: NGC_1904\n",
      "248 stars in a 10x10 fov of the GC\n",
      "Directory NGC_1904 already exists\n",
      "\n",
      "The final amount of stars in our sample is: 246\n",
      "rhm: 0.01\trt: 0.29\n",
      "There are 35 stars within half-dist of rhm and rt and 60 stars within the rt\n",
      "Done!\n",
      "\n",
      "\n",
      "Processing: NGC_2808\n",
      "566 stars in a 10x10 fov of the GC\n",
      "Directory NGC_2808 already exists\n",
      "\n",
      "The final amount of stars in our sample is: 565\n",
      "rhm: 0.02\trt: 0.94\n",
      "There are 132 stars within half-dist of rhm and rt and 249 stars within the rt\n",
      "Done!\n",
      "\n",
      "\n",
      "Processing: NGC_3201\n",
      "1065 stars in a 10x10 fov of the GC\n",
      "Directory NGC_3201 already exists\n",
      "\n",
      "The final amount of stars in our sample is: 1064\n",
      "rhm: 0.08\trt: 0.94\n",
      "There are 271 stars within half-dist of rhm and rt and 372 stars within the rt\n",
      "Done!\n",
      "\n",
      "\n",
      "Processing: NGC_4590\n",
      "310 stars in a 10x10 fov of the GC\n",
      "Directory NGC_4590 already exists\n",
      "\n",
      "The final amount of stars in our sample is: 307\n",
      "rhm: 0.04\trt: 0.43\n",
      "There are 45 stars within half-dist of rhm and rt and 69 stars within the rt\n",
      "Done!\n",
      "\n",
      "\n",
      "Processing: NGC_5024\n",
      "592 stars in a 10x10 fov of the GC\n",
      "Directory NGC_5024 already exists\n",
      "\n",
      "The final amount of stars in our sample is: 587\n",
      "rhm: 0.03\trt: 0.55\n",
      "There are 44 stars within half-dist of rhm and rt and 69 stars within the rt\n",
      "Done!\n",
      "\n",
      "\n",
      "Processing: NGC_5053\n",
      "634 stars in a 10x10 fov of the GC\n",
      "Directory NGC_5053 already exists\n",
      "\n",
      "The final amount of stars in our sample is: 628\n",
      "rhm: 0.06\trt: 0.32\n",
      "There are 13 stars within half-dist of rhm and rt and 21 stars within the rt\n",
      "Done!\n",
      "\n",
      "\n",
      "Processing: NGC_5272\n",
      "1906 stars in a 10x10 fov of the GC\n",
      "Directory NGC_5272 already exists\n",
      "\n",
      "The final amount of stars in our sample is: 1891\n",
      "rhm: 0.04\trt: 0.72\n",
      "There are 136 stars within half-dist of rhm and rt and 184 stars within the rt\n",
      "Done!\n",
      "\n",
      "\n",
      "Processing: NGC_5466\n",
      "914 stars in a 10x10 fov of the GC\n",
      "Directory NGC_5466 already exists\n",
      "\n",
      "The final amount of stars in our sample is: 904\n",
      "rhm: 0.05\trt: 0.28\n",
      "There are 12 stars within half-dist of rhm and rt and 23 stars within the rt\n",
      "Done!\n",
      "\n",
      "\n",
      "Processing: NGC_5904\n",
      "927 stars in a 10x10 fov of the GC\n",
      "Directory NGC_5904 already exists\n",
      "\n",
      "The final amount of stars in our sample is: 927\n",
      "rhm: 0.04\trt: 0.63\n",
      "There are 126 stars within half-dist of rhm and rt and 174 stars within the rt\n",
      "Done!\n",
      "\n",
      "\n",
      "Processing: NGC_6121\n",
      "3307 stars in a 10x10 fov of the GC\n",
      "Directory NGC_6121 already exists\n",
      "\n",
      "The final amount of stars in our sample is: 3292\n",
      "rhm: 0.11\trt: 1.65\n",
      "There are 357 stars within half-dist of rhm and rt and 557 stars within the rt\n",
      "Done!\n",
      "\n",
      "\n",
      "Processing: NGC_6171\n",
      "733 stars in a 10x10 fov of the GC\n",
      "Directory NGC_6171 already exists\n",
      "\n",
      "The final amount of stars in our sample is: 733\n",
      "rhm: 0.04\trt: 0.37\n",
      "There are 46 stars within half-dist of rhm and rt and 98 stars within the rt\n",
      "Done!\n",
      "\n",
      "\n",
      "Processing: NGC_6205\n",
      "2345 stars in a 10x10 fov of the GC\n",
      "Directory NGC_6205 already exists\n",
      "\n",
      "The final amount of stars in our sample is: 2324\n",
      "rhm: 0.04\trt: 1.04\n",
      "There are 110 stars within half-dist of rhm and rt and 221 stars within the rt\n",
      "Done!\n",
      "\n",
      "\n",
      "Processing: NGC_6218\n",
      "986 stars in a 10x10 fov of the GC\n",
      "Directory NGC_6218 already exists\n",
      "\n",
      "The final amount of stars in our sample is: 981\n",
      "rhm: 0.05\trt: 0.51\n",
      "There are 102 stars within half-dist of rhm and rt and 190 stars within the rt\n",
      "Done!\n",
      "\n",
      "\n",
      "Processing: NGC_6229\n",
      "811 stars in a 10x10 fov of the GC\n",
      "Directory NGC_6229 already exists\n",
      "\n",
      "The final amount of stars in our sample is: 806\n",
      "rhm: 0.01\trt: 0.40\n",
      "There are 10 stars within half-dist of rhm and rt and 24 stars within the rt\n",
      "Done!\n",
      "\n",
      "\n",
      "Processing: NGC_6254\n",
      "815 stars in a 10x10 fov of the GC\n",
      "Directory NGC_6254 already exists\n",
      "\n",
      "The final amount of stars in our sample is: 811\n",
      "rhm: 0.05\trt: 0.61\n",
      "There are 122 stars within half-dist of rhm and rt and 217 stars within the rt\n",
      "Done!\n",
      "\n",
      "\n",
      "Processing: NGC_6273\n",
      "3054 stars in a 10x10 fov of the GC\n",
      "Directory NGC_6273 already exists\n",
      "\n",
      "The final amount of stars in our sample is: 3044\n",
      "rhm: 0.03\trt: 0.27\n",
      "There are 40 stars within half-dist of rhm and rt and 47 stars within the rt\n",
      "Done!\n",
      "\n",
      "\n",
      "Processing: NGC_6293\n",
      "2935 stars in a 10x10 fov of the GC\n",
      "Directory NGC_6293 already exists\n",
      "\n",
      "The final amount of stars in our sample is: 2926\n",
      "rhm: 0.03\trt: 0.16\n",
      "There are 9 stars within half-dist of rhm and rt and 10 stars within the rt\n",
      "Done!\n",
      "\n",
      "\n",
      "Processing: NGC_6341\n",
      "536 stars in a 10x10 fov of the GC\n",
      "Directory NGC_6341 already exists\n",
      "\n",
      "The final amount of stars in our sample is: 535\n",
      "rhm: 0.03\trt: 0.81\n",
      "There are 84 stars within half-dist of rhm and rt and 146 stars within the rt\n",
      "Done!\n",
      "\n",
      "\n",
      "Processing: NGC_6388\n",
      "424 stars in a 10x10 fov of the GC\n",
      "Directory NGC_6388 already exists\n",
      "\n",
      "The final amount of stars in our sample is: 424\n",
      "rhm: 0.02\trt: 0.52\n",
      "There are 66 stars within half-dist of rhm and rt and 95 stars within the rt\n",
      "Done!\n",
      "\n",
      "\n",
      "Processing: NGC_6397\n",
      "1107 stars in a 10x10 fov of the GC\n",
      "Directory NGC_6397 already exists\n",
      "\n",
      "The final amount of stars in our sample is: 1106\n",
      "rhm: 0.09\trt: 1.21\n",
      "There are 180 stars within half-dist of rhm and rt and 200 stars within the rt\n",
      "Done!\n",
      "\n",
      "\n",
      "Processing: NGC_6656\n",
      "2678 stars in a 10x10 fov of the GC\n",
      "Directory NGC_6656 already exists\n",
      "\n",
      "The final amount of stars in our sample is: 2675\n",
      "rhm: 0.09\trt: 1.34\n",
      "There are 508 stars within half-dist of rhm and rt and 716 stars within the rt\n",
      "Done!\n",
      "\n",
      "\n",
      "Processing: NGC_6715\n",
      "2441 stars in a 10x10 fov of the GC\n",
      "Directory NGC_6715 already exists\n",
      "\n",
      "The final amount of stars in our sample is: 2439\n",
      "rhm: 0.01\trt: 0.62\n",
      "There are 69 stars within half-dist of rhm and rt and 160 stars within the rt\n",
      "Done!\n",
      "\n",
      "\n",
      "Processing: NGC_6752\n",
      "230 stars in a 10x10 fov of the GC\n",
      "Directory NGC_6752 already exists\n",
      "\n",
      "The final amount of stars in our sample is: 230\n",
      "rhm: 0.07\trt: 0.94\n",
      "There are 129 stars within half-dist of rhm and rt and 181 stars within the rt\n",
      "Done!\n",
      "\n",
      "\n",
      "Processing: NGC_6809\n",
      "861 stars in a 10x10 fov of the GC\n",
      "Directory NGC_6809 already exists\n",
      "\n",
      "The final amount of stars in our sample is: 859\n",
      "rhm: 0.07\trt: 0.55\n",
      "There are 104 stars within half-dist of rhm and rt and 162 stars within the rt\n",
      "Done!\n",
      "\n",
      "\n",
      "Processing: NGC_6838\n",
      "2625 stars in a 10x10 fov of the GC\n",
      "Directory NGC_6838 already exists\n",
      "\n",
      "The final amount of stars in our sample is: 2614\n",
      "rhm: 0.09\trt: 0.62\n",
      "There are 134 stars within half-dist of rhm and rt and 259 stars within the rt\n",
      "Done!\n",
      "\n",
      "\n",
      "Processing: NGC_7078\n",
      "1207 stars in a 10x10 fov of the GC\n",
      "Directory NGC_7078 already exists\n",
      "\n",
      "The final amount of stars in our sample is: 1195\n",
      "rhm: 0.02\trt: 0.75\n",
      "There are 135 stars within half-dist of rhm and rt and 312 stars within the rt\n",
      "Done!\n",
      "\n",
      "\n",
      "Processing: NGC_7089\n",
      "785 stars in a 10x10 fov of the GC\n",
      "Directory NGC_7089 already exists\n",
      "\n",
      "The final amount of stars in our sample is: 779\n",
      "rhm: 0.02\trt: 0.55\n",
      "There are 31 stars within half-dist of rhm and rt and 69 stars within the rt\n",
      "Done!\n",
      "\n",
      "\n",
      "that shit took 8.526494864622752 mins\n"
     ]
    }
   ],
   "source": [
    "start = time.time()\n",
    "\n",
    "for count, i in enumerate(tqdm(GC_name_list)):\n",
    "    GC_stars_dict[i] = master_func_auto(i, all_param_dict, fov, GC_db, apogee_nofilt, param_list, ML_index)\n",
    "    \n",
    "end = time.time()\n",
    "\n",
    "print('that shit took', (end - start) / 60, 'mins')"
   ]
  },
  {
   "cell_type": "markdown",
   "metadata": {},
   "source": [
    "### Breaking up the dictionary into individual arrays of stars in ML space"
   ]
  },
  {
   "cell_type": "markdown",
   "metadata": {},
   "source": [
    "#### all hyperparams"
   ]
  },
  {
   "cell_type": "code",
   "execution_count": 26,
   "metadata": {
    "scrolled": true
   },
   "outputs": [
    {
     "name": "stdout",
     "output_type": "stream",
     "text": [
      "31\n"
     ]
    }
   ],
   "source": [
    "print(len(GC_stars_dict))\n",
    "\n",
    "#GC_name_list = []\n",
    "control_stars_list = []\n",
    "total_stars_list = []\n",
    "\n",
    "sum = 0\n",
    "for key in GC_stars_dict:\n",
    "    #GC_name_list.append(key)\n",
    "    if GC_stars_dict[key][2] is None:\n",
    "        control_stars_list.append(0)\n",
    "        total_stars_list.append(0)\n",
    "    else:\n",
    "        sum += 1\n",
    "        control_stars_list.append(len(GC_stars_dict[key][2]))\n",
    "        total_stars_list.append(len(GC_stars_dict[key][0]))\n",
    "    \n",
    "#print(control_stars_list)\n",
    "#print(len(GC_name_list))\n",
    "#print(sum)"
   ]
  },
  {
   "cell_type": "code",
   "execution_count": 27,
   "metadata": {},
   "outputs": [
    {
     "name": "stdout",
     "output_type": "stream",
     "text": [
      "31\n"
     ]
    }
   ],
   "source": [
    "new_control_stars_list = []\n",
    "new_total_stars_list = []\n",
    "new_stars_index_list = []\n",
    "\n",
    "for i in range(len(control_stars_list)):\n",
    "    #print(control_stars_list[i])\n",
    "    if control_stars_list[i] != 0:\n",
    "        new_control_stars_list.append(control_stars_list[i])\n",
    "        new_total_stars_list.append(total_stars_list[i])\n",
    "        new_stars_index_list.append(i)\n",
    "        \n",
    "print(len(new_stars_index_list))"
   ]
  },
  {
   "cell_type": "code",
   "execution_count": 28,
   "metadata": {},
   "outputs": [],
   "source": [
    "GC_name_arr = np.empty(len(new_stars_index_list), dtype=np.ndarray)\n",
    "\n",
    "tsne_control_X = np.empty(len(new_stars_index_list), dtype=np.ndarray)\n",
    "tsne_control_Y = np.empty(len(new_stars_index_list), dtype=np.ndarray)\n",
    "tsne_all_X = np.empty(len(new_stars_index_list), dtype=np.ndarray)\n",
    "tsne_all_Y = np.empty(len(new_stars_index_list), dtype=np.ndarray)\n",
    "\n",
    "umap_control_X = np.empty(len(new_stars_index_list), dtype=np.ndarray)\n",
    "umap_control_Y = np.empty(len(new_stars_index_list), dtype=np.ndarray)\n",
    "umap_all_X = np.empty(len(new_stars_index_list), dtype=np.ndarray)\n",
    "umap_all_Y = np.empty(len(new_stars_index_list), dtype=np.ndarray)\n",
    "\n",
    "control_indices_rad = np.empty(len(new_stars_index_list), dtype=np.ndarray)\n",
    "\n",
    "for i in range(len(new_stars_index_list)):\n",
    "    ind = new_stars_index_list[i]\n",
    "    #print(ind)\n",
    "    GC_name_arr[i] = GC_name_list[ind]\n",
    "    \n",
    "    tsne_control_X[i] = GC_stars_dict[GC_name_arr[i]][2]\n",
    "    tsne_control_Y[i] = GC_stars_dict[GC_name_arr[i]][3]\n",
    "    tsne_all_X[i] = GC_stars_dict[GC_name_arr[i]][0]\n",
    "    tsne_all_Y[i] = GC_stars_dict[GC_name_arr[i]][1]\n",
    "    \n",
    "    umap_control_X[i] = GC_stars_dict[GC_name_arr[i]][6]\n",
    "    umap_control_Y[i] = GC_stars_dict[GC_name_arr[i]][7]\n",
    "    umap_all_X[i] = GC_stars_dict[GC_name_arr[i]][4]\n",
    "    umap_all_Y[i] = GC_stars_dict[GC_name_arr[i]][5]\n",
    "    \n",
    "    control_indices_rad[i] = GC_stars_dict[GC_name_arr[i]][8]"
   ]
  },
  {
   "cell_type": "markdown",
   "metadata": {},
   "source": [
    "# see steffs thing about dbscan\n",
    "# cut out trash [done]\n",
    "# run db scan on one (both tsne and umap) to verify its picking up the right cluster\n",
    "# run db scan on all of them if ^ works\n",
    "# run db scan first on control stars, then run it on the entire field and pick out the ones that are in the same group as control stars db scan\n",
    "# then run the ML shit on the good groups without kinematics, only chem\n",
    "# db scan again using same process and final stars are the extra tidal candidates"
   ]
  },
  {
   "cell_type": "markdown",
   "metadata": {},
   "source": [
    "## setting eps = 3 for tsne and eps = 2 for umap, min_samples = 10 for both, and trying to match the ctrl grouping to all grouping\n",
    "\n",
    "### for any clusters with more than 2 groups, ignore for now"
   ]
  },
  {
   "cell_type": "markdown",
   "metadata": {},
   "source": [
    "## metaheuristics\n",
    "\n",
    "need a way to find when we over or under cluster the data\n",
    "\n",
    "Josh thinks theres a way to do this. We want a metric to find \"good\" clustering and tune umap, tsne, DBSCAN params until we meet that metric or choose the best one\n",
    "\n",
    "we expect clusters to have stars close to their neighbours, similar dist between neighbours. At edge of diff clusters, the stars of two diff clusters will be farther from each other. How do we figure out how a cluster has a gap and how big the gap is.\n",
    "\n",
    "\n",
    "we want benchmark to be automated. easiett way is to scale based on data set and umap projection. eps is linkage dist - want to tune based on typical dist of two samples. First get the nearest neighbor distance for every object, we will get a histogram. Pick a pecentile of that for a starting point for eps. (95% is a good starting point).\n",
    "Then adjust a constant in front of eps that automatically adjust to umap sizes. Explore a grid of values to see \n",
    "\n",
    "Min samples similar percentage of total dataset objects.\n",
    "\n",
    "Grid of values for eps and min samples.\n",
    "\n",
    "finally find a happy metric :)"
   ]
  },
  {
   "cell_type": "markdown",
   "metadata": {},
   "source": [
    "#### first we start with M3 as a test\n",
    "#### want to find the nearest neighbor dist for every star in umap"
   ]
  },
  {
   "cell_type": "code",
   "execution_count": 29,
   "metadata": {},
   "outputs": [],
   "source": [
    "def plot_ML(name, tsne, umap):\n",
    "    \n",
    "    fig, ax = plt.subplots(1, figsize=(10,10))\n",
    "    ax.plot(tsne[2], tsne[3], 'ok', ms='1') # all\n",
    "    ax.plot(tsne[0], tsne[1], 'or', ms='5') # ctrl\n",
    "    ax.set_title(name + ' tsne', fontsize=30)\n",
    "    plt.savefig('GCs_final/' + name + '/tsne.png')\n",
    "    ax.clear()\n",
    "    fig.clear()\n",
    "    plt.close(fig)\n",
    "    \n",
    "    fig, ax = plt.subplots(1, figsize=(10,10))\n",
    "    ax.plot(umap[2], umap[3], 'ok', ms='1') # all\n",
    "    ax.plot(umap[0], umap[1], 'or', ms='5') # ctrl\n",
    "    ax.set_title(name + ' umap', fontsize=30)\n",
    "    plt.savefig('GCs_final/' + name + '/umap.png')\n",
    "    ax.clear()\n",
    "    fig.clear()\n",
    "    plt.close(fig)"
   ]
  },
  {
   "cell_type": "markdown",
   "metadata": {},
   "source": [
    "## stick with method 3\n",
    "## make a heat map of the control star groups w/ # of main group control stars, pick out the best eps and min_samps, then that group is now the set of control stars we use\n",
    "## take those control stars and run the whole shit again with only chemicals\n",
    "## dbscan the changing eps and min_samples for all stars and pick out the group with the control stars (should only be mainly one group now cuz we cut out the other stuff, unless the main group is split in multiple parts)\n",
    "## make a heat map of the number of stars (control and non-control) in that identified group, see if we can find an optimal eps / min_sample for each\n",
    "## run it on all chemicals no kin with this optimal eps / min_sample, keeping note of the ones with multiple populations\n",
    "\n",
    "## heat map should be eps vs min_samples"
   ]
  },
  {
   "cell_type": "markdown",
   "metadata": {},
   "source": [
    "### step 1: dbscan the control stars [Done]\n",
    "#### a) Use the eps thing\n",
    "#### b) Use ball method\n",
    "#### c) Save the group affiliations\n",
    "### step 1.5: heat map of number of stars in the largest group, choose the optimal eps min_samps [done]\n",
    "### step 2: pick out the group with most stars of the control stars\n",
    "#### a) Match control star labels to groups, pick the group with the most labels\n",
    "#### b) Make note of those GCs which have multiple populations in control stars\n",
    "### step 3: save which control stars are in that group\n",
    "#### a) New control star array with only those from step 2\n",
    "### step 4: run the entire reduction again with this new control group and without kinematics\n",
    "### step 5: run dbscan on all stars\n",
    "#### a) Use the eps thing\n",
    "#### b) Use ball method\n",
    "### step 6: from the dbscan, match the control stars to a group within all stars and save the number of stars in that group\n",
    "### step 7: make a heat map of the number of stars in that group (control + extra) for each eps and min_samples\n",
    "#### might be good to have a parameter that says if the number of stars in the group is within x% of the total stars (x >= 90 or something), match that as an error or something\n",
    "### step 8: look for maximum in regions that are not overdensities"
   ]
  },
  {
   "cell_type": "markdown",
   "metadata": {},
   "source": [
    "### steps 1 and 1.5"
   ]
  },
  {
   "cell_type": "code",
   "execution_count": 30,
   "metadata": {},
   "outputs": [
    {
     "name": "stdout",
     "output_type": "stream",
     "text": [
      "[ 2  1  0  3  3  3  2 -1  3  0  2  2  2  2 -1  3  3  2  3  3]\n",
      "[7, 14]\n",
      "[2, 9]\n",
      "[1]\n",
      "[0, 6, 10, 11, 12, 13, 17]\n",
      "[3, 4, 5, 8, 15, 16, 18, 19]\n"
     ]
    }
   ],
   "source": [
    "s = [-1, 0, 1, 2, 3]\n",
    "s_test = np.random.randint(-1, 4, 20)\n",
    "print(s_test)\n",
    "\n",
    "\n",
    "for i in range(len(s)):\n",
    "    s_indices = []\n",
    "    for j in range(len(s_test)):\n",
    "        if s_test[j] == s[i]:\n",
    "            s_indices.append(j)\n",
    "        \n",
    "    print(s_indices)"
   ]
  },
  {
   "cell_type": "markdown",
   "metadata": {},
   "source": [
    "## for now fix noise bug, use sigma^3 and run again, pick out the good ones and use those for 425 for now\n",
    "## also add a cut for final et stars to make sure they are outside of the rt\n",
    "\n",
    "## for future: maybe a cutoff with # of nearest neighbours within 95% of nearest neighbour distance (i.e. the ones with no neighbours we can cut out for control stars)"
   ]
  },
  {
   "cell_type": "code",
   "execution_count": 63,
   "metadata": {},
   "outputs": [],
   "source": [
    "def db_ctrl(name, title, x, y):\n",
    "    plt.clf()\n",
    "    \n",
    "    ### setting up data for dbscan\n",
    "    X = np.c_[x, y] # column stack (i think) for second column for DBSCAN\n",
    "    \n",
    "    ### cKDTree to find nearest neighbour distance\n",
    "    col = np.column_stack([x,y]) # column stack for cKDTree\n",
    "    tree=cKDTree(col) # making a tree\n",
    "    dist, arg = tree.query(col, k=2) # querying tree for nearest neighbour distance\n",
    "    percentile_95 =  np.percentile(dist[:,1], 95) # taking the 95th percentile of that distance\n",
    "    \n",
    "    \n",
    "    ### using the nearest neighbour percentile distance to make eps arrays to cycle through\n",
    "    eps_const = np.linspace(0.1, 4, 10) # same array that multiplies into the 95th percentile\n",
    "    eps_arr = eps_const * percentile_95 # eps array to try with DBSCAN\n",
    "    \n",
    "    \n",
    "    ### making min_sample arrays to cycle through\n",
    "    # use a ball method to count nearest n neighbours within a radius of 95 percentile of nearest neighbouring distance\n",
    "    ball = tree.query_ball_tree(tree, percentile_95) # ball method where we query a ball of size 95th percentile of nearest neighbour for # of neighbors\n",
    "    neigh = [len(i) for i in ball]\n",
    "    neigh_95 = np.percentile(neigh, 95) # 95th percentile of number of neighbors\n",
    "    \n",
    "    neigh_const = np.linspace(0.1, 2, 10)\n",
    "    neigh_arr = neigh_const * neigh_95\n",
    "    neigh_arr = [int(i) for i in neigh_arr]\n",
    "    \n",
    "    # plot of histogram of nearest neighbor numbers in a ball of size 95th percentile of nearest neighbour distances\n",
    "    # plot of histogram of nearest neighbour distances\n",
    "    fig, ax = plt.subplots(2, 1, figsize=(24,12))\n",
    "    ax[0].hist(dist[:,1], color='grey', edgecolor='black')\n",
    "    ax[0].set_xlabel('Nearest neighbour dist', fontsize=30)\n",
    "    ax[0].set_title(title + ' nearest neighbour distance w/ 95th percentile as ' + str(percentile_95), fontsize=50)\n",
    "    ax[1].hist(neigh, color='grey', edgecolor='black')\n",
    "    ax[1].set_xlabel('# neighbours', fontsize=30)\n",
    "    ax[1].set_title(title + ' number of neighbour within ' + str(round(percentile_95,3)) + ' w/ 95th percentile as ' + str(round(neigh_95, 3)), fontsize=50)\n",
    "    plt.tight_layout()\n",
    "    plt.savefig('GCs_final/' + name + '/' + title + '_neigh_hist_ctrl.png')\n",
    "    fig.clear()\n",
    "    plt.close(fig)\n",
    "    \n",
    "    clusterings_lst = [] # list of clusterings\n",
    "    labels_lst = [] # list of labels\n",
    "    n_clusters_lst = [] # list of clusters\n",
    "\n",
    "    # dbscan\n",
    "    for i in range(len(neigh_arr)):\n",
    "        for j in range(len(eps_arr)):\n",
    "            # all\n",
    "            db = DBSCAN(eps=eps_arr[j], min_samples=neigh_arr[i]).fit(X)\n",
    "            clusterings_lst.append(db)\n",
    "            labels_lst.append(db.labels_)\n",
    "            n_clusters_lst.append(len(set(db.labels_)) - (1 if -1 in db.labels_ else 0))\n",
    "    \n",
    "    unique_labels_lst = []\n",
    "    core_samples_masks_lst = []\n",
    "    colors_lst = []\n",
    "    \n",
    "\n",
    "    for i in range(len(labels_lst)):\n",
    "        # all\n",
    "        unique_labels_lst.append(set(labels_lst[i]))\n",
    "        core_samples_masks_lst.append(np.zeros_like(labels_lst[i], dtype=bool))\n",
    "        core_samples_masks_lst[i][clusterings_lst[i].core_sample_indices_] = True\n",
    "        colors_lst.append([plt.cm.Spectral(each) for each in np.linspace(0, 1, len(unique_labels_lst[i]))])\n",
    "\n",
    "    \n",
    "    # all\n",
    "    fig, ax = plt.subplots(10, 10, figsize=(150,150))\n",
    "    for i in range(10):\n",
    "        for j in range(10):\n",
    "            for k, col in zip(unique_labels_lst[i + 10*j], colors_lst[i + 10*j]):\n",
    "                if k == -1:\n",
    "                    # Black used for noise.\n",
    "                    lab = 'Noise'\n",
    "                    col = [0, 0, 0, 1]\n",
    "                else:\n",
    "                    lab = 'Group ' + str(k)\n",
    "\n",
    "                class_member_mask = labels_lst[i + 10*j] == k\n",
    "\n",
    "                xy = X[class_member_mask & core_samples_masks_lst[i + 10*j]]\n",
    "                ax[i][j].plot(\n",
    "                    xy[:, 0],\n",
    "                    xy[:, 1],\n",
    "                    \"o\",\n",
    "                    markerfacecolor=tuple(col),\n",
    "                    markeredgecolor=\"k\",\n",
    "                    markersize=14,\n",
    "                    label=lab\n",
    "                )\n",
    "\n",
    "                xy = X[class_member_mask & ~core_samples_masks_lst[i + 10*j]]\n",
    "                ax[i][j].plot(\n",
    "                    xy[:, 0],\n",
    "                    xy[:, 1],\n",
    "                    \"o\",\n",
    "                    markerfacecolor=tuple(col),\n",
    "                    markeredgecolor=\"k\",\n",
    "                    markersize=6,\n",
    "                )\n",
    "\n",
    "            ax[i][j].set_xlabel('X', fontsize=40)\n",
    "            ax[i][j].set_ylabel('Y', fontsize=40)\n",
    "            ax[i][j].legend(fontsize=20)\n",
    "            ax[i][j].set_title(name + ' ' + title + f'DBSCAN groups\\neps = ' + str(round(eps_arr[i], 2)) + ' min_samples = ' + str(neigh_arr[j]) + f'\\nEstimated number of clusters: {n_clusters_lst[i + 10*j]}', fontsize=30)\n",
    "\n",
    "    plt.tight_layout()\n",
    "    file_name = 'GCs_final/' + name + '/' + title + '_dbscan_matrix_ctrl.png'\n",
    "    plt.savefig(file_name)\n",
    "    #plt.show()\n",
    "    fig.clear()\n",
    "    plt.close(fig)\n",
    "    \n",
    "    \n",
    "    ### heat map\n",
    "    \n",
    "    max_group_label = []\n",
    "    max_group_metric = []\n",
    "    N_sigma2 = []\n",
    "\n",
    "    for ind, counts in enumerate(labels_lst):\n",
    "        # get unique \n",
    "        lab, cow = np.unique(counts, return_counts=True)\n",
    "        \n",
    "        \n",
    "        \n",
    "        sigma_label = []\n",
    "        median_label = []\n",
    "        #print(lab, cow)\n",
    "        #print(counts)\n",
    "        #print(lab)\n",
    "        for i in range(len(lab)): # for each group label\n",
    "            lab_indices = [] # indices list for those that belong to the group\n",
    "            for j in range(len(counts)): # go through all the stars and add the ones that have that label to the label indices\n",
    "                if counts[j] == lab[i]:\n",
    "                    lab_indices.append(j)\n",
    "            \n",
    "            #print('lab indices:', lab_indices)\n",
    "            \n",
    "            # ckdtree for each label\n",
    "            col_label = np.column_stack([x[lab_indices],y[lab_indices]]) # column stack for cKDTree\n",
    "            tree_label = cKDTree(col_label) # making a tree\n",
    "            dist_label, arg_label = tree_label.query(col_label, k=2) # querying tree for nearest neighbour distance\n",
    "            dist_median = np.median(dist_label[:,1])\n",
    "            dist_sigma = np.std(dist_label[:,1]) # nearest neighbour distance dispersion\n",
    "            \n",
    "            sigma_label.append(dist_sigma)\n",
    "            median_label.append(dist_median)\n",
    "        \n",
    "        #print('median', median_label)\n",
    "        #print('labels', lab)\n",
    "        #print('counts', cow)\n",
    "        #print('sigma', sigma_label)\n",
    "        \n",
    "        '''# sorting both lists according to counts\n",
    "        cow_sort, lab_sort = (list(n) for n in zip(*sorted(zip(cow, lab))))'''\n",
    "        \n",
    "        N_sigma2 = [] # N / sigma^3 list\n",
    "        \n",
    "        for i in range(len(cow)):\n",
    "            if sigma_label[i] == 0: # if sigma is 0 (aka very few stars in that group)\n",
    "                N_sigma2.append(0)\n",
    "            else:\n",
    "                N_sigma2.append(cow[i] / sigma_label[i]**3) # calculating total group members / dispersion of group\n",
    "        \n",
    "        '''#print(cow_sort)\n",
    "        for i in range(len(cow_sort)):\n",
    "            #print(len(cow_sort), sigma_label[i])\n",
    "            if sigma_label[i] == 0: # if sigma is 0 (aka very few stars in that group)\n",
    "                N_sigma2.append(0)\n",
    "            else:\n",
    "                N_sigma2.append(cow_sort[i] / sigma_label[i]**3) # calculating total group members / dispersion of group'''\n",
    "        \n",
    "        \n",
    "        \n",
    "        max_pos = np.argmax(N_sigma2)\n",
    "        \n",
    "        # returning the group label, number of members for largest group\n",
    "        if lab[max_pos] == -1:\n",
    "            max_group_metric.append(0)\n",
    "        else:\n",
    "            max_group_metric.append(cow[max_pos])\n",
    "            \n",
    "        max_group_label.append(lab[max_pos])\n",
    "        '''# returning the group label, number of members for largest group\n",
    "        if lab_sort[max_pos] == -1:\n",
    "            max_group_metric.append(0)\n",
    "        else:\n",
    "            max_group_metric.append(cow_sort[max_pos])\n",
    "            \n",
    "        max_group_label.append(lab_sort[max_pos])'''\n",
    "        \n",
    "        #print(max_pos, lab[max_pos])\n",
    "        \n",
    "        #print(N_sigma2, lab_sort, cow_sort, max_pos)\n",
    "        \n",
    "        '''# getting index of most members\n",
    "        max_pos = np.argmax(cow)\n",
    "        \n",
    "        # returning the group label, number of members for largest group\n",
    "        if lab[max_pos] == -1:\n",
    "            max_group_count.append(0)\n",
    "        else:\n",
    "            max_group_count.append(cow[max_pos])\n",
    "        max_group_label.append(lab[max_pos])'''\n",
    "    \n",
    "    \n",
    "    # right now the data is [e1s1, e1s2, e1s3, e1s4, e1s5, e1s6, e1s7, e1s8, e1s9, e1s10, e2s1, e2s2, e2s3, etc.]\n",
    "    # need to break it up into a 10 by 10\n",
    "    max_group_metric_arr = np.empty((10,10), dtype=int)\n",
    "    \n",
    "    for ind, item in enumerate(max_group_metric):\n",
    "        if item >= 0.95 * len(x): # cutting out any ones that are 95% of the data size\n",
    "            item = 0\n",
    "        max_group_metric_arr[ind%10][ind//10] = item\n",
    "    \n",
    "    \n",
    "    fig, ax = plt.subplots(1, figsize=(12,12))\n",
    "    im = ax.imshow(max_group_metric_arr, cmap='RdPu', interpolation = 'None')\n",
    "    ax.set_xticks(np.arange(-.5, 9, 1))\n",
    "    ax.set_yticks(np.arange(-.5, 9, 1))\n",
    "    ax.set_xticklabels(neigh_arr)\n",
    "    ax.set_yticklabels(eps_arr)\n",
    "    ax.set_ylabel('eps', fontsize=20)\n",
    "    ax.set_xlabel('min samples', fontsize=20)\n",
    "    #ax.yaxis.set_major_formatter(FormatStrFormatter('%.2f'))\n",
    "    ax.grid(color='w', linestyle='-', linewidth=2)\n",
    "    plt.colorbar(im)\n",
    "    plt.savefig('GCs_final/' + name + '/' + title + '_heatmap_ctrl.png')\n",
    "    ax.clear()\n",
    "    fig.clear()\n",
    "    plt.close(fig)\n",
    "    \n",
    "    # indices for the max section of heat map\n",
    "    max_eps_ind, max_samp_ind = np.unravel_index(max_group_metric_arr.argmax(), max_group_metric_arr.shape) \n",
    "    \n",
    "    \n",
    "    return [eps_arr[max_eps_ind], neigh_arr[max_samp_ind]]"
   ]
  },
  {
   "cell_type": "code",
   "execution_count": 64,
   "metadata": {},
   "outputs": [],
   "source": [
    "def db_opt_ctrl(name, title, x, y, eps, samp):\n",
    "    \n",
    "    ### setting up data for dbscan\n",
    "    X = np.c_[x, y] # column stack (i think) for second column for DBSCAN\n",
    "    \n",
    "    # dbscan\n",
    "    db = DBSCAN(eps=eps, min_samples=samp).fit(X)\n",
    "    clusterings = db\n",
    "    labels = db.labels_\n",
    "    n_clusters = len(set(db.labels_)) - (1 if -1 in db.labels_ else 0)\n",
    "    \n",
    "    unique_labels = set(labels)\n",
    "    core_samples_masks = np.zeros_like(labels, dtype=bool)\n",
    "    core_samples_masks = clusterings.core_sample_indices_ = True\n",
    "    colors = [plt.cm.Spectral(each) for each in np.linspace(0, 1, len(unique_labels))]\n",
    "\n",
    "    \n",
    "    # all\n",
    "    fig, ax = plt.subplots(1, figsize=(20,20))\n",
    "    for k, col in zip(unique_labels, colors):\n",
    "        if k == -1:\n",
    "            # Black used for noise.\n",
    "            lab = 'Noise'\n",
    "            col = [0, 0, 0, 1]\n",
    "        else:\n",
    "            lab = 'Group ' + str(k)\n",
    "\n",
    "        class_member_mask = labels == k\n",
    "\n",
    "        xy = X[class_member_mask & core_samples_masks]\n",
    "        ax.plot(\n",
    "            xy[:, 0],\n",
    "            xy[:, 1],\n",
    "            \"o\",\n",
    "            markerfacecolor=tuple(col),\n",
    "            markeredgecolor=\"k\",\n",
    "            markersize=14,\n",
    "            label=lab\n",
    "        )\n",
    "\n",
    "        xy = X[class_member_mask & ~core_samples_masks]\n",
    "        ax.plot(\n",
    "            xy[:, 0],\n",
    "            xy[:, 1],\n",
    "            \"o\",\n",
    "            markerfacecolor=tuple(col),\n",
    "            markeredgecolor=\"k\",\n",
    "            markersize=6,\n",
    "        )\n",
    "\n",
    "    ax.set_xlabel('X', fontsize=40)\n",
    "    ax.set_ylabel('Y', fontsize=40)\n",
    "    ax.legend(fontsize=20)\n",
    "    ax.set_title(name + ' ' + title + f'DBSCAN groups\\neps = ' + str(round(eps, 2)) + ' min_samples = ' + str(samp) + f'\\nEstimated number of clusters: {n_clusters}', fontsize=30)\n",
    "\n",
    "    plt.tight_layout()\n",
    "    file_name = 'GCs_final/' + name + '/' + title + '_dbscan_ctrl.png'\n",
    "    plt.savefig(file_name)\n",
    "    #plt.show()\n",
    "    ax.clear()\n",
    "    fig.clear()\n",
    "    plt.close(fig)\n",
    "    \n",
    "    return labels"
   ]
  },
  {
   "cell_type": "code",
   "execution_count": 65,
   "metadata": {},
   "outputs": [],
   "source": [
    "def final_control_group(controls, labels_tsne, labels_umap, name, tsne, umap):\n",
    "    lab_tsne, cow_tsne = np.unique(labels_tsne, return_counts=True)\n",
    "    \n",
    "    tsne_arg = np.argmax(cow_tsne)\n",
    "    max_group_num_tsne = lab_tsne[tsne_arg]\n",
    "    max_group_count_tsne = cow_tsne[tsne_arg]\n",
    "    max_group_indices_tsne = []\n",
    "    \n",
    "    other_group_counter_tsne = [0 for _ in range(len(lab_tsne))]\n",
    "    \n",
    "    lab_umap, cow_umap = np.unique(labels_umap, return_counts=True)\n",
    "    umap_arg = np.argmax(cow_umap)\n",
    "    max_group_num_umap = lab_umap[umap_arg]\n",
    "    max_group_count_umap = cow_umap[umap_arg]\n",
    "    max_group_indices_umap = []\n",
    "    \n",
    "    other_group_counter_umap = [0 for _ in range(len(lab_umap))]\n",
    "    \n",
    "    # matching control stars to those with a label of max group num\n",
    "    for ind, item in enumerate(labels_tsne):\n",
    "        temp_lab_tsne = np.copy(lab_tsne)\n",
    "        temp_lab_tsne = np.delete(lab_tsne, tsne_arg)\n",
    "        if item == max_group_num_tsne:\n",
    "            max_group_indices_tsne.append(ind)\n",
    "        else:\n",
    "            for i in range(len(temp_lab_tsne)):\n",
    "                if item == i:\n",
    "                    other_group_counter_tsne[i] += 1\n",
    "\n",
    "    for ind, item in enumerate(labels_umap):\n",
    "        #print(item)\n",
    "        #print(max_group_num_umap)\n",
    "        temp_lab_umap = np.copy(lab_umap)\n",
    "        temp_lab_umap = np.delete(lab_umap, umap_arg)\n",
    "        if item == max_group_num_umap:\n",
    "            max_group_indices_umap.append(ind)\n",
    "        else:\n",
    "            for i in range(len(temp_lab_umap)):\n",
    "                if item == i:\n",
    "                    other_group_counter_umap[i] += 1\n",
    "    \n",
    "    \n",
    "    # final for each ML\n",
    "    ctrl_indices_tsne = controls[max_group_indices_tsne]\n",
    "    ctrl_indices_umap = controls[max_group_indices_umap]\n",
    "    \n",
    "    \n",
    "    final_ctrl_indices = []\n",
    "    \n",
    "    # finding same ones\n",
    "    for i in ctrl_indices_tsne:\n",
    "        if i in ctrl_indices_umap:\n",
    "            final_ctrl_indices.append(i)\n",
    "            \n",
    "    fig, ax = plt.subplots(1, figsize=(12,12))\n",
    "    fig = plt.figure(figsize=(10,10))\n",
    "    plt.plot(tsne[2], tsne[3], 'ok', ms='1') # all\n",
    "    plt.plot(tsne[0], tsne[1], 'or', ms='5', label='Original Ctrl') # original ctrl\n",
    "    plt.plot(tsne[2][ctrl_indices_tsne], tsne[3][ctrl_indices_tsne], 'o', color='cyan', ms='5', label='Final Ctrl') # final ctrl\n",
    "    plt.title(name + ' tsne, OG Ctrl: ' + str(len(tsne[0])) + '\\tFinal Ctrl: ' + str(len(ctrl_indices_tsne)), fontsize=30)\n",
    "    plt.legend()\n",
    "    plt.savefig('GCs_final/' + name + '/final_tsne_ctrl.png')\n",
    "    ax.clear()\n",
    "    fig.clear()\n",
    "    plt.close(fig)\n",
    "    \n",
    "    fig, ax = plt.subplots(1, figsize=(12,12))\n",
    "    plt.plot(umap[2], umap[3], 'ok', ms='1') # all\n",
    "    plt.plot(umap[0], umap[1], 'or', ms='5', label='Original Ctrl') # original ctrl\n",
    "    plt.plot(umap[2][ctrl_indices_umap], umap[3][ctrl_indices_umap], 'o', color='cyan', ms='5', label='Final Ctrl') # final ctrl\n",
    "    plt.title(name + ' umap, OG Ctrl: ' + str(len(umap[0])) + '\\tFinal Ctrl: ' + str(len(ctrl_indices_umap)), fontsize=30)\n",
    "    plt.legend()\n",
    "    plt.savefig('GCs_final/' + name + '/final_umap_ctrl.png')\n",
    "    ax.clear()\n",
    "    fig.clear()\n",
    "    plt.close(fig)\n",
    "\n",
    "    \n",
    "    return [final_ctrl_indices, other_group_counter_tsne, other_group_counter_umap, max_group_num_tsne, max_group_num_umap]"
   ]
  },
  {
   "cell_type": "markdown",
   "metadata": {},
   "source": [
    "### tsne and umap dbscan and choosing main group"
   ]
  },
  {
   "cell_type": "code",
   "execution_count": 66,
   "metadata": {},
   "outputs": [],
   "source": [
    "final_ctrl = []\n",
    "tsne_other_ctrl = []\n",
    "umap_other_ctrl = []\n",
    "tsne_ctrl_lab = []\n",
    "umap_ctrl_lab = []"
   ]
  },
  {
   "cell_type": "code",
   "execution_count": 67,
   "metadata": {},
   "outputs": [],
   "source": [
    "import simpleaudio as sa"
   ]
  },
  {
   "cell_type": "code",
   "execution_count": 71,
   "metadata": {},
   "outputs": [
    {
     "data": {
      "application/vnd.jupyter.widget-view+json": {
       "model_id": "8c5c0fd40aac4983b4e1c537dab2b1c7",
       "version_major": 2,
       "version_minor": 0
      },
      "text/plain": [
       "HBox(children=(HTML(value=''), FloatProgress(value=0.0, max=7.0), HTML(value='')))"
      ]
     },
     "metadata": {},
     "output_type": "display_data"
    },
    {
     "name": "stdout",
     "output_type": "stream",
     "text": [
      "Making directory NGC_6656\n"
     ]
    },
    {
     "name": "stderr",
     "output_type": "stream",
     "text": [
      "C:\\Users\\ryanw\\Anaconda3\\lib\\site-packages\\numpy\\core\\_methods.py:202: RuntimeWarning: invalid value encountered in subtract\n",
      "  x = asanyarray(arr - arrmean)\n",
      "C:\\Users\\ryanw\\Anaconda3\\lib\\site-packages\\numpy\\core\\_methods.py:202: RuntimeWarning: invalid value encountered in subtract\n",
      "  x = asanyarray(arr - arrmean)\n",
      "C:\\Users\\ryanw\\Anaconda3\\lib\\site-packages\\matplotlib\\backends\\backend_agg.py:238: RuntimeWarning: Glyph 9 missing from current font.\n",
      "  font.set_text(s, 0.0, flags=flags)\n",
      "C:\\Users\\ryanw\\Anaconda3\\lib\\site-packages\\matplotlib\\backends\\backend_agg.py:201: RuntimeWarning: Glyph 9 missing from current font.\n",
      "  font.set_text(s, 0, flags=flags)\n",
      "C:\\Users\\ryanw\\Anaconda3\\lib\\site-packages\\matplotlib\\backends\\backend_agg.py:238: RuntimeWarning: Glyph 9 missing from current font.\n",
      "  font.set_text(s, 0.0, flags=flags)\n",
      "C:\\Users\\ryanw\\Anaconda3\\lib\\site-packages\\matplotlib\\backends\\backend_agg.py:201: RuntimeWarning: Glyph 9 missing from current font.\n",
      "  font.set_text(s, 0, flags=flags)\n",
      "C:\\Users\\ryanw\\Anaconda3\\lib\\site-packages\\matplotlib\\backends\\backend_agg.py:238: RuntimeWarning: Glyph 9 missing from current font.\n",
      "  font.set_text(s, 0.0, flags=flags)\n",
      "C:\\Users\\ryanw\\Anaconda3\\lib\\site-packages\\matplotlib\\backends\\backend_agg.py:201: RuntimeWarning: Glyph 9 missing from current font.\n",
      "  font.set_text(s, 0, flags=flags)\n",
      "C:\\Users\\ryanw\\Anaconda3\\lib\\site-packages\\matplotlib\\backends\\backend_agg.py:238: RuntimeWarning: Glyph 9 missing from current font.\n",
      "  font.set_text(s, 0.0, flags=flags)\n",
      "C:\\Users\\ryanw\\Anaconda3\\lib\\site-packages\\matplotlib\\backends\\backend_agg.py:201: RuntimeWarning: Glyph 9 missing from current font.\n",
      "  font.set_text(s, 0, flags=flags)\n",
      "C:\\Users\\ryanw\\Anaconda3\\lib\\site-packages\\matplotlib\\backends\\backend_agg.py:238: RuntimeWarning: Glyph 9 missing from current font.\n",
      "  font.set_text(s, 0.0, flags=flags)\n",
      "C:\\Users\\ryanw\\Anaconda3\\lib\\site-packages\\matplotlib\\backends\\backend_agg.py:201: RuntimeWarning: Glyph 9 missing from current font.\n",
      "  font.set_text(s, 0, flags=flags)\n",
      "C:\\Users\\ryanw\\Anaconda3\\lib\\site-packages\\matplotlib\\backends\\backend_agg.py:238: RuntimeWarning: Glyph 9 missing from current font.\n",
      "  font.set_text(s, 0.0, flags=flags)\n",
      "C:\\Users\\ryanw\\Anaconda3\\lib\\site-packages\\matplotlib\\backends\\backend_agg.py:201: RuntimeWarning: Glyph 9 missing from current font.\n",
      "  font.set_text(s, 0, flags=flags)\n",
      "C:\\Users\\ryanw\\Anaconda3\\lib\\site-packages\\matplotlib\\backends\\backend_agg.py:238: RuntimeWarning: Glyph 9 missing from current font.\n",
      "  font.set_text(s, 0.0, flags=flags)\n",
      "C:\\Users\\ryanw\\Anaconda3\\lib\\site-packages\\matplotlib\\backends\\backend_agg.py:201: RuntimeWarning: Glyph 9 missing from current font.\n",
      "  font.set_text(s, 0, flags=flags)\n",
      "C:\\Users\\ryanw\\Anaconda3\\lib\\site-packages\\matplotlib\\backends\\backend_agg.py:238: RuntimeWarning: Glyph 9 missing from current font.\n",
      "  font.set_text(s, 0.0, flags=flags)\n",
      "C:\\Users\\ryanw\\Anaconda3\\lib\\site-packages\\matplotlib\\backends\\backend_agg.py:201: RuntimeWarning: Glyph 9 missing from current font.\n",
      "  font.set_text(s, 0, flags=flags)\n",
      "C:\\Users\\ryanw\\Anaconda3\\lib\\site-packages\\matplotlib\\backends\\backend_agg.py:238: RuntimeWarning: Glyph 9 missing from current font.\n",
      "  font.set_text(s, 0.0, flags=flags)\n",
      "C:\\Users\\ryanw\\Anaconda3\\lib\\site-packages\\matplotlib\\backends\\backend_agg.py:201: RuntimeWarning: Glyph 9 missing from current font.\n",
      "  font.set_text(s, 0, flags=flags)\n",
      "C:\\Users\\ryanw\\Anaconda3\\lib\\site-packages\\matplotlib\\backends\\backend_agg.py:238: RuntimeWarning: Glyph 9 missing from current font.\n",
      "  font.set_text(s, 0.0, flags=flags)\n",
      "C:\\Users\\ryanw\\Anaconda3\\lib\\site-packages\\matplotlib\\backends\\backend_agg.py:201: RuntimeWarning: Glyph 9 missing from current font.\n",
      "  font.set_text(s, 0, flags=flags)\n"
     ]
    },
    {
     "name": "stdout",
     "output_type": "stream",
     "text": [
      "Making directory NGC_6715\n"
     ]
    },
    {
     "name": "stderr",
     "output_type": "stream",
     "text": [
      "C:\\Users\\ryanw\\Anaconda3\\lib\\site-packages\\numpy\\core\\_methods.py:202: RuntimeWarning: invalid value encountered in subtract\n",
      "  x = asanyarray(arr - arrmean)\n",
      "C:\\Users\\ryanw\\Anaconda3\\lib\\site-packages\\matplotlib\\backends\\backend_agg.py:238: RuntimeWarning: Glyph 9 missing from current font.\n",
      "  font.set_text(s, 0.0, flags=flags)\n",
      "C:\\Users\\ryanw\\Anaconda3\\lib\\site-packages\\matplotlib\\backends\\backend_agg.py:201: RuntimeWarning: Glyph 9 missing from current font.\n",
      "  font.set_text(s, 0, flags=flags)\n",
      "C:\\Users\\ryanw\\Anaconda3\\lib\\site-packages\\matplotlib\\backends\\backend_agg.py:238: RuntimeWarning: Glyph 9 missing from current font.\n",
      "  font.set_text(s, 0.0, flags=flags)\n",
      "C:\\Users\\ryanw\\Anaconda3\\lib\\site-packages\\matplotlib\\backends\\backend_agg.py:201: RuntimeWarning: Glyph 9 missing from current font.\n",
      "  font.set_text(s, 0, flags=flags)\n",
      "C:\\Users\\ryanw\\Anaconda3\\lib\\site-packages\\matplotlib\\backends\\backend_agg.py:238: RuntimeWarning: Glyph 9 missing from current font.\n",
      "  font.set_text(s, 0.0, flags=flags)\n",
      "C:\\Users\\ryanw\\Anaconda3\\lib\\site-packages\\matplotlib\\backends\\backend_agg.py:201: RuntimeWarning: Glyph 9 missing from current font.\n",
      "  font.set_text(s, 0, flags=flags)\n",
      "C:\\Users\\ryanw\\Anaconda3\\lib\\site-packages\\matplotlib\\backends\\backend_agg.py:238: RuntimeWarning: Glyph 9 missing from current font.\n",
      "  font.set_text(s, 0.0, flags=flags)\n",
      "C:\\Users\\ryanw\\Anaconda3\\lib\\site-packages\\matplotlib\\backends\\backend_agg.py:201: RuntimeWarning: Glyph 9 missing from current font.\n",
      "  font.set_text(s, 0, flags=flags)\n",
      "C:\\Users\\ryanw\\Anaconda3\\lib\\site-packages\\matplotlib\\backends\\backend_agg.py:238: RuntimeWarning: Glyph 9 missing from current font.\n",
      "  font.set_text(s, 0.0, flags=flags)\n",
      "C:\\Users\\ryanw\\Anaconda3\\lib\\site-packages\\matplotlib\\backends\\backend_agg.py:201: RuntimeWarning: Glyph 9 missing from current font.\n",
      "  font.set_text(s, 0, flags=flags)\n",
      "C:\\Users\\ryanw\\Anaconda3\\lib\\site-packages\\matplotlib\\backends\\backend_agg.py:238: RuntimeWarning: Glyph 9 missing from current font.\n",
      "  font.set_text(s, 0.0, flags=flags)\n",
      "C:\\Users\\ryanw\\Anaconda3\\lib\\site-packages\\matplotlib\\backends\\backend_agg.py:201: RuntimeWarning: Glyph 9 missing from current font.\n",
      "  font.set_text(s, 0, flags=flags)\n",
      "C:\\Users\\ryanw\\Anaconda3\\lib\\site-packages\\matplotlib\\backends\\backend_agg.py:238: RuntimeWarning: Glyph 9 missing from current font.\n",
      "  font.set_text(s, 0.0, flags=flags)\n",
      "C:\\Users\\ryanw\\Anaconda3\\lib\\site-packages\\matplotlib\\backends\\backend_agg.py:201: RuntimeWarning: Glyph 9 missing from current font.\n",
      "  font.set_text(s, 0, flags=flags)\n",
      "C:\\Users\\ryanw\\Anaconda3\\lib\\site-packages\\matplotlib\\backends\\backend_agg.py:238: RuntimeWarning: Glyph 9 missing from current font.\n",
      "  font.set_text(s, 0.0, flags=flags)\n",
      "C:\\Users\\ryanw\\Anaconda3\\lib\\site-packages\\matplotlib\\backends\\backend_agg.py:201: RuntimeWarning: Glyph 9 missing from current font.\n",
      "  font.set_text(s, 0, flags=flags)\n",
      "C:\\Users\\ryanw\\Anaconda3\\lib\\site-packages\\matplotlib\\backends\\backend_agg.py:238: RuntimeWarning: Glyph 9 missing from current font.\n",
      "  font.set_text(s, 0.0, flags=flags)\n",
      "C:\\Users\\ryanw\\Anaconda3\\lib\\site-packages\\matplotlib\\backends\\backend_agg.py:201: RuntimeWarning: Glyph 9 missing from current font.\n",
      "  font.set_text(s, 0, flags=flags)\n",
      "C:\\Users\\ryanw\\Anaconda3\\lib\\site-packages\\matplotlib\\backends\\backend_agg.py:238: RuntimeWarning: Glyph 9 missing from current font.\n",
      "  font.set_text(s, 0.0, flags=flags)\n",
      "C:\\Users\\ryanw\\Anaconda3\\lib\\site-packages\\matplotlib\\backends\\backend_agg.py:201: RuntimeWarning: Glyph 9 missing from current font.\n",
      "  font.set_text(s, 0, flags=flags)\n"
     ]
    },
    {
     "name": "stdout",
     "output_type": "stream",
     "text": [
      "Making directory NGC_6752\n"
     ]
    },
    {
     "name": "stderr",
     "output_type": "stream",
     "text": [
      "<ipython-input-63-c70c5175e749>:109: UserWarning: Tight layout not applied. tight_layout cannot make axes height small enough to accommodate all axes decorations\n",
      "  plt.tight_layout()\n",
      "C:\\Users\\ryanw\\Anaconda3\\lib\\site-packages\\numpy\\core\\_methods.py:202: RuntimeWarning: invalid value encountered in subtract\n",
      "  x = asanyarray(arr - arrmean)\n",
      "<ipython-input-63-c70c5175e749>:109: UserWarning: Tight layout not applied. tight_layout cannot make axes height small enough to accommodate all axes decorations\n",
      "  plt.tight_layout()\n",
      "C:\\Users\\ryanw\\Anaconda3\\lib\\site-packages\\numpy\\core\\_methods.py:202: RuntimeWarning: invalid value encountered in subtract\n",
      "  x = asanyarray(arr - arrmean)\n",
      "C:\\Users\\ryanw\\Anaconda3\\lib\\site-packages\\matplotlib\\backends\\backend_agg.py:238: RuntimeWarning: Glyph 9 missing from current font.\n",
      "  font.set_text(s, 0.0, flags=flags)\n",
      "C:\\Users\\ryanw\\Anaconda3\\lib\\site-packages\\matplotlib\\backends\\backend_agg.py:201: RuntimeWarning: Glyph 9 missing from current font.\n",
      "  font.set_text(s, 0, flags=flags)\n",
      "C:\\Users\\ryanw\\Anaconda3\\lib\\site-packages\\matplotlib\\backends\\backend_agg.py:238: RuntimeWarning: Glyph 9 missing from current font.\n",
      "  font.set_text(s, 0.0, flags=flags)\n",
      "C:\\Users\\ryanw\\Anaconda3\\lib\\site-packages\\matplotlib\\backends\\backend_agg.py:201: RuntimeWarning: Glyph 9 missing from current font.\n",
      "  font.set_text(s, 0, flags=flags)\n",
      "C:\\Users\\ryanw\\Anaconda3\\lib\\site-packages\\matplotlib\\backends\\backend_agg.py:238: RuntimeWarning: Glyph 9 missing from current font.\n",
      "  font.set_text(s, 0.0, flags=flags)\n",
      "C:\\Users\\ryanw\\Anaconda3\\lib\\site-packages\\matplotlib\\backends\\backend_agg.py:201: RuntimeWarning: Glyph 9 missing from current font.\n",
      "  font.set_text(s, 0, flags=flags)\n",
      "C:\\Users\\ryanw\\Anaconda3\\lib\\site-packages\\matplotlib\\backends\\backend_agg.py:238: RuntimeWarning: Glyph 9 missing from current font.\n",
      "  font.set_text(s, 0.0, flags=flags)\n",
      "C:\\Users\\ryanw\\Anaconda3\\lib\\site-packages\\matplotlib\\backends\\backend_agg.py:201: RuntimeWarning: Glyph 9 missing from current font.\n",
      "  font.set_text(s, 0, flags=flags)\n",
      "C:\\Users\\ryanw\\Anaconda3\\lib\\site-packages\\matplotlib\\backends\\backend_agg.py:238: RuntimeWarning: Glyph 9 missing from current font.\n",
      "  font.set_text(s, 0.0, flags=flags)\n",
      "C:\\Users\\ryanw\\Anaconda3\\lib\\site-packages\\matplotlib\\backends\\backend_agg.py:201: RuntimeWarning: Glyph 9 missing from current font.\n",
      "  font.set_text(s, 0, flags=flags)\n",
      "C:\\Users\\ryanw\\Anaconda3\\lib\\site-packages\\matplotlib\\backends\\backend_agg.py:238: RuntimeWarning: Glyph 9 missing from current font.\n",
      "  font.set_text(s, 0.0, flags=flags)\n",
      "C:\\Users\\ryanw\\Anaconda3\\lib\\site-packages\\matplotlib\\backends\\backend_agg.py:201: RuntimeWarning: Glyph 9 missing from current font.\n",
      "  font.set_text(s, 0, flags=flags)\n",
      "C:\\Users\\ryanw\\Anaconda3\\lib\\site-packages\\matplotlib\\backends\\backend_agg.py:238: RuntimeWarning: Glyph 9 missing from current font.\n",
      "  font.set_text(s, 0.0, flags=flags)\n",
      "C:\\Users\\ryanw\\Anaconda3\\lib\\site-packages\\matplotlib\\backends\\backend_agg.py:201: RuntimeWarning: Glyph 9 missing from current font.\n",
      "  font.set_text(s, 0, flags=flags)\n",
      "C:\\Users\\ryanw\\Anaconda3\\lib\\site-packages\\matplotlib\\backends\\backend_agg.py:238: RuntimeWarning: Glyph 9 missing from current font.\n",
      "  font.set_text(s, 0.0, flags=flags)\n",
      "C:\\Users\\ryanw\\Anaconda3\\lib\\site-packages\\matplotlib\\backends\\backend_agg.py:201: RuntimeWarning: Glyph 9 missing from current font.\n",
      "  font.set_text(s, 0, flags=flags)\n",
      "C:\\Users\\ryanw\\Anaconda3\\lib\\site-packages\\matplotlib\\backends\\backend_agg.py:238: RuntimeWarning: Glyph 9 missing from current font.\n",
      "  font.set_text(s, 0.0, flags=flags)\n",
      "C:\\Users\\ryanw\\Anaconda3\\lib\\site-packages\\matplotlib\\backends\\backend_agg.py:201: RuntimeWarning: Glyph 9 missing from current font.\n",
      "  font.set_text(s, 0, flags=flags)\n",
      "C:\\Users\\ryanw\\Anaconda3\\lib\\site-packages\\matplotlib\\backends\\backend_agg.py:238: RuntimeWarning: Glyph 9 missing from current font.\n",
      "  font.set_text(s, 0.0, flags=flags)\n",
      "C:\\Users\\ryanw\\Anaconda3\\lib\\site-packages\\matplotlib\\backends\\backend_agg.py:201: RuntimeWarning: Glyph 9 missing from current font.\n",
      "  font.set_text(s, 0, flags=flags)\n"
     ]
    },
    {
     "name": "stdout",
     "output_type": "stream",
     "text": [
      "Making directory NGC_6809\n"
     ]
    },
    {
     "name": "stderr",
     "output_type": "stream",
     "text": [
      "C:\\Users\\ryanw\\Anaconda3\\lib\\site-packages\\numpy\\core\\_methods.py:202: RuntimeWarning: invalid value encountered in subtract\n",
      "  x = asanyarray(arr - arrmean)\n",
      "C:\\Users\\ryanw\\Anaconda3\\lib\\site-packages\\numpy\\core\\_methods.py:202: RuntimeWarning: invalid value encountered in subtract\n",
      "  x = asanyarray(arr - arrmean)\n",
      "C:\\Users\\ryanw\\Anaconda3\\lib\\site-packages\\matplotlib\\backends\\backend_agg.py:238: RuntimeWarning: Glyph 9 missing from current font.\n",
      "  font.set_text(s, 0.0, flags=flags)\n",
      "C:\\Users\\ryanw\\Anaconda3\\lib\\site-packages\\matplotlib\\backends\\backend_agg.py:201: RuntimeWarning: Glyph 9 missing from current font.\n",
      "  font.set_text(s, 0, flags=flags)\n",
      "C:\\Users\\ryanw\\Anaconda3\\lib\\site-packages\\matplotlib\\backends\\backend_agg.py:238: RuntimeWarning: Glyph 9 missing from current font.\n",
      "  font.set_text(s, 0.0, flags=flags)\n",
      "C:\\Users\\ryanw\\Anaconda3\\lib\\site-packages\\matplotlib\\backends\\backend_agg.py:201: RuntimeWarning: Glyph 9 missing from current font.\n",
      "  font.set_text(s, 0, flags=flags)\n",
      "C:\\Users\\ryanw\\Anaconda3\\lib\\site-packages\\matplotlib\\backends\\backend_agg.py:238: RuntimeWarning: Glyph 9 missing from current font.\n",
      "  font.set_text(s, 0.0, flags=flags)\n",
      "C:\\Users\\ryanw\\Anaconda3\\lib\\site-packages\\matplotlib\\backends\\backend_agg.py:201: RuntimeWarning: Glyph 9 missing from current font.\n",
      "  font.set_text(s, 0, flags=flags)\n",
      "C:\\Users\\ryanw\\Anaconda3\\lib\\site-packages\\matplotlib\\backends\\backend_agg.py:238: RuntimeWarning: Glyph 9 missing from current font.\n",
      "  font.set_text(s, 0.0, flags=flags)\n",
      "C:\\Users\\ryanw\\Anaconda3\\lib\\site-packages\\matplotlib\\backends\\backend_agg.py:201: RuntimeWarning: Glyph 9 missing from current font.\n",
      "  font.set_text(s, 0, flags=flags)\n",
      "C:\\Users\\ryanw\\Anaconda3\\lib\\site-packages\\matplotlib\\backends\\backend_agg.py:238: RuntimeWarning: Glyph 9 missing from current font.\n",
      "  font.set_text(s, 0.0, flags=flags)\n",
      "C:\\Users\\ryanw\\Anaconda3\\lib\\site-packages\\matplotlib\\backends\\backend_agg.py:201: RuntimeWarning: Glyph 9 missing from current font.\n",
      "  font.set_text(s, 0, flags=flags)\n",
      "C:\\Users\\ryanw\\Anaconda3\\lib\\site-packages\\matplotlib\\backends\\backend_agg.py:238: RuntimeWarning: Glyph 9 missing from current font.\n",
      "  font.set_text(s, 0.0, flags=flags)\n",
      "C:\\Users\\ryanw\\Anaconda3\\lib\\site-packages\\matplotlib\\backends\\backend_agg.py:201: RuntimeWarning: Glyph 9 missing from current font.\n",
      "  font.set_text(s, 0, flags=flags)\n",
      "<ipython-input-65-2ab7379db15a>:56: RuntimeWarning: More than 20 figures have been opened. Figures created through the pyplot interface (`matplotlib.pyplot.figure`) are retained until explicitly closed and may consume too much memory. (To control this warning, see the rcParam `figure.max_open_warning`).\n",
      "  fig = plt.figure(figsize=(10,10))\n",
      "C:\\Users\\ryanw\\Anaconda3\\lib\\site-packages\\matplotlib\\backends\\backend_agg.py:238: RuntimeWarning: Glyph 9 missing from current font.\n",
      "  font.set_text(s, 0.0, flags=flags)\n",
      "C:\\Users\\ryanw\\Anaconda3\\lib\\site-packages\\matplotlib\\backends\\backend_agg.py:201: RuntimeWarning: Glyph 9 missing from current font.\n",
      "  font.set_text(s, 0, flags=flags)\n",
      "<ipython-input-65-2ab7379db15a>:67: RuntimeWarning: More than 20 figures have been opened. Figures created through the pyplot interface (`matplotlib.pyplot.figure`) are retained until explicitly closed and may consume too much memory. (To control this warning, see the rcParam `figure.max_open_warning`).\n",
      "  fig, ax = plt.subplots(1, figsize=(12,12))\n",
      "C:\\Users\\ryanw\\Anaconda3\\lib\\site-packages\\matplotlib\\backends\\backend_agg.py:238: RuntimeWarning: Glyph 9 missing from current font.\n",
      "  font.set_text(s, 0.0, flags=flags)\n",
      "C:\\Users\\ryanw\\Anaconda3\\lib\\site-packages\\matplotlib\\backends\\backend_agg.py:201: RuntimeWarning: Glyph 9 missing from current font.\n",
      "  font.set_text(s, 0, flags=flags)\n",
      "<ipython-input-65-2ab7379db15a>:55: RuntimeWarning: More than 20 figures have been opened. Figures created through the pyplot interface (`matplotlib.pyplot.figure`) are retained until explicitly closed and may consume too much memory. (To control this warning, see the rcParam `figure.max_open_warning`).\n",
      "  fig, ax = plt.subplots(1, figsize=(12,12))\n",
      "C:\\Users\\ryanw\\Anaconda3\\lib\\site-packages\\matplotlib\\backends\\backend_agg.py:238: RuntimeWarning: Glyph 9 missing from current font.\n",
      "  font.set_text(s, 0.0, flags=flags)\n",
      "C:\\Users\\ryanw\\Anaconda3\\lib\\site-packages\\matplotlib\\backends\\backend_agg.py:201: RuntimeWarning: Glyph 9 missing from current font.\n",
      "  font.set_text(s, 0, flags=flags)\n",
      "C:\\Users\\ryanw\\Anaconda3\\lib\\site-packages\\matplotlib\\backends\\backend_agg.py:238: RuntimeWarning: Glyph 9 missing from current font.\n",
      "  font.set_text(s, 0.0, flags=flags)\n",
      "C:\\Users\\ryanw\\Anaconda3\\lib\\site-packages\\matplotlib\\backends\\backend_agg.py:201: RuntimeWarning: Glyph 9 missing from current font.\n",
      "  font.set_text(s, 0, flags=flags)\n"
     ]
    },
    {
     "name": "stdout",
     "output_type": "stream",
     "text": [
      "Making directory NGC_6838\n"
     ]
    },
    {
     "name": "stderr",
     "output_type": "stream",
     "text": [
      "C:\\Users\\ryanw\\Anaconda3\\lib\\site-packages\\matplotlib\\backends\\backend_agg.py:238: RuntimeWarning: Glyph 9 missing from current font.\n",
      "  font.set_text(s, 0.0, flags=flags)\n",
      "C:\\Users\\ryanw\\Anaconda3\\lib\\site-packages\\matplotlib\\backends\\backend_agg.py:201: RuntimeWarning: Glyph 9 missing from current font.\n",
      "  font.set_text(s, 0, flags=flags)\n",
      "C:\\Users\\ryanw\\Anaconda3\\lib\\site-packages\\matplotlib\\backends\\backend_agg.py:238: RuntimeWarning: Glyph 9 missing from current font.\n",
      "  font.set_text(s, 0.0, flags=flags)\n",
      "C:\\Users\\ryanw\\Anaconda3\\lib\\site-packages\\matplotlib\\backends\\backend_agg.py:201: RuntimeWarning: Glyph 9 missing from current font.\n",
      "  font.set_text(s, 0, flags=flags)\n",
      "C:\\Users\\ryanw\\Anaconda3\\lib\\site-packages\\matplotlib\\backends\\backend_agg.py:238: RuntimeWarning: Glyph 9 missing from current font.\n",
      "  font.set_text(s, 0.0, flags=flags)\n",
      "C:\\Users\\ryanw\\Anaconda3\\lib\\site-packages\\matplotlib\\backends\\backend_agg.py:201: RuntimeWarning: Glyph 9 missing from current font.\n",
      "  font.set_text(s, 0, flags=flags)\n",
      "C:\\Users\\ryanw\\Anaconda3\\lib\\site-packages\\matplotlib\\backends\\backend_agg.py:238: RuntimeWarning: Glyph 9 missing from current font.\n",
      "  font.set_text(s, 0.0, flags=flags)\n",
      "C:\\Users\\ryanw\\Anaconda3\\lib\\site-packages\\matplotlib\\backends\\backend_agg.py:201: RuntimeWarning: Glyph 9 missing from current font.\n",
      "  font.set_text(s, 0, flags=flags)\n",
      "C:\\Users\\ryanw\\Anaconda3\\lib\\site-packages\\matplotlib\\backends\\backend_agg.py:238: RuntimeWarning: Glyph 9 missing from current font.\n",
      "  font.set_text(s, 0.0, flags=flags)\n",
      "C:\\Users\\ryanw\\Anaconda3\\lib\\site-packages\\matplotlib\\backends\\backend_agg.py:201: RuntimeWarning: Glyph 9 missing from current font.\n",
      "  font.set_text(s, 0, flags=flags)\n",
      "C:\\Users\\ryanw\\Anaconda3\\lib\\site-packages\\matplotlib\\backends\\backend_agg.py:238: RuntimeWarning: Glyph 9 missing from current font.\n",
      "  font.set_text(s, 0.0, flags=flags)\n",
      "C:\\Users\\ryanw\\Anaconda3\\lib\\site-packages\\matplotlib\\backends\\backend_agg.py:201: RuntimeWarning: Glyph 9 missing from current font.\n",
      "  font.set_text(s, 0, flags=flags)\n",
      "C:\\Users\\ryanw\\Anaconda3\\lib\\site-packages\\matplotlib\\backends\\backend_agg.py:238: RuntimeWarning: Glyph 9 missing from current font.\n",
      "  font.set_text(s, 0.0, flags=flags)\n",
      "C:\\Users\\ryanw\\Anaconda3\\lib\\site-packages\\matplotlib\\backends\\backend_agg.py:201: RuntimeWarning: Glyph 9 missing from current font.\n",
      "  font.set_text(s, 0, flags=flags)\n",
      "C:\\Users\\ryanw\\Anaconda3\\lib\\site-packages\\matplotlib\\backends\\backend_agg.py:238: RuntimeWarning: Glyph 9 missing from current font.\n",
      "  font.set_text(s, 0.0, flags=flags)\n",
      "C:\\Users\\ryanw\\Anaconda3\\lib\\site-packages\\matplotlib\\backends\\backend_agg.py:201: RuntimeWarning: Glyph 9 missing from current font.\n",
      "  font.set_text(s, 0, flags=flags)\n",
      "C:\\Users\\ryanw\\Anaconda3\\lib\\site-packages\\matplotlib\\backends\\backend_agg.py:238: RuntimeWarning: Glyph 9 missing from current font.\n",
      "  font.set_text(s, 0.0, flags=flags)\n",
      "C:\\Users\\ryanw\\Anaconda3\\lib\\site-packages\\matplotlib\\backends\\backend_agg.py:201: RuntimeWarning: Glyph 9 missing from current font.\n",
      "  font.set_text(s, 0, flags=flags)\n",
      "C:\\Users\\ryanw\\Anaconda3\\lib\\site-packages\\matplotlib\\backends\\backend_agg.py:238: RuntimeWarning: Glyph 9 missing from current font.\n",
      "  font.set_text(s, 0.0, flags=flags)\n",
      "C:\\Users\\ryanw\\Anaconda3\\lib\\site-packages\\matplotlib\\backends\\backend_agg.py:201: RuntimeWarning: Glyph 9 missing from current font.\n",
      "  font.set_text(s, 0, flags=flags)\n"
     ]
    },
    {
     "name": "stdout",
     "output_type": "stream",
     "text": [
      "Making directory NGC_7078\n"
     ]
    },
    {
     "name": "stderr",
     "output_type": "stream",
     "text": [
      "C:\\Users\\ryanw\\Anaconda3\\lib\\site-packages\\numpy\\core\\_methods.py:202: RuntimeWarning: invalid value encountered in subtract\n",
      "  x = asanyarray(arr - arrmean)\n",
      "C:\\Users\\ryanw\\Anaconda3\\lib\\site-packages\\matplotlib\\backends\\backend_agg.py:238: RuntimeWarning: Glyph 9 missing from current font.\n",
      "  font.set_text(s, 0.0, flags=flags)\n",
      "C:\\Users\\ryanw\\Anaconda3\\lib\\site-packages\\matplotlib\\backends\\backend_agg.py:201: RuntimeWarning: Glyph 9 missing from current font.\n",
      "  font.set_text(s, 0, flags=flags)\n",
      "C:\\Users\\ryanw\\Anaconda3\\lib\\site-packages\\matplotlib\\backends\\backend_agg.py:238: RuntimeWarning: Glyph 9 missing from current font.\n",
      "  font.set_text(s, 0.0, flags=flags)\n",
      "C:\\Users\\ryanw\\Anaconda3\\lib\\site-packages\\matplotlib\\backends\\backend_agg.py:201: RuntimeWarning: Glyph 9 missing from current font.\n",
      "  font.set_text(s, 0, flags=flags)\n",
      "C:\\Users\\ryanw\\Anaconda3\\lib\\site-packages\\matplotlib\\backends\\backend_agg.py:238: RuntimeWarning: Glyph 9 missing from current font.\n",
      "  font.set_text(s, 0.0, flags=flags)\n",
      "C:\\Users\\ryanw\\Anaconda3\\lib\\site-packages\\matplotlib\\backends\\backend_agg.py:201: RuntimeWarning: Glyph 9 missing from current font.\n",
      "  font.set_text(s, 0, flags=flags)\n",
      "C:\\Users\\ryanw\\Anaconda3\\lib\\site-packages\\matplotlib\\backends\\backend_agg.py:238: RuntimeWarning: Glyph 9 missing from current font.\n",
      "  font.set_text(s, 0.0, flags=flags)\n",
      "C:\\Users\\ryanw\\Anaconda3\\lib\\site-packages\\matplotlib\\backends\\backend_agg.py:201: RuntimeWarning: Glyph 9 missing from current font.\n",
      "  font.set_text(s, 0, flags=flags)\n",
      "C:\\Users\\ryanw\\Anaconda3\\lib\\site-packages\\matplotlib\\backends\\backend_agg.py:238: RuntimeWarning: Glyph 9 missing from current font.\n",
      "  font.set_text(s, 0.0, flags=flags)\n",
      "C:\\Users\\ryanw\\Anaconda3\\lib\\site-packages\\matplotlib\\backends\\backend_agg.py:201: RuntimeWarning: Glyph 9 missing from current font.\n",
      "  font.set_text(s, 0, flags=flags)\n",
      "C:\\Users\\ryanw\\Anaconda3\\lib\\site-packages\\matplotlib\\backends\\backend_agg.py:238: RuntimeWarning: Glyph 9 missing from current font.\n",
      "  font.set_text(s, 0.0, flags=flags)\n",
      "C:\\Users\\ryanw\\Anaconda3\\lib\\site-packages\\matplotlib\\backends\\backend_agg.py:201: RuntimeWarning: Glyph 9 missing from current font.\n",
      "  font.set_text(s, 0, flags=flags)\n",
      "C:\\Users\\ryanw\\Anaconda3\\lib\\site-packages\\matplotlib\\backends\\backend_agg.py:238: RuntimeWarning: Glyph 9 missing from current font.\n",
      "  font.set_text(s, 0.0, flags=flags)\n",
      "C:\\Users\\ryanw\\Anaconda3\\lib\\site-packages\\matplotlib\\backends\\backend_agg.py:201: RuntimeWarning: Glyph 9 missing from current font.\n",
      "  font.set_text(s, 0, flags=flags)\n",
      "C:\\Users\\ryanw\\Anaconda3\\lib\\site-packages\\matplotlib\\backends\\backend_agg.py:238: RuntimeWarning: Glyph 9 missing from current font.\n",
      "  font.set_text(s, 0.0, flags=flags)\n",
      "C:\\Users\\ryanw\\Anaconda3\\lib\\site-packages\\matplotlib\\backends\\backend_agg.py:201: RuntimeWarning: Glyph 9 missing from current font.\n",
      "  font.set_text(s, 0, flags=flags)\n",
      "C:\\Users\\ryanw\\Anaconda3\\lib\\site-packages\\matplotlib\\backends\\backend_agg.py:238: RuntimeWarning: Glyph 9 missing from current font.\n",
      "  font.set_text(s, 0.0, flags=flags)\n",
      "C:\\Users\\ryanw\\Anaconda3\\lib\\site-packages\\matplotlib\\backends\\backend_agg.py:201: RuntimeWarning: Glyph 9 missing from current font.\n",
      "  font.set_text(s, 0, flags=flags)\n",
      "C:\\Users\\ryanw\\Anaconda3\\lib\\site-packages\\matplotlib\\backends\\backend_agg.py:238: RuntimeWarning: Glyph 9 missing from current font.\n",
      "  font.set_text(s, 0.0, flags=flags)\n",
      "C:\\Users\\ryanw\\Anaconda3\\lib\\site-packages\\matplotlib\\backends\\backend_agg.py:201: RuntimeWarning: Glyph 9 missing from current font.\n",
      "  font.set_text(s, 0, flags=flags)\n"
     ]
    },
    {
     "name": "stdout",
     "output_type": "stream",
     "text": [
      "Making directory NGC_7089\n"
     ]
    },
    {
     "name": "stderr",
     "output_type": "stream",
     "text": [
      "C:\\Users\\ryanw\\Anaconda3\\lib\\site-packages\\numpy\\core\\_methods.py:202: RuntimeWarning: invalid value encountered in subtract\n",
      "  x = asanyarray(arr - arrmean)\n",
      "C:\\Users\\ryanw\\Anaconda3\\lib\\site-packages\\numpy\\core\\_methods.py:202: RuntimeWarning: invalid value encountered in subtract\n",
      "  x = asanyarray(arr - arrmean)\n",
      "C:\\Users\\ryanw\\Anaconda3\\lib\\site-packages\\matplotlib\\backends\\backend_agg.py:238: RuntimeWarning: Glyph 9 missing from current font.\n",
      "  font.set_text(s, 0.0, flags=flags)\n",
      "C:\\Users\\ryanw\\Anaconda3\\lib\\site-packages\\matplotlib\\backends\\backend_agg.py:201: RuntimeWarning: Glyph 9 missing from current font.\n",
      "  font.set_text(s, 0, flags=flags)\n",
      "C:\\Users\\ryanw\\Anaconda3\\lib\\site-packages\\matplotlib\\backends\\backend_agg.py:238: RuntimeWarning: Glyph 9 missing from current font.\n",
      "  font.set_text(s, 0.0, flags=flags)\n",
      "C:\\Users\\ryanw\\Anaconda3\\lib\\site-packages\\matplotlib\\backends\\backend_agg.py:201: RuntimeWarning: Glyph 9 missing from current font.\n",
      "  font.set_text(s, 0, flags=flags)\n",
      "C:\\Users\\ryanw\\Anaconda3\\lib\\site-packages\\matplotlib\\backends\\backend_agg.py:238: RuntimeWarning: Glyph 9 missing from current font.\n",
      "  font.set_text(s, 0.0, flags=flags)\n",
      "C:\\Users\\ryanw\\Anaconda3\\lib\\site-packages\\matplotlib\\backends\\backend_agg.py:201: RuntimeWarning: Glyph 9 missing from current font.\n",
      "  font.set_text(s, 0, flags=flags)\n",
      "C:\\Users\\ryanw\\Anaconda3\\lib\\site-packages\\matplotlib\\backends\\backend_agg.py:238: RuntimeWarning: Glyph 9 missing from current font.\n",
      "  font.set_text(s, 0.0, flags=flags)\n",
      "C:\\Users\\ryanw\\Anaconda3\\lib\\site-packages\\matplotlib\\backends\\backend_agg.py:201: RuntimeWarning: Glyph 9 missing from current font.\n",
      "  font.set_text(s, 0, flags=flags)\n",
      "C:\\Users\\ryanw\\Anaconda3\\lib\\site-packages\\matplotlib\\backends\\backend_agg.py:238: RuntimeWarning: Glyph 9 missing from current font.\n",
      "  font.set_text(s, 0.0, flags=flags)\n",
      "C:\\Users\\ryanw\\Anaconda3\\lib\\site-packages\\matplotlib\\backends\\backend_agg.py:201: RuntimeWarning: Glyph 9 missing from current font.\n",
      "  font.set_text(s, 0, flags=flags)\n",
      "C:\\Users\\ryanw\\Anaconda3\\lib\\site-packages\\matplotlib\\backends\\backend_agg.py:238: RuntimeWarning: Glyph 9 missing from current font.\n",
      "  font.set_text(s, 0.0, flags=flags)\n",
      "C:\\Users\\ryanw\\Anaconda3\\lib\\site-packages\\matplotlib\\backends\\backend_agg.py:201: RuntimeWarning: Glyph 9 missing from current font.\n",
      "  font.set_text(s, 0, flags=flags)\n",
      "C:\\Users\\ryanw\\Anaconda3\\lib\\site-packages\\matplotlib\\backends\\backend_agg.py:238: RuntimeWarning: Glyph 9 missing from current font.\n",
      "  font.set_text(s, 0.0, flags=flags)\n",
      "C:\\Users\\ryanw\\Anaconda3\\lib\\site-packages\\matplotlib\\backends\\backend_agg.py:201: RuntimeWarning: Glyph 9 missing from current font.\n",
      "  font.set_text(s, 0, flags=flags)\n",
      "C:\\Users\\ryanw\\Anaconda3\\lib\\site-packages\\matplotlib\\backends\\backend_agg.py:238: RuntimeWarning: Glyph 9 missing from current font.\n",
      "  font.set_text(s, 0.0, flags=flags)\n",
      "C:\\Users\\ryanw\\Anaconda3\\lib\\site-packages\\matplotlib\\backends\\backend_agg.py:201: RuntimeWarning: Glyph 9 missing from current font.\n",
      "  font.set_text(s, 0, flags=flags)\n",
      "C:\\Users\\ryanw\\Anaconda3\\lib\\site-packages\\matplotlib\\backends\\backend_agg.py:238: RuntimeWarning: Glyph 9 missing from current font.\n",
      "  font.set_text(s, 0.0, flags=flags)\n",
      "C:\\Users\\ryanw\\Anaconda3\\lib\\site-packages\\matplotlib\\backends\\backend_agg.py:201: RuntimeWarning: Glyph 9 missing from current font.\n",
      "  font.set_text(s, 0, flags=flags)\n",
      "C:\\Users\\ryanw\\Anaconda3\\lib\\site-packages\\matplotlib\\backends\\backend_agg.py:238: RuntimeWarning: Glyph 9 missing from current font.\n",
      "  font.set_text(s, 0.0, flags=flags)\n",
      "C:\\Users\\ryanw\\Anaconda3\\lib\\site-packages\\matplotlib\\backends\\backend_agg.py:201: RuntimeWarning: Glyph 9 missing from current font.\n",
      "  font.set_text(s, 0, flags=flags)\n"
     ]
    },
    {
     "name": "stdout",
     "output_type": "stream",
     "text": [
      "\n",
      "That shit took  5.867862232526144  mins\n"
     ]
    },
    {
     "data": {
      "text/plain": [
       "\"wave_obj = sa.WaveObject.from_wave_file('Doja_Cat_Mooo.wav')\\nplay_obj = wave_obj.play()\\nplay_obj.wait_done()\\nplay_obj.stop()\""
      ]
     },
     "execution_count": 71,
     "metadata": {},
     "output_type": "execute_result"
    },
    {
     "data": {
      "text/plain": [
       "<Figure size 432x288 with 0 Axes>"
      ]
     },
     "metadata": {},
     "output_type": "display_data"
    },
    {
     "data": {
      "image/png": "[encoded data removed]",
      "text/plain": [
       "<Figure size 864x864 with 1 Axes>"
      ]
     },
     "metadata": {
      "needs_background": "light"
     },
     "output_type": "display_data"
    },
    {
     "data": {
      "image/png": "[encoded data removed]",
      "text/plain": [
       "<Figure size 864x864 with 1 Axes>"
      ]
     },
     "metadata": {
      "needs_background": "light"
     },
     "output_type": "display_data"
    },
    {
     "data": {
      "image/png": "[encoded data removed]",
      "text/plain": [
       "<Figure size 864x864 with 1 Axes>"
      ]
     },
     "metadata": {
      "needs_background": "light"
     },
     "output_type": "display_data"
    },
    {
     "data": {
      "image/png": "[encoded data removed]",
      "text/plain": [
       "<Figure size 864x864 with 1 Axes>"
      ]
     },
     "metadata": {
      "needs_background": "light"
     },
     "output_type": "display_data"
    },
    {
     "data": {
      "text/plain": [
       "<Figure size 864x864 with 0 Axes>"
      ]
     },
     "metadata": {},
     "output_type": "display_data"
    },
    {
     "data": {
      "image/png": "[encoded data removed]",
      "text/plain": [
       "<Figure size 864x864 with 1 Axes>"
      ]
     },
     "metadata": {
      "needs_background": "light"
     },
     "output_type": "display_data"
    },
    {
     "data": {
      "image/png": "[encoded data removed]",
      "text/plain": [
       "<Figure size 864x864 with 1 Axes>"
      ]
     },
     "metadata": {
      "needs_background": "light"
     },
     "output_type": "display_data"
    },
    {
     "data": {
      "image/png": "[encoded data removed]",
      "text/plain": [
       "<Figure size 864x864 with 1 Axes>"
      ]
     },
     "metadata": {
      "needs_background": "light"
     },
     "output_type": "display_data"
    },
    {
     "data": {
      "image/png": "[encoded data removed]",
      "text/plain": [
       "<Figure size 864x864 with 1 Axes>"
      ]
     },
     "metadata": {
      "needs_background": "light"
     },
     "output_type": "display_data"
    },
    {
     "data": {
      "text/plain": [
       "<Figure size 864x864 with 0 Axes>"
      ]
     },
     "metadata": {},
     "output_type": "display_data"
    },
    {
     "data": {
      "image/png": "[encoded data removed]",
      "text/plain": [
       "<Figure size 864x864 with 1 Axes>"
      ]
     },
     "metadata": {
      "needs_background": "light"
     },
     "output_type": "display_data"
    },
    {
     "data": {
      "image/png": "[encoded data removed]",
      "text/plain": [
       "<Figure size 864x864 with 1 Axes>"
      ]
     },
     "metadata": {
      "needs_background": "light"
     },
     "output_type": "display_data"
    },
    {
     "data": {
      "image/png": "[encoded data removed]",
      "text/plain": [
       "<Figure size 864x864 with 1 Axes>"
      ]
     },
     "metadata": {
      "needs_background": "light"
     },
     "output_type": "display_data"
    },
    {
     "data": {
      "image/png": "[encoded data removed]",
      "text/plain": [
       "<Figure size 864x864 with 1 Axes>"
      ]
     },
     "metadata": {
      "needs_background": "light"
     },
     "output_type": "display_data"
    },
    {
     "data": {
      "text/plain": [
       "<Figure size 864x864 with 0 Axes>"
      ]
     },
     "metadata": {},
     "output_type": "display_data"
    },
    {
     "data": {
      "image/png": "[encoded data removed]",
      "text/plain": [
       "<Figure size 864x864 with 1 Axes>"
      ]
     },
     "metadata": {
      "needs_background": "light"
     },
     "output_type": "display_data"
    },
    {
     "data": {
      "image/png": "[encoded data removed]",
      "text/plain": [
       "<Figure size 864x864 with 1 Axes>"
      ]
     },
     "metadata": {
      "needs_background": "light"
     },
     "output_type": "display_data"
    },
    {
     "data": {
      "image/png": "[encoded data removed]",
      "text/plain": [
       "<Figure size 864x864 with 1 Axes>"
      ]
     },
     "metadata": {
      "needs_background": "light"
     },
     "output_type": "display_data"
    },
    {
     "data": {
      "image/png": "[encoded data removed]",
      "text/plain": [
       "<Figure size 864x864 with 1 Axes>"
      ]
     },
     "metadata": {
      "needs_background": "light"
     },
     "output_type": "display_data"
    },
    {
     "data": {
      "text/plain": [
       "<Figure size 864x864 with 0 Axes>"
      ]
     },
     "metadata": {},
     "output_type": "display_data"
    },
    {
     "data": {
      "image/png": "[encoded data removed]",
      "text/plain": [
       "<Figure size 864x864 with 1 Axes>"
      ]
     },
     "metadata": {
      "needs_background": "light"
     },
     "output_type": "display_data"
    },
    {
     "data": {
      "image/png": "[encoded data removed]",
      "text/plain": [
       "<Figure size 864x864 with 1 Axes>"
      ]
     },
     "metadata": {
      "needs_background": "light"
     },
     "output_type": "display_data"
    },
    {
     "data": {
      "image/png": "[encoded data removed]",
      "text/plain": [
       "<Figure size 864x864 with 1 Axes>"
      ]
     },
     "metadata": {
      "needs_background": "light"
     },
     "output_type": "display_data"
    },
    {
     "data": {
      "image/png": "[encoded data removed]",
      "text/plain": [
       "<Figure size 864x864 with 1 Axes>"
      ]
     },
     "metadata": {
      "needs_background": "light"
     },
     "output_type": "display_data"
    },
    {
     "data": {
      "text/plain": [
       "<Figure size 864x864 with 0 Axes>"
      ]
     },
     "metadata": {},
     "output_type": "display_data"
    },
    {
     "data": {
      "image/png": "[encoded data removed]",
      "text/plain": [
       "<Figure size 864x864 with 1 Axes>"
      ]
     },
     "metadata": {
      "needs_background": "light"
     },
     "output_type": "display_data"
    },
    {
     "data": {
      "image/png": "[encoded data removed]",
      "text/plain": [
       "<Figure size 864x864 with 1 Axes>"
      ]
     },
     "metadata": {
      "needs_background": "light"
     },
     "output_type": "display_data"
    },
    {
     "data": {
      "image/png": "[encoded data removed]",
      "text/plain": [
       "<Figure size 864x864 with 1 Axes>"
      ]
     },
     "metadata": {
      "needs_background": "light"
     },
     "output_type": "display_data"
    },
    {
     "data": {
      "image/png": "[encoded data removed]",
      "text/plain": [
       "<Figure size 864x864 with 1 Axes>"
      ]
     },
     "metadata": {
      "needs_background": "light"
     },
     "output_type": "display_data"
    },
    {
     "data": {
      "text/plain": [
       "<Figure size 864x864 with 0 Axes>"
      ]
     },
     "metadata": {},
     "output_type": "display_data"
    },
    {
     "data": {
      "image/png": "[encoded data removed]",
      "text/plain": [
       "<Figure size 864x864 with 1 Axes>"
      ]
     },
     "metadata": {
      "needs_background": "light"
     },
     "output_type": "display_data"
    },
    {
     "data": {
      "image/png": "[encoded data removed]",
      "text/plain": [
       "<Figure size 864x864 with 1 Axes>"
      ]
     },
     "metadata": {
      "needs_background": "light"
     },
     "output_type": "display_data"
    },
    {
     "data": {
      "image/png": "[encoded data removed]",
      "text/plain": [
       "<Figure size 864x864 with 1 Axes>"
      ]
     },
     "metadata": {
      "needs_background": "light"
     },
     "output_type": "display_data"
    },
    {
     "data": {
      "image/png": "[encoded data removed]",
      "text/plain": [
       "<Figure size 864x864 with 1 Axes>"
      ]
     },
     "metadata": {
      "needs_background": "light"
     },
     "output_type": "display_data"
    },
    {
     "data": {
      "image/png": "[encoded data removed]",
      "text/plain": [
       "<Figure size 864x864 with 1 Axes>"
      ]
     },
     "metadata": {
      "needs_background": "light"
     },
     "output_type": "display_data"
    }
   ],
   "source": [
    "start = time.time()\n",
    "\n",
    "for i in tqdm(range(24, 31)):\n",
    "    try: \n",
    "        os.makedirs('GCs_final/' + GC_name_arr[i])\n",
    "        print('Making directory ' + GC_name_arr[i])\n",
    "    except OSError as error:\n",
    "        print('Directory ' + GC_name_arr[i] + ' already exists')\n",
    "        \n",
    "    ### plotting original data\n",
    "    tsne_pack = [tsne_control_X[i][0], tsne_control_Y[i][0], tsne_all_X[i], tsne_all_Y[i]]\n",
    "    umap_pack = [umap_control_X[i][0], umap_control_Y[i][0], umap_all_X[i], umap_all_Y[i]]\n",
    "    plot_ML(GC_name_arr[i], tsne_pack, umap_pack)\n",
    "    \n",
    "    ### dbscan and heatmap to find optimal eps, min samps\n",
    "    tsne_eps_ctrl, tsne_samp_ctrl = db_ctrl(GC_name_arr[i], 'tsne', tsne_control_X[i][0], tsne_control_Y[i][0])\n",
    "    umap_eps_ctrl, umap_samp_ctrl = db_ctrl(GC_name_arr[i], 'umap', umap_control_X[i][0], umap_control_Y[i][0])\n",
    "    \n",
    "    \n",
    "    ### run again and choose main control group\n",
    "    tsne_ctrl_labels = db_opt_ctrl(GC_name_arr[i], 'tsne', tsne_control_X[i][0], tsne_control_Y[i][0], tsne_eps_ctrl, tsne_samp_ctrl)\n",
    "    umap_ctrl_labels = db_opt_ctrl(GC_name_arr[i], 'umap', umap_control_X[i][0], umap_control_Y[i][0], umap_eps_ctrl, umap_samp_ctrl)\n",
    "    \n",
    "    ### final control stars\n",
    "    final_ctrl.append(final_control_group(control_indices_rad[i][0][0], tsne_ctrl_labels, umap_ctrl_labels, GC_name_arr[i], tsne_pack, umap_pack)[0])\n",
    "    tsne_other_ctrl.append(final_control_group(control_indices_rad[i][0][0], tsne_ctrl_labels, umap_ctrl_labels, GC_name_arr[i], tsne_pack, umap_pack)[1])\n",
    "    umap_other_ctrl.append(final_control_group(control_indices_rad[i][0][0], tsne_ctrl_labels, umap_ctrl_labels, GC_name_arr[i], tsne_pack, umap_pack)[2])\n",
    "    tsne_ctrl_lab.append(final_control_group(control_indices_rad[i][0][0], tsne_ctrl_labels, umap_ctrl_labels, GC_name_arr[i], tsne_pack, umap_pack)[3]) \n",
    "    umap_ctrl_lab.append(final_control_group(control_indices_rad[i][0][0], tsne_ctrl_labels, umap_ctrl_labels, GC_name_arr[i], tsne_pack, umap_pack)[4])\n",
    "\n",
    "end = time.time()\n",
    "print('That shit took ', (end - start) / 60, ' mins')\n",
    "\n",
    "'''wave_obj = sa.WaveObject.from_wave_file('Doja_Cat_Mooo.wav')\n",
    "play_obj = wave_obj.play()\n",
    "play_obj.wait_done()\n",
    "play_obj.stop()'''"
   ]
  },
  {
   "cell_type": "code",
   "execution_count": 335,
   "metadata": {},
   "outputs": [],
   "source": [
    "play_obj.stop()"
   ]
  },
  {
   "cell_type": "markdown",
   "metadata": {},
   "source": [
    "### run again with new control group and no kin"
   ]
  },
  {
   "cell_type": "code",
   "execution_count": 72,
   "metadata": {},
   "outputs": [],
   "source": [
    "param_list = ['# APOGEE_ID_', 'GAIAEDR3_SOURCE_ID', 'GAIAEDR3_PARALLAX', 'GAIAEDR3_PARALLAX_ERROR',\n",
    "              'RA', 'DEC', 'GAIAEDR3_PMRA', 'GAIAEDR3_PMRA_ERROR', 'GAIAEDR3_PMDEC', 'GAIAEDR3_PMDEC_ERROR', \n",
    "              'VHELIO_AVG', 'VERR', 'SNR',\n",
    "              'FE_H', 'FE_H_ERR', 'C_FE', 'C_FE_ERR', 'CI_FE', 'CI_FE_ERR', 'N_FE', 'N_FE_ERR',\n",
    "              'O_FE', 'O_FE_ERR', 'MG_FE', 'MG_FE_ERR', 'AL_FE', 'AL_FE_ERR', 'SI_FE', 'SI_FE_ERR',\n",
    "              'P_FE', 'P_FE_ERR', 'S_FE', 'S_FE_ERR', 'K_FE', 'K_FE_ERR', 'CA_FE', 'CA_FE_ERR',\n",
    "              'TI_FE', 'TI_FE_ERR', 'TIII_FE', 'TIII_FE_ERR', 'V_FE', 'V_FE_ERR', 'CR_FE', 'CR_FE_ERR',\n",
    "              'MN_FE', 'MN_FE_ERR', 'CO_FE', 'CO_FE_ERR', 'NI_FE', 'NI_FE_ERR']\n",
    "\n",
    "abundance_index = 13 # index where the first chemical abundance starts\n",
    "RV_index = 10 # where the radial velocity index is (NOTE: USE VHELIO_AVG NOT THE STUPID GAIA ONE)\n",
    "PMRA_index = 6 # PMRA index\n",
    "PMDEC_index = 8 # PMDEC index\n",
    "\n",
    "# dictionary of all relevant parameters we could ever want for tSNE and UMAP\n",
    "# the abundances should skip every other one due to it being [chem1, chem1_err, chem2, chem2_err, etc.]\n",
    "all_param_dict_norad = {'FE_H': abundance_index,\n",
    "                 'C_FE': abundance_index + 2,\n",
    "                 'CI_FE': abundance_index + 4,\n",
    "                 'N_FE': abundance_index + 6,\n",
    "                 'O_FE': abundance_index + 8,\n",
    "                 'MG_FE': abundance_index + 10,\n",
    "                 'AL_FE': abundance_index + 12,\n",
    "                 'SI_FE': abundance_index + 14,\n",
    "                 'P_FE': abundance_index + 16,\n",
    "                 'S_FE': abundance_index + 18,\n",
    "                 'K_FE': abundance_index + 20,\n",
    "                 'CA_FE': abundance_index + 22,\n",
    "                 'TI_FE': abundance_index + 24,\n",
    "                 'TIII_FE': abundance_index + 26,\n",
    "                 'V_FE': abundance_index + 28,\n",
    "                 'CR_FE': abundance_index + 30,\n",
    "                 'MN_FE': abundance_index + 32,\n",
    "                 'CO_FE': abundance_index + 34,\n",
    "                 'NI_FE': abundance_index + 36}\n",
    "\n",
    "\n",
    "fov = 5 # field of view (note: for x by x, use fov = x/2)\n",
    "ML_index = 0 # 0 for both tSNE and UMAP, 1 for only tSNE, 2 for only UMAP, any other value will raise an error"
   ]
  },
  {
   "cell_type": "code",
   "execution_count": 73,
   "metadata": {},
   "outputs": [],
   "source": [
    "def master_func_nokin(GC_name, master_param_dict, fov, db, dataset, params, ML, GC_indices_control):\n",
    "    print('\\nProcessing:', GC_name)\n",
    "    ML_values = {0, 1, 2}    \n",
    "    if ML not in ML_values:\n",
    "        raise ValueError('ML index not one of %r.' % ML_values)\n",
    "    \n",
    "    # getting GC parameteters\n",
    "    ra, dec, rhm_deg, rt_deg = GC_params(GC_name, db)\n",
    "    \n",
    "    # loading\n",
    "    GC_dict, GC_cols = master_load(ra, dec, fov, dataset, params, GC_name, rhm_deg, rt_deg)\n",
    "    \n",
    "    # filtering\n",
    "    GC_filter_data = master_filter(GC_dict, GC_cols)\n",
    "    \n",
    "    if GC_filter_data[0].size == 0:\n",
    "        print(\"This shit don't got no stars bruh\\n\")\n",
    "        return [None, None, None, None, None, None, None, None]\n",
    "    \n",
    "    else:\n",
    "        # choosing parameters\n",
    "        param_dict = master_param_dict\n",
    "\n",
    "        if ML == 0:\n",
    "            # tSNEing\n",
    "            tSNE_X, tSNE_Y, tSNE_control_X, tSNE_control_Y = master_tSNE(GC_filter_data, param_dict, GC_indices_control, GC_name, GC_filter_data[0].size)\n",
    "\n",
    "            # UMAPing\n",
    "            UMAP_X, UMAP_Y, UMAP_control_X, UMAP_control_Y = master_UMAP(GC_filter_data, param_dict, GC_indices_control, GC_name, GC_filter_data[0].size)\n",
    "\n",
    "            print('Done!\\n')\n",
    "            return [tSNE_X, tSNE_Y, tSNE_control_X, tSNE_control_Y, UMAP_X, UMAP_Y, UMAP_control_X, UMAP_control_Y, GC_indices_control]\n",
    "\n",
    "        elif ML == 1:\n",
    "            # tSNEing\n",
    "            tSNE_X, tSNE_Y, tSNE_control_X, tSNE_control_Y = master_tSNE(GC_filter_data, param_dict, GC_indices_control, GC_filter_data[0].size)\n",
    "\n",
    "            print('Done!\\n')\n",
    "            return [tSNE_X, tSNE_Y, tSNE_control_X, tSNE_control_Y, None, None, None, None]\n",
    "\n",
    "        elif ML == 2:\n",
    "            # UMAPing\n",
    "            UMAP_X, UMAP_Y, UMAP_control_X, UMAP_control_Y = master_UMAP(GC_filter_data, param_dict, GC_indices_control, GC_filter_data[0].size)\n",
    "\n",
    "            print('Done!\\n')\n",
    "            return [None, None, None, None, UMAP_X, UMAP_Y, UMAP_control_X, UMAP_control_Y]"
   ]
  },
  {
   "cell_type": "code",
   "execution_count": 74,
   "metadata": {},
   "outputs": [],
   "source": [
    "GC_stars_dict_norad = {}"
   ]
  },
  {
   "cell_type": "code",
   "execution_count": 75,
   "metadata": {},
   "outputs": [
    {
     "data": {
      "application/vnd.jupyter.widget-view+json": {
       "model_id": "1a57cb0def7d421bb3a010e20a5cb578",
       "version_major": 2,
       "version_minor": 0
      },
      "text/plain": [
       "HBox(children=(HTML(value=''), FloatProgress(value=0.0, max=31.0), HTML(value='')))"
      ]
     },
     "metadata": {},
     "output_type": "display_data"
    },
    {
     "name": "stdout",
     "output_type": "stream",
     "text": [
      "\n",
      "Processing: NGC_104\n",
      "467 stars in a 10x10 fov of the GC\n",
      "Directory NGC_104 already exists\n",
      "\n",
      "The final amount of stars in our sample is: 467\n",
      "Done!\n",
      "\n",
      "\n",
      "Processing: NGC_288\n",
      "293 stars in a 10x10 fov of the GC\n",
      "Directory NGC_288 already exists\n",
      "\n",
      "The final amount of stars in our sample is: 287\n",
      "Done!\n",
      "\n",
      "\n",
      "Processing: NGC_362\n",
      "1218 stars in a 10x10 fov of the GC\n",
      "Directory NGC_362 already exists\n",
      "\n",
      "The final amount of stars in our sample is: 1215\n",
      "Done!\n",
      "\n",
      "\n",
      "Processing: NGC_1851\n",
      "311 stars in a 10x10 fov of the GC\n",
      "Directory NGC_1851 already exists\n",
      "\n",
      "The final amount of stars in our sample is: 307\n",
      "Done!\n",
      "\n",
      "\n",
      "Processing: NGC_1904\n",
      "248 stars in a 10x10 fov of the GC\n",
      "Directory NGC_1904 already exists\n",
      "\n",
      "The final amount of stars in our sample is: 246\n",
      "Done!\n",
      "\n",
      "\n",
      "Processing: NGC_2808\n",
      "566 stars in a 10x10 fov of the GC\n",
      "Directory NGC_2808 already exists\n",
      "\n",
      "The final amount of stars in our sample is: 565\n",
      "Done!\n",
      "\n",
      "\n",
      "Processing: NGC_3201\n",
      "1065 stars in a 10x10 fov of the GC\n",
      "Directory NGC_3201 already exists\n",
      "\n",
      "The final amount of stars in our sample is: 1064\n",
      "Done!\n",
      "\n",
      "\n",
      "Processing: NGC_4590\n",
      "310 stars in a 10x10 fov of the GC\n",
      "Directory NGC_4590 already exists\n",
      "\n",
      "The final amount of stars in our sample is: 307\n",
      "Done!\n",
      "\n",
      "\n",
      "Processing: NGC_5024\n",
      "592 stars in a 10x10 fov of the GC\n",
      "Directory NGC_5024 already exists\n",
      "\n",
      "The final amount of stars in our sample is: 587\n",
      "Done!\n",
      "\n",
      "\n",
      "Processing: NGC_5053\n",
      "634 stars in a 10x10 fov of the GC\n",
      "Directory NGC_5053 already exists\n",
      "\n",
      "The final amount of stars in our sample is: 628\n",
      "Done!\n",
      "\n",
      "\n",
      "Processing: NGC_5272\n",
      "1906 stars in a 10x10 fov of the GC\n",
      "Directory NGC_5272 already exists\n",
      "\n",
      "The final amount of stars in our sample is: 1891\n",
      "Done!\n",
      "\n",
      "\n",
      "Processing: NGC_5466\n",
      "914 stars in a 10x10 fov of the GC\n",
      "Directory NGC_5466 already exists\n",
      "\n",
      "The final amount of stars in our sample is: 904\n",
      "Done!\n",
      "\n",
      "\n",
      "Processing: NGC_5904\n",
      "927 stars in a 10x10 fov of the GC\n",
      "Directory NGC_5904 already exists\n",
      "\n",
      "The final amount of stars in our sample is: 927\n",
      "Done!\n",
      "\n",
      "\n",
      "Processing: NGC_6121\n",
      "3307 stars in a 10x10 fov of the GC\n",
      "Directory NGC_6121 already exists\n",
      "\n",
      "The final amount of stars in our sample is: 3292\n",
      "Done!\n",
      "\n",
      "\n",
      "Processing: NGC_6171\n",
      "733 stars in a 10x10 fov of the GC\n",
      "Directory NGC_6171 already exists\n",
      "\n",
      "The final amount of stars in our sample is: 733\n",
      "Done!\n",
      "\n",
      "\n",
      "Processing: NGC_6205\n",
      "2345 stars in a 10x10 fov of the GC\n",
      "Directory NGC_6205 already exists\n",
      "\n",
      "The final amount of stars in our sample is: 2324\n",
      "Done!\n",
      "\n",
      "\n",
      "Processing: NGC_6218\n",
      "986 stars in a 10x10 fov of the GC\n",
      "Directory NGC_6218 already exists\n",
      "\n",
      "The final amount of stars in our sample is: 981\n",
      "Done!\n",
      "\n",
      "\n",
      "Processing: NGC_6229\n",
      "811 stars in a 10x10 fov of the GC\n",
      "Directory NGC_6229 already exists\n",
      "\n",
      "The final amount of stars in our sample is: 806\n",
      "Done!\n",
      "\n",
      "\n",
      "Processing: NGC_6254\n",
      "815 stars in a 10x10 fov of the GC\n",
      "Directory NGC_6254 already exists\n",
      "\n",
      "The final amount of stars in our sample is: 811\n",
      "Done!\n",
      "\n",
      "\n",
      "Processing: NGC_6273\n",
      "3054 stars in a 10x10 fov of the GC\n",
      "Directory NGC_6273 already exists\n",
      "\n",
      "The final amount of stars in our sample is: 3044\n",
      "Done!\n",
      "\n",
      "\n",
      "Processing: NGC_6293\n",
      "2935 stars in a 10x10 fov of the GC\n",
      "Directory NGC_6293 already exists\n",
      "\n",
      "The final amount of stars in our sample is: 2926\n",
      "Done!\n",
      "\n",
      "\n",
      "Processing: NGC_6341\n",
      "536 stars in a 10x10 fov of the GC\n",
      "Directory NGC_6341 already exists\n",
      "\n",
      "The final amount of stars in our sample is: 535\n",
      "Done!\n",
      "\n",
      "\n",
      "Processing: NGC_6388\n",
      "424 stars in a 10x10 fov of the GC\n",
      "Directory NGC_6388 already exists\n",
      "\n",
      "The final amount of stars in our sample is: 424\n",
      "Done!\n",
      "\n",
      "\n",
      "Processing: NGC_6397\n",
      "1107 stars in a 10x10 fov of the GC\n",
      "Directory NGC_6397 already exists\n",
      "\n",
      "The final amount of stars in our sample is: 1106\n",
      "Done!\n",
      "\n",
      "\n",
      "Processing: NGC_6656\n",
      "2678 stars in a 10x10 fov of the GC\n",
      "Directory NGC_6656 already exists\n",
      "\n",
      "The final amount of stars in our sample is: 2675\n",
      "Done!\n",
      "\n",
      "\n",
      "Processing: NGC_6715\n",
      "2441 stars in a 10x10 fov of the GC\n",
      "Directory NGC_6715 already exists\n",
      "\n",
      "The final amount of stars in our sample is: 2439\n",
      "Done!\n",
      "\n",
      "\n",
      "Processing: NGC_6752\n",
      "230 stars in a 10x10 fov of the GC\n",
      "Directory NGC_6752 already exists\n",
      "\n",
      "The final amount of stars in our sample is: 230\n",
      "Done!\n",
      "\n",
      "\n",
      "Processing: NGC_6809\n",
      "861 stars in a 10x10 fov of the GC\n",
      "Directory NGC_6809 already exists\n",
      "\n",
      "The final amount of stars in our sample is: 859\n",
      "Done!\n",
      "\n",
      "\n",
      "Processing: NGC_6838\n",
      "2625 stars in a 10x10 fov of the GC\n",
      "Directory NGC_6838 already exists\n",
      "\n",
      "The final amount of stars in our sample is: 2614\n",
      "Done!\n",
      "\n",
      "\n",
      "Processing: NGC_7078\n",
      "1207 stars in a 10x10 fov of the GC\n",
      "Directory NGC_7078 already exists\n",
      "\n",
      "The final amount of stars in our sample is: 1195\n",
      "Done!\n",
      "\n",
      "\n",
      "Processing: NGC_7089\n",
      "785 stars in a 10x10 fov of the GC\n",
      "Directory NGC_7089 already exists\n",
      "\n",
      "The final amount of stars in our sample is: 779\n",
      "Done!\n",
      "\n",
      "\n",
      "that shit took 8.02573908964793 mins\n"
     ]
    }
   ],
   "source": [
    "start = time.time()\n",
    "\n",
    "for count, i in enumerate(tqdm(GC_name_list)):\n",
    "    GC_stars_dict_norad[i] = master_func_nokin(i, all_param_dict_norad, fov, GC_db, apogee_nofilt, param_list, ML_index, final_ctrl[count])\n",
    "    \n",
    "end = time.time()\n",
    "\n",
    "print('that shit took', (end - start) / 60, 'mins')"
   ]
  },
  {
   "cell_type": "markdown",
   "metadata": {},
   "source": [
    "### break up into individual arrays"
   ]
  },
  {
   "cell_type": "code",
   "execution_count": 76,
   "metadata": {},
   "outputs": [
    {
     "name": "stdout",
     "output_type": "stream",
     "text": [
      "31\n"
     ]
    }
   ],
   "source": [
    "control_stars_list_norad = []\n",
    "total_stars_list_norad = []\n",
    "\n",
    "sum = 0\n",
    "for key in GC_stars_dict_norad:\n",
    "    #GC_name_list.append(key)\n",
    "    if GC_stars_dict_norad[key][2] is None:\n",
    "        control_stars_list_norad.append(0)\n",
    "        total_stars_list_norad.append(0)\n",
    "    else:\n",
    "        sum += 1\n",
    "        control_stars_list_norad.append(len(GC_stars_dict_norad[key][2]))\n",
    "        total_stars_list_norad.append(len(GC_stars_dict_norad[key][0]))\n",
    "    \n",
    "#print(control_stars_list_norad)\n",
    "#print(len(GC_name_list_norad))\n",
    "print(sum)"
   ]
  },
  {
   "cell_type": "code",
   "execution_count": 77,
   "metadata": {},
   "outputs": [
    {
     "name": "stdout",
     "output_type": "stream",
     "text": [
      "31\n"
     ]
    }
   ],
   "source": [
    "new_control_stars_list_norad = []\n",
    "new_total_stars_list_norad = []\n",
    "new_stars_index_list_norad = []\n",
    "\n",
    "for i in range(len(control_stars_list_norad)):\n",
    "    #print(control_stars_list[i])\n",
    "    new_control_stars_list_norad.append(control_stars_list_norad[i])\n",
    "    new_total_stars_list_norad.append(total_stars_list_norad[i])\n",
    "    new_stars_index_list_norad.append(i)\n",
    "    '''if control_stars_list_norad[i] != 0:\n",
    "        new_control_stars_list_norad.append(control_stars_list_norad[i])\n",
    "        new_total_stars_list_norad.append(total_stars_list_norad[i])\n",
    "        new_stars_index_list_norad.append(i)'''\n",
    "        \n",
    "print(len(new_stars_index_list_norad))"
   ]
  },
  {
   "cell_type": "code",
   "execution_count": 78,
   "metadata": {},
   "outputs": [],
   "source": [
    "GC_name_arr_norad = np.empty(len(new_stars_index_list_norad), dtype=np.ndarray)\n",
    "\n",
    "tsne_control_X_norad = np.empty(len(new_stars_index_list_norad), dtype=np.ndarray)\n",
    "tsne_control_Y_norad = np.empty(len(new_stars_index_list_norad), dtype=np.ndarray)\n",
    "tsne_all_X_norad = np.empty(len(new_stars_index_list_norad), dtype=np.ndarray)\n",
    "tsne_all_Y_norad = np.empty(len(new_stars_index_list_norad), dtype=np.ndarray)\n",
    "\n",
    "umap_control_X_norad = np.empty(len(new_stars_index_list_norad), dtype=np.ndarray)\n",
    "umap_control_Y_norad = np.empty(len(new_stars_index_list_norad), dtype=np.ndarray)\n",
    "umap_all_X_norad = np.empty(len(new_stars_index_list_norad), dtype=np.ndarray)\n",
    "umap_all_Y_norad = np.empty(len(new_stars_index_list_norad), dtype=np.ndarray)\n",
    "\n",
    "control_indices_norad = np.empty(len(new_stars_index_list_norad), dtype=np.ndarray)\n",
    "\n",
    "for i in range(len(new_stars_index_list_norad)):\n",
    "    ind = new_stars_index_list_norad[i]\n",
    "    #print(ind)\n",
    "    GC_name_arr_norad[i] = GC_name_list[ind]\n",
    "    \n",
    "    tsne_control_X_norad[i] = GC_stars_dict_norad[GC_name_arr[i]][2]\n",
    "    tsne_control_Y_norad[i] = GC_stars_dict_norad[GC_name_arr[i]][3]\n",
    "    tsne_all_X_norad[i] = GC_stars_dict_norad[GC_name_arr[i]][0]\n",
    "    tsne_all_Y_norad[i] = GC_stars_dict_norad[GC_name_arr[i]][1]\n",
    "    \n",
    "    umap_control_X_norad[i] = GC_stars_dict_norad[GC_name_arr_norad[i]][6]\n",
    "    umap_control_Y_norad[i] = GC_stars_dict_norad[GC_name_arr_norad[i]][7]\n",
    "    umap_all_X_norad[i] = GC_stars_dict_norad[GC_name_arr_norad[i]][4]\n",
    "    umap_all_Y_norad[i] = GC_stars_dict_norad[GC_name_arr_norad[i]][5]\n",
    "    \n",
    "    control_indices_norad[i] = GC_stars_dict_norad[GC_name_arr_norad[i]][8]"
   ]
  },
  {
   "cell_type": "markdown",
   "metadata": {},
   "source": [
    "### run the no kin stuff with dbscan and heat map"
   ]
  },
  {
   "cell_type": "markdown",
   "metadata": {},
   "source": [
    "# need a new function, cant recycle the only db function since that one only found the max group whereas we need to now find the control stars group"
   ]
  },
  {
   "cell_type": "code",
   "execution_count": 84,
   "metadata": {},
   "outputs": [],
   "source": [
    "def db(name, title, x, y, control_indices):\n",
    "    plt.clf()\n",
    "    \n",
    "    ### setting up data for dbscan\n",
    "    X = np.c_[x, y] # column stack (i think) for second column for DBSCAN\n",
    "    \n",
    "    ### cKDTree to find nearest neighbour distance\n",
    "    col = np.column_stack([x,y]) # column stack for cKDTree\n",
    "    tree=cKDTree(col) # making a tree\n",
    "    dist, arg = tree.query(col, k=2) # querying tree for nearest neighbour distance\n",
    "    percentile_95 =  np.percentile(dist[:,1], 95) # taking the 95th percentile of that distance\n",
    "    \n",
    "    \n",
    "    ### using the nearest neighbour percentile distance to make eps arrays to cycle through\n",
    "    eps_const = np.linspace(0.1, 4, 10) # same array that multiplies into the 95th percentile\n",
    "    eps_arr = eps_const * percentile_95 # eps array to try with DBSCAN\n",
    "    \n",
    "    \n",
    "    ### making min_sample arrays to cycle through\n",
    "    # use a ball method to count nearest n neighbours within a radius of 95 percentile of nearest neighbouring distance\n",
    "    ball = tree.query_ball_tree(tree, percentile_95) # ball method where we query a ball of size 95th percentile of nearest neighbour for # of neighbors\n",
    "    neigh = [len(i) for i in ball]\n",
    "    neigh_95 = np.percentile(neigh, 95) # 95th percentile of number of neighbors\n",
    "    \n",
    "    neigh_const = np.linspace(0.1, 2, 10)\n",
    "    neigh_arr = neigh_const * neigh_95\n",
    "    neigh_arr = [int(i) for i in neigh_arr]\n",
    "    \n",
    "    # plot of histogram of nearest neighbor numbers in a ball of size 95th percentile of nearest neighbour distances\n",
    "    # plot of histogram of nearest neighbour distances\n",
    "    fig, ax = plt.subplots(2, 1, figsize=(24,12))\n",
    "    ax[0].hist(dist[:,1], color='grey', edgecolor='black')\n",
    "    ax[0].set_xlabel('Nearest neighbour dist', fontsize=30)\n",
    "    ax[0].set_title(title + ' nearest neighbour distance w/ 95th percentile as ' + str(percentile_95), fontsize=50)\n",
    "    ax[1].hist(neigh, color='grey', edgecolor='black')\n",
    "    ax[1].set_xlabel('# neighbours', fontsize=30)\n",
    "    ax[1].set_title(title + ' number of neighbour within ' + str(round(percentile_95,3)) + ' w/ 95th percentile as ' + str(round(neigh_95, 3)), fontsize=50)\n",
    "    plt.tight_layout()\n",
    "    plt.savefig('GCs_final/' + name + '/' + title + '_neigh_hist.png')\n",
    "    fig.clear()\n",
    "    plt.close(fig)\n",
    "    \n",
    "    clusterings_lst = [] # list of clusterings\n",
    "    labels_lst = [] # list of labels\n",
    "    n_clusters_lst = [] # list of clusters\n",
    "\n",
    "    # dbscan\n",
    "    for i in range(len(neigh_arr)):\n",
    "        for j in range(len(eps_arr)):\n",
    "            # all\n",
    "            db = DBSCAN(eps=eps_arr[j], min_samples=neigh_arr[i]).fit(X)\n",
    "            clusterings_lst.append(db)\n",
    "            labels_lst.append(db.labels_)\n",
    "            n_clusters_lst.append(len(set(db.labels_)) - (1 if -1 in db.labels_ else 0))\n",
    "    \n",
    "    unique_labels_lst = []\n",
    "    core_samples_masks_lst = []\n",
    "    colors_lst = []\n",
    "    \n",
    "\n",
    "    for i in range(len(labels_lst)):\n",
    "        # all\n",
    "        unique_labels_lst.append(set(labels_lst[i]))\n",
    "        core_samples_masks_lst.append(np.zeros_like(labels_lst[i], dtype=bool))\n",
    "        core_samples_masks_lst[i][clusterings_lst[i].core_sample_indices_] = True\n",
    "        colors_lst.append([plt.cm.Spectral(each) for each in np.linspace(0, 1, len(unique_labels_lst[i]))])\n",
    "\n",
    "    \n",
    "    # all\n",
    "    fig, ax = plt.subplots(10, 10, figsize=(150,150))\n",
    "    for i in range(10):\n",
    "        for j in range(10):\n",
    "            for k, col in zip(unique_labels_lst[i + 10*j], colors_lst[i + 10*j]):\n",
    "                if k == -1:\n",
    "                    # Black used for noise.\n",
    "                    lab = 'Noise'\n",
    "                    col = [0, 0, 0, 1]\n",
    "                else:\n",
    "                    lab = 'Group ' + str(k)\n",
    "\n",
    "                class_member_mask = labels_lst[i + 10*j] == k\n",
    "\n",
    "                xy = X[class_member_mask & core_samples_masks_lst[i + 10*j]]\n",
    "                ax[i][j].plot(\n",
    "                    xy[:, 0],\n",
    "                    xy[:, 1],\n",
    "                    \"o\",\n",
    "                    markerfacecolor=tuple(col),\n",
    "                    markeredgecolor=\"k\",\n",
    "                    markersize=14,\n",
    "                    label=lab\n",
    "                )\n",
    "\n",
    "                xy = X[class_member_mask & ~core_samples_masks_lst[i + 10*j]]\n",
    "                ax[i][j].plot(\n",
    "                    xy[:, 0],\n",
    "                    xy[:, 1],\n",
    "                    \"o\",\n",
    "                    markerfacecolor=tuple(col),\n",
    "                    markeredgecolor=\"k\",\n",
    "                    markersize=6,\n",
    "                )\n",
    "\n",
    "            ax[i][j].set_xlabel('X', fontsize=40)\n",
    "            ax[i][j].set_ylabel('Y', fontsize=40)\n",
    "            ax[i][j].legend(fontsize=20)\n",
    "            ax[i][j].set_title(name + ' ' + title + f'DBSCAN groups\\neps = ' + str(round(eps_arr[i], 2)) + ' min_samples = ' + str(neigh_arr[j]) + f'\\nEstimated number of clusters: {n_clusters_lst[i + 10*j]}', fontsize=30)\n",
    "\n",
    "    plt.tight_layout()\n",
    "    file_name = 'GCs_final/' + name + '/' + title + '_dbscan_matrix.png'\n",
    "    plt.savefig(file_name)\n",
    "    #plt.show()\n",
    "    fig.clear()\n",
    "    plt.close(fig)\n",
    "    \n",
    "    \n",
    "    ### heat map\n",
    "    \n",
    "    max_group_label = []\n",
    "    max_group_count = []\n",
    "\n",
    "    for ind, labels in enumerate(labels_lst):\n",
    "        # get unique\n",
    "        lab, cow = np.unique(labels, return_counts=True)\n",
    "\n",
    "        # getting index of most control members\n",
    "        control_labels = labels_lst[ind][control_indices] # labels of the control stars\n",
    "        if len(control_labels) == 0:\n",
    "            max_lab = -1\n",
    "            max_pos = 0\n",
    "        else:\n",
    "            max_lab = st.mode(control_labels)[0][0] # find the most common label\n",
    "            max_pos = np.where(lab == max_lab)[0][0] # find the index of that common label for control stars\n",
    "        # returning the group label, number of members for largest control star group\n",
    "        if max_lab == -1: # if the majority of control stars are in the noise\n",
    "            max_group_label.append(lab[max_pos])\n",
    "            max_group_count.append(0)\n",
    "        else:\n",
    "            max_group_label.append(lab[max_pos])\n",
    "            max_group_count.append(cow[max_pos])\n",
    "    \n",
    "    \n",
    "    # right now the data is [e1s1, e1s2, e1s3, e1s4, e1s5, e1s6, e1s7, e1s8, e1s9, e1s10, e2s1, e2s2, e2s3, etc.]\n",
    "    # need to break it up into a 10 by 10\n",
    "    max_group_count_arr = np.empty((10,10), dtype=int)\n",
    "    \n",
    "    for ind, item in enumerate(max_group_count):\n",
    "        if item >= 0.95 * len(x): # cutting out any ones that are 95% of the data size\n",
    "            item = 0\n",
    "        max_group_count_arr[ind%10][ind//10] = item\n",
    "    \n",
    "    \n",
    "    fig, ax = plt.subplots(1, figsize=(12,12))\n",
    "    im = ax.imshow(max_group_count_arr, cmap='RdPu', interpolation = 'None')\n",
    "    ax.set_xticks(np.arange(-.5, 9, 1))\n",
    "    ax.set_yticks(np.arange(-.5, 9, 1))\n",
    "    ax.set_xticklabels(neigh_arr)\n",
    "    ax.set_yticklabels(eps_arr)\n",
    "    ax.set_xlabel('Min Samples')\n",
    "    ax.set_ylabel('eps')\n",
    "    #ax.yaxis.set_major_formatter(FormatStrFormatter('%.2f'))\n",
    "    ax.grid(color='w', linestyle='-', linewidth=2)\n",
    "    plt.colorbar(im)\n",
    "    plt.savefig('GCs_final/' + name + '/' + title + '_heatmap.png')\n",
    "    fig.clear()\n",
    "    plt.close(fig)\n",
    "    \n",
    "    # indices for the max section of heat map\n",
    "    max_eps_ind, max_samp_ind = np.unravel_index(max_group_count_arr.argmax(), max_group_count_arr.shape) \n",
    "    \n",
    "    \n",
    "    return [eps_arr[max_eps_ind], neigh_arr[max_samp_ind]]"
   ]
  },
  {
   "cell_type": "code",
   "execution_count": 85,
   "metadata": {},
   "outputs": [],
   "source": [
    "def db_opt(name, title, x, y, eps, samp):\n",
    "    \n",
    "    ### setting up data for dbscan\n",
    "    X = np.c_[x, y] # column stack (i think) for second column for DBSCAN\n",
    "    \n",
    "    # dbscan\n",
    "    db = DBSCAN(eps=eps, min_samples=samp).fit(X)\n",
    "    clusterings = db\n",
    "    labels = db.labels_\n",
    "    n_clusters = len(set(db.labels_)) - (1 if -1 in db.labels_ else 0)\n",
    "    \n",
    "    unique_labels = set(labels)\n",
    "    core_samples_masks = np.zeros_like(labels, dtype=bool)\n",
    "    core_samples_masks = clusterings.core_sample_indices_ = True\n",
    "    colors = [plt.cm.Spectral(each) for each in np.linspace(0, 1, len(unique_labels))]\n",
    "\n",
    "    \n",
    "    # all\n",
    "    fig, ax = plt.subplots(1, figsize=(20,20))\n",
    "    for k, col in zip(unique_labels, colors):\n",
    "        if k == -1:\n",
    "            # Black used for noise.\n",
    "            lab = 'Noise'\n",
    "            col = [0, 0, 0, 1]\n",
    "        else:\n",
    "            lab = 'Group ' + str(k)\n",
    "\n",
    "        class_member_mask = labels == k\n",
    "\n",
    "        xy = X[class_member_mask & core_samples_masks]\n",
    "        ax.plot(\n",
    "            xy[:, 0],\n",
    "            xy[:, 1],\n",
    "            \"o\",\n",
    "            markerfacecolor=tuple(col),\n",
    "            markeredgecolor=\"k\",\n",
    "            markersize=14,\n",
    "            label=lab\n",
    "        )\n",
    "\n",
    "        xy = X[class_member_mask & ~core_samples_masks]\n",
    "        ax.plot(\n",
    "            xy[:, 0],\n",
    "            xy[:, 1],\n",
    "            \"o\",\n",
    "            markerfacecolor=tuple(col),\n",
    "            markeredgecolor=\"k\",\n",
    "            markersize=6,\n",
    "        )\n",
    "\n",
    "    ax.set_xlabel('X', fontsize=40)\n",
    "    ax.set_ylabel('Y', fontsize=40)\n",
    "    ax.legend(fontsize=20)\n",
    "    ax.set_title(name + ' ' + title + f'DBSCAN groups\\neps = ' + str(round(eps, 2)) + ' min_samples = ' + str(samp) + f'\\nEstimated number of clusters: {n_clusters}', fontsize=30)\n",
    "\n",
    "    plt.tight_layout()\n",
    "    file_name = 'GCs_final/' + name + '/' + title + '_dbscan.png'\n",
    "    plt.savefig(file_name)\n",
    "    #plt.show()\n",
    "    ax.clear()\n",
    "    fig.clear()\n",
    "    plt.close(fig)\n",
    "    \n",
    "    return labels"
   ]
  },
  {
   "cell_type": "markdown",
   "metadata": {},
   "source": [
    "### Now we need to match control stars to the right group"
   ]
  },
  {
   "cell_type": "code",
   "execution_count": 90,
   "metadata": {},
   "outputs": [],
   "source": [
    "def final_et_stars(control_indices, labels_tsne, labels_umap):\n",
    "    ### first find the most common control star label\n",
    "    tsne_et_ind = []\n",
    "    umap_et_ind = []\n",
    "    \n",
    "    # get unique\n",
    "    lab_tsne, cow_tsne = np.unique(labels_tsne, return_counts=True)\n",
    "    lab_umap, cow_umap = np.unique(labels_tsne, return_counts=True)\n",
    "\n",
    "    # getting index of most control members\n",
    "    control_labels_tsne = labels_tsne[control_indices] # labels of the control stars\n",
    "    if len(control_labels_tsne) == 0:\n",
    "        max_lab_tsne = 10000\n",
    "    else:\n",
    "        max_lab_tsne = st.mode(control_labels_tsne)[0][0] # find the most common label\n",
    "    \n",
    "    control_labels_umap = labels_umap[control_indices] # labels of the control stars\n",
    "    if len(control_labels_umap) == 0:\n",
    "        max_lab_umap = 10000\n",
    "    else:\n",
    "        max_lab_umap = st.mode(control_labels_umap)[0][0] # find the most common label\n",
    "\n",
    "    \n",
    "    for ind, labels in enumerate(labels_tsne):\n",
    "        if labels == max_lab_tsne:\n",
    "            tsne_et_ind.append(ind)\n",
    "    \n",
    "    for ind, labels in enumerate(labels_umap):\n",
    "        if labels == max_lab_umap:\n",
    "            umap_et_ind.append(ind)\n",
    "    \n",
    "    final_tsne = []\n",
    "    final_umap = []\n",
    "    final_et = []\n",
    "    \n",
    "    for i in tsne_et_ind:\n",
    "        if i in umap_et_ind and i not in control_indices:\n",
    "            final_et.append(i)\n",
    "    \n",
    "    for i in tsne_et_ind:\n",
    "        if i not in control_indices:\n",
    "            final_tsne.append(i)\n",
    "            \n",
    "    for i in umap_et_ind:\n",
    "        if i not in control_indices:\n",
    "            final_umap.append(i)\n",
    "            \n",
    "    return [final_et, final_tsne, final_umap]"
   ]
  },
  {
   "cell_type": "markdown",
   "metadata": {},
   "source": [
    "## use filtered data to plot"
   ]
  },
  {
   "cell_type": "code",
   "execution_count": 144,
   "metadata": {},
   "outputs": [
    {
     "data": {
      "text/plain": [
       "array([6, 8, 7, 6])"
      ]
     },
     "execution_count": 144,
     "metadata": {},
     "output_type": "execute_result"
    }
   ],
   "source": [
    "a = np.array([True, True, False, False, False, False, True])\n",
    "b = np.where(a==False)[0]\n",
    "c = np.array([2, 3, 6, 8, 7, 6, 2])\n",
    "b\n",
    "c[b]"
   ]
  },
  {
   "cell_type": "code",
   "execution_count": 145,
   "metadata": {},
   "outputs": [],
   "source": [
    "def plot_shit_and_rt_filter(name, n, final_unfilt):\n",
    "    def in_circle(center_x, center_y, radius, x, y):\n",
    "        square_dist = (center_x - x) ** 2 + (center_y - y) ** 2\n",
    "        return square_dist <= (radius) ** 2\n",
    "    \n",
    "    #plt.close('all')\n",
    "    M3_ra = GC_db['RA'][n]\n",
    "    M3_dec = GC_db['DEC'][n]\n",
    "    M3_rhm = GC_db['rhm'][n]\n",
    "    M3_rt = GC_db['rt'][n]\n",
    "    M3_d_Sun = GC_db['R_Sun'][n] * 1e3\n",
    "    M3_rhm_deg = math.degrees(math.atan(M3_rhm / M3_d_Sun))\n",
    "    M3_rt_deg = math.degrees(math.atan(M3_rt / M3_d_Sun))\n",
    "    M3_fov = 5\n",
    "\n",
    "    M3_stars = []\n",
    "    for count, i in enumerate(apogee_nofilt['RA'].values):\n",
    "        if i >= M3_ra - M3_fov and i <= M3_ra + M3_fov and apogee_nofilt['DEC'].values[count] >= M3_dec - M3_fov and apogee_nofilt['DEC'].values[count] <= M3_dec + M3_fov:\n",
    "            M3_stars.append(apogee_nofilt.loc[count])\n",
    "\n",
    "    print(len(M3_stars), 'stars in a 10x10 fov of the GC')\n",
    "    \n",
    "    #M3_stars_filt = master_filter()\n",
    "\n",
    "\n",
    "    M3_ra_arr = np.empty(len(M3_stars), dtype=float)\n",
    "    M3_dec_arr = np.empty(len(M3_stars), dtype=float)\n",
    "    for count, i in enumerate(M3_stars):\n",
    "        M3_ra_arr[count] = i['RA']\n",
    "        M3_dec_arr[count] = i['DEC']\n",
    "        \n",
    "    ### filtering out et stars that are outside of the rt\n",
    "    in_rt = in_circle(M3_ra, M3_dec, M3_rt_deg, M3_ra_arr[final_unfilt], M3_dec_arr[final_unfilt])\n",
    "    final_et = np.array(final_unfilt)[np.where(in_rt == False)[0]]\n",
    "    print(final_unfilt)\n",
    "    print(final_et)\n",
    "        \n",
    "    M3_rhm_circ = plt.Circle((M3_ra, M3_dec), M3_rhm_deg, color='r', fill=False, label='rhm')\n",
    "    #M3_rhm_rt_circ = plt.Circle((M3_ra, M3_dec), (rhm_deg + rt_deg)/2, color='g', fill=False, label='1/2 rhm, rt')\n",
    "    M3_rt_circ = plt.Circle((M3_ra, M3_dec), M3_rt_deg, color='b', fill=False, label='rt')\n",
    "    \n",
    "    #plt.figure(figsize=(10,10))\n",
    "    fig, ax = plt.subplots(1, figsize=(10,10))\n",
    "    ax.plot(M3_ra_arr, M3_dec_arr, 'ok', linestyle='none', markersize=1, label='Stars')\n",
    "    ax.plot(M3_ra, M3_dec, color='red', marker='x', linestyle='none', markersize=5, label='GC centre')\n",
    "    #ax.plot(M3_ra_arr[controls], M3_dec_arr[controls], color='cyan', linestyle='none', marker='o', ms=5, label='Original controls')\n",
    "    ax.plot(M3_ra_arr[final_et], M3_dec_arr[final_et], color='fuchsia', linestyle='none', marker='*', ms=5, label='ET Candidates')\n",
    "    ax.add_patch(M3_rhm_circ)\n",
    "    #ax.add_patch(rhm_rt_circ)\n",
    "    ax.add_patch(M3_rt_circ)\n",
    "    ax.set_xlabel('RA', fontsize=20)\n",
    "    ax.set_ylabel('DEC', fontsize=20)\n",
    "    ax.set_title('Final stars for ' + GC_name_arr[n] + '\\tCandidates: ' + str(len(final_et)), fontsize=20)\n",
    "    ax.set_xlim(M3_ra - M3_fov - 1, M3_ra + M3_fov + 1)\n",
    "    ax.set_ylim(M3_dec - M3_fov - 1, M3_dec + M3_fov + 1)\n",
    "    ax.legend(loc='best', fontsize=20)\n",
    "    plt.savefig('GCs_final/' + name + '/et_stars.png')\n",
    "    plt.show()\n",
    "    ax.clear()\n",
    "    fig.clear()\n",
    "    plt.close(fig)\n",
    "    \n",
    "    return final_et\n"
   ]
  },
  {
   "cell_type": "code",
   "execution_count": 146,
   "metadata": {},
   "outputs": [],
   "source": [
    "final_et_arr = []\n",
    "final_tsne = []\n",
    "final_umap = []"
   ]
  },
  {
   "cell_type": "code",
   "execution_count": 154,
   "metadata": {
    "scrolled": true
   },
   "outputs": [
    {
     "data": {
      "application/vnd.jupyter.widget-view+json": {
       "model_id": "563da1d69af549abadef58da3ae87611",
       "version_major": 2,
       "version_minor": 0
      },
      "text/plain": [
       "HBox(children=(HTML(value=''), FloatProgress(value=0.0, max=7.0), HTML(value='')))"
      ]
     },
     "metadata": {},
     "output_type": "display_data"
    },
    {
     "name": "stdout",
     "output_type": "stream",
     "text": [
      "Directory NGC_6656 already exists\n"
     ]
    },
    {
     "name": "stderr",
     "output_type": "stream",
     "text": [
      "<ipython-input-84-0cb8ff38f376>:109: UserWarning: Tight layout not applied. The bottom and top margins cannot be made large enough to accommodate all axes decorations. \n",
      "  plt.tight_layout()\n",
      "<ipython-input-84-0cb8ff38f376>:111: UserWarning: Creating legend with loc=\"best\" can be slow with large amounts of data.\n",
      "  plt.savefig(file_name)\n",
      "<ipython-input-84-0cb8ff38f376>:109: UserWarning: Tight layout not applied. tight_layout cannot make axes height small enough to accommodate all axes decorations\n",
      "  plt.tight_layout()\n",
      "<ipython-input-84-0cb8ff38f376>:111: UserWarning: Creating legend with loc=\"best\" can be slow with large amounts of data.\n",
      "  plt.savefig(file_name)\n"
     ]
    },
    {
     "name": "stdout",
     "output_type": "stream",
     "text": [
      "2678 stars in a 10x10 fov of the GC\n",
      "[0, 1, 2, 3, 4, 5, 6, 7, 8, 9, 10, 13, 14, 15, 16, 17, 18, 19, 20, 21, 22, 23, 24, 25, 26, 29, 30, 32, 33, 34, 36, 37, 39, 41, 42, 43, 44, 45, 46, 47, 48, 49, 50, 51, 52, 53, 54, 55, 56, 57, 58, 59, 60, 61, 62, 63, 64, 65, 66, 68, 69, 70, 71, 72, 73, 74, 75, 76, 77, 78, 79, 80, 82, 83, 84, 85, 86, 87, 88, 89, 90, 91, 92, 93, 94, 95, 96, 97, 98, 99, 100, 101, 102, 103, 104, 105, 106, 107, 108, 109, 110, 111, 112, 113, 114, 115, 116, 117, 118, 119, 120, 121, 122, 123, 124, 125, 126, 127, 128, 129, 130, 131, 132, 133, 134, 135, 136, 137, 138, 139, 141, 142, 143, 144, 145, 146, 147, 148, 149, 150, 151, 152, 153, 154, 155, 158, 159, 160, 161, 162, 163, 164, 165, 166, 167, 168, 169, 170, 171, 172, 173, 174, 175, 176, 177, 178, 179, 180, 181, 182, 183, 184, 185, 186, 187, 188, 189, 190, 191, 192, 193, 194, 195, 196, 197, 198, 199, 200, 201, 202, 203, 204, 205, 206, 207, 208, 209, 210, 211, 212, 213, 214, 215, 216, 217, 218, 219, 220, 221, 222, 223, 224, 226, 227, 228, 229, 230, 231, 232, 233, 234, 235, 236, 237, 238, 239, 240, 241, 242, 243, 244, 245, 246, 247, 248, 249, 251, 252, 253, 254, 255, 256, 257, 259, 260, 261, 262, 263, 264, 265, 266, 267, 268, 269, 270, 271, 272, 273, 274, 275, 276, 277, 278, 279, 280, 281, 282, 283, 284, 285, 286, 287, 289, 290, 291, 292, 293, 294, 295, 296, 297, 298, 299, 300, 302, 303, 304, 305, 306, 307, 308, 310, 311, 312, 313, 314, 315, 316, 317, 318, 319, 320, 321, 322, 323, 324, 325, 326, 327, 329, 330, 331, 332, 333, 334, 335, 336, 337, 338, 339, 340, 341, 342, 343, 344, 345, 346, 347, 348, 349, 350, 351, 352, 353, 354, 355, 356, 357, 358, 359, 360, 361, 362, 363, 364, 365, 366, 367, 368, 369, 370, 371, 372, 373, 374, 375, 376, 377, 379, 380, 381, 382, 383, 384, 385, 386, 387, 388, 389, 390, 391, 392, 393, 394, 396, 397, 398, 399, 400, 401, 402, 404, 405, 406, 407, 408, 409, 410, 411, 412, 413, 414, 415, 416, 417, 418, 419, 420, 421, 422, 423, 424, 425, 426, 428, 429, 431, 432, 433, 435, 436, 437, 439, 440, 441, 442, 443, 444, 445, 446, 447, 448, 449, 450, 451, 452, 453, 454, 455, 456, 457, 458, 460, 461, 462, 463, 465, 466, 467, 468, 469, 470, 471, 472, 473, 474, 475, 476, 477, 479, 480, 482, 483, 484, 485, 486, 487, 488, 489, 490, 491, 492, 493, 494, 495, 496, 497, 498, 499, 500, 501, 502, 504, 505, 506, 507, 508, 509, 510, 511, 514, 515, 516, 517, 518, 519, 520, 522, 523, 524, 525, 526, 527, 528, 529, 530, 531, 532, 533, 534, 535, 536, 537, 538, 539, 540, 541, 542, 543, 544, 545, 546, 547, 548, 549, 550, 551, 552, 553, 554, 555, 556, 557, 558, 559, 560, 561, 562, 563, 564, 566, 568, 569, 570, 571, 572, 573, 574, 575, 576, 577, 578, 579, 580, 581, 582, 583, 584, 586, 587, 590, 591, 592, 593, 594, 595, 596, 597, 599, 600, 601, 602, 603, 604, 605, 606, 607, 608, 609, 611, 612, 613, 615, 616, 618, 619, 620, 621, 622, 623, 625, 626, 627, 628, 629, 630, 631, 632, 633, 634, 635, 636, 637, 638, 639, 640, 641, 643, 644, 645, 646, 647, 648, 649, 650, 651, 652, 653, 654, 655, 656, 657, 658, 659, 660, 661, 662, 664, 665, 667, 669, 670, 672, 673, 674, 676, 678, 679, 680, 681, 683, 684, 685, 686, 688, 689, 690, 691, 692, 693, 694, 697, 698, 699, 707, 711, 712, 713, 716, 720, 722, 726, 728, 729, 733, 734, 737, 740, 743, 744, 747, 750, 752, 755, 756, 758, 761, 763, 764, 768, 770, 771, 772, 773, 774, 776, 777, 779, 780, 782, 784, 786, 788, 790, 793, 795, 798, 799, 803, 804, 809, 812, 816, 820, 824, 825, 826, 827, 830, 831, 834, 838, 840, 843, 845, 851, 854, 855, 858, 859, 871, 872, 874, 883, 885, 895, 896, 898, 908, 910, 917, 919, 921, 925, 926, 929, 937, 950, 954, 958, 965, 970, 976, 983, 985, 986, 987, 1002, 1003, 1014, 1017, 1019, 1022, 1026, 1027, 1035, 1040, 1044, 1050, 1054, 1061, 1068, 1070, 1075, 1081, 1086, 1089, 1092, 1100, 1104, 1106, 1108, 1113, 1114, 1119, 1124, 1126, 1129, 1131, 1134, 1136, 1137, 1143, 1144, 1151, 1153, 1154, 1157, 1173, 1177, 1182, 1184, 1185, 1187, 1188, 1192, 1195, 1196, 1198, 1200, 1206, 1207, 1217, 1218, 1219, 1220, 1222, 1226, 1230, 1233, 1245, 1246, 1248, 1249, 1250, 1251, 1252, 1253, 1254, 1256, 1257, 1258, 1259, 1260, 1261, 1262, 1263, 1264, 1265, 1266, 1271, 1272, 1277, 1278, 1279, 1281, 1283, 1285, 1287, 1288, 1289, 1290, 1291, 1292, 1293, 1294, 1297, 1298, 1299, 1300, 1301, 1302, 1303, 1304, 1305, 1307, 1308, 1309, 1311, 1312, 1313, 1314, 1315, 1317, 1320, 1321, 1323, 1324, 1325, 1328, 1330, 1331, 1332, 1333, 1335, 1336, 1337, 1338, 1339, 1340, 1341, 1342, 1344, 1345, 1346, 1348, 1349, 1350, 1352, 1353, 1354, 1355, 1356, 1357, 1358, 1360, 1361, 1362, 1363, 1364, 1365, 1366, 1367, 1369, 1370, 1371, 1372, 1373, 1374, 1375, 1377, 1378, 1379, 1380, 1381, 1382, 1383, 1384, 1385, 1386, 1387, 1388, 1389, 1390, 1391, 1392, 1393, 1394, 1395, 1396, 1397, 1398, 1399, 1401, 1402, 1406, 1407, 1408, 1409, 1410, 1412, 1413, 1415, 1417, 1418, 1419, 1421, 1422, 1423, 1425, 1427, 1428, 1429, 1430, 1431, 1432, 1433, 1434, 1435, 1436, 1438, 1439, 1440, 1441, 1442, 1443, 1445, 1446, 1447, 1448, 1449, 1451, 1452, 1453, 1455, 1456, 1457, 1458, 1459, 1460, 1461, 1462, 1463, 1464, 1465, 1466, 1467, 1468, 1469, 1470, 1471, 1473, 1474, 1475, 1476, 1479, 1480, 1482, 1484, 1485, 1486, 1487, 1488, 1489, 1490, 1491, 1492, 1493, 1495, 1496, 1497, 1499, 1500, 1501, 1502, 1503, 1504, 1505, 1506, 1507, 1508, 1509, 1512, 1514, 1515, 1516, 1517, 1518, 1519, 1521, 1522, 1523, 1524, 1525, 1526, 1529, 1530, 1532, 1534, 1535, 1537, 1538, 1539, 1540, 1541, 1542, 1544, 1545, 1547, 1548, 1549, 1550, 1551, 1552, 1553, 1555, 1557, 1558, 1559, 1560, 1561, 1562, 1563, 1564, 1565, 1566, 1567, 1568, 1569, 1570, 1571, 1572, 1573, 1574, 1575, 1577, 1578, 1579, 1580, 1582, 1583, 1584, 1585, 1586, 1587, 1588, 1589, 1590, 1591, 1592, 1593, 1594, 1595, 1596, 1597, 1599, 1600, 1601, 1602, 1604, 1605, 1607, 1608, 1609, 1610, 1611, 1612, 1613, 1615, 1616, 1617, 1618, 1619, 1620, 1621, 1622, 1623, 1624, 1625, 1626, 1627, 1628, 1629, 1630, 1631, 1633, 1634, 1635, 1636, 1639, 1640, 1641, 1642, 1643, 1644, 1645, 1646, 1647, 1648, 1649, 1650, 1651, 1652, 1653, 1654, 1655, 1656, 1658, 1660, 1662, 1663, 1664, 1665, 1666, 1667, 1668, 1669, 1670, 1671, 1675, 1676, 1678, 1679, 1680, 1681, 1682, 1683, 1684, 1685, 1687, 1688, 1689, 1690, 1691, 1692, 1693, 1694, 1695, 1696, 1697, 1698, 1699, 1701, 1702, 1703, 1704, 1705, 1706, 1707, 1708, 1709, 1710, 1711, 1712, 1713, 1714, 1715, 1716, 1717, 1718, 1719, 1720, 1721, 1723, 1725, 1727, 1728, 1729, 1730, 1731, 1732, 1733, 1734, 1735, 1736, 1737, 1738, 1742, 1743, 1744, 1745, 1746, 1747, 1748, 1749, 1750, 1751, 1752, 1753, 1754, 1755, 1756, 1757, 1758, 1759, 1763, 1764, 1765, 1766, 1767, 1769, 1770, 1771, 1772, 1773, 1775, 1776, 1777, 1778, 1779, 1780, 1782, 1783, 1784, 1787, 1788, 1789, 1790, 1791, 1792, 1793, 1795, 1796, 1797, 1798, 1799, 1800, 1801, 1802, 1804, 1805, 1807, 1810, 1812, 1813, 1815, 1816, 1817, 1818, 1819, 1820, 1822, 1823, 1824, 1827, 1830, 1831, 1832, 1834, 1835, 1837, 1838, 1839, 1840, 1842, 1843, 1844, 1845, 1847, 1848, 1849, 1850, 1851, 1852, 1854, 1855, 1856, 1857, 1858, 1859, 1861, 1862, 1865, 1866, 1868, 1869, 1870, 1872, 1873, 1874, 1875, 1876, 1877, 1878, 1880, 1881, 1882, 1883, 1884, 1885, 1888, 1889, 1890, 1891, 1892, 1893, 1894, 1895, 1896, 1897, 1898, 1899, 1900, 1901, 1902, 1903, 1905, 1906, 1907, 1908, 1909, 1910, 1911, 1912, 1913, 1914, 1915, 1917, 1918, 1919, 1922, 1923, 1924, 1925, 1926, 1927, 1928, 1929, 1930, 1931, 1932, 1933, 1934, 1936, 1938, 1939, 1940, 1941, 1942, 1943, 1945, 1946, 1947, 1948, 1949, 1950, 1951, 1952, 1953, 1954, 1955, 1956, 1957, 1958, 1959, 1960, 1961, 1962, 1963, 1964, 1967, 1969, 1970, 1972, 1973, 1974, 1976, 1977, 1978, 1981, 1983, 1984, 1985, 1987, 1988, 1990, 1991, 1992, 1993, 1994, 1995, 1998, 1999, 2000, 2001, 2002, 2004, 2005, 2006, 2007, 2008, 2009, 2010, 2011, 2012, 2013, 2014, 2015, 2016, 2017, 2018, 2020, 2021, 2022, 2023, 2024, 2025, 2026, 2027, 2028, 2029, 2030, 2031, 2032, 2033, 2034, 2036, 2037, 2038, 2039, 2040, 2041, 2042, 2044, 2045, 2046, 2047, 2049, 2050, 2051, 2052, 2054, 2055, 2056, 2057, 2058, 2059, 2060, 2061, 2062, 2063, 2064, 2065, 2066, 2067, 2068, 2069, 2070, 2072, 2074, 2075, 2076, 2077, 2078, 2079, 2080, 2081, 2082, 2083, 2084, 2085, 2086, 2088, 2090, 2091, 2092, 2093, 2094, 2095, 2096, 2097, 2098, 2099, 2100, 2101, 2102, 2103, 2104, 2105, 2106, 2107, 2108, 2110, 2111, 2112, 2113, 2115, 2116, 2117, 2119, 2120, 2121, 2122, 2124, 2125, 2126, 2127, 2129, 2130, 2131, 2133, 2136, 2137, 2139, 2140, 2141, 2142, 2143, 2144, 2145, 2147, 2148, 2149, 2151, 2152, 2153, 2154, 2155, 2156, 2157, 2159, 2160, 2161, 2162, 2163, 2164, 2165, 2166, 2167, 2169, 2170, 2171, 2172, 2173, 2174, 2175, 2176, 2177, 2178, 2179, 2180, 2182, 2183, 2184, 2185, 2186, 2187, 2188, 2189, 2191, 2192, 2193, 2194, 2195, 2196, 2197, 2198, 2199, 2200, 2201, 2202, 2203, 2204, 2205, 2206, 2209, 2210, 2211, 2212, 2213, 2214, 2215, 2216, 2217, 2218, 2219, 2220, 2223, 2224, 2225, 2226, 2228, 2229, 2230, 2231, 2232, 2234, 2235, 2236, 2237, 2238, 2240, 2242, 2243, 2244, 2245, 2246, 2248, 2249, 2250, 2251, 2253, 2254, 2255, 2256, 2257, 2258, 2259, 2260, 2261, 2263, 2264, 2265, 2266, 2267, 2269, 2271, 2272, 2273, 2275, 2277, 2278, 2279, 2280, 2282, 2284, 2285, 2286, 2289, 2290, 2295, 2296, 2298, 2299, 2300, 2301, 2302, 2303, 2304, 2305, 2308, 2311, 2312, 2313, 2314, 2315, 2316, 2317, 2318, 2319, 2320, 2321, 2322, 2323, 2325, 2326, 2327, 2328, 2329, 2331, 2332, 2333, 2334, 2335, 2336, 2337, 2340, 2341, 2342, 2343, 2344, 2345, 2346, 2349, 2350, 2351, 2352, 2353, 2354, 2355, 2356, 2357, 2358, 2360, 2361, 2363, 2364, 2366, 2367, 2368, 2369, 2370, 2371, 2372, 2373, 2374, 2375, 2376, 2378, 2379, 2380, 2381, 2382, 2383, 2384, 2385, 2386, 2387, 2389, 2390, 2391, 2392, 2393, 2394, 2395, 2396, 2397, 2398, 2399, 2400, 2402, 2403, 2407, 2408, 2409, 2410, 2411, 2414, 2416, 2417, 2418, 2420, 2421, 2423, 2424, 2425, 2426, 2428, 2429, 2430, 2431, 2432, 2433, 2434, 2435, 2436, 2437, 2438, 2439, 2440, 2442, 2443, 2444, 2445, 2446, 2448, 2449, 2450, 2452, 2453, 2454, 2455, 2456, 2457, 2459, 2460, 2461, 2462, 2464, 2465, 2466, 2467, 2469, 2470, 2471, 2472, 2473, 2474, 2475, 2476, 2477, 2478, 2480, 2482, 2483, 2484, 2485, 2486, 2487, 2489, 2490, 2491, 2492, 2494, 2496, 2497, 2499, 2500, 2501, 2503, 2504, 2505, 2506, 2508, 2509, 2510, 2511, 2512, 2513, 2514, 2515, 2516, 2517, 2518, 2519, 2520, 2522, 2523, 2524, 2525, 2526, 2528, 2529, 2530, 2531, 2532, 2534, 2535, 2536, 2537, 2538, 2539, 2540, 2541, 2542, 2543, 2544, 2546, 2547, 2548, 2549, 2550, 2551, 2552, 2553, 2554, 2555, 2556, 2557, 2558, 2559, 2561, 2562, 2563, 2564, 2565, 2566, 2567, 2568, 2569, 2570, 2571, 2573, 2574, 2575, 2576, 2578, 2579, 2580, 2583, 2584, 2585, 2586, 2587, 2588, 2589, 2590, 2591, 2592, 2593, 2594, 2595, 2596, 2597, 2598, 2599, 2600, 2601, 2603, 2604, 2605, 2607, 2608, 2609, 2613, 2617, 2622, 2644, 2645, 2646, 2647, 2649, 2650, 2651, 2652, 2653, 2654, 2655, 2656, 2657, 2658, 2659, 2660, 2661, 2662, 2663, 2664, 2666, 2667, 2668, 2669, 2670, 2672, 2673, 2674]\n",
      "[   0    1    2 ... 2672 2673 2674]\n"
     ]
    },
    {
     "name": "stderr",
     "output_type": "stream",
     "text": [
      "C:\\Users\\ryanw\\Anaconda3\\lib\\site-packages\\matplotlib\\backends\\backend_agg.py:238: RuntimeWarning: Glyph 9 missing from current font.\n",
      "  font.set_text(s, 0.0, flags=flags)\n",
      "C:\\Users\\ryanw\\Anaconda3\\lib\\site-packages\\matplotlib\\backends\\backend_agg.py:201: RuntimeWarning: Glyph 9 missing from current font.\n",
      "  font.set_text(s, 0, flags=flags)\n"
     ]
    },
    {
     "data": {
      "text/plain": [
       "<Figure size 432x288 with 0 Axes>"
      ]
     },
     "metadata": {},
     "output_type": "display_data"
    },
    {
     "data": {
      "image/png": "[encoded data removed]",
      "text/plain": [
       "<Figure size 720x720 with 1 Axes>"
      ]
     },
     "metadata": {
      "needs_background": "light"
     },
     "output_type": "display_data"
    },
    {
     "name": "stdout",
     "output_type": "stream",
     "text": [
      "Directory NGC_6715 already exists\n"
     ]
    },
    {
     "name": "stderr",
     "output_type": "stream",
     "text": [
      "<ipython-input-84-0cb8ff38f376>:109: UserWarning: Tight layout not applied. tight_layout cannot make axes height small enough to accommodate all axes decorations\n",
      "  plt.tight_layout()\n",
      "<ipython-input-84-0cb8ff38f376>:111: UserWarning: Creating legend with loc=\"best\" can be slow with large amounts of data.\n",
      "  plt.savefig(file_name)\n",
      "<ipython-input-84-0cb8ff38f376>:109: UserWarning: Tight layout not applied. tight_layout cannot make axes height small enough to accommodate all axes decorations\n",
      "  plt.tight_layout()\n"
     ]
    },
    {
     "name": "stdout",
     "output_type": "stream",
     "text": [
      "2441 stars in a 10x10 fov of the GC\n",
      "[0, 1, 2, 3, 5, 6, 7, 8, 9, 11, 12, 13, 14, 15, 16, 17, 18, 19, 20, 21, 22, 24, 25, 26, 27, 28, 31, 32, 34, 35, 38, 39, 40, 41, 47, 48, 52, 56, 57, 59, 60, 61, 63, 64, 67, 68, 69, 70, 74, 76, 77, 78, 79, 81, 82, 83, 84, 85, 86, 87, 88, 89, 91, 95, 96, 97, 101, 102, 105, 106, 107, 108, 109, 111, 112, 114, 115, 119, 121, 123, 124, 125, 127, 128, 129, 131, 133, 135, 137, 138, 140, 141, 142, 143, 144, 145, 147, 149, 152, 153, 154, 155, 157, 158, 161, 165, 166, 169, 171, 172, 175, 176, 177, 179, 180, 183, 184, 186, 187, 188, 189, 192, 193, 194, 195, 196, 199, 200, 201, 203, 204, 205, 206, 208, 209, 211, 212, 214, 216, 219, 221, 227, 228, 231, 232, 233, 234, 237, 238, 240, 241, 242, 243, 244, 248, 249, 250, 253, 256, 257, 258, 260, 261, 262, 264, 266, 269, 270, 273, 275, 278, 279, 285, 289, 294, 298, 299, 302, 306, 308, 309, 311, 314, 315, 316, 317, 321, 324, 326, 329, 330, 331, 333, 334, 337, 339, 342, 345, 347, 348, 351, 353, 354, 356, 357, 359, 360, 362, 363, 367, 368, 370, 371, 373, 376, 377, 379, 380, 381, 382, 383, 384, 385, 387, 388, 389, 394, 396, 397, 399, 405, 407, 408, 409, 410, 411, 412, 414, 416, 419, 421, 425, 426, 427, 428, 429, 430, 431, 432, 436, 438, 439, 441, 442, 444, 447, 448, 450, 451, 453, 454, 455, 457, 458, 459, 460, 461, 462, 470, 472, 474, 478, 480, 488, 491, 493, 494, 495, 496, 497, 498, 499, 501, 503, 506, 507, 508, 509, 512, 513, 518, 521, 522, 525, 528, 531, 534, 535, 536, 537, 540, 541, 542, 543, 545, 546, 547, 548, 549, 550, 554, 555, 556, 557, 559, 561, 562, 563, 564, 565, 568, 569, 571, 574, 576, 577, 578, 579, 581, 582, 583, 584, 586, 588, 589, 591, 595, 597, 599, 600, 601, 606, 610, 611, 613, 615, 618, 619, 620, 621, 623, 625, 626, 629, 630, 631, 634, 635, 638, 639, 642, 643, 645, 648, 649, 654, 656, 657, 658, 661, 667, 668, 670, 671, 672, 673, 677, 678, 680, 681, 682, 683, 684, 686, 688, 690, 691, 692, 693, 695, 698, 700, 701, 702, 705, 706, 707, 708, 710, 711, 712, 713, 714, 715, 716, 720, 721, 724, 725, 726, 727, 729, 732, 733, 736, 739, 740, 742, 743, 744, 748, 753, 754, 758, 762, 765, 768, 769, 772, 773, 775, 776, 778, 779, 780, 781, 783, 785, 786, 787, 788, 789, 790, 791, 792, 793, 795, 797, 798, 799, 800, 805, 806, 807, 808, 809, 810, 813, 815, 816, 817, 821, 823, 825, 826, 827, 828, 830, 832, 838, 840, 842, 844, 845, 847, 851, 853, 854, 856, 857, 859, 866, 869, 871, 873, 876, 877, 880, 881, 882, 884, 885, 888, 894, 895, 896, 897, 901, 902, 903, 906, 909, 910, 913, 914, 918, 921, 922, 923, 926, 927, 928, 929, 930, 932, 934, 935, 936, 937, 939, 940, 941, 942, 943, 945, 948, 949, 950, 956, 958, 959, 960, 961, 967, 968, 970, 971, 972, 975, 978, 979, 980, 983, 984, 988, 990, 991, 992, 993, 996, 997, 999, 1000, 1001, 1003, 1004, 1005, 1006, 1007, 1011, 1013, 1014, 1016, 1017, 1019, 1020, 1022, 1023, 1025, 1026, 1027, 1029, 1030, 1031, 1032, 1033, 1034, 1037, 1038, 1039, 1042, 1044, 1045, 1046, 1047, 1052, 1053, 1057, 1058, 1060, 1064, 1065, 1066, 1070, 1072, 1073, 1075, 1076, 1078, 1079, 1080, 1081, 1082, 1086, 1087, 1089, 1091, 1093, 1094, 1095, 1096, 1097, 1099, 1100, 1103, 1104, 1105, 1106, 1109, 1110, 1113, 1115, 1116, 1117, 1119, 1120, 1122, 1123, 1124, 1125, 1126, 1127, 1132, 1133, 1134, 1135, 1137, 1139, 1143, 1144, 1145, 1146, 1147, 1148, 1149, 1150, 1151, 1152, 1153, 1156, 1157, 1158, 1164, 1165, 1166, 1168, 1169, 1170, 1171, 1175, 1177, 1178, 1179, 1180, 1181, 1182, 1183, 1185, 1186, 1187, 1189, 1190, 1191, 1192, 1195, 1196, 1197, 1198, 1200, 1203, 1206, 1207, 1208, 1210, 1212, 1216, 1218, 1219, 1220, 1221, 1222, 1224, 1225, 1227, 1228, 1231, 1234, 1235, 1236, 1238, 1239, 1240, 1241, 1243, 1244, 1248, 1249, 1253, 1255, 1258, 1259, 1262, 1263, 1264, 1266, 1268, 1269, 1272, 1273, 1274, 1276, 1280, 1281, 1284, 1287, 1288, 1293, 1295, 1297, 1298, 1301, 1302, 1303, 1312, 1313, 1314, 1316, 1320, 1325, 1330, 1332, 1333, 1335, 1338, 1339, 1340, 1342, 1343, 1345, 1346, 1347, 1349, 1351, 1353, 1354, 1355, 1358, 1359, 1360, 1361, 1362, 1363, 1364, 1365, 1367, 1371, 1375, 1381, 1383, 1385, 1386, 1387, 1388, 1389, 1391, 1396, 1397, 1398, 1399, 1402, 1403, 1404, 1405, 1407, 1408, 1413, 1414, 1417, 1418, 1421, 1422, 1431, 1432, 1435, 1437, 1439, 1441, 1445, 1446, 1447, 1451, 1452, 1454, 1455, 1456, 1461, 1463, 1464, 1466, 1467, 1470, 1471, 1473, 1479, 1480, 1482, 1483, 1485, 1489, 1490, 1493, 1494, 1495, 1496, 1499, 1500, 1501, 1503, 1507, 1509, 1511, 1513, 1515, 1517, 1518, 1519, 1521, 1522, 1524, 1525, 1529, 1532, 1536, 1538, 1539, 1546, 1547, 1548, 1551, 1552, 1554, 1555, 1557, 1558, 1559, 1562, 1563, 1564, 1566, 1571, 1572, 1574, 1575, 1577, 1578, 1579, 1580, 1581, 1582, 1585, 1587, 1589, 1590, 1591, 1592, 1593, 1594, 1595, 1598, 1599, 1602, 1603, 1607, 1611, 1613, 1615, 1616, 1617, 1621, 1622, 1623, 1624, 1626, 1627, 1631, 1632, 1633, 1635, 1636, 1638, 1640, 1641, 1642, 1643, 1644, 1645, 1647, 1648, 1649, 1650, 1653, 1654, 1657, 1659, 1661, 1663, 1664, 1665, 1668, 1674, 1677, 1678, 1679, 1682, 1683, 1684, 1686, 1687, 1694, 1696, 1697, 1698, 1704, 1705, 1706, 1708, 1709, 1710, 1711, 1712, 1713, 1714, 1715, 1716, 1717, 1718, 1719, 1720, 1723, 1725, 1727, 1728, 1729, 1731, 1732, 1735, 1736, 1737, 1738, 1739, 1740, 1741, 1742, 1743, 1746, 1748, 1749, 1751, 1754, 1755, 1756, 1758, 1759, 1761, 1762, 1763, 1764, 1765, 1766, 1768, 1769, 1770, 1772, 1774, 1777, 1778, 1779, 1780, 1781, 1782, 1783, 1784, 1785, 1786, 1787, 1789, 1792, 1794, 1795, 1797, 1798, 1799, 1800, 1803, 1806, 1807, 1808, 1809, 1810, 1811, 1814, 1815, 1816, 1818, 1819, 1820, 1821, 1823, 1824, 1826, 1828, 1829, 1831, 1832, 1833, 1835, 1836, 1837, 1839, 1840, 1841, 1843, 1844, 1845, 1846, 1847, 1848, 1849, 1851, 1854, 1857, 1861, 1864, 1866, 1867, 1868, 1869, 1870, 1871, 1872, 1873, 1875, 1876, 1878, 1879, 1880, 1881, 1882, 1883, 1885, 1887, 1888, 1889, 1892, 1893, 1895, 1896, 1897, 1898, 1900, 1901, 1902, 1903, 1904, 1905, 1906, 1907, 1908, 1909, 1910, 1916, 1918, 1920, 1924, 1926, 1928, 1929, 1931, 1934, 1936, 1940, 1945, 1946, 1949, 1950, 1951, 1952, 1953, 1954, 1955, 1956, 1957, 1960, 1962, 1964, 1967, 1970, 1973, 1976, 1977, 1978, 1981, 1983, 1984, 1985, 1986, 1989, 1991, 1993, 1995, 1996, 1997, 1998, 1999, 2002, 2003, 2004, 2011, 2012, 2013, 2016, 2018, 2019, 2020, 2022, 2024, 2025, 2026, 2028, 2031, 2033, 2034, 2037, 2043, 2047, 2048, 2051, 2054, 2056, 2057, 2058, 2060, 2062, 2066, 2067, 2068, 2069, 2070, 2071, 2073, 2075, 2077, 2078, 2079, 2080, 2083, 2084, 2085, 2087, 2088, 2092, 2093, 2094, 2098, 2099, 2102, 2103, 2104, 2107, 2108, 2109, 2113, 2115, 2120, 2122, 2123, 2124, 2125, 2129, 2130, 2132, 2134, 2136, 2140, 2141, 2143, 2148, 2150, 2151, 2152, 2157, 2158, 2162, 2163, 2164, 2165, 2167, 2168, 2169, 2170, 2173, 2174, 2176, 2177, 2179, 2182, 2183, 2185, 2188, 2189, 2190, 2191, 2193, 2196, 2198, 2199, 2202, 2207, 2208, 2210, 2214, 2219, 2220, 2222, 2224, 2227, 2229, 2231, 2232, 2236, 2238, 2242, 2243, 2244, 2245, 2249, 2251, 2252, 2253, 2258, 2260, 2265, 2267, 2269, 2270, 2277, 2278, 2281, 2282, 2283, 2287, 2288, 2289, 2291, 2292, 2293, 2296, 2297, 2301, 2302, 2304, 2306, 2307, 2308, 2309, 2310, 2311, 2312, 2314, 2315, 2316, 2317, 2318, 2319, 2324, 2325, 2331, 2333, 2335, 2344, 2345, 2350, 2351, 2355, 2359, 2367, 2368, 2370, 2371, 2372, 2374, 2375, 2376, 2377, 2378, 2380, 2381, 2382, 2383, 2384, 2385, 2386, 2388, 2389, 2390, 2391, 2392, 2393, 2395, 2396, 2398, 2400, 2401, 2403, 2404, 2405, 2406, 2407, 2408, 2409, 2410, 2412, 2413, 2414, 2415, 2416, 2417, 2418, 2419, 2420, 2421, 2422, 2423, 2424, 2425, 2427, 2429, 2430, 2431, 2432, 2433, 2434, 2436, 2437, 2438]\n",
      "[   0    1    2 ... 2436 2437 2438]\n"
     ]
    },
    {
     "name": "stderr",
     "output_type": "stream",
     "text": [
      "C:\\Users\\ryanw\\Anaconda3\\lib\\site-packages\\matplotlib\\backends\\backend_agg.py:238: RuntimeWarning: Glyph 9 missing from current font.\n",
      "  font.set_text(s, 0.0, flags=flags)\n",
      "C:\\Users\\ryanw\\Anaconda3\\lib\\site-packages\\matplotlib\\backends\\backend_agg.py:201: RuntimeWarning: Glyph 9 missing from current font.\n",
      "  font.set_text(s, 0, flags=flags)\n"
     ]
    },
    {
     "data": {
      "text/plain": [
       "<Figure size 432x288 with 0 Axes>"
      ]
     },
     "metadata": {},
     "output_type": "display_data"
    },
    {
     "data": {
      "image/png": "[encoded data removed]",
      "text/plain": [
       "<Figure size 720x720 with 1 Axes>"
      ]
     },
     "metadata": {
      "needs_background": "light"
     },
     "output_type": "display_data"
    },
    {
     "name": "stdout",
     "output_type": "stream",
     "text": [
      "Directory NGC_6752 already exists\n"
     ]
    },
    {
     "name": "stderr",
     "output_type": "stream",
     "text": [
      "<ipython-input-84-0cb8ff38f376>:109: UserWarning: Tight layout not applied. tight_layout cannot make axes height small enough to accommodate all axes decorations\n",
      "  plt.tight_layout()\n",
      "<ipython-input-84-0cb8ff38f376>:109: UserWarning: Tight layout not applied. tight_layout cannot make axes height small enough to accommodate all axes decorations\n",
      "  plt.tight_layout()\n"
     ]
    },
    {
     "name": "stdout",
     "output_type": "stream",
     "text": [
      "230 stars in a 10x10 fov of the GC\n",
      "[11, 19, 27, 80, 163, 181, 185, 186, 189, 206]\n",
      "[206]\n"
     ]
    },
    {
     "name": "stderr",
     "output_type": "stream",
     "text": [
      "C:\\Users\\ryanw\\Anaconda3\\lib\\site-packages\\matplotlib\\backends\\backend_agg.py:238: RuntimeWarning: Glyph 9 missing from current font.\n",
      "  font.set_text(s, 0.0, flags=flags)\n",
      "C:\\Users\\ryanw\\Anaconda3\\lib\\site-packages\\matplotlib\\backends\\backend_agg.py:201: RuntimeWarning: Glyph 9 missing from current font.\n",
      "  font.set_text(s, 0, flags=flags)\n"
     ]
    },
    {
     "data": {
      "text/plain": [
       "<Figure size 432x288 with 0 Axes>"
      ]
     },
     "metadata": {},
     "output_type": "display_data"
    },
    {
     "data": {
      "image/png": "[encoded data removed]",
      "text/plain": [
       "<Figure size 720x720 with 1 Axes>"
      ]
     },
     "metadata": {
      "needs_background": "light"
     },
     "output_type": "display_data"
    },
    {
     "name": "stdout",
     "output_type": "stream",
     "text": [
      "Directory NGC_6809 already exists\n"
     ]
    },
    {
     "name": "stderr",
     "output_type": "stream",
     "text": [
      "<ipython-input-84-0cb8ff38f376>:109: UserWarning: Tight layout not applied. tight_layout cannot make axes height small enough to accommodate all axes decorations\n",
      "  plt.tight_layout()\n",
      "<ipython-input-84-0cb8ff38f376>:109: UserWarning: Tight layout not applied. tight_layout cannot make axes height small enough to accommodate all axes decorations\n",
      "  plt.tight_layout()\n"
     ]
    },
    {
     "name": "stdout",
     "output_type": "stream",
     "text": [
      "861 stars in a 10x10 fov of the GC\n",
      "[62, 176, 230, 263, 294, 546, 552, 583, 589, 606, 679, 813, 845, 855]\n",
      "[ 62 176 230 263 294 546 552 583 589 606]\n"
     ]
    },
    {
     "name": "stderr",
     "output_type": "stream",
     "text": [
      "C:\\Users\\ryanw\\Anaconda3\\lib\\site-packages\\matplotlib\\backends\\backend_agg.py:238: RuntimeWarning: Glyph 9 missing from current font.\n",
      "  font.set_text(s, 0.0, flags=flags)\n",
      "C:\\Users\\ryanw\\Anaconda3\\lib\\site-packages\\matplotlib\\backends\\backend_agg.py:201: RuntimeWarning: Glyph 9 missing from current font.\n",
      "  font.set_text(s, 0, flags=flags)\n"
     ]
    },
    {
     "data": {
      "text/plain": [
       "<Figure size 432x288 with 0 Axes>"
      ]
     },
     "metadata": {},
     "output_type": "display_data"
    },
    {
     "data": {
      "image/png": "[encoded data removed]",
      "text/plain": [
       "<Figure size 720x720 with 1 Axes>"
      ]
     },
     "metadata": {
      "needs_background": "light"
     },
     "output_type": "display_data"
    },
    {
     "name": "stdout",
     "output_type": "stream",
     "text": [
      "Directory NGC_6838 already exists\n"
     ]
    },
    {
     "name": "stderr",
     "output_type": "stream",
     "text": [
      "<ipython-input-84-0cb8ff38f376>:109: UserWarning: Tight layout not applied. tight_layout cannot make axes height small enough to accommodate all axes decorations\n",
      "  plt.tight_layout()\n",
      "<ipython-input-84-0cb8ff38f376>:111: UserWarning: Creating legend with loc=\"best\" can be slow with large amounts of data.\n",
      "  plt.savefig(file_name)\n",
      "<ipython-input-84-0cb8ff38f376>:109: UserWarning: Tight layout not applied. tight_layout cannot make axes height small enough to accommodate all axes decorations\n",
      "  plt.tight_layout()\n",
      "<ipython-input-84-0cb8ff38f376>:111: UserWarning: Creating legend with loc=\"best\" can be slow with large amounts of data.\n",
      "  plt.savefig(file_name)\n"
     ]
    },
    {
     "name": "stdout",
     "output_type": "stream",
     "text": [
      "2625 stars in a 10x10 fov of the GC\n",
      "[1, 2, 3, 4, 5, 6, 7, 8, 9, 10, 11, 12, 13, 14, 15, 16, 17, 18, 19, 20, 21, 22, 23, 24, 25, 26, 27, 28, 29, 30, 31, 32, 33, 34, 35, 36, 37, 39, 40, 41, 42, 43, 44, 45, 46, 47, 48, 49, 50, 51, 52, 53, 54, 55, 56, 57, 58, 59, 60, 61, 62, 63, 64, 65, 66, 67, 68, 69, 70, 71, 72, 74, 75, 77, 78, 79, 80, 81, 82, 83, 84, 85, 86, 87, 88, 89, 90, 91, 92, 93, 94, 95, 96, 97, 98, 99, 100, 101, 102, 103, 104, 105, 106, 107, 108, 109, 110, 111, 112, 113, 114, 115, 116, 117, 118, 119, 120, 121, 122, 123, 124, 125, 126, 127, 128, 129, 130, 131, 132, 133, 134, 136, 137, 138, 139, 140, 141, 142, 143, 144, 145, 146, 147, 148, 149, 150, 151, 152, 154, 155, 156, 158, 159, 160, 161, 162, 163, 164, 165, 166, 167, 168, 169, 170, 171, 172, 173, 174, 175, 176, 177, 178, 179, 180, 181, 182, 183, 184, 185, 186, 187, 188, 189, 190, 191, 192, 193, 194, 195, 196, 197, 198, 199, 200, 201, 202, 203, 205, 206, 207, 208, 209, 211, 212, 213, 214, 215, 216, 217, 219, 220, 221, 222, 223, 224, 225, 227, 229, 230, 231, 232, 233, 234, 235, 236, 238, 239, 240, 241, 243, 244, 245, 246, 247, 248, 249, 250, 251, 253, 254, 256, 257, 258, 259, 260, 261, 262, 263, 264, 265, 266, 267, 268, 269, 270, 272, 273, 274, 275, 276, 277, 278, 279, 280, 281, 282, 283, 284, 285, 286, 287, 288, 289, 290, 291, 292, 293, 294, 295, 296, 297, 298, 299, 300, 301, 302, 303, 304, 305, 306, 307, 309, 310, 312, 313, 314, 315, 317, 318, 319, 320, 321, 322, 323, 324, 325, 326, 327, 328, 329, 330, 331, 332, 333, 334, 335, 336, 337, 338, 339, 340, 341, 342, 343, 344, 345, 346, 347, 348, 349, 350, 351, 352, 353, 354, 355, 356, 357, 358, 359, 360, 361, 362, 363, 364, 365, 366, 367, 368, 369, 370, 372, 373, 374, 375, 376, 377, 378, 379, 380, 381, 382, 383, 385, 386, 387, 388, 389, 390, 391, 392, 393, 394, 395, 396, 397, 398, 399, 400, 401, 402, 404, 405, 407, 408, 409, 410, 412, 413, 414, 415, 416, 417, 418, 419, 420, 421, 422, 423, 424, 425, 426, 427, 428, 429, 430, 431, 432, 433, 434, 435, 436, 437, 438, 439, 440, 441, 442, 443, 444, 445, 446, 447, 448, 449, 450, 451, 452, 454, 455, 456, 457, 458, 459, 460, 461, 462, 464, 465, 467, 468, 471, 472, 473, 474, 475, 476, 477, 478, 479, 482, 483, 484, 485, 486, 487, 488, 489, 490, 491, 492, 493, 494, 495, 496, 497, 498, 499, 500, 501, 502, 503, 504, 505, 506, 507, 508, 509, 510, 511, 512, 513, 514, 515, 516, 517, 518, 519, 520, 521, 522, 523, 525, 526, 527, 528, 531, 532, 533, 534, 535, 536, 537, 539, 540, 541, 542, 543, 544, 545, 547, 548, 549, 550, 551, 552, 553, 554, 555, 556, 557, 558, 559, 560, 561, 562, 563, 564, 566, 567, 569, 570, 571, 572, 573, 574, 575, 576, 577, 578, 579, 580, 581, 582, 584, 585, 586, 588, 589, 590, 591, 592, 593, 594, 595, 596, 597, 598, 600, 601, 602, 603, 604, 605, 606, 607, 608, 609, 610, 611, 612, 613, 614, 615, 616, 617, 619, 620, 621, 623, 624, 626, 627, 628, 629, 630, 631, 632, 634, 635, 636, 637, 638, 639, 640, 641, 642, 643, 644, 645, 646, 647, 648, 649, 650, 651, 652, 653, 654, 658, 659, 660, 661, 662, 663, 664, 665, 666, 667, 668, 669, 670, 671, 672, 673, 674, 675, 676, 677, 678, 679, 680, 681, 682, 683, 684, 686, 687, 689, 690, 691, 692, 693, 694, 695, 697, 698, 699, 700, 701, 702, 703, 704, 705, 706, 707, 709, 710, 711, 712, 713, 714, 715, 716, 717, 718, 719, 720, 721, 722, 723, 725, 726, 727, 728, 729, 730, 731, 732, 733, 734, 735, 736, 737, 738, 739, 740, 741, 742, 743, 744, 745, 746, 747, 748, 749, 750, 751, 752, 753, 754, 755, 756, 757, 758, 759, 760, 761, 762, 763, 764, 765, 766, 767, 768, 769, 770, 772, 773, 774, 775, 776, 778, 779, 780, 781, 782, 783, 784, 785, 786, 787, 788, 789, 791, 792, 793, 794, 795, 796, 797, 798, 799, 800, 801, 802, 803, 804, 805, 806, 807, 808, 809, 810, 811, 812, 813, 814, 816, 817, 818, 819, 820, 821, 822, 823, 824, 825, 826, 827, 828, 829, 830, 831, 832, 833, 834, 835, 836, 837, 838, 839, 840, 841, 842, 843, 844, 846, 847, 848, 849, 850, 851, 853, 854, 855, 856, 857, 858, 859, 860, 861, 862, 863, 864, 866, 867, 868, 870, 871, 872, 873, 874, 875, 876, 877, 878, 880, 881, 882, 883, 884, 885, 887, 888, 890, 891, 892, 893, 895, 896, 897, 898, 900, 901, 902, 904, 905, 906, 907, 908, 909, 910, 911, 912, 913, 914, 915, 916, 917, 918, 919, 920, 921, 922, 923, 924, 925, 926, 927, 928, 930, 931, 932, 933, 934, 935, 936, 937, 938, 939, 940, 941, 942, 943, 944, 945, 946, 947, 949, 950, 951, 952, 953, 954, 955, 956, 957, 958, 959, 960, 961, 962, 963, 965, 966, 967, 968, 969, 970, 971, 972, 973, 974, 975, 976, 977, 978, 979, 980, 981, 982, 983, 984, 985, 986, 987, 988, 989, 990, 991, 992, 993, 994, 995, 996, 998, 999, 1000, 1001, 1002, 1003, 1004, 1005, 1006, 1007, 1008, 1009, 1010, 1011, 1012, 1014, 1015, 1016, 1018, 1019, 1020, 1022, 1023, 1024, 1026, 1027, 1028, 1029, 1030, 1031, 1032, 1033, 1034, 1035, 1036, 1037, 1038, 1039, 1040, 1041, 1042, 1044, 1045, 1046, 1047, 1048, 1049, 1050, 1051, 1052, 1053, 1054, 1055, 1056, 1057, 1058, 1059, 1060, 1061, 1062, 1063, 1064, 1065, 1066, 1067, 1068, 1069, 1070, 1071, 1073, 1074, 1075, 1076, 1077, 1078, 1079, 1080, 1081, 1082, 1083, 1084, 1085, 1086, 1087, 1088, 1089, 1090, 1093, 1094, 1095, 1097, 1098, 1099, 1100, 1101, 1102, 1103, 1104, 1105, 1107, 1108, 1109, 1110, 1113, 1115, 1116, 1117, 1118, 1119, 1120, 1121, 1122, 1123, 1125, 1126, 1127, 1128, 1129, 1130, 1132, 1133, 1134, 1135, 1137, 1138, 1139, 1141, 1142, 1143, 1144, 1145, 1148, 1152, 1154, 1155, 1158, 1159, 1160, 1161, 1162, 1165, 1167, 1168, 1169, 1170, 1171, 1172, 1173, 1174, 1175, 1176, 1178, 1179, 1180, 1181, 1182, 1183, 1184, 1185, 1186, 1187, 1191, 1193, 1194, 1197, 1199, 1200, 1207, 1210, 1215, 1216, 1221, 1222, 1223, 1226, 1227, 1228, 1229, 1230, 1240, 1243, 1245, 1246, 1248, 1251, 1256, 1257, 1259, 1260, 1264, 1265, 1267, 1268, 1269, 1270, 1271, 1274, 1276, 1277, 1278, 1282, 1287, 1288, 1291, 1292, 1293, 1294, 1299, 1300, 1302, 1303, 1305, 1306, 1307, 1308, 1309, 1310, 1313, 1314, 1315, 1316, 1317, 1318, 1319, 1321, 1322, 1324, 1325, 1326, 1327, 1328, 1329, 1330, 1331, 1332, 1333, 1335, 1336, 1337, 1338, 1339, 1340, 1341, 1342, 1343, 1345, 1346, 1347, 1348, 1349, 1350, 1351, 1352, 1353, 1354, 1355, 1356, 1357, 1359, 1360, 1361, 1362, 1363, 1364, 1366, 1367, 1368, 1369, 1370, 1372, 1373, 1374, 1375, 1376, 1377, 1378, 1380, 1381, 1382, 1383, 1384, 1385, 1386, 1387, 1388, 1389, 1390, 1391, 1392, 1393, 1394, 1395, 1396, 1397, 1399, 1400, 1401, 1402, 1403, 1404, 1405, 1406, 1407, 1408, 1409, 1410, 1412, 1413, 1414, 1415, 1416, 1417, 1418, 1419, 1420, 1421, 1422, 1423, 1424, 1426, 1427, 1428, 1430, 1431, 1432, 1433, 1434, 1435, 1436, 1437, 1441, 1442, 1443, 1444, 1445, 1446, 1447, 1448, 1449, 1450, 1451, 1452, 1453, 1454, 1455, 1456, 1457, 1458, 1459, 1460, 1461, 1462, 1464, 1465, 1466, 1467, 1468, 1469, 1470, 1471, 1472, 1473, 1474, 1475, 1477, 1478, 1479, 1482, 1483, 1484, 1485, 1486, 1487, 1488, 1489, 1490, 1491, 1493, 1494, 1496, 1497, 1498, 1499, 1500, 1501, 1502, 1505, 1506, 1507, 1508, 1509, 1510, 1511, 1512, 1513, 1514, 1515, 1516, 1517, 1518, 1519, 1520, 1521, 1522, 1523, 1524, 1525, 1526, 1527, 1528, 1529, 1530, 1531, 1532, 1533, 1534, 1535, 1536, 1537, 1538, 1539, 1540, 1541, 1542, 1543, 1544, 1545, 1546, 1547, 1548, 1549, 1550, 1551, 1552, 1553, 1554, 1555, 1556, 1557, 1558, 1559, 1560, 1561, 1562, 1563, 1564, 1565, 1566, 1567, 1568, 1570, 1571, 1572, 1573, 1574, 1575, 1576, 1577, 1578, 1579, 1580, 1581, 1582, 1583, 1584, 1586, 1587, 1588, 1590, 1591, 1592, 1593, 1594, 1595, 1596, 1597, 1598, 1599, 1600, 1601, 1602, 1603, 1604, 1605, 1606, 1607, 1608, 1609, 1610, 1611, 1612, 1613, 1614, 1615, 1616, 1618, 1619, 1620, 1621, 1622, 1623, 1624, 1625, 1626, 1627, 1628, 1629, 1630, 1631, 1632, 1633, 1634, 1635, 1636, 1637, 1638, 1639, 1640, 1641, 1642, 1643, 1644, 1645, 1646, 1647, 1648, 1649, 1650, 1651, 1652, 1653, 1654, 1655, 1656, 1657, 1658, 1659, 1660, 1661, 1662, 1663, 1664, 1665, 1666, 1667, 1668, 1669, 1670, 1671, 1672, 1673, 1674, 1675, 1676, 1678, 1679, 1680, 1681, 1682, 1683, 1684, 1685, 1686, 1687, 1688, 1689, 1690, 1691, 1692, 1693, 1694, 1695, 1696, 1697, 1698, 1699, 1700, 1702, 1703, 1704, 1705, 1706, 1707, 1708, 1709, 1710, 1711, 1712, 1713, 1714, 1715, 1716, 1718, 1720, 1721, 1722, 1723, 1724, 1725, 1726, 1727, 1728, 1729, 1730, 1731, 1733, 1735, 1736, 1737, 1738, 1739, 1740, 1741, 1742, 1743, 1744, 1745, 1746, 1747, 1748, 1749, 1750, 1751, 1752, 1753, 1754, 1755, 1756, 1757, 1758, 1760, 1762, 1763, 1764, 1765, 1766, 1767, 1768, 1769, 1770, 1771, 1772, 1773, 1774, 1775, 1776, 1777, 1778, 1779, 1780, 1781, 1782, 1783, 1784, 1785, 1787, 1789, 1790, 1791, 1792, 1793, 1794, 1795, 1796, 1797, 1798, 1799, 1800, 1801, 1802, 1803, 1804, 1806, 1807, 1809, 1810, 1811, 1813, 1814, 1816, 1817, 1818, 1819, 1820, 1821, 1822, 1823, 1824, 1825, 1826, 1827, 1828, 1829, 1830, 1831, 1832, 1833, 1834, 1835, 1836, 1837, 1838, 1839, 1840, 1841, 1842, 1843, 1844, 1845, 1846, 1847, 1848, 1849, 1851, 1852, 1853, 1854, 1855, 1856, 1857, 1859, 1860, 1861, 1862, 1863, 1864, 1865, 1866, 1867, 1868, 1869, 1870, 1871, 1872, 1873, 1874, 1875, 1876, 1877, 1878, 1879, 1880, 1881, 1882, 1883, 1885, 1886, 1887, 1888, 1889, 1890, 1891, 1892, 1893, 1894, 1895, 1896, 1898, 1899, 1900, 1901, 1902, 1903, 1904, 1905, 1906, 1907, 1908, 1909, 1910, 1911, 1912, 1913, 1914, 1915, 1916, 1917, 1918, 1919, 1920, 1921, 1922, 1923, 1924, 1925, 1926, 1928, 1929, 1930, 1931, 1932, 1933, 1934, 1935, 1936, 1937, 1938, 1939, 1940, 1941, 1942, 1943, 1944, 1945, 1946, 1947, 1948, 1949, 1950, 1951, 1952, 1953, 1954, 1955, 1956, 1957, 1958, 1959, 1960, 1961, 1962, 1963, 1964, 1965, 1966, 1967, 1968, 1969, 1970, 1971, 1972, 1973, 1974, 1975, 1976, 1977, 1978, 1979, 1980, 1981, 1982, 1983, 1984, 1985, 1986, 1987, 1988, 1989, 1990, 1991, 1992, 1993, 1994, 1995, 1996, 1997, 1998, 1999, 2000, 2001, 2002, 2003, 2004, 2005, 2006, 2007, 2008, 2009, 2010, 2011, 2012, 2014, 2015, 2016, 2019, 2020, 2021, 2023, 2024, 2025, 2026, 2027, 2028, 2029, 2030, 2031, 2032, 2033, 2034, 2035, 2036, 2037, 2038, 2039, 2040, 2042, 2043, 2044, 2045, 2046, 2047, 2048, 2049, 2050, 2051, 2052, 2053, 2054, 2055, 2056, 2057, 2058, 2059, 2060, 2061, 2063, 2064, 2065, 2066, 2067, 2068, 2069, 2070, 2071, 2072, 2073, 2074, 2075, 2076, 2077, 2079, 2080, 2081, 2082, 2083, 2084, 2085, 2086, 2087, 2088, 2089, 2090, 2091, 2092, 2094, 2095, 2096, 2097, 2099, 2100, 2101, 2102, 2103, 2104, 2105, 2106, 2107, 2108, 2109, 2110, 2111, 2112, 2113, 2114, 2116, 2117, 2118, 2119, 2120, 2121, 2122, 2123, 2124, 2125, 2126, 2127, 2129, 2130, 2131, 2132, 2133, 2134, 2135, 2136, 2137, 2138, 2139, 2140, 2141, 2142, 2143, 2144, 2145, 2146, 2147, 2148, 2149, 2150, 2151, 2152, 2153, 2154, 2156, 2157, 2158, 2159, 2160, 2161, 2162, 2163, 2164, 2165, 2166, 2167, 2168, 2169, 2170, 2171, 2172, 2174, 2175, 2177, 2178, 2179, 2180, 2181, 2182, 2183, 2185, 2187, 2188, 2189, 2190, 2191, 2192, 2193, 2196, 2198, 2199, 2200, 2201, 2202, 2203, 2204, 2205, 2207, 2208, 2209, 2212, 2213, 2215, 2216, 2217, 2218, 2219, 2220, 2221, 2222, 2223, 2224, 2225, 2226, 2227, 2228, 2229, 2230, 2231, 2232, 2233, 2234, 2236, 2237, 2238, 2239, 2240, 2241, 2243, 2244, 2245, 2246, 2247, 2248, 2249, 2250, 2251, 2252, 2253, 2254, 2255, 2256, 2257, 2259, 2260, 2261, 2262, 2263, 2264, 2266, 2267, 2268, 2269, 2270, 2271, 2272, 2273, 2274, 2275, 2278, 2279, 2280, 2281, 2282, 2283, 2285, 2286, 2288, 2289, 2290, 2291, 2292, 2293, 2294, 2295, 2296, 2297, 2298, 2299, 2300, 2301, 2302, 2303, 2304, 2305, 2306, 2308, 2309, 2310, 2311, 2312, 2314, 2315, 2316, 2317, 2318, 2319, 2320, 2321, 2322, 2323, 2324, 2325, 2326, 2327, 2328, 2329, 2330, 2331, 2332, 2333, 2334, 2335, 2336, 2337, 2338, 2339, 2340, 2341, 2342, 2343, 2344, 2345, 2346, 2347, 2348, 2350, 2352, 2353, 2354, 2355, 2356, 2358, 2360, 2361, 2362, 2363, 2364, 2365, 2366, 2367, 2368, 2369, 2370, 2372, 2373, 2374, 2375, 2376, 2377, 2378, 2379, 2380, 2381, 2382, 2383, 2384, 2385, 2386, 2387, 2388, 2390, 2391, 2392, 2393, 2394, 2395, 2396, 2398, 2399, 2400, 2401, 2402, 2403, 2405, 2406, 2407, 2408, 2409, 2410, 2411, 2412, 2413, 2414, 2415, 2416, 2417, 2418, 2419, 2420, 2421, 2422, 2423, 2424, 2425, 2426, 2427, 2428, 2429, 2431, 2432, 2433, 2434, 2435, 2436, 2439, 2440, 2441, 2442, 2443, 2444, 2445, 2446, 2447, 2448, 2449, 2450, 2451, 2452, 2453, 2454, 2456, 2457, 2459, 2460, 2462, 2463, 2464, 2465, 2466, 2467, 2468, 2469, 2470, 2471, 2472, 2473, 2474, 2476, 2477, 2478, 2479, 2480, 2481, 2483, 2484, 2485, 2486, 2487, 2488, 2489, 2490, 2491, 2492, 2493, 2494, 2495, 2496, 2497, 2498, 2499, 2500, 2501, 2502, 2503, 2504, 2505, 2506, 2507, 2508, 2510, 2511, 2512, 2513, 2514, 2515, 2516, 2517, 2518, 2519, 2520, 2521, 2522, 2523, 2524, 2525, 2527, 2528, 2529, 2530, 2531, 2532, 2533, 2534, 2535, 2536, 2538, 2539, 2540, 2541, 2542, 2543, 2544, 2545, 2546, 2547, 2548, 2549, 2550, 2551, 2552, 2553, 2554, 2555, 2556, 2557, 2558, 2559, 2560, 2561, 2562, 2563, 2564, 2565, 2566, 2567, 2569, 2570, 2571, 2572, 2573, 2574, 2575, 2576, 2577, 2578, 2579, 2580, 2581, 2582, 2583, 2584, 2585, 2586, 2587, 2588, 2589, 2590, 2591, 2592, 2593, 2594, 2595, 2596, 2597, 2598, 2599, 2600, 2601, 2602, 2603, 2604, 2605, 2606, 2607, 2608, 2610, 2611, 2612, 2613]\n",
      "[   1    2    3 ... 2608 2610 2613]\n"
     ]
    },
    {
     "name": "stderr",
     "output_type": "stream",
     "text": [
      "C:\\Users\\ryanw\\Anaconda3\\lib\\site-packages\\matplotlib\\backends\\backend_agg.py:238: RuntimeWarning: Glyph 9 missing from current font.\n",
      "  font.set_text(s, 0.0, flags=flags)\n",
      "C:\\Users\\ryanw\\Anaconda3\\lib\\site-packages\\matplotlib\\backends\\backend_agg.py:201: RuntimeWarning: Glyph 9 missing from current font.\n",
      "  font.set_text(s, 0, flags=flags)\n"
     ]
    },
    {
     "data": {
      "text/plain": [
       "<Figure size 432x288 with 0 Axes>"
      ]
     },
     "metadata": {},
     "output_type": "display_data"
    },
    {
     "data": {
      "image/png": "[encoded data removed]",
      "text/plain": [
       "<Figure size 720x720 with 1 Axes>"
      ]
     },
     "metadata": {
      "needs_background": "light"
     },
     "output_type": "display_data"
    },
    {
     "name": "stdout",
     "output_type": "stream",
     "text": [
      "Directory NGC_7078 already exists\n"
     ]
    },
    {
     "name": "stderr",
     "output_type": "stream",
     "text": [
      "<ipython-input-84-0cb8ff38f376>:109: UserWarning: Tight layout not applied. tight_layout cannot make axes height small enough to accommodate all axes decorations\n",
      "  plt.tight_layout()\n",
      "<ipython-input-84-0cb8ff38f376>:109: UserWarning: Tight layout not applied. tight_layout cannot make axes height small enough to accommodate all axes decorations\n",
      "  plt.tight_layout()\n"
     ]
    },
    {
     "name": "stdout",
     "output_type": "stream",
     "text": [
      "1207 stars in a 10x10 fov of the GC\n",
      "[4, 30, 31, 45, 60, 141, 147, 283, 294, 304, 312, 324, 375, 397, 440, 444, 497, 507, 535, 540, 610, 635, 762, 812, 820, 847, 877, 896, 909, 961, 969, 974, 976, 978, 983, 994, 1046, 1052, 1081, 1143, 1147, 1169]\n",
      "[   4   30   31   45   60  141  147  283  294  304  312  324  540  635\n",
      "  762  820  847  877  896  909  961  969  974  976  978  983  994 1046\n",
      " 1052 1081 1169]\n"
     ]
    },
    {
     "name": "stderr",
     "output_type": "stream",
     "text": [
      "C:\\Users\\ryanw\\Anaconda3\\lib\\site-packages\\matplotlib\\backends\\backend_agg.py:238: RuntimeWarning: Glyph 9 missing from current font.\n",
      "  font.set_text(s, 0.0, flags=flags)\n",
      "C:\\Users\\ryanw\\Anaconda3\\lib\\site-packages\\matplotlib\\backends\\backend_agg.py:201: RuntimeWarning: Glyph 9 missing from current font.\n",
      "  font.set_text(s, 0, flags=flags)\n"
     ]
    },
    {
     "data": {
      "text/plain": [
       "<Figure size 432x288 with 0 Axes>"
      ]
     },
     "metadata": {},
     "output_type": "display_data"
    },
    {
     "data": {
      "image/png": "[encoded data removed]",
      "text/plain": [
       "<Figure size 720x720 with 1 Axes>"
      ]
     },
     "metadata": {
      "needs_background": "light"
     },
     "output_type": "display_data"
    },
    {
     "name": "stdout",
     "output_type": "stream",
     "text": [
      "Directory NGC_7089 already exists\n"
     ]
    },
    {
     "name": "stderr",
     "output_type": "stream",
     "text": [
      "<ipython-input-84-0cb8ff38f376>:109: UserWarning: Tight layout not applied. tight_layout cannot make axes height small enough to accommodate all axes decorations\n",
      "  plt.tight_layout()\n",
      "<ipython-input-84-0cb8ff38f376>:109: UserWarning: Tight layout not applied. tight_layout cannot make axes height small enough to accommodate all axes decorations\n",
      "  plt.tight_layout()\n",
      "<ipython-input-85-20de4b2a0185>:56: UserWarning: Tight layout not applied. The bottom and top margins cannot be made large enough to accommodate all axes decorations. \n",
      "  plt.tight_layout()\n"
     ]
    },
    {
     "name": "stdout",
     "output_type": "stream",
     "text": [
      "785 stars in a 10x10 fov of the GC\n",
      "[2, 141, 149, 213, 238, 272, 328, 394, 471, 490, 510, 539, 548, 610, 680, 718, 744, 754, 768, 777]\n",
      "[  2 141 149 213 238 272 328 394 471 490 510 539 548 610 680 718 754 768\n",
      " 777]\n"
     ]
    },
    {
     "name": "stderr",
     "output_type": "stream",
     "text": [
      "C:\\Users\\ryanw\\Anaconda3\\lib\\site-packages\\matplotlib\\backends\\backend_agg.py:238: RuntimeWarning: Glyph 9 missing from current font.\n",
      "  font.set_text(s, 0.0, flags=flags)\n",
      "C:\\Users\\ryanw\\Anaconda3\\lib\\site-packages\\matplotlib\\backends\\backend_agg.py:201: RuntimeWarning: Glyph 9 missing from current font.\n",
      "  font.set_text(s, 0, flags=flags)\n"
     ]
    },
    {
     "data": {
      "text/plain": [
       "<Figure size 432x288 with 0 Axes>"
      ]
     },
     "metadata": {},
     "output_type": "display_data"
    },
    {
     "data": {
      "image/png": "[encoded data removed]",
      "text/plain": [
       "<Figure size 720x720 with 1 Axes>"
      ]
     },
     "metadata": {
      "needs_background": "light"
     },
     "output_type": "display_data"
    },
    {
     "name": "stdout",
     "output_type": "stream",
     "text": [
      "\n",
      "That shit took  28.270492418607077  mins\n"
     ]
    }
   ],
   "source": [
    "start = time.time()\n",
    "\n",
    "for i in tqdm(range(24,31)):\n",
    "    try: \n",
    "        os.makedirs('GCs_final/' + GC_name_arr[i])\n",
    "    except OSError as error:\n",
    "        print('Directory ' + GC_name_arr[i] + ' already exists')\n",
    "\n",
    "    tsne_eps_all, tsne_samp_all = db(GC_name_arr[i], 'tsne', tsne_all_X_norad[i], tsne_all_Y_norad[i], control_indices_norad[i])\n",
    "    umap_eps_all, umap_samp_all = db(GC_name_arr[i], 'umap', umap_all_X_norad[i], umap_all_Y_norad[i], control_indices_norad[i])\n",
    "    \n",
    "    \n",
    "    tsne_all_labels = db_opt(GC_name_arr[i], 'tsne', tsne_all_X[i], tsne_all_Y[i], tsne_eps_all, tsne_samp_all)\n",
    "    umap_all_labels = db_opt(GC_name_arr[i], 'umap', umap_all_X[i], umap_all_Y[i], umap_eps_all, umap_samp_all)\n",
    "    \n",
    "    temp_var = final_et_stars(control_indices_norad[i], tsne_all_labels, umap_all_labels)[0]\n",
    "    \n",
    "    final_tsne.append(final_et_stars(control_indices_norad[i], tsne_all_labels, umap_all_labels)[1])\n",
    "    final_umap.append(final_et_stars(control_indices_norad[i], tsne_all_labels, umap_all_labels)[2])\n",
    "    \n",
    "    if len(temp_var) == 0:\n",
    "        print('Nothing to plot, you got no controls yo')\n",
    "    else:\n",
    "        final_et_arr.append(plot_shit_and_rt_filter(GC_name_arr[i], i, temp_var))\n",
    "\n",
    "    \n",
    "end = time.time()\n",
    "print('That shit took ', (end - start) / 60, ' mins')\n",
    "\n",
    "wave_obj = sa.WaveObject.from_wave_file('Doja_Cat_Mooo.wav')\n",
    "play_obj = wave_obj.play()\n",
    "play_obj.wait_done()\n",
    "play_obj.stop()"
   ]
  },
  {
   "cell_type": "code",
   "execution_count": 153,
   "metadata": {},
   "outputs": [],
   "source": [
    "play_obj.stop()"
   ]
  },
  {
   "cell_type": "code",
   "execution_count": null,
   "metadata": {},
   "outputs": [],
   "source": []
  },
  {
   "cell_type": "code",
   "execution_count": 138,
   "metadata": {},
   "outputs": [
    {
     "data": {
      "text/html": [
       "<div>\n",
       "<style scoped>\n",
       "    .dataframe tbody tr th:only-of-type {\n",
       "        vertical-align: middle;\n",
       "    }\n",
       "\n",
       "    .dataframe tbody tr th {\n",
       "        vertical-align: top;\n",
       "    }\n",
       "\n",
       "    .dataframe thead th {\n",
       "        text-align: right;\n",
       "    }\n",
       "</style>\n",
       "<table border=\"1\" class=\"dataframe\">\n",
       "  <thead>\n",
       "    <tr style=\"text-align: right;\">\n",
       "      <th></th>\n",
       "      <th># APOGEE_ID_</th>\n",
       "      <th>GAIAEDR3_SOURCE_ID</th>\n",
       "      <th>RA</th>\n",
       "      <th>DEC</th>\n",
       "      <th>VHELIO_AVG</th>\n",
       "      <th>VERR</th>\n",
       "      <th>VSCATTER</th>\n",
       "      <th>TEFF</th>\n",
       "      <th>TEFF_ERR</th>\n",
       "      <th>LOGG</th>\n",
       "      <th>...</th>\n",
       "      <th>S_FE_ERR</th>\n",
       "      <th>K_FE_ERR</th>\n",
       "      <th>CA_FE_ERR</th>\n",
       "      <th>TI_FE_ERR</th>\n",
       "      <th>TIII_FE_ERR</th>\n",
       "      <th>V_FE_ERR</th>\n",
       "      <th>CR_FE_ERR</th>\n",
       "      <th>MN_FE_ERR</th>\n",
       "      <th>CO_FE_ERR</th>\n",
       "      <th>NI_FE_ERR</th>\n",
       "    </tr>\n",
       "  </thead>\n",
       "  <tbody>\n",
       "    <tr>\n",
       "      <th>0</th>\n",
       "      <td>2M00000068+5710233</td>\n",
       "      <td>538028216707715712</td>\n",
       "      <td>0.002850</td>\n",
       "      <td>57.173164</td>\n",
       "      <td>-12.673787</td>\n",
       "      <td>0.029277</td>\n",
       "      <td>0.120245</td>\n",
       "      <td>5035.6900</td>\n",
       "      <td>48.670216</td>\n",
       "      <td>3.416017</td>\n",
       "      <td>...</td>\n",
       "      <td>0.033759</td>\n",
       "      <td>0.069656</td>\n",
       "      <td>0.042801</td>\n",
       "      <td>0.050515</td>\n",
       "      <td>0.090195</td>\n",
       "      <td>0.089703</td>\n",
       "      <td>0.049440</td>\n",
       "      <td>0.058999</td>\n",
       "      <td>0.343203</td>\n",
       "      <td>0.041848</td>\n",
       "    </tr>\n",
       "    <tr>\n",
       "      <th>1</th>\n",
       "      <td>2M00000133+5721163</td>\n",
       "      <td>2413929812587459072</td>\n",
       "      <td>0.005558</td>\n",
       "      <td>57.354549</td>\n",
       "      <td>-101.713486</td>\n",
       "      <td>0.066520</td>\n",
       "      <td>0.124213</td>\n",
       "      <td>4972.7134</td>\n",
       "      <td>46.113050</td>\n",
       "      <td>2.402370</td>\n",
       "      <td>...</td>\n",
       "      <td>0.058685</td>\n",
       "      <td>0.086153</td>\n",
       "      <td>0.063082</td>\n",
       "      <td>0.090245</td>\n",
       "      <td>0.064706</td>\n",
       "      <td>0.112211</td>\n",
       "      <td>0.065294</td>\n",
       "      <td>0.068275</td>\n",
       "      <td>0.108428</td>\n",
       "      <td>0.053906</td>\n",
       "    </tr>\n",
       "    <tr>\n",
       "      <th>2</th>\n",
       "      <td>2M00000211+6327470</td>\n",
       "      <td>422596679964513792</td>\n",
       "      <td>0.008802</td>\n",
       "      <td>63.463078</td>\n",
       "      <td>-106.631860</td>\n",
       "      <td>0.029086</td>\n",
       "      <td>0.053485</td>\n",
       "      <td>4696.9010</td>\n",
       "      <td>26.962519</td>\n",
       "      <td>2.224851</td>\n",
       "      <td>...</td>\n",
       "      <td>0.050642</td>\n",
       "      <td>0.042538</td>\n",
       "      <td>0.034654</td>\n",
       "      <td>0.037532</td>\n",
       "      <td>0.036766</td>\n",
       "      <td>0.069267</td>\n",
       "      <td>0.027521</td>\n",
       "      <td>0.035404</td>\n",
       "      <td>0.056741</td>\n",
       "      <td>0.034202</td>\n",
       "    </tr>\n",
       "    <tr>\n",
       "      <th>3</th>\n",
       "      <td>2M00000233+1452324</td>\n",
       "      <td>422596679964513792</td>\n",
       "      <td>0.009748</td>\n",
       "      <td>14.875667</td>\n",
       "      <td>-38.495186</td>\n",
       "      <td>0.026902</td>\n",
       "      <td>0.053984</td>\n",
       "      <td>4741.8716</td>\n",
       "      <td>80.308900</td>\n",
       "      <td>4.270293</td>\n",
       "      <td>...</td>\n",
       "      <td>0.060693</td>\n",
       "      <td>0.151140</td>\n",
       "      <td>0.072959</td>\n",
       "      <td>0.078504</td>\n",
       "      <td>0.157125</td>\n",
       "      <td>0.098980</td>\n",
       "      <td>0.080651</td>\n",
       "      <td>0.096100</td>\n",
       "      <td>0.065771</td>\n",
       "      <td>0.080449</td>\n",
       "    </tr>\n",
       "    <tr>\n",
       "      <th>4</th>\n",
       "      <td>2M00000446+5854329</td>\n",
       "      <td>4689447878791422208</td>\n",
       "      <td>0.018603</td>\n",
       "      <td>58.909149</td>\n",
       "      <td>-48.046894</td>\n",
       "      <td>0.031516</td>\n",
       "      <td>0.031308</td>\n",
       "      <td>4768.0040</td>\n",
       "      <td>25.617336</td>\n",
       "      <td>2.429237</td>\n",
       "      <td>...</td>\n",
       "      <td>0.028433</td>\n",
       "      <td>0.048315</td>\n",
       "      <td>0.029921</td>\n",
       "      <td>0.036650</td>\n",
       "      <td>0.034160</td>\n",
       "      <td>0.078822</td>\n",
       "      <td>0.027886</td>\n",
       "      <td>0.033394</td>\n",
       "      <td>0.040834</td>\n",
       "      <td>0.027055</td>\n",
       "    </tr>\n",
       "    <tr>\n",
       "      <th>...</th>\n",
       "      <td>...</td>\n",
       "      <td>...</td>\n",
       "      <td>...</td>\n",
       "      <td>...</td>\n",
       "      <td>...</td>\n",
       "      <td>...</td>\n",
       "      <td>...</td>\n",
       "      <td>...</td>\n",
       "      <td>...</td>\n",
       "      <td>...</td>\n",
       "      <td>...</td>\n",
       "      <td>...</td>\n",
       "      <td>...</td>\n",
       "      <td>...</td>\n",
       "      <td>...</td>\n",
       "      <td>...</td>\n",
       "      <td>...</td>\n",
       "      <td>...</td>\n",
       "      <td>...</td>\n",
       "      <td>...</td>\n",
       "      <td>...</td>\n",
       "    </tr>\n",
       "    <tr>\n",
       "      <th>370055</th>\n",
       "      <td>2M23590214+1435166</td>\n",
       "      <td>1499086767630458368</td>\n",
       "      <td>359.758939</td>\n",
       "      <td>14.587962</td>\n",
       "      <td>-89.050560</td>\n",
       "      <td>0.029243</td>\n",
       "      <td>0.110584</td>\n",
       "      <td>4686.8420</td>\n",
       "      <td>24.910856</td>\n",
       "      <td>2.617401</td>\n",
       "      <td>...</td>\n",
       "      <td>0.031427</td>\n",
       "      <td>0.051146</td>\n",
       "      <td>0.030787</td>\n",
       "      <td>0.042855</td>\n",
       "      <td>0.037961</td>\n",
       "      <td>0.083147</td>\n",
       "      <td>0.038112</td>\n",
       "      <td>0.035892</td>\n",
       "      <td>0.030015</td>\n",
       "      <td>0.029447</td>\n",
       "    </tr>\n",
       "    <tr>\n",
       "      <th>370056</th>\n",
       "      <td>2M23593035+1444283</td>\n",
       "      <td>3664628760244345600</td>\n",
       "      <td>359.876459</td>\n",
       "      <td>14.741221</td>\n",
       "      <td>24.179094</td>\n",
       "      <td>0.022893</td>\n",
       "      <td>0.027940</td>\n",
       "      <td>4983.8203</td>\n",
       "      <td>39.287434</td>\n",
       "      <td>2.635594</td>\n",
       "      <td>...</td>\n",
       "      <td>0.043323</td>\n",
       "      <td>0.055856</td>\n",
       "      <td>0.041475</td>\n",
       "      <td>0.038697</td>\n",
       "      <td>0.037045</td>\n",
       "      <td>0.126882</td>\n",
       "      <td>0.048540</td>\n",
       "      <td>0.048035</td>\n",
       "      <td>0.085143</td>\n",
       "      <td>0.037728</td>\n",
       "    </tr>\n",
       "    <tr>\n",
       "      <th>370057</th>\n",
       "      <td>2M23593169+5728016</td>\n",
       "      <td>1257993760630656768</td>\n",
       "      <td>359.882046</td>\n",
       "      <td>57.467121</td>\n",
       "      <td>-25.373499</td>\n",
       "      <td>0.027473</td>\n",
       "      <td>0.082224</td>\n",
       "      <td>4716.3580</td>\n",
       "      <td>989.874400</td>\n",
       "      <td>0.209517</td>\n",
       "      <td>...</td>\n",
       "      <td>1.678371</td>\n",
       "      <td>1.008230</td>\n",
       "      <td>0.791015</td>\n",
       "      <td>309663.880000</td>\n",
       "      <td>0.621882</td>\n",
       "      <td>0.623979</td>\n",
       "      <td>0.681815</td>\n",
       "      <td>0.712939</td>\n",
       "      <td>1.286080</td>\n",
       "      <td>0.912791</td>\n",
       "    </tr>\n",
       "    <tr>\n",
       "      <th>370058</th>\n",
       "      <td>2M23594776+1524307</td>\n",
       "      <td>1495448135764429440</td>\n",
       "      <td>359.949033</td>\n",
       "      <td>15.408548</td>\n",
       "      <td>-21.232704</td>\n",
       "      <td>0.027778</td>\n",
       "      <td>0.093972</td>\n",
       "      <td>4709.2734</td>\n",
       "      <td>49.365166</td>\n",
       "      <td>2.041033</td>\n",
       "      <td>...</td>\n",
       "      <td>0.071290</td>\n",
       "      <td>0.196804</td>\n",
       "      <td>0.067982</td>\n",
       "      <td>0.067939</td>\n",
       "      <td>0.092466</td>\n",
       "      <td>0.134635</td>\n",
       "      <td>0.097245</td>\n",
       "      <td>0.065816</td>\n",
       "      <td>0.069048</td>\n",
       "      <td>0.064046</td>\n",
       "    </tr>\n",
       "    <tr>\n",
       "      <th>370059</th>\n",
       "      <td>2M23594955+1529189</td>\n",
       "      <td>3613743740068159872</td>\n",
       "      <td>359.956473</td>\n",
       "      <td>15.488585</td>\n",
       "      <td>13.070106</td>\n",
       "      <td>0.019526</td>\n",
       "      <td>0.008991</td>\n",
       "      <td>4712.8580</td>\n",
       "      <td>28.467610</td>\n",
       "      <td>2.591465</td>\n",
       "      <td>...</td>\n",
       "      <td>0.037495</td>\n",
       "      <td>0.047880</td>\n",
       "      <td>0.033420</td>\n",
       "      <td>0.045625</td>\n",
       "      <td>0.052151</td>\n",
       "      <td>0.072572</td>\n",
       "      <td>0.053377</td>\n",
       "      <td>0.043210</td>\n",
       "      <td>0.034368</td>\n",
       "      <td>0.032117</td>\n",
       "    </tr>\n",
       "  </tbody>\n",
       "</table>\n",
       "<p>370060 rows × 80 columns</p>\n",
       "</div>"
      ],
      "text/plain": [
       "              # APOGEE_ID_   GAIAEDR3_SOURCE_ID          RA        DEC  \\\n",
       "0       2M00000068+5710233   538028216707715712    0.002850  57.173164   \n",
       "1       2M00000133+5721163  2413929812587459072    0.005558  57.354549   \n",
       "2       2M00000211+6327470   422596679964513792    0.008802  63.463078   \n",
       "3       2M00000233+1452324   422596679964513792    0.009748  14.875667   \n",
       "4       2M00000446+5854329  4689447878791422208    0.018603  58.909149   \n",
       "...                    ...                  ...         ...        ...   \n",
       "370055  2M23590214+1435166  1499086767630458368  359.758939  14.587962   \n",
       "370056  2M23593035+1444283  3664628760244345600  359.876459  14.741221   \n",
       "370057  2M23593169+5728016  1257993760630656768  359.882046  57.467121   \n",
       "370058  2M23594776+1524307  1495448135764429440  359.949033  15.408548   \n",
       "370059  2M23594955+1529189  3613743740068159872  359.956473  15.488585   \n",
       "\n",
       "        VHELIO_AVG      VERR  VSCATTER       TEFF    TEFF_ERR      LOGG  ...  \\\n",
       "0       -12.673787  0.029277  0.120245  5035.6900   48.670216  3.416017  ...   \n",
       "1      -101.713486  0.066520  0.124213  4972.7134   46.113050  2.402370  ...   \n",
       "2      -106.631860  0.029086  0.053485  4696.9010   26.962519  2.224851  ...   \n",
       "3       -38.495186  0.026902  0.053984  4741.8716   80.308900  4.270293  ...   \n",
       "4       -48.046894  0.031516  0.031308  4768.0040   25.617336  2.429237  ...   \n",
       "...            ...       ...       ...        ...         ...       ...  ...   \n",
       "370055  -89.050560  0.029243  0.110584  4686.8420   24.910856  2.617401  ...   \n",
       "370056   24.179094  0.022893  0.027940  4983.8203   39.287434  2.635594  ...   \n",
       "370057  -25.373499  0.027473  0.082224  4716.3580  989.874400  0.209517  ...   \n",
       "370058  -21.232704  0.027778  0.093972  4709.2734   49.365166  2.041033  ...   \n",
       "370059   13.070106  0.019526  0.008991  4712.8580   28.467610  2.591465  ...   \n",
       "\n",
       "        S_FE_ERR  K_FE_ERR  CA_FE_ERR      TI_FE_ERR  TIII_FE_ERR  V_FE_ERR  \\\n",
       "0       0.033759  0.069656   0.042801       0.050515     0.090195  0.089703   \n",
       "1       0.058685  0.086153   0.063082       0.090245     0.064706  0.112211   \n",
       "2       0.050642  0.042538   0.034654       0.037532     0.036766  0.069267   \n",
       "3       0.060693  0.151140   0.072959       0.078504     0.157125  0.098980   \n",
       "4       0.028433  0.048315   0.029921       0.036650     0.034160  0.078822   \n",
       "...          ...       ...        ...            ...          ...       ...   \n",
       "370055  0.031427  0.051146   0.030787       0.042855     0.037961  0.083147   \n",
       "370056  0.043323  0.055856   0.041475       0.038697     0.037045  0.126882   \n",
       "370057  1.678371  1.008230   0.791015  309663.880000     0.621882  0.623979   \n",
       "370058  0.071290  0.196804   0.067982       0.067939     0.092466  0.134635   \n",
       "370059  0.037495  0.047880   0.033420       0.045625     0.052151  0.072572   \n",
       "\n",
       "        CR_FE_ERR  MN_FE_ERR  CO_FE_ERR  NI_FE_ERR  \n",
       "0        0.049440   0.058999   0.343203   0.041848  \n",
       "1        0.065294   0.068275   0.108428   0.053906  \n",
       "2        0.027521   0.035404   0.056741   0.034202  \n",
       "3        0.080651   0.096100   0.065771   0.080449  \n",
       "4        0.027886   0.033394   0.040834   0.027055  \n",
       "...           ...        ...        ...        ...  \n",
       "370055   0.038112   0.035892   0.030015   0.029447  \n",
       "370056   0.048540   0.048035   0.085143   0.037728  \n",
       "370057   0.681815   0.712939   1.286080   0.912791  \n",
       "370058   0.097245   0.065816   0.069048   0.064046  \n",
       "370059   0.053377   0.043210   0.034368   0.032117  \n",
       "\n",
       "[370060 rows x 80 columns]"
      ]
     },
     "execution_count": 138,
     "metadata": {},
     "output_type": "execute_result"
    }
   ],
   "source": [
    "apogee_nofilt"
   ]
  },
  {
   "cell_type": "code",
   "execution_count": 300,
   "metadata": {},
   "outputs": [],
   "source": [
    "def plot_shit_2(name, n, final_et, controls):\n",
    "    #plt.close('all')\n",
    "    M3_ra = GC_db['RA'][n]\n",
    "    M3_dec = GC_db['DEC'][n]\n",
    "    M3_rhm = GC_db['rhm'][n]\n",
    "    M3_rt = GC_db['rt'][n]\n",
    "    M3_d_Sun = GC_db['R_Sun'][n] * 1e3\n",
    "    M3_rhm_deg = math.degrees(math.atan(M3_rhm / M3_d_Sun))\n",
    "    M3_rt_deg = math.degrees(math.atan(M3_rt / M3_d_Sun))\n",
    "    M3_fov = 5\n",
    "\n",
    "    \n",
    "    M3_dict, M3_cols = master_load(M3_ra, M3_dec, M3_fov, apogee_nofilt, param_list, name, M3_rhm, M3_rt_deg)\n",
    "    M3_stars_filt = master_filter(M3_dict, M3_cols)\n",
    "    \n",
    "    print(len(M3_stars_filt), 'stars in a 10x10 fov of the GC after filters')\n",
    "    \n",
    "    #print(apogee_nofilt.loc[apogee_nofilt['# APOGEE_ID_'] == M3_stars_filt[0][0]]['RA'].values[0])\n",
    "\n",
    "    M3_ra_arr = np.empty(len(M3_stars_filt[0]), dtype=float)\n",
    "    M3_dec_arr = np.empty(len(M3_stars_filt[0]), dtype=float)\n",
    "    for count, i in enumerate(M3_stars_filt[0]):\n",
    "        #print(i)\n",
    "        M3_ra_arr[count] = apogee_nofilt.loc[apogee_nofilt['# APOGEE_ID_'] == i]['RA'].values[0]\n",
    "        M3_dec_arr[count] = apogee_nofilt.loc[apogee_nofilt['# APOGEE_ID_'] == i]['DEC'].values[0]\n",
    "        \n",
    "    M3_rhm_circ = plt.Circle((M3_ra, M3_dec), M3_rhm_deg, color='r', fill=False, label='rhm')\n",
    "    #M3_rhm_rt_circ = plt.Circle((M3_ra, M3_dec), (rhm_deg + rt_deg)/2, color='g', fill=False, label='1/2 rhm, rt')\n",
    "    M3_rt_circ = plt.Circle((M3_ra, M3_dec), M3_rt_deg, color='b', fill=False, label='rt')\n",
    "    \n",
    "    #plt.figure(figsize=(10,10))\n",
    "    fig, ax = plt.subplots(1, figsize=(10,10))\n",
    "    ax.plot(M3_ra_arr, M3_dec_arr, 'ok', linestyle='none', markersize=1, label='Stars')\n",
    "    ax.plot(M3_ra, M3_dec, color='red', marker='x', linestyle='none', markersize=5, label='GC centre')\n",
    "    ax.plot(M3_ra_arr[controls], M3_dec_arr[controls], color='cyan', linestyle='none', marker='o', ms=5, label='Original controls')\n",
    "    ax.plot(M3_ra_arr[final_et], M3_dec_arr[final_et], color='fuchsia', linestyle='none', marker='*', ms=5, label='Algorithm Identified controls')\n",
    "    ax.add_patch(M3_rhm_circ)\n",
    "    #ax.add_patch(rhm_rt_circ)\n",
    "    ax.add_patch(M3_rt_circ)\n",
    "    ax.set_xlabel('RA', fontsize=20)\n",
    "    ax.set_ylabel('DEC', fontsize=20)\n",
    "    ax.set_title('Final stars for ' + GC_name_arr[n], fontsize=20)\n",
    "    ax.set_xlim(M3_ra - M3_fov - 1, M3_ra + M3_fov + 1)\n",
    "    ax.set_ylim(M3_dec - M3_fov - 1, M3_dec + M3_fov + 1)\n",
    "    ax.legend(loc='best', fontsize=20)\n",
    "    plt.savefig('GCs_final/' + name + '/incorrect_controls.png')\n",
    "    #plt.show()\n",
    "    ax.clear()\n",
    "    fig.clear()\n",
    "    plt.close(fig)\n"
   ]
  },
  {
   "cell_type": "code",
   "execution_count": 299,
   "metadata": {
    "scrolled": true
   },
   "outputs": [
    {
     "name": "stdout",
     "output_type": "stream",
     "text": [
      "467 stars in a 10x10 fov of the GC\n",
      "Directory NGC_104 already exists\n",
      "\n",
      "The final amount of stars in our sample is: 467\n",
      "51 stars in a 10x10 fov of the GC after filters\n",
      "293 stars in a 10x10 fov of the GC\n",
      "Directory NGC_288 already exists\n",
      "\n",
      "The final amount of stars in our sample is: 287\n",
      "51 stars in a 10x10 fov of the GC after filters\n",
      "1218 stars in a 10x10 fov of the GC\n",
      "Directory NGC_362 already exists\n",
      "\n",
      "The final amount of stars in our sample is: 1215\n",
      "51 stars in a 10x10 fov of the GC after filters\n",
      "311 stars in a 10x10 fov of the GC\n",
      "Directory NGC_1851 already exists\n",
      "\n",
      "The final amount of stars in our sample is: 307\n",
      "51 stars in a 10x10 fov of the GC after filters\n",
      "248 stars in a 10x10 fov of the GC\n",
      "Directory NGC_1904 already exists\n",
      "\n",
      "The final amount of stars in our sample is: 246\n",
      "51 stars in a 10x10 fov of the GC after filters\n",
      "566 stars in a 10x10 fov of the GC\n",
      "Directory NGC_2808 already exists\n",
      "\n",
      "The final amount of stars in our sample is: 565\n",
      "51 stars in a 10x10 fov of the GC after filters\n",
      "1065 stars in a 10x10 fov of the GC\n",
      "Directory NGC_3201 already exists\n",
      "\n",
      "The final amount of stars in our sample is: 1064\n",
      "51 stars in a 10x10 fov of the GC after filters\n",
      "310 stars in a 10x10 fov of the GC\n",
      "Directory NGC_4590 already exists\n",
      "\n",
      "The final amount of stars in our sample is: 307\n",
      "51 stars in a 10x10 fov of the GC after filters\n",
      "592 stars in a 10x10 fov of the GC\n",
      "Directory NGC_5024 already exists\n",
      "\n",
      "The final amount of stars in our sample is: 587\n",
      "51 stars in a 10x10 fov of the GC after filters\n",
      "634 stars in a 10x10 fov of the GC\n",
      "Directory NGC_5053 already exists\n",
      "\n",
      "The final amount of stars in our sample is: 628\n",
      "51 stars in a 10x10 fov of the GC after filters\n",
      "1906 stars in a 10x10 fov of the GC\n",
      "Directory NGC_5272 already exists\n",
      "\n",
      "The final amount of stars in our sample is: 1891\n",
      "51 stars in a 10x10 fov of the GC after filters\n",
      "914 stars in a 10x10 fov of the GC\n",
      "Directory NGC_5466 already exists\n",
      "\n",
      "The final amount of stars in our sample is: 904\n",
      "51 stars in a 10x10 fov of the GC after filters\n",
      "927 stars in a 10x10 fov of the GC\n",
      "Directory NGC_5904 already exists\n",
      "\n",
      "The final amount of stars in our sample is: 927\n",
      "51 stars in a 10x10 fov of the GC after filters\n",
      "3307 stars in a 10x10 fov of the GC\n",
      "Directory NGC_6121 already exists\n",
      "\n",
      "The final amount of stars in our sample is: 3292\n",
      "51 stars in a 10x10 fov of the GC after filters\n",
      "733 stars in a 10x10 fov of the GC\n",
      "Directory NGC_6171 already exists\n",
      "\n",
      "The final amount of stars in our sample is: 733\n",
      "51 stars in a 10x10 fov of the GC after filters\n",
      "2345 stars in a 10x10 fov of the GC\n",
      "Directory NGC_6205 already exists\n",
      "\n",
      "The final amount of stars in our sample is: 2324\n",
      "51 stars in a 10x10 fov of the GC after filters\n",
      "986 stars in a 10x10 fov of the GC\n",
      "Directory NGC_6218 already exists\n",
      "\n",
      "The final amount of stars in our sample is: 981\n",
      "51 stars in a 10x10 fov of the GC after filters\n",
      "811 stars in a 10x10 fov of the GC\n",
      "Directory NGC_6229 already exists\n",
      "\n",
      "The final amount of stars in our sample is: 806\n",
      "51 stars in a 10x10 fov of the GC after filters\n",
      "815 stars in a 10x10 fov of the GC\n",
      "Directory NGC_6254 already exists\n",
      "\n",
      "The final amount of stars in our sample is: 811\n",
      "51 stars in a 10x10 fov of the GC after filters\n",
      "3054 stars in a 10x10 fov of the GC\n",
      "Directory NGC_6273 already exists\n",
      "\n",
      "The final amount of stars in our sample is: 3044\n",
      "51 stars in a 10x10 fov of the GC after filters\n",
      "2935 stars in a 10x10 fov of the GC\n",
      "Directory NGC_6293 already exists\n",
      "\n",
      "The final amount of stars in our sample is: 2926\n",
      "51 stars in a 10x10 fov of the GC after filters\n",
      "536 stars in a 10x10 fov of the GC\n",
      "Directory NGC_6341 already exists\n",
      "\n",
      "The final amount of stars in our sample is: 535\n",
      "51 stars in a 10x10 fov of the GC after filters\n",
      "424 stars in a 10x10 fov of the GC\n",
      "Directory NGC_6388 already exists\n",
      "\n",
      "The final amount of stars in our sample is: 424\n",
      "51 stars in a 10x10 fov of the GC after filters\n",
      "1107 stars in a 10x10 fov of the GC\n",
      "Directory NGC_6397 already exists\n",
      "\n",
      "The final amount of stars in our sample is: 1106\n",
      "51 stars in a 10x10 fov of the GC after filters\n",
      "2678 stars in a 10x10 fov of the GC\n",
      "Directory NGC_6656 already exists\n",
      "\n",
      "The final amount of stars in our sample is: 2675\n",
      "51 stars in a 10x10 fov of the GC after filters\n",
      "2441 stars in a 10x10 fov of the GC\n",
      "Directory NGC_6715 already exists\n",
      "\n",
      "The final amount of stars in our sample is: 2439\n",
      "51 stars in a 10x10 fov of the GC after filters\n",
      "230 stars in a 10x10 fov of the GC\n",
      "Directory NGC_6752 already exists\n",
      "\n",
      "The final amount of stars in our sample is: 230\n",
      "51 stars in a 10x10 fov of the GC after filters\n",
      "861 stars in a 10x10 fov of the GC\n",
      "Directory NGC_6809 already exists\n",
      "\n",
      "The final amount of stars in our sample is: 859\n",
      "51 stars in a 10x10 fov of the GC after filters\n",
      "2625 stars in a 10x10 fov of the GC\n",
      "Directory NGC_6838 already exists\n",
      "\n",
      "The final amount of stars in our sample is: 2614\n",
      "51 stars in a 10x10 fov of the GC after filters\n",
      "1207 stars in a 10x10 fov of the GC\n",
      "Directory NGC_7078 already exists\n",
      "\n",
      "The final amount of stars in our sample is: 1195\n",
      "51 stars in a 10x10 fov of the GC after filters\n",
      "785 stars in a 10x10 fov of the GC\n",
      "Directory NGC_7089 already exists\n",
      "\n",
      "The final amount of stars in our sample is: 779\n",
      "51 stars in a 10x10 fov of the GC after filters\n"
     ]
    }
   ],
   "source": [
    "for i in range(31):\n",
    "    plot_shit_2(GC_name_arr[i], i, control_indices_norad[i], control_indices_rad[i][0][0])"
   ]
  },
  {
   "cell_type": "markdown",
   "metadata": {},
   "source": [
    "# in combination: 3 overall checks\n",
    "# 1. check between rt and rhm, whichever has overlaps (time consuming)\n",
    "# 2. compare between two metrics for max: # of total group members vs. N / sigma^2 (pick the overlaps?)\n",
    "# 3. check for lowest mean neighbour distance for ones that have the same metric (hasn't been coded yet but shouldnt be more than a few lines)"
   ]
  },
  {
   "cell_type": "code",
   "execution_count": null,
   "metadata": {},
   "outputs": [],
   "source": []
  },
  {
   "cell_type": "code",
   "execution_count": null,
   "metadata": {},
   "outputs": [],
   "source": []
  },
  {
   "cell_type": "code",
   "execution_count": null,
   "metadata": {},
   "outputs": [],
   "source": []
  },
  {
   "cell_type": "code",
   "execution_count": null,
   "metadata": {},
   "outputs": [],
   "source": []
  },
  {
   "cell_type": "code",
   "execution_count": null,
   "metadata": {},
   "outputs": [],
   "source": []
  },
  {
   "cell_type": "code",
   "execution_count": 224,
   "metadata": {},
   "outputs": [
    {
     "data": {
      "text/plain": [
       "True"
      ]
     },
     "execution_count": 224,
     "metadata": {},
     "output_type": "execute_result"
    }
   ],
   "source": [
    "a = [2,2,2,4,2,3,5,7,8,9]\n",
    "b = st.mode(a)[0][0]\n",
    "\n",
    "b == 2"
   ]
  },
  {
   "cell_type": "code",
   "execution_count": null,
   "metadata": {},
   "outputs": [],
   "source": []
  },
  {
   "cell_type": "code",
   "execution_count": null,
   "metadata": {},
   "outputs": [],
   "source": []
  },
  {
   "cell_type": "code",
   "execution_count": null,
   "metadata": {},
   "outputs": [],
   "source": []
  },
  {
   "cell_type": "code",
   "execution_count": null,
   "metadata": {},
   "outputs": [],
   "source": []
  },
  {
   "cell_type": "code",
   "execution_count": null,
   "metadata": {},
   "outputs": [],
   "source": []
  },
  {
   "cell_type": "code",
   "execution_count": null,
   "metadata": {},
   "outputs": [],
   "source": []
  },
  {
   "cell_type": "code",
   "execution_count": null,
   "metadata": {},
   "outputs": [],
   "source": []
  },
  {
   "cell_type": "code",
   "execution_count": null,
   "metadata": {},
   "outputs": [],
   "source": []
  },
  {
   "cell_type": "markdown",
   "metadata": {},
   "source": [
    "### step 1.5 heat map for ctrl"
   ]
  },
  {
   "cell_type": "code",
   "execution_count": null,
   "metadata": {},
   "outputs": [],
   "source": [
    "M3_ctrl_labels = []\n",
    "M3_ctrl_count = []\n",
    "\n",
    "max_group_label = []\n",
    "max_group_count = []\n",
    "\n",
    "for ind, counts in enumerate(M3_tsne_labels_ctrl[0]):\n",
    "    labels, count = np.unique(counts, return_counts=True)\n",
    "    \n",
    "    # getting index of most members\n",
    "    max_pos = np.argmax(count)\n",
    "    # returning the group label, number of members for largest group\n",
    "    max_group_label.append(labels[max_pos])\n",
    "    max_group_count.append(count[max_pos])\n",
    "    \n"
   ]
  },
  {
   "cell_type": "code",
   "execution_count": null,
   "metadata": {},
   "outputs": [],
   "source": []
  },
  {
   "cell_type": "code",
   "execution_count": null,
   "metadata": {},
   "outputs": [],
   "source": [
    "# right now the data is [e1s1, e1s2, e1s3, e1s4, e1s5, e1s6, e1s7, e1s8, e1s9, e1s10, e2s1, e2s2, e2s3, etc.]\n",
    "# need to break it up into a 10 by 10\n",
    "max_group_count_arr = np.empty((10,10), dtype=int)\n",
    "\n",
    "\n",
    "for ind, item in enumerate(max_group_count):\n",
    "    if item >= 0.95 * len(control_indices_rad[11][0][0]):\n",
    "        item = 0\n",
    "    max_group_count_arr[ind//10][ind%10] = item"
   ]
  },
  {
   "cell_type": "code",
   "execution_count": null,
   "metadata": {},
   "outputs": [],
   "source": [
    "max_group_count_arr"
   ]
  },
  {
   "cell_type": "code",
   "execution_count": null,
   "metadata": {},
   "outputs": [],
   "source": [
    "eps_arr = np.linspace(0.1, 2, 10)\n",
    "neigh_arr = np.linspace(1, 40, 10)"
   ]
  },
  {
   "cell_type": "code",
   "execution_count": null,
   "metadata": {},
   "outputs": [],
   "source": [
    "fig, ax = plt.subplots(1)\n",
    "\n",
    "im = ax.imshow(max_group_count_arr, cmap='Pastel1', interpolation = 'None', vmin=0, vmax=1)\n",
    "\n",
    "ax.set_xticklabels(eps_arr)\n",
    "ax.set_yticklabels(neigh_arr)\n",
    "\n",
    "ax.set_xticks(np.arange(-.5, 10, 1))\n",
    "ax.set_yticks(np.arange(-.5, 10, 1))\n",
    "\n",
    "ax.grid(color='w', linestyle='-', linewidth=2)\n",
    "plt.colorbar(im)\n",
    "\n"
   ]
  },
  {
   "cell_type": "code",
   "execution_count": null,
   "metadata": {},
   "outputs": [],
   "source": []
  },
  {
   "cell_type": "code",
   "execution_count": null,
   "metadata": {},
   "outputs": [],
   "source": [
    "tsne_db_labels = [[] for _ in range(len(GC_name_arr))]\n",
    "umap_db_labels = [[] for _ in range(len(GC_name_arr))]\n",
    "\n",
    "start = time.time()\n",
    "\n",
    "for i in tqdm(range(26, len(GC_name_arr))):\n",
    "    plt.clf()\n",
    "    try: \n",
    "        os.makedirs('GCs_DBSCAN_matrix/' + GC_name_arr[i])\n",
    "    except OSError as error:\n",
    "        print('Directory ' + GC_name_arr[i] + ' already exists')\n",
    "\n",
    "    plot_ML(GC_name_arr[i], [tsne_control_X[i][0], tsne_control_Y[i][0], tsne_all_X[i], tsne_all_Y[i]], [umap_control_X[i][0], umap_control_Y[i][0], umap_all_X[i], umap_all_Y[i]])\n",
    "\n",
    "    tsne_db_labels[i].append(db(GC_name_arr[i], 'tsne', tsne_all_X[i], tsne_all_Y[i], tsne_control_X[i][0], tsne_control_Y[i][0])) # tsne\n",
    "    umap_db_labels[i].append(db(GC_name_arr[i], 'umap', umap_all_X[i], umap_all_Y[i], umap_control_X[i][0], umap_control_Y[i][0])) # umap\n",
    "\n",
    "\n",
    "    print('Done ' + GC_name_arr[i])\n",
    "    \n",
    "end = time.time()\n",
    "print('That shit took ', (end - start) / 60, ' mins')"
   ]
  },
  {
   "cell_type": "code",
   "execution_count": null,
   "metadata": {},
   "outputs": [],
   "source": []
  },
  {
   "cell_type": "code",
   "execution_count": null,
   "metadata": {},
   "outputs": [],
   "source": []
  },
  {
   "cell_type": "code",
   "execution_count": null,
   "metadata": {},
   "outputs": [],
   "source": []
  },
  {
   "cell_type": "code",
   "execution_count": null,
   "metadata": {},
   "outputs": [],
   "source": []
  },
  {
   "cell_type": "code",
   "execution_count": null,
   "metadata": {},
   "outputs": [],
   "source": []
  },
  {
   "cell_type": "markdown",
   "metadata": {},
   "source": [
    "### run it again without proper motion and radial velocities"
   ]
  },
  {
   "cell_type": "code",
   "execution_count": null,
   "metadata": {},
   "outputs": [],
   "source": [
    "param_list = ['# APOGEE_ID_', 'GAIAEDR3_SOURCE_ID', 'GAIAEDR3_PARALLAX', 'GAIAEDR3_PARALLAX_ERROR',\n",
    "              'RA', 'DEC', 'GAIAEDR3_PMRA', 'GAIAEDR3_PMRA_ERROR', 'GAIAEDR3_PMDEC', 'GAIAEDR3_PMDEC_ERROR', \n",
    "              'VHELIO_AVG', 'VERR', 'SNR',\n",
    "              'FE_H', 'FE_H_ERR', 'C_FE', 'C_FE_ERR', 'CI_FE', 'CI_FE_ERR', 'N_FE', 'N_FE_ERR',\n",
    "              'O_FE', 'O_FE_ERR', 'MG_FE', 'MG_FE_ERR', 'AL_FE', 'AL_FE_ERR', 'SI_FE', 'SI_FE_ERR',\n",
    "              'P_FE', 'P_FE_ERR', 'S_FE', 'S_FE_ERR', 'K_FE', 'K_FE_ERR', 'CA_FE', 'CA_FE_ERR',\n",
    "              'TI_FE', 'TI_FE_ERR', 'TIII_FE', 'TIII_FE_ERR', 'V_FE', 'V_FE_ERR', 'CR_FE', 'CR_FE_ERR',\n",
    "              'MN_FE', 'MN_FE_ERR', 'CO_FE', 'CO_FE_ERR', 'NI_FE', 'NI_FE_ERR']\n",
    "\n",
    "abundance_index = 13 # index where the first chemical abundance starts\n",
    "RV_index = 10 # where the radial velocity index is (NOTE: USE VHELIO_AVG NOT THE STUPID GAIA ONE)\n",
    "PMRA_index = 6 # PMRA index\n",
    "PMDEC_index = 8 # PMDEC index\n",
    "\n",
    "# dictionary of all relevant parameters we could ever want for tSNE and UMAP\n",
    "# the abundances should skip every other one due to it being [chem1, chem1_err, chem2, chem2_err, etc.]\n",
    "all_param_dict_norad = {'FE_H': abundance_index,\n",
    "                 'C_FE': abundance_index + 2,\n",
    "                 'CI_FE': abundance_index + 4,\n",
    "                 'N_FE': abundance_index + 6,\n",
    "                 'O_FE': abundance_index + 8,\n",
    "                 'MG_FE': abundance_index + 10,\n",
    "                 'AL_FE': abundance_index + 12,\n",
    "                 'SI_FE': abundance_index + 14,\n",
    "                 'P_FE': abundance_index + 16,\n",
    "                 'S_FE': abundance_index + 18,\n",
    "                 'K_FE': abundance_index + 20,\n",
    "                 'CA_FE': abundance_index + 22,\n",
    "                 'TI_FE': abundance_index + 24,\n",
    "                 'TIII_FE': abundance_index + 26,\n",
    "                 'V_FE': abundance_index + 28,\n",
    "                 'CR_FE': abundance_index + 30,\n",
    "                 'MN_FE': abundance_index + 32,\n",
    "                 'CO_FE': abundance_index + 34,\n",
    "                 'NI_FE': abundance_index + 36}\n",
    "\n",
    "\n",
    "fov = 5 # field of view (note: for x by x, use fov = x/2)\n",
    "ML_index = 0 # 0 for both tSNE and UMAP, 1 for only tSNE, 2 for only UMAP, any other value will raise an error"
   ]
  },
  {
   "cell_type": "code",
   "execution_count": null,
   "metadata": {},
   "outputs": [],
   "source": [
    "start = time.time()\n",
    "\n",
    "for count, i in enumerate(tqdm(GC_name_list)):\n",
    "    GC_stars_dict_norad[i] = master_func_auto(i, all_param_dict_norad, fov, GC_db, apogee_nofilt, param_list, ML_index)\n",
    "    \n",
    "end = time.time()\n",
    "\n",
    "print('that shit took', (end - start) / 60, 'mins')"
   ]
  },
  {
   "cell_type": "markdown",
   "metadata": {},
   "source": [
    "#### without pm and rv"
   ]
  },
  {
   "cell_type": "code",
   "execution_count": null,
   "metadata": {},
   "outputs": [],
   "source": [
    "print(len(GC_stars_dict_norad))\n",
    "\n",
    "#GC_name_list = []\n",
    "control_stars_list_norad = []\n",
    "total_stars_list_norad = []\n",
    "\n",
    "sum = 0\n",
    "for key in GC_stars_dict_norad:\n",
    "    #GC_name_list.append(key)\n",
    "    if GC_stars_dict_norad[key][2] is None:\n",
    "        control_stars_list_norad.append(0)\n",
    "        total_stars_list_norad.append(0)\n",
    "    else:\n",
    "        sum += 1\n",
    "        control_stars_list_norad.append(len(GC_stars_dict_norad[key][2]))\n",
    "        total_stars_list_norad.append(len(GC_stars_dict_norad[key][0]))\n",
    "    \n",
    "#print(control_stars_list_norad)\n",
    "#print(len(GC_name_list_norad))\n",
    "#print(sum)"
   ]
  },
  {
   "cell_type": "code",
   "execution_count": null,
   "metadata": {},
   "outputs": [],
   "source": [
    "new_control_stars_list_norad = []\n",
    "new_total_stars_list_norad = []\n",
    "new_stars_index_list_norad = []\n",
    "\n",
    "for i in range(len(control_stars_list_norad)):\n",
    "    #print(control_stars_list[i])\n",
    "    if control_stars_list_norad[i] != 0:\n",
    "        new_control_stars_list_norad.append(control_stars_list_norad[i])\n",
    "        new_total_stars_list_norad.append(total_stars_list_norad[i])\n",
    "        new_stars_index_list_norad.append(i)\n",
    "        \n",
    "print(len(new_stars_index_list_norad))"
   ]
  },
  {
   "cell_type": "code",
   "execution_count": null,
   "metadata": {},
   "outputs": [],
   "source": [
    "GC_name_arr_norad = np.empty(len(new_stars_index_list_norad), dtype=np.ndarray)\n",
    "\n",
    "tsne_control_X_norad = np.empty(len(new_stars_index_list_norad), dtype=np.ndarray)\n",
    "tsne_control_Y_norad = np.empty(len(new_stars_index_list_norad), dtype=np.ndarray)\n",
    "tsne_all_X_norad = np.empty(len(new_stars_index_list_norad), dtype=np.ndarray)\n",
    "tsne_all_Y_norad = np.empty(len(new_stars_index_list_norad), dtype=np.ndarray)\n",
    "\n",
    "umap_control_X_norad = np.empty(len(new_stars_index_list_norad), dtype=np.ndarray)\n",
    "umap_control_Y_norad = np.empty(len(new_stars_index_list_norad), dtype=np.ndarray)\n",
    "umap_all_X_norad = np.empty(len(new_stars_index_list_norad), dtype=np.ndarray)\n",
    "umap_all_Y_norad = np.empty(len(new_stars_index_list_norad), dtype=np.ndarray)\n",
    "\n",
    "control_indices_norad = np.empty(len(new_stars_index_list_norad), dtype=np.ndarray)\n",
    "\n",
    "for i in range(len(new_stars_index_list_norad)):\n",
    "    ind = new_stars_index_list_norad[i]\n",
    "    #print(ind)\n",
    "    GC_name_arr_norad[i] = GC_name_list_norad[ind]\n",
    "    \n",
    "    tsne_control_X_norad[i] = GC_stars_dict_norad[GC_name_arr[i]][2]\n",
    "    tsne_control_Y_norad[i] = GC_stars_dict_norad[GC_name_arr[i]][3]\n",
    "    tsne_all_X_norad[i] = GC_stars_dict_norad[GC_name_arr[i]][0]\n",
    "    tsne_all_Y_norad[i] = GC_stars_dict_norad[GC_name_arr[i]][1]\n",
    "    \n",
    "    umap_control_X_norad[i] = GC_stars_dict_norad[GC_name_arr_norad[i]][6]\n",
    "    umap_control_Y_norad[i] = GC_stars_dict_norad[GC_name_arr_norad[i]][7]\n",
    "    umap_all_X_norad[i] = GC_stars_dict_norad[GC_name_arr_norad[i]][4]\n",
    "    umap_all_Y_norad[i] = GC_stars_dict_norad[GC_name_arr_norad[i]][5]\n",
    "    \n",
    "    control_indices_norad[i] = GC_stars_dict_norad[GC_name_arr_norad[i]][8]"
   ]
  },
  {
   "cell_type": "code",
   "execution_count": null,
   "metadata": {},
   "outputs": [],
   "source": []
  },
  {
   "cell_type": "code",
   "execution_count": null,
   "metadata": {},
   "outputs": [],
   "source": []
  },
  {
   "cell_type": "code",
   "execution_count": null,
   "metadata": {},
   "outputs": [],
   "source": []
  },
  {
   "cell_type": "code",
   "execution_count": null,
   "metadata": {},
   "outputs": [],
   "source": []
  },
  {
   "cell_type": "code",
   "execution_count": null,
   "metadata": {},
   "outputs": [],
   "source": [
    "def db(name, title, x, y, x_ctrl, y_ctrl):       \n",
    "    plt.clf()\n",
    "    \n",
    "    ### setting up data for dbscan\n",
    "    X = np.c_[x, y] # column stack (i think) for second column for DBSCAN\n",
    "    X_ctrl = np.c_[x_ctrl, y_ctrl]\n",
    "    \n",
    "    ### cKDTree to find nearest neighbour distance\n",
    "    # all stars\n",
    "    col = np.column_stack([x,y]) # column stack for cKDTree\n",
    "    tree=cKDTree(col) # making a tree\n",
    "    dist, arg = tree.query(col, k=2) # querying tree for nearest neighbour distance\n",
    "    percentile_95 =  np.percentile(dist[:,1], 95) # taking the 95th percentile of that distance\n",
    "    \n",
    "    # control stars\n",
    "    col_ctrl = np.column_stack([x_ctrl,y_ctrl])\n",
    "    tree_ctrl = cKDTree(col_ctrl)\n",
    "    dist_ctrl, arg_ctrl = tree_ctrl.query(col_ctrl, k=2)\n",
    "    percentile_95_ctrl = np.percentile(dist_ctrl[:,1], 95)\n",
    "\n",
    "    \n",
    "    ### plot of histogram of nearest neighbour distances\n",
    "    fig, ax = plt.subplots(2, 1, figsize=(24,12))\n",
    "    ax[0].hist(dist_ctrl[:,1], color='grey', edgecolor='black')\n",
    "    ax[0].set_xlabel('Nearest neighbour dist', fontsize=30)\n",
    "    ax[0].set_title(title + ' ctrl stars nearest neighbour distance w/ 95th percentile as ' + str(percentile_95_ctrl), fontsize=50)\n",
    "    ax[1].hist(dist[:,1], color='grey', edgecolor='black')\n",
    "    ax[1].set_xlabel('Nearest neighbour dist', fontsize=30)\n",
    "    ax[1].set_title(title + ' all stars nearest neighbour distance w/ 95th percentile as ' + str(percentile_95), fontsize=50)\n",
    "    plt.tight_layout()\n",
    "    plt.savefig('GCs_DBSCAN_matrix/' + name + '/eps_hist.png')\n",
    "    \n",
    "    \n",
    "    ### using the nearest neighbour percentile distance to make eps arrays to cycle through\n",
    "    eps_const = np.linspace(0.1, 4, 10) # same array that multiplies into the 95th percentile\n",
    "    eps_arr = eps_const * percentile_95 # eps array to try with DBSCAN\n",
    "    eps_arr_ctrl = eps_const * percentile_95_ctrl\n",
    "    \n",
    "    \n",
    "    ### making min_sample arrays to cycle through with 2 diff options:\n",
    "    # 1. use a diff sample array for the control and all stars. this is some set fraction of the stars\n",
    "    # 2. use the same sample array of 1 to # of control stars\n",
    "    # 3. use a ball method to count nearest n neighbours within a radius of 95 percentile of nearest neighbouring distance\n",
    "    # method 1\n",
    "    beta = 0.9 * len(x) # set 90% of stars\n",
    "    samp_const = np.linspace(0.01, 2 * len(x_ctrl) / len(x), 10) # constant to multiply the min samples thingy, going from 0.01 to twice the ratio of ctlr to all stars\n",
    "    samp_arr = samp_const * int(max(1, round(beta))) # array for min samples for all stars\n",
    "    samp_arr = [int(i) for i in samp_arr]\n",
    "    \n",
    "    beta_ctrl = 0.9 * len(x_ctrl) # set 90% of stars\n",
    "    samp_arr_ctrl = samp_const * int(max(1, round(beta_ctrl)))\n",
    "    samp_arr_ctrl = [int(i) for i in samp_arr_ctrl]\n",
    "    \n",
    "    # method 2\n",
    "    samp_arr_both = np.linspace(1, len(x_ctrl), 10) # test array 1 for min samples for ctrl stars. this is diff as all stars is usually way too big for ctrl star purposes\n",
    "    samp_arr_both = [int(i) for i in samp_arr_both]\n",
    "    \n",
    "    # method 3\n",
    "    ball = tree.query_ball_tree(tree, percentile_95) # ball method where we query a ball of size 95th percentile of nearest neighbour for # of neighbors\n",
    "    neigh = [len(i) for i in ball]\n",
    "    neigh_95 = np.percentile(neigh, 95) # 95th percentile of number of neighbors\n",
    "    \n",
    "    neigh_const = np.linspace(0.1, 2, 10)\n",
    "    neigh_arr = neigh_const * neigh_95\n",
    "    neigh_arr = [int(i) for i in neigh_arr]\n",
    "                                \n",
    "    ball_ctrl = tree_ctrl.query_ball_tree(tree_ctrl, percentile_95_ctrl)\n",
    "    neigh_ctrl = [len(i) for i in ball_ctrl]\n",
    "    neigh_95_ctrl = np.percentile(neigh_ctrl, 95)\n",
    "    \n",
    "    neigh_const = np.linspace(0.1, 2, 10)\n",
    "    neigh_arr_ctrl = neigh_const * neigh_95_ctrl\n",
    "    neigh_arr_ctrl = [int(i) for i in neigh_arr_ctrl]\n",
    "    \n",
    "    # plot of histogram of nearest neighbor numbers in a ball of size 95th percentile of nearest neighbour distances\n",
    "    fig, ax = plt.subplots(2, 1, figsize=(24,12))\n",
    "    ax[0].hist(neigh_ctrl, color='grey', edgecolor='black')\n",
    "    ax[0].set_xlabel('# neighbours', fontsize=30)\n",
    "    ax[0].set_title(title + ' ctrl stars number of neighbour within ' + str(round(percentile_95_ctrl,3)) + ' w/ 95th percentile as ' + str(round(neigh_95_ctrl, 3)), fontsize=50)\n",
    "    ax[1].hist(neigh, color='grey', edgecolor='black')\n",
    "    ax[1].set_xlabel('# neighbours', fontsize=30)\n",
    "    ax[1].set_title(title + ' all stars number of neighbour within ' + str(round(percentile_95,3)) + ' w/ 95th percentile as ' + str(round(neigh_95, 3)), fontsize=50)\n",
    "    plt.tight_layout()\n",
    "    plt.savefig('GCs_DBSCAN_matrix/' + name + '/neigh_hist.png')\n",
    "    \n",
    "    \n",
    "    clusterings_lst = [] # list of clusterings\n",
    "    labels_lst = [] # list of labels\n",
    "    n_clusters_lst = [] # list of clusters\n",
    "    \n",
    "    clusterings_lst_ctrl = []\n",
    "    labels_lst_ctrl = []\n",
    "    n_clusters_lst_ctrl = []\n",
    "\n",
    "    # dbscan\n",
    "    for i in range(len(eps_arr)):\n",
    "        for j in range(len(samp_arr)):\n",
    "            # all stars\n",
    "            db = DBSCAN(eps=eps_arr[i], min_samples=neigh_arr[j]).fit(X)\n",
    "            clusterings_lst.append(db)\n",
    "            labels_lst.append(db.labels_)\n",
    "            n_clusters_lst.append(len(set(db.labels_)) - (1 if -1 in db.labels_ else 0))\n",
    "\n",
    "            # ctrl stars\n",
    "            db_ctrl = DBSCAN(eps=eps_arr_ctrl[i], min_samples=neigh_arr_ctrl[j]).fit(X_ctrl)\n",
    "            clusterings_lst_ctrl.append(db_ctrl)\n",
    "            labels_lst_ctrl.append(db_ctrl.labels_)\n",
    "            n_clusters_lst_ctrl.append(len(set(db_ctrl.labels_)) - (1 if -1 in db_ctrl.labels_ else 0))\n",
    "    \n",
    "    unique_labels_lst = []\n",
    "    core_samples_masks_lst = []\n",
    "    colors_lst = []\n",
    "    \n",
    "    unique_labels_lst_ctrl = []\n",
    "    core_samples_masks_lst_ctrl = []\n",
    "    colors_lst_ctrl = []\n",
    "\n",
    "    for i in range(len(labels_lst)):\n",
    "        # all\n",
    "        unique_labels_lst.append(set(labels_lst[i]))\n",
    "        core_samples_masks_lst.append(np.zeros_like(labels_lst[i], dtype=bool))\n",
    "        core_samples_masks_lst[i][clusterings_lst[i].core_sample_indices_] = True\n",
    "        colors_lst.append([plt.cm.Spectral(each) for each in np.linspace(0, 1, len(unique_labels_lst[i]))])\n",
    "        \n",
    "        # ctrl\n",
    "        unique_labels_lst_ctrl.append(set(labels_lst_ctrl[i]))\n",
    "        core_samples_masks_lst_ctrl.append(np.zeros_like(labels_lst_ctrl[i], dtype=bool))\n",
    "        core_samples_masks_lst_ctrl[i][clusterings_lst_ctrl[i].core_sample_indices_] = True\n",
    "        colors_lst_ctrl.append([plt.cm.Spectral(each) for each in np.linspace(0, 1, len(unique_labels_lst_ctrl[i]))])\n",
    "\n",
    "    \n",
    "    # all\n",
    "    fig, ax = plt.subplots(10, 10, figsize=(200,200))\n",
    "    for i in range(10):\n",
    "        for j in range(10):\n",
    "            for k, col in zip(unique_labels_lst[i + 10*j], colors_lst[i + 10*j]):\n",
    "                if k == -1:\n",
    "                    # Black used for noise.\n",
    "                    lab = 'Noise'\n",
    "                    col = [0, 0, 0, 1]\n",
    "                else:\n",
    "                    lab = 'Group ' + str(k)\n",
    "\n",
    "                class_member_mask = labels_lst[i + 10*j] == k\n",
    "\n",
    "                xy = X[class_member_mask & core_samples_masks_lst[i + 10*j]]\n",
    "                ax[i][j].plot(\n",
    "                    xy[:, 0],\n",
    "                    xy[:, 1],\n",
    "                    \"o\",\n",
    "                    markerfacecolor=tuple(col),\n",
    "                    markeredgecolor=\"k\",\n",
    "                    markersize=14,\n",
    "                    label=lab\n",
    "                )\n",
    "\n",
    "                xy = X[class_member_mask & ~core_samples_masks_lst[i + 10*j]]\n",
    "                ax[i][j].plot(\n",
    "                    xy[:, 0],\n",
    "                    xy[:, 1],\n",
    "                    \"o\",\n",
    "                    markerfacecolor=tuple(col),\n",
    "                    markeredgecolor=\"k\",\n",
    "                    markersize=6,\n",
    "                )\n",
    "\n",
    "            ax[i][j].set_xlabel('X', fontsize=40)\n",
    "            ax[i][j].set_ylabel('Y', fontsize=40)\n",
    "            ax[i][j].legend(fontsize=20)\n",
    "            ax[i][j].set_title(name + ' ' + title + f' all stars DBSCAN groups\\neps = ' + str(round(eps_arr[j], 2)) + ' min_samples = ' + str(neigh_arr[i]) + f'\\nEstimated number of clusters: {n_clusters_lst[i + 10*j]}', fontsize=30)\n",
    "\n",
    "    plt.tight_layout()\n",
    "    file_name = 'GCs_DBSCAN_matrix/' + name + '/db_all_' + title + '_tree_ball.png'\n",
    "    plt.savefig(file_name)\n",
    "    #plt.show()\n",
    "    \n",
    "    # ctrl\n",
    "    fig, ax = plt.subplots(10, 10, figsize=(200,200))\n",
    "    for i in range(10):\n",
    "        for j in range(10):\n",
    "            for k, col in zip(unique_labels_lst_ctrl[i + 10*j], colors_lst_ctrl[i + 10*j]):\n",
    "                if k == -1:\n",
    "                    # Black used for noise.\n",
    "                    lab = 'Noise'\n",
    "                    col = [0, 0, 0, 1]\n",
    "                else:\n",
    "                    lab = 'Group ' + str(k)\n",
    "\n",
    "                class_member_mask = labels_lst_ctrl[i + 5*j] == k\n",
    "\n",
    "                xy = X_ctrl[class_member_mask & core_samples_masks_lst_ctrl[i + 10*j]]\n",
    "                ax[i][j].plot(\n",
    "                    xy[:, 0],\n",
    "                    xy[:, 1],\n",
    "                    \"o\",\n",
    "                    markerfacecolor=tuple(col),\n",
    "                    markeredgecolor=\"k\",\n",
    "                    markersize=14,\n",
    "                    label=lab\n",
    "                )\n",
    "\n",
    "                xy = X_ctrl[class_member_mask & ~core_samples_masks_lst_ctrl[i + 10*j]]\n",
    "                ax[i][j].plot(\n",
    "                    xy[:, 0],\n",
    "                    xy[:, 1],\n",
    "                    \"o\",\n",
    "                    markerfacecolor=tuple(col),\n",
    "                    markeredgecolor=\"k\",\n",
    "                    markersize=6,\n",
    "                )\n",
    "\n",
    "            ax[i][j].set_xlabel('X', fontsize=40)\n",
    "            ax[i][j].set_ylabel('Y', fontsize=40)\n",
    "            ax[i][j].legend(fontsize=20)\n",
    "            ax[i][j].set_title(name + ' ' + title + f' ctrl stars DBSCAN groups\\neps = ' + str(round(eps_arr_ctrl[j], 2)) + ' min_samples = ' + str(neigh_arr_ctrl[i]) + f'\\nEstimated number of clusters: {n_clusters_lst_ctrl[i + 10*j]}', fontsize=30)\n",
    "\n",
    "    plt.tight_layout()\n",
    "    file_name = 'GCs_DBSCAN_matrix/' + name + '/db_ctrl_' + title + '_tree_ball.png'\n",
    "    plt.savefig(file_name)\n",
    "    #plt.show()\n",
    "    \n",
    "    plt.clf()\n",
    "    \n",
    "    return [labels_lst, labels_lst_ctrl]"
   ]
  },
  {
   "cell_type": "code",
   "execution_count": null,
   "metadata": {},
   "outputs": [],
   "source": []
  },
  {
   "cell_type": "code",
   "execution_count": null,
   "metadata": {
    "scrolled": false
   },
   "outputs": [],
   "source": [
    "tsne_db_labels = [[] for _ in range(len(GC_name_arr))]\n",
    "umap_db_labels = [[] for _ in range(len(GC_name_arr))]\n",
    "\n",
    "start = time.time()\n",
    "\n",
    "for i in tqdm(range(26, len(GC_name_arr))):\n",
    "    plt.clf()\n",
    "    try: \n",
    "        os.makedirs('GCs_DBSCAN_matrix/' + GC_name_arr[i])\n",
    "    except OSError as error:\n",
    "        print('Directory ' + GC_name_arr[i] + ' already exists')\n",
    "\n",
    "    plot_ML(GC_name_arr[i], [tsne_control_X[i][0], tsne_control_Y[i][0], tsne_all_X[i], tsne_all_Y[i]], [umap_control_X[i][0], umap_control_Y[i][0], umap_all_X[i], umap_all_Y[i]])\n",
    "\n",
    "    tsne_db_labels[i].append(db(GC_name_arr[i], 'tsne', tsne_all_X[i], tsne_all_Y[i], tsne_control_X[i][0], tsne_control_Y[i][0])) # tsne\n",
    "    umap_db_labels[i].append(db(GC_name_arr[i], 'umap', umap_all_X[i], umap_all_Y[i], umap_control_X[i][0], umap_control_Y[i][0])) # umap\n",
    "\n",
    "\n",
    "    print('Done ' + GC_name_arr[i])\n",
    "    \n",
    "end = time.time()\n",
    "print('That shit took ', (end - start) / 60, ' mins')\n",
    "    "
   ]
  },
  {
   "cell_type": "code",
   "execution_count": null,
   "metadata": {},
   "outputs": [],
   "source": []
  },
  {
   "cell_type": "code",
   "execution_count": null,
   "metadata": {},
   "outputs": [],
   "source": [
    "\n",
    "    \n",
    "tsne_ctrl_db_labels = []\n",
    "tsne_all_db_labels = []\n",
    "umap_ctrl_db_labels = []\n",
    "umap_all_db_labels = []\n",
    "\n",
    "for n in tqdm(range(len(GC_name_arr))):\n",
    "    try: \n",
    "        os.makedirs('GCs_DBSCAN_matrix/' + GC_name_arr[n])\n",
    "    except OSError as error:\n",
    "        print('Directory ' + GC_name_arr[n] + ' already exists')\n",
    "    \n",
    "    plot_ML(GC_name_arr[n], [tsne_control_X[n][0], tsne_control_Y[n][0], tsne_all_X[n], tsne_all_Y[n]], [umap_control_X[n][0], umap_control_Y[n][0], umap_all_X[n], umap_all_Y[n]])\n",
    "    \n",
    "    tsne_X_ctrl = np.c_[tsne_control_X[n][0], tsne_control_Y[n][0]]\n",
    "    tsne_X_all = np.c_[tsne_all_X[n], tsne_all_Y[n]]\n",
    "    umap_X_ctrl = np.c_[umap_control_X[n][0], umap_control_Y[n][0]]\n",
    "    umap_X_all = np.c_[umap_all_X[n], umap_all_Y[n]]\n",
    "    \n",
    "    \n",
    "    \n",
    "    tsne_ctrl_db_labels.append(db_ctrl_tsne_2(GC_name_arr[n], tsne_X_ctrl))\n",
    "    tsne_all_db_labels.append(db_all_tsne_2(GC_name_arr[n], tsne_X_all))\n",
    "    umap_ctrl_db_labels.append(db_ctrl_umap_2(GC_name_arr[n], umap_X_ctrl))\n",
    "    umap_all_db_labels.append(db_all_umap_2(GC_name_arr[n], umap_X_all))\n",
    "    \n",
    "    print('Done ' + GC_name_arr[n])\n",
    "    "
   ]
  },
  {
   "cell_type": "code",
   "execution_count": null,
   "metadata": {},
   "outputs": [],
   "source": []
  },
  {
   "cell_type": "code",
   "execution_count": null,
   "metadata": {},
   "outputs": [],
   "source": []
  },
  {
   "cell_type": "code",
   "execution_count": null,
   "metadata": {},
   "outputs": [],
   "source": []
  },
  {
   "cell_type": "code",
   "execution_count": null,
   "metadata": {},
   "outputs": [],
   "source": []
  },
  {
   "cell_type": "code",
   "execution_count": null,
   "metadata": {},
   "outputs": [],
   "source": []
  },
  {
   "cell_type": "code",
   "execution_count": null,
   "metadata": {},
   "outputs": [],
   "source": []
  },
  {
   "cell_type": "code",
   "execution_count": null,
   "metadata": {},
   "outputs": [],
   "source": []
  },
  {
   "cell_type": "code",
   "execution_count": null,
   "metadata": {},
   "outputs": [],
   "source": []
  },
  {
   "cell_type": "code",
   "execution_count": null,
   "metadata": {},
   "outputs": [],
   "source": []
  },
  {
   "cell_type": "code",
   "execution_count": null,
   "metadata": {},
   "outputs": [],
   "source": []
  },
  {
   "cell_type": "code",
   "execution_count": null,
   "metadata": {},
   "outputs": [],
   "source": []
  },
  {
   "cell_type": "code",
   "execution_count": null,
   "metadata": {},
   "outputs": [],
   "source": [
    "def db_ctrl_umap(name, umap_X_ctrl):\n",
    "    plt.close('all')\n",
    "    eps_arr_umap = np.arange(0.1, 3., 0.2)\n",
    "    clusterings_umap_ctrl_lst = []\n",
    "    labels_umap_ctrl_lst = []\n",
    "    n_clusters_umap_ctrl_lst = []\n",
    "\n",
    "    for i in eps_arr_umap:\n",
    "        db = DBSCAN(eps=i, min_samples = 10).fit(umap_X_ctrl)\n",
    "        clusterings_umap_ctrl_lst.append(db)\n",
    "        labels_umap_ctrl_lst.append(db.labels_)\n",
    "        n_clusters_umap_ctrl_lst.append(len(set(db.labels_)) - (1 if -1 in db.labels_ else 0))\n",
    "    \n",
    "    unique_labels_umap_ctrl_lst = []\n",
    "    core_samples_masks_umap_ctrl_lst = []\n",
    "    colors_umap_ctrl_lst = []\n",
    "\n",
    "    for i in range(len(labels_umap_ctrl_lst)):\n",
    "        unique_labels_umap_ctrl_lst.append(set(labels_umap_ctrl_lst[i]))\n",
    "        core_samples_masks_umap_ctrl_lst.append(np.zeros_like(labels_umap_ctrl_lst[i], dtype=bool))\n",
    "        core_samples_masks_umap_ctrl_lst[i][clusterings_umap_ctrl_lst[i].core_sample_indices_] = True\n",
    "\n",
    "        colors_umap_ctrl_lst.append([plt.cm.Spectral(each) for each in np.linspace(0, 1, len(unique_labels_umap_ctrl_lst[i]))])\n",
    "\n",
    "    fig, ax = plt.subplots(3, 5, figsize=(80,50))\n",
    "\n",
    "    for i in range(5):\n",
    "        for j in range(3):\n",
    "            for k, col in zip(unique_labels_umap_ctrl_lst[i + 5*j], colors_umap_ctrl_lst[i + 5*j]):\n",
    "                if k == -1:\n",
    "                    # Black used for noise.\n",
    "                    lab = 'Noise'\n",
    "                    col = [0, 0, 0, 1]\n",
    "                else:\n",
    "                    lab = 'Group ' + str(k)\n",
    "\n",
    "                class_member_mask = labels_umap_ctrl_lst[i + 5*j] == k\n",
    "\n",
    "                xy = umap_X_ctrl[class_member_mask & core_samples_masks_umap_ctrl_lst[i + 5*j]]\n",
    "                ax[j][i].plot(\n",
    "                    xy[:, 0],\n",
    "                    xy[:, 1],\n",
    "                    \"o\",\n",
    "                    markerfacecolor=tuple(col),\n",
    "                    markeredgecolor=\"k\",\n",
    "                    markersize=14,\n",
    "                    label=lab\n",
    "                )\n",
    "\n",
    "                xy = umap_X_ctrl[class_member_mask & ~core_samples_masks_umap_ctrl_lst[i + 5*j]]\n",
    "                ax[j][i].plot(\n",
    "                    xy[:, 0],\n",
    "                    xy[:, 1],\n",
    "                    \"o\",\n",
    "                    markerfacecolor=tuple(col),\n",
    "                    markeredgecolor=\"k\",\n",
    "                    markersize=6,\n",
    "                )\n",
    "\n",
    "            ax[j][i].set_xlabel('umap X', fontsize=40)\n",
    "            ax[j][i].set_ylabel('umap Y', fontsize=40)\n",
    "            ax[j][i].legend(fontsize=20)\n",
    "            ax[j][i].set_title(name + f\" umap ctrl Stars DBSCAN groups\\neps = \" + str(round(eps_arr_umap[i + 5*j], 2)) + ' min_samples = 10' + f\"\\nEstimated number of clusters: {n_clusters_umap_ctrl_lst[i + 5*j]}\", fontsize=50)\n",
    "\n",
    "    plt.tight_layout()\n",
    "    file_name = 'GCs_DBSCAN/' + name + '/db_umap_ctrl.png'\n",
    "    plt.savefig(file_name)\n",
    "    #plt.show()\n",
    "    \n",
    "    return labels_umap_ctrl_list"
   ]
  },
  {
   "cell_type": "code",
   "execution_count": null,
   "metadata": {},
   "outputs": [],
   "source": [
    "def db_all_umap_2(name, umap_X_all):\n",
    "    plt.close('all')\n",
    "    #eps_arr_umap = np.arange(0.1, 3., 0.2)\n",
    "    \n",
    "    db_umap_all = DBSCAN(eps=2, min_samples = 10).fit(umap_X_all)\n",
    "    labels_umap_all_2 = db_umap_all.labels_\n",
    "    n_clusters_umap_all_2 = len(set(db_umap_all.labels_)) - (1 if -1 in db_umap_all.labels_ else 0)\n",
    "\n",
    "    unique_labels_umap_all_2 = set(labels_umap_all_2)\n",
    "    core_samples_masks_umap_all_2 = np.zeros_like(labels_umap_all_2, dtype=bool)\n",
    "    core_samples_masks_umap_all_2[db_umap_all.core_sample_indices_] = True\n",
    "\n",
    "    colors_umap_all_2 = [plt.cm.Spectral(each) for each in np.linspace(0, 1, len(unique_labels_umap_all_2))]\n",
    "\n",
    "    fig, ax = plt.subplots(1, figsize=(80,50))\n",
    "\n",
    "    for k, col in zip(unique_labels_umap_all_2, colors_umap_all_2):\n",
    "        if k == -1:\n",
    "            # Black used for noise.\n",
    "            lab = 'Noise'\n",
    "            col = [0, 0, 0, 1]\n",
    "        else:\n",
    "            lab = 'Group ' + str(k)\n",
    "\n",
    "        class_member_mask = labels_umap_all_2 == k\n",
    "\n",
    "        xy = umap_X_all[class_member_mask & core_samples_masks_umap_all_2]\n",
    "        ax.plot(\n",
    "            xy[:, 0],\n",
    "            xy[:, 1],\n",
    "            \"o\",\n",
    "            markerfacecolor=tuple(col),\n",
    "            markeredgecolor=\"k\",\n",
    "            markersize=14,\n",
    "            label=lab\n",
    "        )\n",
    "\n",
    "        xy = umap_X_all[class_member_mask & ~core_samples_masks_umap_all_2]\n",
    "        ax.plot(\n",
    "            xy[:, 0],\n",
    "            xy[:, 1],\n",
    "            \"o\",\n",
    "            markerfacecolor=tuple(col),\n",
    "            markeredgecolor=\"k\",\n",
    "            markersize=6,\n",
    "        )\n",
    "\n",
    "    ax.set_xlabel('umap X', fontsize=40)\n",
    "    ax.set_ylabel('umap Y', fontsize=40)\n",
    "    ax.legend(fontsize=20)\n",
    "    ax.set_title(name + f'umap all Stars DBSCAN groups\\neps = 2, min_samples = 10' + f\"\\nEstimated number of clusters: {n_clusters_umap_all_2}\", fontsize=50)\n",
    "\n",
    "    plt.tight_layout()\n",
    "    file_name = 'GCs_DBSCAN_set_eps_norad/' + name + '/db_umap_all.png'\n",
    "    #plt.savefig(file_name)\n",
    "    #plt.show()\n",
    "    \n",
    "    return labels_umap_all_2"
   ]
  },
  {
   "cell_type": "markdown",
   "metadata": {},
   "source": [
    "#### all params"
   ]
  },
  {
   "cell_type": "code",
   "execution_count": null,
   "metadata": {},
   "outputs": [],
   "source": [
    "tsne_ctrl_db_labels = []\n",
    "tsne_all_db_labels = []\n",
    "umap_ctrl_db_labels = []\n",
    "umap_all_db_labels = []\n",
    "\n",
    "for n in tqdm(range(len(GC_name_arr))):\n",
    "    '''try: \n",
    "        os.makedirs('GCs_DBSCAN_set_eps/' + GC_name_arr[n])\n",
    "    except OSError as error:\n",
    "        print('Directory ' + GC_name_arr[n] + ' already exists')'''\n",
    "    \n",
    "    plot_ML(GC_name_arr[n], [tsne_control_X[n][0], tsne_control_Y[n][0], tsne_all_X[n], tsne_all_Y[n]], [umap_control_X[n][0], umap_control_Y[n][0], umap_all_X[n], umap_all_Y[n]])\n",
    "    \n",
    "    tsne_X_ctrl = np.c_[tsne_control_X[n][0], tsne_control_Y[n][0]]\n",
    "    tsne_X_all = np.c_[tsne_all_X[n], tsne_all_Y[n]]\n",
    "    umap_X_ctrl = np.c_[umap_control_X[n][0], umap_control_Y[n][0]]\n",
    "    umap_X_all = np.c_[umap_all_X[n], umap_all_Y[n]]\n",
    "    \n",
    "    \n",
    "    \n",
    "    tsne_ctrl_db_labels.append(db_ctrl_tsne_2(GC_name_arr[n], tsne_X_ctrl))\n",
    "    tsne_all_db_labels.append(db_all_tsne_2(GC_name_arr[n], tsne_X_all))\n",
    "    umap_ctrl_db_labels.append(db_ctrl_umap_2(GC_name_arr[n], umap_X_ctrl))\n",
    "    umap_all_db_labels.append(db_all_umap_2(GC_name_arr[n], umap_X_all))\n",
    "    \n",
    "    print('Done ' + GC_name_arr[n])\n",
    "    "
   ]
  },
  {
   "cell_type": "markdown",
   "metadata": {},
   "source": [
    "#### no kin"
   ]
  },
  {
   "cell_type": "code",
   "execution_count": null,
   "metadata": {},
   "outputs": [],
   "source": [
    "tsne_ctrl_db_labels_norad = []\n",
    "tsne_all_db_labels_norad = []\n",
    "umap_ctrl_db_labels_norad = []\n",
    "umap_all_db_labels_norad = []\n",
    "\n",
    "for n in tqdm(range(len(GC_name_arr_norad))):\n",
    "    '''try: \n",
    "        os.makedirs('GCs_DBSCAN_set_eps_norad/' + GC_name_arr_norad[n])\n",
    "    except OSError as error:\n",
    "        print('Directory ' + GC_name_arr_norad[n] + ' already exists')'''\n",
    "    \n",
    "    plot_ML(GC_name_arr_norad[n], [tsne_control_X_norad[n][0], tsne_control_Y_norad[n][0], tsne_all_X_norad[n], tsne_all_Y_norad[n]], [umap_control_X_norad[n][0], umap_control_Y_norad[n][0], umap_all_X_norad[n], umap_all_Y_norad[n]])\n",
    "    \n",
    "    tsne_X_ctrl_norad = np.c_[tsne_control_X_norad[n][0], tsne_control_Y_norad[n][0]]\n",
    "    tsne_X_all_norad = np.c_[tsne_all_X_norad[n], tsne_all_Y_norad[n]]\n",
    "    umap_X_ctrl_norad = np.c_[umap_control_X_norad[n][0], umap_control_Y_norad[n][0]]\n",
    "    umap_X_all_norad = np.c_[umap_all_X_norad[n], umap_all_Y_norad[n]]\n",
    "    \n",
    "    \n",
    "    \n",
    "    tsne_ctrl_db_labels_norad.append(db_ctrl_tsne_2(GC_name_arr_norad[n], tsne_X_ctrl_norad))\n",
    "    tsne_all_db_labels_norad.append(db_all_tsne_2(GC_name_arr_norad[n], tsne_X_all_norad))\n",
    "    umap_ctrl_db_labels_norad.append(db_ctrl_umap_2(GC_name_arr_norad[n], umap_X_ctrl_norad))\n",
    "    umap_all_db_labels_norad.append(db_all_umap_2(GC_name_arr_norad[n], umap_X_all_norad))\n",
    "    \n",
    "    print('Done ' + GC_name_arr_norad[n])\n",
    "    "
   ]
  },
  {
   "cell_type": "code",
   "execution_count": null,
   "metadata": {},
   "outputs": [],
   "source": []
  },
  {
   "cell_type": "code",
   "execution_count": null,
   "metadata": {},
   "outputs": [],
   "source": []
  },
  {
   "cell_type": "markdown",
   "metadata": {},
   "source": [
    "### matching groups for all GCs (setting tsne ctrl as 0 and tsne all at 1, setting umap ctrl at 1, umap all at 1)\n",
    "### this wont work for all, but hopefully works for most"
   ]
  },
  {
   "cell_type": "markdown",
   "metadata": {},
   "source": [
    "### Update: Josh came up with a new method\n",
    "\n",
    "### group swappping\n",
    "\n",
    "easiest way to test is to have control stars and check which stars are in which group, that group is the group to use. If there are multiple groups, pick the one with the most common control stars.\n",
    "\n",
    "\n",
    "\n",
    "\n",
    "Also save the control members and the assignment to DBSCAN groups after doing ^ so that we know the frequency of control members in each group. We can overcluster but we dont want to undercluster\n",
    "\n",
    "We can find control group frequency historgram and we want to make sure the extra tidal stars follow the same kind of distribution\n"
   ]
  },
  {
   "cell_type": "markdown",
   "metadata": {},
   "source": [
    "### this seems to be working, just need to implement after we figure out the more important stuff above"
   ]
  },
  {
   "cell_type": "markdown",
   "metadata": {},
   "source": [
    "#### all params"
   ]
  },
  {
   "cell_type": "code",
   "execution_count": null,
   "metadata": {},
   "outputs": [],
   "source": [
    "tsne_ctrl_db_labels[11]"
   ]
  },
  {
   "cell_type": "code",
   "execution_count": null,
   "metadata": {},
   "outputs": [],
   "source": [
    "'''tsne_ctrl_grouping = [[] for _ in range(len(GC_name_arr))]\n",
    "tsne_all_grouping = [[] for _ in range(len(GC_name_arr))]\n",
    "umap_ctrl_grouping = [[] for _ in range(len(GC_name_arr))]\n",
    "umap_all_grouping = [[] for _ in range(len(GC_name_arr))]'''\n",
    "\n",
    "tsne_ctrl_grouping = []\n",
    "tsne_all_grouping = []\n",
    "umap_ctrl_grouping = []\n",
    "umap_all_grouping = []\n",
    "\n",
    "#control_labels_tsne_ctrl = tsne_ctrl_db_labels[11][control_indices_rad[11]]\n",
    "control_labels_tsne_all = tsne_all_db_labels[2][control_indices_rad[11]]\n",
    "\n",
    "#for index, label in enumerate(tsne_ctrl_db_labels[11]): # tsne ctrl\n",
    "    \n",
    "\n",
    "'''for index, label in enumerate(tsne_all_db_labels[11]): # tsne all\n",
    "    tsne_all_grouping_norad[i].append(index)'''\n",
    "    \n",
    "\n",
    "'''for index, label in enumerate(umap_ctrl_db_labels[i]): # umap ctrl\n",
    "    control_labels = label[control_indices_rad]\n",
    "\n",
    "for index, label in enumerate(umap_all_db_labels[i]): # umap all\n",
    "    control_labels = label[control_indices_rad]'''"
   ]
  },
  {
   "cell_type": "code",
   "execution_count": null,
   "metadata": {},
   "outputs": [],
   "source": [
    "tsne_ctrl_db_labels[11]"
   ]
  },
  {
   "cell_type": "code",
   "execution_count": null,
   "metadata": {},
   "outputs": [],
   "source": [
    "labels, count = np.unique(tsne_ctrl_db_labels[17], return_counts=True)\n",
    "plt.bar(labels, count, align='center')"
   ]
  },
  {
   "cell_type": "code",
   "execution_count": null,
   "metadata": {},
   "outputs": [],
   "source": [
    "control_labels_tsne_all[0]"
   ]
  },
  {
   "cell_type": "code",
   "execution_count": null,
   "metadata": {
    "scrolled": true
   },
   "outputs": [],
   "source": [
    "control_labels_tsne_all = tsne_all_db_labels[17][control_indices_rad[10]]\n",
    "labels, count = np.unique(control_labels_tsne_all[0], return_counts=True)\n",
    "\n",
    "plt.bar(labels, count, align='center')"
   ]
  },
  {
   "cell_type": "code",
   "execution_count": null,
   "metadata": {},
   "outputs": [],
   "source": [
    "plt.plot(tsne_all_X[11], tsne_all_Y[11], 'ok', ms=1)\n",
    "plt.plot(tsne_control_X[11][0], tsne_control_Y[11][0], 'or', ms=5)"
   ]
  },
  {
   "cell_type": "code",
   "execution_count": null,
   "metadata": {},
   "outputs": [],
   "source": [
    "tsne_ctrl_grouping = [[] for _ in range(len(GC_name_arr))]\n",
    "tsne_all_grouping = [[] for _ in range(len(GC_name_arr))]\n",
    "umap_ctrl_grouping = [[] for _ in range(len(GC_name_arr))]\n",
    "umap_all_grouping = [[] for _ in range(len(GC_name_arr))]\n",
    "\n",
    "'''tsne_ctrl_grouping_M3 = []\n",
    "tsne_all_grouping_M3 = []\n",
    "umap_ctrl_grouping_M3 = []\n",
    "umap_all_grouping_M3 = []'''\n",
    "\n",
    "for i in tqdm(range(len(GC_name_arr))):\n",
    "    for index, label in enumerate(tsne_ctrl_db_labels[i]): # tsne ctrl\n",
    "        control_labels = label[control_indices_rad]\n",
    "\n",
    "    for index, label in enumerate(tsne_all_db_labels[i]): # tsne all\n",
    "        control_label = label[control_indices_rad]\n",
    "\n",
    "    for index, label in enumerate(umap_ctrl_db_labels[i]): # umap ctrl\n",
    "        control_labels = label[control_indices_rad]\n",
    "\n",
    "    for index, label in enumerate(umap_all_db_labels[i]): # umap all\n",
    "        control_labels = label[control_indices_rad]"
   ]
  },
  {
   "cell_type": "code",
   "execution_count": null,
   "metadata": {},
   "outputs": [],
   "source": [
    "tsne_same_stars_index = [[] for _ in range(len(GC_name_arr))]\n",
    "tsne_et_stars_index = [[] for _ in range(len(GC_name_arr))]\n",
    "\n",
    "for n in tqdm(range(len(GC_name_arr))):\n",
    "    for i in tsne_all_grouping[n]:\n",
    "        ctrl_X_coord = tsne_control_X[n][0][tsne_ctrl_grouping[n]]\n",
    "        ctrl_Y_coord = tsne_control_Y[n][0][tsne_ctrl_grouping[n]]\n",
    "        all_X_coord = tsne_all_X[n][i]\n",
    "        all_Y_coord = tsne_all_Y[n][i]\n",
    "\n",
    "        if all_X_coord in ctrl_X_coord and all_Y_coord in ctrl_Y_coord:\n",
    "            tsne_same_stars_index[n].append(i)\n",
    "        else:\n",
    "            tsne_et_stars_index[n].append(i)"
   ]
  },
  {
   "cell_type": "code",
   "execution_count": null,
   "metadata": {},
   "outputs": [],
   "source": [
    "umap_same_stars_index = [[] for _ in range(len(GC_name_arr))]\n",
    "umap_et_stars_index = [[] for _ in range(len(GC_name_arr))]\n",
    "\n",
    "for n in tqdm(range(len(GC_name_arr))):\n",
    "    for i in umap_all_grouping[n]:\n",
    "        ctrl_X_coord = umap_control_X[n][0][umap_ctrl_grouping[n]]\n",
    "        ctrl_Y_coord = umap_control_Y[n][0][umap_ctrl_grouping[n]]\n",
    "        all_X_coord = umap_all_X[n][i]\n",
    "        all_Y_coord = umap_all_Y[n][i]\n",
    "\n",
    "        if all_X_coord in ctrl_X_coord and all_Y_coord in ctrl_Y_coord:\n",
    "            umap_same_stars_index[n].append(i)\n",
    "        else:\n",
    "            umap_et_stars_index[n].append(i)"
   ]
  },
  {
   "cell_type": "code",
   "execution_count": null,
   "metadata": {},
   "outputs": [],
   "source": [
    "for n in range(len(GC_name_arr)):\n",
    "    fig = plt.subplots(1, figsize=(10,10))\n",
    "    plt.plot(tsne_all_X[n], tsne_all_Y[n], 'ok', ms=1, label='All stars')\n",
    "    plt.plot(tsne_control_X[n][0], tsne_control_Y[n][0], 'or', ms=3, label='Control stars')\n",
    "    plt.plot(tsne_all_X[n][tsne_et_stars_index[n]], tsne_all_Y[n][tsne_et_stars_index[n]], 'ob', ms=5, label='ET stars')\n",
    "    #plt.plot(tsne_all_X[11][tsne_same_stars_index], tsne_all_Y[11][tsne_same_stars_index], 'og', ms=5)\n",
    "    plt.title('tsne', fontsize=20)\n",
    "    plt.legend(fontsize=20)\n",
    "    plt.savefig('GCs_DBSCAN_set_eps/' + GC_name_arr[n] + '/FINALSTARSTEST_tsne.png')\n",
    "    plt.close('all')\n",
    "    print(len(tsne_et_stars_index[n]))"
   ]
  },
  {
   "cell_type": "code",
   "execution_count": null,
   "metadata": {},
   "outputs": [],
   "source": [
    "for n in range(len(GC_name_arr)):\n",
    "    fig = plt.subplots(1, figsize=(10,10))\n",
    "    plt.plot(umap_all_X[n], umap_all_Y[n], 'ok', ms=1, label='All stars')\n",
    "    plt.plot(umap_control_X[n][0], umap_control_Y[n][0], 'or', ms=3, label='Control stars')\n",
    "    plt.plot(umap_all_X[n][umap_et_stars_index[n]], umap_all_Y[n][umap_et_stars_index[n]], 'ob', ms=5, label='ET stars')\n",
    "    #plt.plot(umap_all_X[11][umap_same_stars_index], umap_all_Y[11][umap_same_stars_index], 'og', ms=5)\n",
    "    plt.title('umap', fontsize=20)\n",
    "    plt.legend(fontsize=20)\n",
    "    plt.savefig('GCs_DBSCAN_set_eps/' + GC_name_arr[n] + '/FINALSTARSTEST_umap.png')\n",
    "    plt.close('all')\n",
    "    print(len(umap_et_stars_index[n]))"
   ]
  },
  {
   "cell_type": "code",
   "execution_count": null,
   "metadata": {},
   "outputs": [],
   "source": [
    "final_et_rad = [[] for _ in range(len(GC_name_arr))]\n",
    "\n",
    "for n in range(len(GC_name_arr)):\n",
    "    for i in tsne_et_stars_index[n]:\n",
    "        if i in umap_et_stars_index[n]:\n",
    "            final_et_rad[n].append(i)"
   ]
  },
  {
   "cell_type": "markdown",
   "metadata": {},
   "source": [
    "#### no pm rv"
   ]
  },
  {
   "cell_type": "code",
   "execution_count": null,
   "metadata": {},
   "outputs": [],
   "source": [
    "'''tsne_ctrl_grouping = [[] for _ in range(len(GC_name_arr))]\n",
    "tsne_all_grouping = [[] for _ in range(len(GC_name_arr))]\n",
    "umap_ctrl_grouping = [[] for _ in range(len(GC_name_arr))]\n",
    "umap_all_grouping = [[] for _ in range(len(GC_name_arr))]'''\n",
    "\n",
    "tsne_ctrl_grouping_norad = [[] for _ in range(len(GC_name_arr_norad))]\n",
    "tsne_all_grouping_norad = [[] for _ in range(len(GC_name_arr_norad))]\n",
    "umap_ctrl_grouping_norad = [[] for _ in range(len(GC_name_arr_norad))]\n",
    "umap_all_grouping_norad = [[] for _ in range(len(GC_name_arr_norad))]\n",
    "\n",
    "for i in range(len(GC_name_arr_norad)):\n",
    "    for index, label in enumerate(tsne_ctrl_db_labels_norad[i]):\n",
    "        if label == 0:\n",
    "            tsne_ctrl_grouping_norad[i].append(index)\n",
    "\n",
    "    for index, label in enumerate(tsne_all_db_labels_norad[i]):\n",
    "        if label == 1:\n",
    "            tsne_all_grouping_norad[i].append(index)\n",
    "\n",
    "    for index, label in enumerate(umap_ctrl_db_labels_norad[i]):\n",
    "        if label == 1:\n",
    "            umap_ctrl_grouping_norad[i].append(index)\n",
    "\n",
    "    for index, label in enumerate(umap_all_db_labels_norad[i]):\n",
    "        if label == 1:\n",
    "            umap_all_grouping_norad[i].append(index)"
   ]
  },
  {
   "cell_type": "code",
   "execution_count": null,
   "metadata": {},
   "outputs": [],
   "source": [
    "tsne_same_stars_index_norad = [[] for _ in range(len(GC_name_arr))]\n",
    "tsne_et_stars_index_norad = [[] for _ in range(len(GC_name_arr))]\n",
    "\n",
    "for n in tqdm(range(len(GC_name_arr))):\n",
    "    for i in tsne_all_grouping_norad[n]:\n",
    "        ctrl_X_coord_norad = tsne_control_X_norad[n][0][tsne_ctrl_grouping_norad[n]]\n",
    "        ctrl_Y_coord_norad = tsne_control_Y_norad[n][0][tsne_ctrl_grouping_norad[n]]\n",
    "        all_X_coord_norad = tsne_all_X_norad[n][i]\n",
    "        all_Y_coord_norad = tsne_all_Y_norad[n][i]\n",
    "\n",
    "        if all_X_coord_norad in ctrl_X_coord_norad and all_Y_coord_norad in ctrl_Y_coord_norad:\n",
    "            tsne_same_stars_index_norad[n].append(i)\n",
    "        else:\n",
    "            tsne_et_stars_index_norad[n].append(i)"
   ]
  },
  {
   "cell_type": "code",
   "execution_count": null,
   "metadata": {},
   "outputs": [],
   "source": [
    "umap_same_stars_index_norad = [[] for _ in range(len(GC_name_arr))]\n",
    "umap_et_stars_index_norad = [[] for _ in range(len(GC_name_arr))]\n",
    "\n",
    "for n in tqdm(range(len(GC_name_arr))):\n",
    "    for i in umap_all_grouping_norad[n]:\n",
    "        ctrl_X_coord_norad = umap_control_X_norad[n][0][umap_ctrl_grouping_norad[n]]\n",
    "        ctrl_Y_coord_norad = umap_control_Y_norad[n][0][umap_ctrl_grouping_norad[n]]\n",
    "        all_X_coord_norad = umap_all_X_norad[n][i]\n",
    "        all_Y_coord_norad = umap_all_Y_norad[n][i]\n",
    "\n",
    "        if all_X_coord_norad in ctrl_X_coord_norad and all_Y_coord_norad in ctrl_Y_coord_norad:\n",
    "            umap_same_stars_index_norad[n].append(i)\n",
    "        else:\n",
    "            umap_et_stars_index_norad[n].append(i)"
   ]
  },
  {
   "cell_type": "code",
   "execution_count": null,
   "metadata": {},
   "outputs": [],
   "source": [
    "for n in range(len(GC_name_arr)):\n",
    "    fig = plt.subplots(1, figsize=(10,10))\n",
    "    plt.plot(tsne_all_X_norad[n], tsne_all_Y_norad[n], 'ok', ms=1, label='All stars')\n",
    "    plt.plot(tsne_control_X_norad[n][0], tsne_control_Y_norad[n][0], 'or', ms=3, label='Control stars')\n",
    "    plt.plot(tsne_all_X_norad[n][tsne_et_stars_index_norad[n]], tsne_all_Y_norad[n][tsne_et_stars_index_norad[n]], 'ob', ms=5, label='ET stars')\n",
    "    #plt.plot(tsne_all_X[11][tsne_same_stars_index], tsne_all_Y[11][tsne_same_stars_index], 'og', ms=5)\n",
    "    plt.title('tsne', fontsize=20)\n",
    "    plt.legend(fontsize=20)\n",
    "    plt.savefig('GCs_DBSCAN_set_eps_norad/' + GC_name_arr[n] + '/FINALSTARSTEST_tsne.png')\n",
    "    plt.close('all')\n",
    "    print(len(tsne_et_stars_index_norad[n]))"
   ]
  },
  {
   "cell_type": "code",
   "execution_count": null,
   "metadata": {},
   "outputs": [],
   "source": [
    "for n in range(len(GC_name_arr)):\n",
    "    fig = plt.subplots(1, figsize=(10,10))\n",
    "    plt.plot(umap_all_X_norad[n], umap_all_Y_norad[n], 'ok', ms=1, label='All stars')\n",
    "    plt.plot(umap_control_X_norad[n][0], umap_control_Y_norad[n][0], 'or', ms=3, label='Control stars')\n",
    "    plt.plot(umap_all_X_norad[n][umap_et_stars_index_norad[n]], umap_all_Y_norad[n][umap_et_stars_index_norad[n]], 'ob', ms=5, label='ET stars')\n",
    "    #plt.plot(umap_all_X[11][umap_same_stars_index], umap_all_Y[11][umap_same_stars_index], 'og', ms=5)\n",
    "    plt.title('umap', fontsize=20)\n",
    "    plt.legend(fontsize=20)\n",
    "    plt.savefig('GCs_DBSCAN_set_eps_norad/' + GC_name_arr[n] + '/FINALSTARSTEST_umap.png')\n",
    "    plt.close('all')\n",
    "    print(len(umap_et_stars_index_norad[n]))"
   ]
  },
  {
   "cell_type": "code",
   "execution_count": null,
   "metadata": {},
   "outputs": [],
   "source": [
    "final_et_norad = [[] for _ in range(len(GC_name_arr))]\n",
    "\n",
    "for n in range(len(GC_name_arr)):\n",
    "    for i in tsne_et_stars_index_norad[n]:\n",
    "        if i in umap_et_stars_index_norad[n]:\n",
    "            final_et_norad[n].append(i)"
   ]
  },
  {
   "cell_type": "markdown",
   "metadata": {},
   "source": [
    "### final between all params and no pm rv"
   ]
  },
  {
   "cell_type": "code",
   "execution_count": null,
   "metadata": {},
   "outputs": [],
   "source": [
    "final_et = [[] for _ in range(len(GC_name_arr))]\n",
    "\n",
    "for n in range(len(GC_name_arr)):\n",
    "    for i in final_et_norad[n]:\n",
    "        if i in final_et_rad[n]:\n",
    "            final_et[n].append(i)\n",
    "\n",
    "    print(len(final_et[n]))"
   ]
  },
  {
   "cell_type": "code",
   "execution_count": null,
   "metadata": {},
   "outputs": [],
   "source": [
    "def plot_shit(n):\n",
    "    #plt.close('all')\n",
    "    M3_ra = GC_db['RA'][n]\n",
    "    M3_dec = GC_db['DEC'][n]\n",
    "    M3_rt = GC_db['rt'][n]\n",
    "    M3_d_Sun = GC_db['R_Sun'][n] * 1e3\n",
    "    M3_rt_deg = math.degrees(math.atan(M3_rt / M3_d_Sun))\n",
    "    M3_fov = 5\n",
    "\n",
    "    M3_stars = []\n",
    "    for count, i in enumerate(apogee_nofilt['RA'].values):\n",
    "        if i >= M3_ra - M3_fov and i <= M3_ra + M3_fov and apogee_nofilt['DEC'].values[count] >= M3_dec - M3_fov and apogee_nofilt['DEC'].values[count] <= M3_dec + M3_fov:\n",
    "            M3_stars.append(apogee_nofilt.loc[count])\n",
    "\n",
    "    print(len(M3_stars), 'stars in a 10x10 fov of the GC')\n",
    "\n",
    "    '''if len(M3_stars) != 0:\n",
    "        # create a folder with name of GC only if there are stars in the field\n",
    "        try: \n",
    "            os.makedirs('GCs_nice/' + name)\n",
    "        except OSError as error:\n",
    "            print('Directory ' + name+ ' already exists')'''\n",
    "\n",
    "    M3_ra_arr = np.empty(len(M3_stars), dtype=float)\n",
    "    M3_dec_arr = np.empty(len(M3_stars), dtype=float)\n",
    "    for count, i in enumerate(M3_stars):\n",
    "        M3_ra_arr[count] = i['RA']\n",
    "        M3_dec_arr[count] = i['DEC']     \n",
    "        \n",
    "    #M3_rhm_circ = plt.Circle((M3_ra, M3_dec), M3_rhm_deg, color='r', fill=False, label='rhm')\n",
    "    #M3_rhm_rt_circ = plt.Circle((M3_ra, M3_dec), (rhm_deg + rt_deg)/2, color='g', fill=False, label='1/2 rhm, rt')\n",
    "    M3_rt_circ = plt.Circle((M3_ra, M3_dec), M3_rt_deg, color='b', fill=False, label='rt')\n",
    "    \n",
    "    try: \n",
    "        os.makedirs('GCs_test/' + GC_name_arr[n])\n",
    "    except OSError as error:\n",
    "        print('Directory ' + GC_name_arr[n] + ' already exists')\n",
    "    \n",
    "    #plt.figure(figsize=(10,10))\n",
    "    fig, ax = plt.subplots(1, figsize=(10,10))\n",
    "    ax.plot(M3_ra_arr, M3_dec_arr, 'ok', linestyle='none', markersize=1, label='Stars')\n",
    "    ax.plot(M3_ra, M3_dec, color='cyan', marker='x', linestyle='none', markersize=5, label='GC centre')\n",
    "    ax.plot(M3_ra_arr[final_et[n]], M3_dec_arr[final_et[n]], color='fuchsia', linestyle='none', marker='*', ms=5, label='ET Candidates')\n",
    "    #ax.add_patch(rhm_circ)\n",
    "    #ax.add_patch(rhm_rt_circ)\n",
    "    ax.add_patch(M3_rt_circ)\n",
    "    ax.set_xlabel('RA')\n",
    "    ax.set_ylabel('DEC')\n",
    "    ax.set_title('Final stars for' + GC_name_arr[n], fontsize=20)\n",
    "    ax.set_xlim(M3_ra - M3_fov - 1, M3_ra + M3_fov + 1)\n",
    "    ax.set_ylim(M3_dec - M3_fov - 1, M3_dec + M3_fov + 1)\n",
    "    ax.legend(loc='best')\n",
    "    plt.show()\n",
    "    \n",
    "    fig, ax = plt.subplots(2, 2, figsize=(20,20))\n",
    "    \n",
    "    # all tsne\n",
    "    ax[0][0].plot(tsne_all_X[n], tsne_all_Y[n], 'ok', ms=1, label='All stars')\n",
    "    ax[0][0].plot(tsne_control_X[n][0], tsne_control_Y[n][0], 'or', ms=3, label='Control stars')\n",
    "    ax[0][0].plot(tsne_all_X[n][tsne_et_stars_index[n]], tsne_all_Y[n][tsne_et_stars_index[n]], 'ob', ms=5, label='ET stars', alpha=0.3)\n",
    "    ax[0][0].set_title('tsne all params', fontsize=20)\n",
    "    ax[0][0].legend(fontsize=20)\n",
    "    \n",
    "    # all umap\n",
    "    ax[0][1].plot(umap_all_X[n], umap_all_Y[n], 'ok', ms=1, label='All stars')\n",
    "    ax[0][1].plot(umap_control_X[n][0], umap_control_Y[n][0], 'or', ms=3, label='Control stars')\n",
    "    ax[0][1].plot(umap_all_X[n][umap_et_stars_index[n]], umap_all_Y[n][umap_et_stars_index[n]], 'ob', ms=5, label='ET stars', alpha=0.3)\n",
    "    ax[0][1].set_title('umap all params', fontsize=20)\n",
    "    ax[0][1].legend(fontsize=20)\n",
    "    \n",
    "    # no pm, rv tsne\n",
    "    ax[1][0].plot(tsne_all_X_norad[n], tsne_all_Y_norad[n], 'ok', ms=1, label='All stars')\n",
    "    ax[1][0].plot(tsne_control_X_norad[n][0], tsne_control_Y_norad[n][0], 'or', ms=3, label='Control stars')\n",
    "    ax[1][0].plot(tsne_all_X_norad[n][tsne_et_stars_index_norad[n]], tsne_all_Y_norad[n][tsne_et_stars_index_norad[n]], 'ob', ms=5, label='ET stars', alpha=0.3)\n",
    "    ax[1][0].set_title('tsne no pm, rv', fontsize=20)\n",
    "    ax[1][0].legend(fontsize=20)\n",
    "    \n",
    "    # no pm, rv umap\n",
    "    ax[1][1].plot(umap_all_X_norad[n], umap_all_Y_norad[n], 'ok', ms=1, label='All stars')\n",
    "    ax[1][1].plot(umap_control_X_norad[n][0], umap_control_Y_norad[n][0], 'or', ms=3, label='Control stars')\n",
    "    ax[1][1].plot(umap_all_X_norad[n][umap_et_stars_index_norad[n]], umap_all_Y_norad[n][umap_et_stars_index_norad[n]], 'ob', ms=5, label='ET stars', alpha=0.3)\n",
    "    ax[1][1].set_title('umap no pm, rv', fontsize=20)\n",
    "    ax[1][1].legend(fontsize=20)\n",
    "    \n",
    "    plt.tight_layout()\n",
    "    plt.show() \n"
   ]
  },
  {
   "cell_type": "code",
   "execution_count": null,
   "metadata": {
    "scrolled": true
   },
   "outputs": [],
   "source": [
    "for n in tqdm(range(len(GC_name_arr))):\n",
    "    plot_shit(n)"
   ]
  },
  {
   "cell_type": "markdown",
   "metadata": {},
   "source": []
  },
  {
   "cell_type": "markdown",
   "metadata": {},
   "source": []
  },
  {
   "cell_type": "code",
   "execution_count": null,
   "metadata": {},
   "outputs": [],
   "source": []
  }
 ],
 "metadata": {
  "kernelspec": {
   "display_name": "Python 3",
   "language": "python",
   "name": "python3"
  },
  "language_info": {
   "codemirror_mode": {
    "name": "ipython",
    "version": 3
   },
   "file_extension": ".py",
   "mimetype": "text/x-python",
   "name": "python",
   "nbconvert_exporter": "python",
   "pygments_lexer": "ipython3",
   "version": "3.8.5"
  }
 },
 "nbformat": 4,
 "nbformat_minor": 4
}
