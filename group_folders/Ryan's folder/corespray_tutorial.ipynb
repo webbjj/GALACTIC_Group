{
 "cells": [
  {
   "cell_type": "markdown",
   "metadata": {},
   "source": [
    "## How to simulate extra-tidal stars and binaries of globular clusters with Corespray."
   ]
  },
  {
   "cell_type": "markdown",
   "metadata": {},
   "source": [
    "#### STEP 0: Import the necessary Python packages. \n",
    "\n",
    "$\\texttt{corespray}$ can be downloaded at: https://github.com/webbjj/corespray. \n",
    "$\\texttt{galpy}$ (Bovy 2015) can be downloaded at: https://docs.galpy.org/en/v1.8.0/. "
   ]
  },
  {
   "cell_type": "code",
   "execution_count": 1,
   "metadata": {},
   "outputs": [
    {
     "name": "stdout",
     "output_type": "stream",
     "text": [
      "galpyWarning: libgalpy C extension module not loaded, because libgalpy.pyd image was not found\n"
     ]
    }
   ],
   "source": [
    "# Import corespray:\n",
    "from corespray import corespraydf\n",
    "\n",
    "# Import galpy packages:\n",
    "from galpy.potential import MWPotential2014\n",
    "from galpy.potential import KingPotential\n",
    "from galpy.util import conversion\n",
    "from galpy.orbit import Orbit\n",
    "\n",
    "# Import other necessary Python packages:\n",
    "import numpy as np\n",
    "import matplotlib.pyplot as plt\n",
    "from matplotlib import rc\n",
    "plt.rcParams['mathtext.fontset'] = 'stix'\n",
    "plt.rcParams['font.family'] = 'STIXGeneral'\n",
    "from matplotlib import animation"
   ]
  },
  {
   "cell_type": "markdown",
   "metadata": {},
   "source": [
    "#### STEP 1: Load in the specific parameters for your GC of interest:\n",
    "Spatial, kinematic and orbital parameters for most Galactic GCs can be found in the Baumgardt & Hilker (2018) catalogue. This catalogue is accessible at: https://people.smp.uq.edu.au/HolgerBaumgardt/globular/. For this example, we simulate extra-tidal stars and binaries of M3. "
   ]
  },
  {
   "cell_type": "code",
   "execution_count": 2,
   "metadata": {},
   "outputs": [],
   "source": [
    "gcname ='M3' # GC name\n",
    "mu0 = 0.  # Average 1D velocity in the core [km/s]\n",
    "sig0 = 7.6  # Central 1D velocity dispersion [km/s]\n",
    "vesc0 = 30.0  # Central escape velocity [km/s]\n",
    "logrho0 = 3.67  # Log of central density [Msol / pc^3]\n",
    "rho0 = 10.0**3.67  # Core density [Msol / pc^3]\n",
    "mgc = 4.06e5  # Mass [solar masses]\n",
    "rgc = 127.28  # Tidal radius of GC, assuming King potential [pc]\n",
    "rcore = 1.23  # Core radius of GC [pc]\n",
    "W0 = 8.61469762517307\n",
    "\n",
    "mmin = 0.1 # Minimum stellar mass in core [Msol]\n",
    "mmax = 1.4 # Maximum stellar mass in the core [Msol]\n",
    "alpha = -1.35 # Stellar mass function in the core slope (Salpeter 1955)\n",
    "\n",
    "potential = MWPotential2014  # Galactic potential model\n",
    "ro = 8. #radius of the solar circle (needed for galpy)\n",
    "vo = 220. #circular orbit velocity at the solar circle (needed for galpy)"
   ]
  },
  {
   "cell_type": "markdown",
   "metadata": {},
   "source": [
    "#### STEP 2: Initialize the cluster's orbit in galpy:"
   ]
  },
  {
   "cell_type": "code",
   "execution_count": 3,
   "metadata": {},
   "outputs": [],
   "source": [
    "os_init = Orbit.from_name(gcname, ro=ro, vo=vo, solarmotion=[-11.1, 24.0, 7.25])"
   ]
  },
  {
   "cell_type": "markdown",
   "metadata": {},
   "source": [
    "#### STEP 3: Integrate the orbit:"
   ]
  },
  {
   "cell_type": "code",
   "execution_count": 4,
   "metadata": {},
   "outputs": [
    {
     "name": "stdout",
     "output_type": "stream",
     "text": [
      "galpyWarning: Cannot use C integration because C extension not loaded (using leapfrog instead)\n"
     ]
    }
   ],
   "source": [
    "ts = np.linspace(0,10,1000)  # integration times\n",
    "os_init.integrate(ts, potential)  # can choose which Galactic potential to use (e.g. MWPotenial2014)"
   ]
  },
  {
   "cell_type": "markdown",
   "metadata": {},
   "source": [
    "#### STEP 5: Determine the maximum orbital period of the GC."
   ]
  },
  {
   "cell_type": "code",
   "execution_count": 5,
   "metadata": {},
   "outputs": [
    {
     "ename": "NotImplementedError",
     "evalue": "actionsFreqs with c=False not implemented; maybe you meant to install the C extension?",
     "output_type": "error",
     "traceback": [
      "\u001b[1;31m---------------------------------------------------------------------------\u001b[0m",
      "\u001b[1;31mNotImplementedError\u001b[0m                       Traceback (most recent call last)",
      "\u001b[1;32m<ipython-input-5-4f4308e6d656>\u001b[0m in \u001b[0;36m<module>\u001b[1;34m\u001b[0m\n\u001b[0;32m      1\u001b[0m \u001b[1;31m# Find the maximum orbital period of the GC:\u001b[0m\u001b[1;33m\u001b[0m\u001b[1;33m\u001b[0m\u001b[1;33m\u001b[0m\u001b[0m\n\u001b[1;32m----> 2\u001b[1;33m \u001b[0mp_orb_rad\u001b[0m \u001b[1;33m=\u001b[0m \u001b[0mos_init\u001b[0m\u001b[1;33m.\u001b[0m\u001b[0mTr\u001b[0m\u001b[1;33m(\u001b[0m\u001b[1;33m)\u001b[0m\u001b[1;33m\u001b[0m\u001b[1;33m\u001b[0m\u001b[0m\n\u001b[0m\u001b[0;32m      3\u001b[0m \u001b[0mp_orb_phi\u001b[0m \u001b[1;33m=\u001b[0m \u001b[0mos_init\u001b[0m\u001b[1;33m.\u001b[0m\u001b[0mTp\u001b[0m\u001b[1;33m(\u001b[0m\u001b[1;33m)\u001b[0m\u001b[1;33m\u001b[0m\u001b[1;33m\u001b[0m\u001b[0m\n\u001b[0;32m      4\u001b[0m \u001b[0mp_orb_max\u001b[0m \u001b[1;33m=\u001b[0m \u001b[0mmax\u001b[0m\u001b[1;33m(\u001b[0m\u001b[0mnp\u001b[0m\u001b[1;33m.\u001b[0m\u001b[0marray\u001b[0m\u001b[1;33m(\u001b[0m\u001b[1;33m[\u001b[0m\u001b[0mp_orb_rad\u001b[0m\u001b[1;33m,\u001b[0m \u001b[0mp_orb_phi\u001b[0m\u001b[1;33m]\u001b[0m\u001b[1;33m)\u001b[0m\u001b[1;33m)\u001b[0m\u001b[1;33m\u001b[0m\u001b[1;33m\u001b[0m\u001b[0m\n\u001b[0;32m      5\u001b[0m \u001b[0mprint\u001b[0m\u001b[1;33m(\u001b[0m\u001b[1;34m\"The maximum orbital period of M3 is {} Gyr.\"\u001b[0m\u001b[1;33m.\u001b[0m\u001b[0mformat\u001b[0m\u001b[1;33m(\u001b[0m\u001b[0mp_orb_max\u001b[0m\u001b[1;33m)\u001b[0m\u001b[1;33m)\u001b[0m\u001b[1;33m\u001b[0m\u001b[1;33m\u001b[0m\u001b[0m\n",
      "\u001b[1;32m~\\Anaconda3\\lib\\site-packages\\galpy\\util\\conversion.py\u001b[0m in \u001b[0;36mwrapped\u001b[1;34m(*args, **kwargs)\u001b[0m\n\u001b[0;32m    823\u001b[0m                     \u001b[1;32mif\u001b[0m \u001b[0m_apy_units\u001b[0m\u001b[1;33m:\u001b[0m\u001b[1;33m\u001b[0m\u001b[1;33m\u001b[0m\u001b[0m\n\u001b[0;32m    824\u001b[0m                         \u001b[0mu\u001b[0m\u001b[1;33m=\u001b[0m \u001b[0munits\u001b[0m\u001b[1;33m.\u001b[0m\u001b[0mdimensionless_unscaled\u001b[0m\u001b[1;33m\u001b[0m\u001b[1;33m\u001b[0m\u001b[0m\n\u001b[1;32m--> 825\u001b[1;33m                 \u001b[0mout\u001b[0m\u001b[1;33m=\u001b[0m \u001b[0mmethod\u001b[0m\u001b[1;33m(\u001b[0m\u001b[1;33m*\u001b[0m\u001b[0margs\u001b[0m\u001b[1;33m,\u001b[0m\u001b[1;33m**\u001b[0m\u001b[0mkwargs\u001b[0m\u001b[1;33m)\u001b[0m\u001b[1;33m\u001b[0m\u001b[1;33m\u001b[0m\u001b[0m\n\u001b[0m\u001b[0;32m    826\u001b[0m                 \u001b[1;32mif\u001b[0m \u001b[0mout\u001b[0m \u001b[1;32mis\u001b[0m \u001b[1;32mNone\u001b[0m\u001b[1;33m:\u001b[0m\u001b[1;33m\u001b[0m\u001b[1;33m\u001b[0m\u001b[0m\n\u001b[0;32m    827\u001b[0m                     \u001b[1;32mreturn\u001b[0m \u001b[0mout\u001b[0m\u001b[1;33m\u001b[0m\u001b[1;33m\u001b[0m\u001b[0m\n",
      "\u001b[1;32m~\\Anaconda3\\lib\\site-packages\\galpy\\orbit\\Orbits.py\u001b[0m in \u001b[0;36mshape_wrapper\u001b[1;34m(*args, **kwargs)\u001b[0m\n\u001b[0;32m    140\u001b[0m     \u001b[1;32mdef\u001b[0m \u001b[0mshape_wrapper\u001b[0m\u001b[1;33m(\u001b[0m\u001b[1;33m*\u001b[0m\u001b[0margs\u001b[0m\u001b[1;33m,\u001b[0m\u001b[1;33m**\u001b[0m\u001b[0mkwargs\u001b[0m\u001b[1;33m)\u001b[0m\u001b[1;33m:\u001b[0m\u001b[1;33m\u001b[0m\u001b[1;33m\u001b[0m\u001b[0m\n\u001b[0;32m    141\u001b[0m         \u001b[0mdontreshape\u001b[0m\u001b[1;33m=\u001b[0m \u001b[0mkwargs\u001b[0m\u001b[1;33m.\u001b[0m\u001b[0mget\u001b[0m\u001b[1;33m(\u001b[0m\u001b[1;34m'dontreshape'\u001b[0m\u001b[1;33m,\u001b[0m\u001b[1;32mFalse\u001b[0m\u001b[1;33m)\u001b[0m\u001b[1;33m\u001b[0m\u001b[1;33m\u001b[0m\u001b[0m\n\u001b[1;32m--> 142\u001b[1;33m         \u001b[0mresult\u001b[0m\u001b[1;33m=\u001b[0m \u001b[0mfunc\u001b[0m\u001b[1;33m(\u001b[0m\u001b[1;33m*\u001b[0m\u001b[0margs\u001b[0m\u001b[1;33m,\u001b[0m\u001b[1;33m**\u001b[0m\u001b[0mkwargs\u001b[0m\u001b[1;33m)\u001b[0m\u001b[1;33m\u001b[0m\u001b[1;33m\u001b[0m\u001b[0m\n\u001b[0m\u001b[0;32m    143\u001b[0m         \u001b[1;32mif\u001b[0m \u001b[0mdontreshape\u001b[0m\u001b[1;33m:\u001b[0m\u001b[1;33m\u001b[0m\u001b[1;33m\u001b[0m\u001b[0m\n\u001b[0;32m    144\u001b[0m             \u001b[1;32mreturn\u001b[0m \u001b[0mresult\u001b[0m\u001b[1;33m\u001b[0m\u001b[1;33m\u001b[0m\u001b[0m\n",
      "\u001b[1;32m~\\Anaconda3\\lib\\site-packages\\galpy\\orbit\\Orbits.py\u001b[0m in \u001b[0;36mTr\u001b[1;34m(self, pot, **kwargs)\u001b[0m\n\u001b[0;32m   2704\u001b[0m \u001b[1;33m\u001b[0m\u001b[0m\n\u001b[0;32m   2705\u001b[0m         \"\"\"\n\u001b[1;32m-> 2706\u001b[1;33m         \u001b[0mself\u001b[0m\u001b[1;33m.\u001b[0m\u001b[0m_setup_actionsFreqsAngles\u001b[0m\u001b[1;33m(\u001b[0m\u001b[0mpot\u001b[0m\u001b[1;33m=\u001b[0m\u001b[0mpot\u001b[0m\u001b[1;33m,\u001b[0m\u001b[1;33m**\u001b[0m\u001b[0mkwargs\u001b[0m\u001b[1;33m)\u001b[0m\u001b[1;33m\u001b[0m\u001b[1;33m\u001b[0m\u001b[0m\n\u001b[0m\u001b[0;32m   2707\u001b[0m         \u001b[1;32mreturn\u001b[0m \u001b[1;36m2.\u001b[0m\u001b[1;33m*\u001b[0m\u001b[0mnumpy\u001b[0m\u001b[1;33m.\u001b[0m\u001b[0mpi\u001b[0m\u001b[1;33m/\u001b[0m\u001b[0mself\u001b[0m\u001b[1;33m.\u001b[0m\u001b[0m_aA_Or\u001b[0m\u001b[1;33m\u001b[0m\u001b[1;33m\u001b[0m\u001b[0m\n\u001b[0;32m   2708\u001b[0m \u001b[1;33m\u001b[0m\u001b[0m\n",
      "\u001b[1;32m~\\Anaconda3\\lib\\site-packages\\galpy\\orbit\\Orbits.py\u001b[0m in \u001b[0;36m_setup_actionsFreqsAngles\u001b[1;34m(self, pot, **kwargs)\u001b[0m\n\u001b[0;32m   1993\u001b[0m             \u001b[0mself\u001b[0m\u001b[1;33m.\u001b[0m\u001b[0m_aA_Or\u001b[0m\u001b[1;33m,\u001b[0m \u001b[0mself\u001b[0m\u001b[1;33m.\u001b[0m\u001b[0m_aA_Op\u001b[0m\u001b[1;33m,\u001b[0m \u001b[0mself\u001b[0m\u001b[1;33m.\u001b[0m\u001b[0m_aA_Oz\u001b[0m\u001b[1;33m,\u001b[0m\u001b[0;31m \u001b[0m\u001b[0;31m\\\u001b[0m\u001b[1;33m\u001b[0m\u001b[1;33m\u001b[0m\u001b[0m\n\u001b[0;32m   1994\u001b[0m             \u001b[0mself\u001b[0m\u001b[1;33m.\u001b[0m\u001b[0m_aA_wr\u001b[0m\u001b[1;33m,\u001b[0m \u001b[0mself\u001b[0m\u001b[1;33m.\u001b[0m\u001b[0m_aA_wp\u001b[0m\u001b[1;33m,\u001b[0m \u001b[0mself\u001b[0m\u001b[1;33m.\u001b[0m\u001b[0m_aA_wz\u001b[0m\u001b[1;33m=\u001b[0m\u001b[0;31m \u001b[0m\u001b[0;31m\\\u001b[0m\u001b[1;33m\u001b[0m\u001b[1;33m\u001b[0m\u001b[0m\n\u001b[1;32m-> 1995\u001b[1;33m             self._aA.actionsFreqsAngles(\\\n\u001b[0m\u001b[0;32m   1996\u001b[0m                 \u001b[0mself\u001b[0m\u001b[1;33m.\u001b[0m\u001b[0mR\u001b[0m\u001b[1;33m(\u001b[0m\u001b[0muse_physical\u001b[0m\u001b[1;33m=\u001b[0m\u001b[1;32mFalse\u001b[0m\u001b[1;33m,\u001b[0m\u001b[0mdontreshape\u001b[0m\u001b[1;33m=\u001b[0m\u001b[1;32mTrue\u001b[0m\u001b[1;33m)\u001b[0m\u001b[1;33m,\u001b[0m\u001b[1;33m\u001b[0m\u001b[1;33m\u001b[0m\u001b[0m\n\u001b[0;32m   1997\u001b[0m                 \u001b[0mself\u001b[0m\u001b[1;33m.\u001b[0m\u001b[0mvR\u001b[0m\u001b[1;33m(\u001b[0m\u001b[0muse_physical\u001b[0m\u001b[1;33m=\u001b[0m\u001b[1;32mFalse\u001b[0m\u001b[1;33m,\u001b[0m\u001b[0mdontreshape\u001b[0m\u001b[1;33m=\u001b[0m\u001b[1;32mTrue\u001b[0m\u001b[1;33m)\u001b[0m\u001b[1;33m,\u001b[0m\u001b[1;33m\u001b[0m\u001b[1;33m\u001b[0m\u001b[0m\n",
      "\u001b[1;32m~\\Anaconda3\\lib\\site-packages\\galpy\\util\\conversion.py\u001b[0m in \u001b[0;36mwrapper\u001b[1;34m(*args, **kwargs)\u001b[0m\n\u001b[0;32m   1033\u001b[0m                 \u001b[0mnewargs\u001b[0m\u001b[1;33m=\u001b[0m \u001b[0mnewargs\u001b[0m\u001b[1;33m+\u001b[0m\u001b[1;33m(\u001b[0m\u001b[0margs\u001b[0m\u001b[1;33m[\u001b[0m\u001b[0mii\u001b[0m\u001b[1;33m]\u001b[0m\u001b[1;33m,\u001b[0m\u001b[1;33m)\u001b[0m\u001b[1;33m\u001b[0m\u001b[1;33m\u001b[0m\u001b[0m\n\u001b[0;32m   1034\u001b[0m         \u001b[0margs\u001b[0m\u001b[1;33m=\u001b[0m \u001b[0mnewargs\u001b[0m\u001b[1;33m\u001b[0m\u001b[1;33m\u001b[0m\u001b[0m\n\u001b[1;32m-> 1035\u001b[1;33m         \u001b[1;32mreturn\u001b[0m \u001b[0mmethod\u001b[0m\u001b[1;33m(\u001b[0m\u001b[1;33m*\u001b[0m\u001b[0margs\u001b[0m\u001b[1;33m,\u001b[0m\u001b[1;33m**\u001b[0m\u001b[0mkwargs\u001b[0m\u001b[1;33m)\u001b[0m\u001b[1;33m\u001b[0m\u001b[1;33m\u001b[0m\u001b[0m\n\u001b[0m\u001b[0;32m   1036\u001b[0m     \u001b[1;32mreturn\u001b[0m \u001b[0mwrapper\u001b[0m\u001b[1;33m\u001b[0m\u001b[1;33m\u001b[0m\u001b[0m\n\u001b[0;32m   1037\u001b[0m \u001b[1;33m\u001b[0m\u001b[0m\n",
      "\u001b[1;32m~\\Anaconda3\\lib\\site-packages\\galpy\\util\\conversion.py\u001b[0m in \u001b[0;36mwrapped\u001b[1;34m(*args, **kwargs)\u001b[0m\n\u001b[0;32m    994\u001b[0m                 \u001b[1;32mreturn\u001b[0m \u001b[0mnewOut\u001b[0m\u001b[1;33m\u001b[0m\u001b[1;33m\u001b[0m\u001b[0m\n\u001b[0;32m    995\u001b[0m             \u001b[1;32melse\u001b[0m\u001b[1;33m:\u001b[0m\u001b[1;33m\u001b[0m\u001b[1;33m\u001b[0m\u001b[0m\n\u001b[1;32m--> 996\u001b[1;33m                 \u001b[1;32mreturn\u001b[0m \u001b[0mmethod\u001b[0m\u001b[1;33m(\u001b[0m\u001b[1;33m*\u001b[0m\u001b[0margs\u001b[0m\u001b[1;33m,\u001b[0m\u001b[1;33m**\u001b[0m\u001b[0mkwargs\u001b[0m\u001b[1;33m)\u001b[0m\u001b[1;33m\u001b[0m\u001b[1;33m\u001b[0m\u001b[0m\n\u001b[0m\u001b[0;32m    997\u001b[0m         \u001b[1;32mreturn\u001b[0m \u001b[0mwrapped\u001b[0m\u001b[1;33m\u001b[0m\u001b[1;33m\u001b[0m\u001b[0m\n\u001b[0;32m    998\u001b[0m     \u001b[1;32mreturn\u001b[0m \u001b[0mwrapper\u001b[0m\u001b[1;33m\u001b[0m\u001b[1;33m\u001b[0m\u001b[0m\n",
      "\u001b[1;32m~\\Anaconda3\\lib\\site-packages\\galpy\\actionAngle\\actionAngle.py\u001b[0m in \u001b[0;36mactionsFreqsAngles\u001b[1;34m(self, *args, **kwargs)\u001b[0m\n\u001b[0;32m    302\u001b[0m         \"\"\"\n\u001b[0;32m    303\u001b[0m         \u001b[1;32mtry\u001b[0m\u001b[1;33m:\u001b[0m\u001b[1;33m\u001b[0m\u001b[1;33m\u001b[0m\u001b[0m\n\u001b[1;32m--> 304\u001b[1;33m             \u001b[1;32mreturn\u001b[0m \u001b[0mself\u001b[0m\u001b[1;33m.\u001b[0m\u001b[0m_actionsFreqsAngles\u001b[0m\u001b[1;33m(\u001b[0m\u001b[1;33m*\u001b[0m\u001b[0margs\u001b[0m\u001b[1;33m,\u001b[0m\u001b[1;33m**\u001b[0m\u001b[0mkwargs\u001b[0m\u001b[1;33m)\u001b[0m\u001b[1;33m\u001b[0m\u001b[1;33m\u001b[0m\u001b[0m\n\u001b[0m\u001b[0;32m    305\u001b[0m         \u001b[1;32mexcept\u001b[0m \u001b[0mAttributeError\u001b[0m\u001b[1;33m:\u001b[0m \u001b[1;31m#pragma: no cover\u001b[0m\u001b[1;33m\u001b[0m\u001b[1;33m\u001b[0m\u001b[0m\n\u001b[0;32m    306\u001b[0m             \u001b[1;32mraise\u001b[0m \u001b[0mNotImplementedError\u001b[0m\u001b[1;33m(\u001b[0m\u001b[1;34m\"'actionsFreqsAngles' method not implemented for this actionAngle module\"\u001b[0m\u001b[1;33m)\u001b[0m\u001b[1;33m\u001b[0m\u001b[1;33m\u001b[0m\u001b[0m\n",
      "\u001b[1;32m~\\Anaconda3\\lib\\site-packages\\galpy\\actionAngle\\actionAngleStaeckel.py\u001b[0m in \u001b[0;36m_actionsFreqsAngles\u001b[1;34m(self, *args, **kwargs)\u001b[0m\n\u001b[0;32m    335\u001b[0m             \u001b[1;32mif\u001b[0m \u001b[1;34m'c'\u001b[0m \u001b[1;32min\u001b[0m \u001b[0mkwargs\u001b[0m \u001b[1;32mand\u001b[0m \u001b[0mkwargs\u001b[0m\u001b[1;33m[\u001b[0m\u001b[1;34m'c'\u001b[0m\u001b[1;33m]\u001b[0m \u001b[1;32mand\u001b[0m \u001b[1;32mnot\u001b[0m \u001b[0mself\u001b[0m\u001b[1;33m.\u001b[0m\u001b[0m_c\u001b[0m\u001b[1;33m:\u001b[0m \u001b[1;31m#pragma: no cover\u001b[0m\u001b[1;33m\u001b[0m\u001b[1;33m\u001b[0m\u001b[0m\n\u001b[0;32m    336\u001b[0m                 \u001b[0mwarnings\u001b[0m\u001b[1;33m.\u001b[0m\u001b[0mwarn\u001b[0m\u001b[1;33m(\u001b[0m\u001b[1;34m\"C module not used because potential does not have a C implementation\"\u001b[0m\u001b[1;33m,\u001b[0m\u001b[0mgalpyWarning\u001b[0m\u001b[1;33m)\u001b[0m\u001b[1;33m\u001b[0m\u001b[1;33m\u001b[0m\u001b[0m\n\u001b[1;32m--> 337\u001b[1;33m             \u001b[1;32mraise\u001b[0m \u001b[0mNotImplementedError\u001b[0m\u001b[1;33m(\u001b[0m\u001b[1;34m\"actionsFreqs with c=False not implemented; maybe you meant to install the C extension?\"\u001b[0m\u001b[1;33m)\u001b[0m\u001b[1;33m\u001b[0m\u001b[1;33m\u001b[0m\u001b[0m\n\u001b[0m\u001b[0;32m    338\u001b[0m \u001b[1;33m\u001b[0m\u001b[0m\n\u001b[0;32m    339\u001b[0m     \u001b[1;32mdef\u001b[0m \u001b[0m_EccZmaxRperiRap\u001b[0m\u001b[1;33m(\u001b[0m\u001b[0mself\u001b[0m\u001b[1;33m,\u001b[0m\u001b[1;33m*\u001b[0m\u001b[0margs\u001b[0m\u001b[1;33m,\u001b[0m\u001b[1;33m**\u001b[0m\u001b[0mkwargs\u001b[0m\u001b[1;33m)\u001b[0m\u001b[1;33m:\u001b[0m\u001b[1;33m\u001b[0m\u001b[1;33m\u001b[0m\u001b[0m\n",
      "\u001b[1;31mNotImplementedError\u001b[0m: actionsFreqs with c=False not implemented; maybe you meant to install the C extension?"
     ]
    }
   ],
   "source": [
    "# Find the maximum orbital period of the GC:\n",
    "p_orb_rad = os_init.Tr()\n",
    "p_orb_phi = os_init.Tp()\n",
    "p_orb_max = max(np.array([p_orb_rad, p_orb_phi]))\n",
    "print(\"The maximum orbital period of M3 is {} Gyr.\".format(p_orb_max))"
   ]
  },
  {
   "cell_type": "markdown",
   "metadata": {},
   "source": [
    "### STEP 6: Initialize a corespray instance using your previously defined parameters and integrate orbit for 1 orbital period (duration of orbit integration is of course a free parameter). Then sample core ejections over 1 orbital period"
   ]
  },
  {
   "cell_type": "code",
   "execution_count": null,
   "metadata": {},
   "outputs": [],
   "source": [
    "# Initialize corespray\n",
    "cspray = corespraydf(gcname, potential, mu0, sig0, vesc0, rho0, mgc, rgc, W0, mmin, mmax, alpha)\n",
    "#Sample for one orbital period\n",
    "p_orb = p_orb_max * 1000  # Myr \n",
    "os,ob = cspray.sample(p_orb, nstar=10, binaries=True)"
   ]
  },
  {
   "cell_type": "markdown",
   "metadata": {},
   "source": [
    "#### STEP 6: Extract parameters for the SINGLE escapers:"
   ]
  },
  {
   "cell_type": "code",
   "execution_count": null,
   "metadata": {},
   "outputs": [],
   "source": [
    "ra = os.ra()  # [deg]\n",
    "dec = os.dec()  # [deg]\n",
    "dist = os.dist()  # [kpc]\n",
    "pmra = os.pmra()  # [mas/yr]\n",
    "pmdec = os.pmdec() # [mas/yr]\n",
    "vr = os.vlos()  # [km/s]\n",
    "r = os.R()  # [kpc]\n",
    "z = os.z()  # [kpc]\n",
    "t_esc = cspray.tesc  # [Myr] in the past\n",
    "v_esc = cspray.vesc  # [km/s]\n",
    "mstar = cspray.mstar # [Msol]"
   ]
  },
  {
   "cell_type": "markdown",
   "metadata": {},
   "source": [
    "#### STEP 6: Extract parameters for all BINARY stars:"
   ]
  },
  {
   "cell_type": "code",
   "execution_count": null,
   "metadata": {},
   "outputs": [],
   "source": [
    "ra_b = ob.ra()  # [deg]\n",
    "dec_b = ob.dec()  # [deg]\n",
    "dist_b = ob.dist()  # [kpc]\n",
    "pmra_b = ob.pmra()  # [mas/yr]\n",
    "pmdec_b = ob.pmdec()  # [mas/yr]\n",
    "vr_b = ob.vlos()  # [km/s]\n",
    "r_b = ob.R()  # [kpc]\n",
    "z_b = ob.z()  # [kpc]\n",
    "# Would tesc of binary be same as escaper star?\n",
    "v_esc_b = cspray.vescb  # [km/s]\n",
    "m_b1 = cspray.mb1  # [Msol]\n",
    "m_b2 = cspray.mb2  # [Msol]\n",
    "m_b_tot = m_b1 + m_b2  # [Msol]\n",
    "\n",
    "# bindx is a boolean that gives indxs of binaries that escaped the cluster: \n",
    "bin_esc = cspray.bindx\n",
    "print(\"{}/{} binaries escaped {}.\".format(len(ra_b[bin_esc]), len(ra_b), gcname))"
   ]
  },
  {
   "cell_type": "markdown",
   "metadata": {},
   "source": [
    "#### Explore some parameter spaces of your simulated extra-tidal stars and binaries!"
   ]
  },
  {
   "cell_type": "code",
   "execution_count": null,
   "metadata": {},
   "outputs": [],
   "source": [
    "fig, ax = plt.subplots(nrows=2, ncols=2, figsize=(10, 10))\n",
    "\n",
    "# RA vs Dec positions:\n",
    "ax[0, 0].scatter(ra, dec, marker='o', s=50, edgecolor='black', c='#8d99ae', alpha=0.9) \n",
    "ax[0, 0].scatter(ra_b[bin_esc], dec_b[bin_esc], marker='o', s=50, edgecolor='black', c='#ef233c', alpha=0.9) \n",
    "ax[0, 0].scatter(cspray.o.ra(), cspray.o.dec(), marker='*', s=250, edgecolor='black', c='#2b2d42')\n",
    "ax[0, 0].set_xlabel(r\"$\\alpha$ ($^\\circ $)\", fontsize=18)\n",
    "ax[0, 0].set_ylabel(r\"$\\delta$ ($^\\circ $)\", fontsize=18)\n",
    "ax[0, 0].tick_params(axis='both', which='major', labelsize=16)\n",
    "ax[0, 0].tick_params(axis='both', which='minor', labelsize=16)\n",
    "\n",
    "# R vs z positions:\n",
    "ax[0, 1].scatter(r, z, marker='o', s=50, edgecolor='black', c='#8d99ae', alpha=0.9, label='Extra-tidal stars') \n",
    "ax[0, 1].scatter(r_b[bin_esc], z_b[bin_esc], marker='o', s=50, edgecolor='black', c='#ef233c', alpha=0.9, label='Extra-tidal binaries') \n",
    "ax[0, 1].scatter(cspray.o.r(), cspray.o.z(), marker='*', s=250, edgecolor='black', c='#2b2d42', label='M3 Centre')\n",
    "ax[0, 1].set_xlabel(r\"$r$ (kpc)\", fontsize=18)\n",
    "ax[0, 1].set_ylabel(r\"$z$ (kpc)\", fontsize=18)\n",
    "ax[0, 1].tick_params(axis='both', which='major', labelsize=16)\n",
    "ax[0, 1].tick_params(axis='both', which='minor', labelsize=16)\n",
    "ax[0, 1].legend(fontsize=16)\n",
    "\n",
    "# Proper motion:\n",
    "ax[1, 0].scatter(pmra, pmdec, marker='o', s=50, edgecolor='black', c='#8d99ae', alpha=0.9) \n",
    "ax[1, 0].scatter(pmra_b[bin_esc], pmdec_b[bin_esc], marker='o', s=50, edgecolor='black', c='#ef233c', alpha=0.9) \n",
    "ax[1, 0].scatter(cspray.o.pmra(), cspray.o.pmdec(), marker='*', s=250, edgecolor='black', c='#2b2d42')\n",
    "ax[1, 0].set_xlabel(r\"$\\mu_{\\alpha}$ (mas/yr)\", fontsize=18)\n",
    "ax[1, 0].set_ylabel(r\"$\\mu_{\\delta}$ (mas/yr)\", fontsize=18)\n",
    "ax[1, 0].tick_params(axis='both', which='major', labelsize=16)\n",
    "ax[1, 0].tick_params(axis='both', which='minor', labelsize=16)\n",
    "\n",
    "# Escape velocities:\n",
    "ax[1, 1].hist(v_esc, bins=7, color='#8d99ae', density=True)\n",
    "ax[1, 1].hist(v_esc_b, bins=5, color='#ef233c', density=True)\n",
    "ax[1, 1].axvline(vesc0, ls='--', c='#2b2d42')\n",
    "ax[1, 1].tick_params(axis='both', which='major', labelsize=16)\n",
    "ax[1, 1].tick_params(axis='both', which='minor', labelsize=16)\n",
    "ax[1, 1].set_xlabel(r\"$v_{esc}$ (km/s)\", fontsize=18)\n",
    "ax[1, 1].set_ylabel(\"Normalized Counts\", fontsize=18)\n",
    "\n",
    "fig.tight_layout()\n",
    "plt.show()"
   ]
  }
 ],
 "metadata": {
  "kernelspec": {
   "display_name": "Python 3",
   "language": "python",
   "name": "python3"
  },
  "language_info": {
   "codemirror_mode": {
    "name": "ipython",
    "version": 3
   },
   "file_extension": ".py",
   "mimetype": "text/x-python",
   "name": "python",
   "nbconvert_exporter": "python",
   "pygments_lexer": "ipython3",
   "version": "3.8.5"
  }
 },
 "nbformat": 4,
 "nbformat_minor": 4
}
