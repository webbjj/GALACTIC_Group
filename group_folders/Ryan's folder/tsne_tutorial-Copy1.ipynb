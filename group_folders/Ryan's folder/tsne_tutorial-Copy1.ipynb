{
 "cells": [
  {
   "cell_type": "markdown",
   "metadata": {},
   "source": [
    "## How to use the t-SNE algorithm on APOGEE globular cluster data. \n",
    "##### Steffani Grondin (September 23, 2022)"
   ]
  },
  {
   "cell_type": "code",
   "execution_count": null,
   "metadata": {
    "scrolled": true
   },
   "outputs": [],
   "source": [
    "%pip install sklearn\n",
    "%pip install shapely"
   ]
  },
  {
   "cell_type": "markdown",
   "metadata": {},
   "source": [
    "#### STEP 0: Import the necessary packages/algorithms."
   ]
  },
  {
   "cell_type": "code",
   "execution_count": null,
   "metadata": {},
   "outputs": [],
   "source": [
    "# General analysis/plotting packages:\n",
    "import matplotlib.pyplot as plt\n",
    "import numpy as np\n",
    "import math\n",
    "import pandas as pd\n",
    "import matplotlib.pyplot as plt\n",
    "from matplotlib import rc\n",
    "plt.rcParams['mathtext.fontset'] = 'stix'\n",
    "plt.rcParams['font.family'] = 'STIXGeneral'\n",
    "from collections import Counter\n",
    "\n",
    "# Specific t-SNE/visualization packages:\n",
    "from sklearn.manifold import TSNE\n",
    "from shapely.geometry import Point, Polygon"
   ]
  },
  {
   "cell_type": "markdown",
   "metadata": {},
   "source": [
    "#### STEP 1: Load in the M3 datafile. \n",
    "\n",
    "This example uses APOGEE DR17 data (https://www.sdss.org/dr17/) with astroNN chemical abundances (https://astronn.readthedocs.io/en/latest/) and includes all stars that are within a 10x10 degree field of view around M3's centre."
   ]
  },
  {
   "cell_type": "markdown",
   "metadata": {},
   "source": [
    "Loading in M22"
   ]
  },
  {
   "cell_type": "code",
   "execution_count": null,
   "metadata": {},
   "outputs": [],
   "source": [
    "M3 = pd.read_csv('data/M3data_10x10.csv', delimiter=',')\n",
    "\n",
    "# Spatial:\n",
    "ra = M3[\"ra\"]   #APOGEE\n",
    "dec = M3[\"dec\"]   #APOGEE\n",
    "\n",
    "# Identification:\n",
    "apogee_ID = M3[\"apogee_ID\"]   #APOGEE\n",
    "gaia_ID = M3[\"gaia_ID\"]  # Gaia\n",
    "\n",
    "# Kinematic:\n",
    "parallax = M3[\"parallax\"]  # Gaia\n",
    "pmra = M3[\"pmra\"]  # Gaia\n",
    "pmra_err = M3[\"pmra_err\"]  # Gaia\n",
    "pmdec = M3[\"pmdec\"]  # Gaia\n",
    "pmdec_err = M3[\"pmdec_err\"]  # Gaia\n",
    "RV = M3[\"RV\"]   #APOGEE\n",
    "RV_err = M3[\"RV_err\"]   #APOGEE\n",
    "dist = M3[\"dist\"]   #APOGEE\n",
    "dist_err = M3[\"dist_err\"]   #APOGEE\n",
    "jr = M3[\"jr\"]   #APOGEE\n",
    "jr_err = M3[\"jr_err\"]   #APOGEE\n",
    "jz = M3[\"jz\"]   #APOGEE\n",
    "jz_err = M3[\"jz_err\"]   #APOGEE\n",
    "jphi = M3[\"jphi\"]   #APOGEE\n",
    "jphi_err = M3[\"jphi_err\"]    #APOGEE\n",
    "\n",
    "# Spectral (useful for filtering):\n",
    "TEFF_ERR = M3[\"TEFF_err\"]   #APOGEE\n",
    "TEFF = M3[\"TEFF\"]   #APOGEE\n",
    "LOGG_ERR = M3[\"LOGG_err\"]   #APOGEE\n",
    "LOGG = M3[\"LOGG\"]   #APOGEE\n",
    "SNR = M3[\"SNR\"]   #APOGEE\n",
    "\n",
    "# Chemical abundances from astroNN:\n",
    "FE_H = M3['FEH'] \n",
    "C_FE = M3['CFE']\n",
    "CI_FE = M3['CIFE']\n",
    "N_FE = M3['NFE']\n",
    "O_FE = M3['OFE']\n",
    "MG_FE = M3['MGFE']\n",
    "AL_FE = M3['ALFE']\n",
    "SI_FE = M3['SIFE']\n",
    "P_FE = M3['PFE']\n",
    "S_FE = M3['SFE']\n",
    "K_FE = M3['KFE']\n",
    "CA_FE = M3['CAFE']\n",
    "TI_FE = M3['TIFE']\n",
    "TIII_FE = M3['TIIIFE']\n",
    "V_FE = M3['VFE']\n",
    "CR_FE = M3['CRFE']\n",
    "MN_FE = M3['MNFE']\n",
    "CO_FE = M3['COFE']\n",
    "NI_FE = M3['NIFE']\n",
    "\n",
    "# Chemical abundance errors from astroNN:\n",
    "FE_H_err = M3[\"FEH_err\"] \n",
    "C_FE_err = M3['CFE_err']\n",
    "CI_FE_err = M3['CIFE_err']\n",
    "N_FE_err = M3['NFE_err']\n",
    "O_FE_err = M3['OFE_err']\n",
    "MG_FE_err = M3['MGFE_err']\n",
    "AL_FE_err = M3['ALFE_err']\n",
    "SI_FE_err = M3['SIFE_err']\n",
    "P_FE_err = M3['PFE_err']\n",
    "S_FE_err = M3['SFE_err']\n",
    "K_FE_err = M3['KFE_err']\n",
    "CA_FE_err = M3['CAFE_err']\n",
    "TI_FE_err = M3['TIFE_err']\n",
    "TIII_FE_err = M3['TIIIFE_err']\n",
    "V_FE_err = M3['VFE_err']\n",
    "CR_FE_err = M3['CRFE_err']\n",
    "MN_FE_err = M3['MNFE_err']\n",
    "CO_FE_err = M3['COFE_err']\n",
    "NI_FE_err = M3['NIFE_err']\n",
    "\n",
    "# Number of stars in the initial sample of APOGEE DR16: \n",
    "print(\"There are {} stars in our initial sample\".format(len(ra)))\n",
    "\n",
    "cols = [ra, dec, apogee_ID, gaia_ID, parallax, pmra, pmra_err, pmdec, pmdec_err, RV, RV_err, dist, dist_err,\n",
    "        jr, jr_err, jphi, jphi_err, jz, jz_err, TEFF, TEFF_ERR, LOGG, LOGG_ERR, SNR, FE_H, FE_H_err, C_FE, \n",
    "        C_FE_err, CI_FE, CI_FE_err, N_FE, N_FE_err, O_FE, O_FE_err, MG_FE, MG_FE_err, AL_FE, AL_FE_err, SI_FE,\n",
    "        SI_FE_err, P_FE, P_FE_err, S_FE, S_FE_err, K_FE, K_FE_err, CA_FE, CA_FE_err, TI_FE, TI_FE_err, TIII_FE,\n",
    "        TIII_FE_err, V_FE, V_FE_err, CR_FE, CR_FE_err, MN_FE, MN_FE_err, CO_FE, CO_FE_err, NI_FE, NI_FE_err]"
   ]
  },
  {
   "cell_type": "code",
   "execution_count": null,
   "metadata": {},
   "outputs": [],
   "source": [
    "cols[0]"
   ]
  },
  {
   "cell_type": "markdown",
   "metadata": {},
   "source": [
    "#### STEP 2: Filter the data. \n",
    "\n",
    "First, we remove all stars without proper motions and chemical abundances for all 19 elements. Next, for stars with multiple spectra, we select the one with the highest SNR to represent the source. Finally, we remove all stars with low signal-to-noise (SNR) ratios. "
   ]
  },
  {
   "cell_type": "code",
   "execution_count": null,
   "metadata": {},
   "outputs": [],
   "source": [
    "### Filter 1: Remove stars that do not have proper motion values. ###\n",
    "pm_filter_nan = np.isnan(pmra)\n",
    "pm_filter = np.where(pm_filter_nan==False)\n",
    "data_pmfilter = []\n",
    "for i in cols:\n",
    "    x = np.array(i)[pm_filter]\n",
    "    data_pmfilter.append(x)\n",
    "print(\"There are {} stars in our sample after the proper motion filtering.\".format(len(data_pmfilter[0])))\n",
    "\n",
    "### Filter 2: Remove stars that do not have data for all 19 abundances. ###\n",
    "abundance_filter = np.where((data_pmfilter[24] > -9999) & (data_pmfilter[26] > -9999) & (data_pmfilter[28]  > -9999)\n",
    "                            & (data_pmfilter[30]  > -9999) & (data_pmfilter[32]  > -9999) & (data_pmfilter[34]  > -9999)\n",
    "                            & (data_pmfilter[36]  > -9999) & (data_pmfilter[38]  > -9999) & (data_pmfilter[40]  > -9999)\n",
    "                            & (data_pmfilter[42]  > -9999) & (data_pmfilter[44]  > -9999) & (data_pmfilter[46]  > -9999)\n",
    "                            & (data_pmfilter[48]  > -9999) & (data_pmfilter[50]  > -9999) & (data_pmfilter[52]  > -9999)\n",
    "                            & (data_pmfilter[54]  > -9999) & (data_pmfilter[56]  > -9999) & (data_pmfilter[58]  > -9999)\n",
    "                            & (data_pmfilter[60]  > -9999))\n",
    "\n",
    "data_abundancefilter = []\n",
    "for i in data_pmfilter:\n",
    "    y = np.array(i)[abundance_filter]\n",
    "    data_abundancefilter.append(y)\n",
    "print(\"There are {} stars in our sample after the abundance filtering.\".format(len(data_abundancefilter[0])))\n",
    "\n",
    "### Filter 3: Remove all duplicate spectra (i.e. select spectra with highest SNR for multiple measurements). ###\n",
    "d =  Counter(data_abundancefilter[0])\n",
    "#print(d)\n",
    "duplicates = [k for k, v in d.items() if v > 1]\n",
    "a_list = np.array(range(0, len(duplicates)))\n",
    "max_SNR_array = []\n",
    "\n",
    "for i in a_list:\n",
    "    indices = np.where(data_abundancefilter[0] == duplicates[i])\n",
    "    snr_val = data_abundancefilter[23][indices]\n",
    "    maximum = max(snr_val)\n",
    "    index_maximum = np.where((data_abundancefilter[0] == duplicates[i]) & (data_abundancefilter[23] == maximum))\n",
    "    index_maximum = int(index_maximum[0])\n",
    "    max_SNR_array.append(index_maximum)\n",
    "\n",
    "idx_sort = np.argsort(data_abundancefilter[0])\n",
    "sorted_ra_array = data_abundancefilter[0][idx_sort]\n",
    "vals, idx_start, count = np.unique(sorted_ra_array, return_counts=True, return_index=True)\n",
    "res = np.split(idx_sort, idx_start[1:])\n",
    "vals = vals[count == 1]\n",
    "listtest =  np.array(range(0, len(vals)))\n",
    "\n",
    "unique_array = []\n",
    "for i in listtest:\n",
    "    unique_val = np.where(vals[i] == data_abundancefilter[0])\n",
    "    unique_val = int(unique_val[0])\n",
    "    unique_array.append(unique_val)\n",
    "    \n",
    "print(\"There are {} stars that do not have duplicate spectra.\".format(len(unique_array)))\n",
    "print(\"There are {} stars that have multiple spectra, in which we select highest SNR.\".format(len(max_SNR_array)))\n",
    "\n",
    "duplicates_filter = np.concatenate((unique_array, max_SNR_array))\n",
    "sortedarray = np.sort(duplicates_filter)\n",
    "\n",
    "data_duplicatesfilter = []\n",
    "#print(duplicates_filter)\n",
    "for i in data_abundancefilter:\n",
    "    z = np.array(i)[duplicates_filter]\n",
    "    data_duplicatesfilter.append(z)\n",
    "\n",
    "print(\"There are {} stars in our sample after removing sources with duplicate spectra.\".format(len(data_duplicatesfilter[0])))\n",
    "\n",
    "### Filter 4: Remove all stars with low SNR. ###\n",
    "SNR_filter = np.where(data_duplicatesfilter[23] > 50)\n",
    "data_snrfilter = []\n",
    "for i in data_duplicatesfilter:\n",
    "    a = np.array(i)[SNR_filter]\n",
    "    data_snrfilter.append(a)\n",
    "\n",
    "print(\"There are {} stars in our sample after removing sources with low SNR.\".format(len(data_snrfilter[0])))\n",
    "\n",
    "print(data_snrfilter[3])"
   ]
  },
  {
   "cell_type": "markdown",
   "metadata": {},
   "source": [
    "#### ***CHECK-IN: Now that your data has been reduced, do some exploratory data analysis to see what the sample looks like!*\n",
    "\n",
    "What parameters are in this file? What parameters might be useful to connect extra-tidal stars with a suspected birth cluster?\n",
    "\n",
    "The data_snrfilter holds the original 62 parameters listed in the cols variable, with each subarray containing the 3212 stars that were left after the pm. abundance, duplicate, and low SNR filtering.\n",
    "\n",
    "The useful parameters are the chemical abundances (grouping like stars), RA and DEC (locating GC control stars), and radial velocity (grouping possible kicked stars) (proper motion might also be useful?)"
   ]
  },
  {
   "cell_type": "code",
   "execution_count": null,
   "metadata": {},
   "outputs": [],
   "source": [
    "fig_data_anal, ax = plt.subplots(3, 1, figsize=(12,30))\n",
    "ax[0].plot(data_snrfilter[0], data_snrfilter[1], color='k', markersize=1, marker='o', linestyle='none')\n",
    "ax[0].set_xlabel('RA')\n",
    "ax[0].set_ylabel('DEC')\n",
    "ax[0].set_title('RA vs DEC')\n",
    "\n",
    "ax[1].plot(data_snrfilter[5], data_snrfilter[7], color='k', markersize=1, marker='o', linestyle='none')\n",
    "ax[1].set_xlabel('PMRA')\n",
    "ax[1].set_ylabel('PMDEC')\n",
    "ax[1].set_title('PMRA vs PMDEC')\n",
    "\n",
    "ax[2].plot(data_snrfilter[3], data_snrfilter[9], color='k', markersize=1, marker='o', linestyle='none')\n",
    "ax[2].set_xlabel('Gaia ID')\n",
    "ax[2].set_ylabel('RV')\n",
    "ax[2].set_title('RV')"
   ]
  },
  {
   "cell_type": "markdown",
   "metadata": {},
   "source": [
    "#### STEP 3: Define parameters for your GC of interest. \n",
    "\n",
    "These parameters are taken from the Baumgardt & Hilker (2018) catalogue: https://people.smp.uq.edu.au/HolgerBaumgardt/globular/."
   ]
  },
  {
   "cell_type": "code",
   "execution_count": null,
   "metadata": {},
   "outputs": [],
   "source": [
    "ra_M3 = 205.548  # [deg]\n",
    "dec_M3 = 28.3772  # [deg]\n",
    "dist_M3 = 10180  # [pc]\n",
    "rt_M3 = 159.0339  # [pc] -- tidal radius @ apogalacticon\n",
    "rhm_M3 = 6.34  # [pc]\n",
    "rhm_M3_deg = math.degrees(math.atan(rhm_M3 / dist_M3))  # deg\n",
    "pmra_M3 = -0.152  # [mas/yr]\n",
    "pmdec_M3 = -2.670  # [mas/yr]"
   ]
  },
  {
   "cell_type": "markdown",
   "metadata": {},
   "source": [
    "#### STEP 4: Define a control group of cluster members.\n",
    "\n",
    "We must define a control group of likely cluster members of M3 so we can see where these stars end up in the t-SNE projection. "
   ]
  },
  {
   "cell_type": "code",
   "execution_count": null,
   "metadata": {},
   "outputs": [],
   "source": [
    "# Select all the stars within some radius of the cluster:\n",
    "def in_circle(center_x, center_y, radius, x, y):\n",
    "    square_dist = (center_x - x) ** 2 + (center_y - y) ** 2\n",
    "    return square_dist <= (radius) ** 2\n",
    "\n",
    "ra_filtered = data_snrfilter[0]\n",
    "dec_filtered = data_snrfilter[1]\n",
    "\n",
    "'''# Select stars within 8 * r,hm (useful for large enough sample of probable cluster members):\n",
    "in_halfmass = in_circle(ra_M3, dec_M3, 8*rhm_M3_deg, ra_filtered, dec_filtered)\n",
    "indices_control = np.where(in_halfmass==True)'''\n",
    "\n",
    "# larger rhm\n",
    "in_halfmass_10 = in_circle(ra_M3, dec_M3, 10*rhm_M3_deg, ra_filtered, dec_filtered)\n",
    "indices_control_10 = np.where(in_halfmass_10==True)\n",
    "'''\n",
    "# smaller rhm\n",
    "in_halfmass_6 = in_circle(ra_M3, dec_M3, 6*rhm_M3_deg, ra_filtered, dec_filtered)\n",
    "indices_control_6 = np.where(in_halfmass_6==True)'''\n",
    "'''\n",
    "controlgroup = []\n",
    "for i in data_snrfilter:\n",
    "    b = np.array(i)[indices_control]\n",
    "    controlgroup.append(b)'''\n",
    "    \n",
    "controlgroup_10 = []\n",
    "for i in data_snrfilter:\n",
    "    b_10 = np.array(i)[indices_control_10]\n",
    "    controlgroup_10.append(b_10)\n",
    "    \n",
    "'''controlgroup_6 = []\n",
    "for i in data_snrfilter:\n",
    "    b_6 = np.array(i)[indices_control_6]\n",
    "    controlgroup_6.append(b_6)'''\n",
    "\n",
    "# Example control group parameters: \n",
    "ra_control = controlgroup[0]\n",
    "dec_control = controlgroup[1]\n",
    "\n",
    "print(\"There are {} stars in our M3 control group.\".format(len(ra_control)))\n",
    "\n",
    "print(\"There are {} stars in our M3 control group w/ size 10.\".format(len(controlgroup_10)))\n",
    "\n",
    "print(\"There are {} stars in our M3 control group w/ size 6.\".format(len(controlgroup_6)))"
   ]
  },
  {
   "cell_type": "markdown",
   "metadata": {},
   "source": [
    "#### ***CHECK-IN: Add this control group to your above exploratory plots.* \n",
    "\n",
    "What do you notice about these stars? What changes if you adjust the control group radius (i.e. what if you go larger or smaller than 8*r,hm)?\n",
    "\n",
    "\n",
    "Smaller and larger both yield 62 for whatever reason."
   ]
  },
  {
   "cell_type": "code",
   "execution_count": null,
   "metadata": {},
   "outputs": [],
   "source": [
    "fig_data_anal2, ax = plt.subplots(3, 1, figsize=(12,30))\n",
    "ax[0].plot(data_snrfilter[0], data_snrfilter[1], color='k', markersize=1, marker='o', linestyle='none', label='filtered star field')\n",
    "ax[0].plot(controlgroup[0], controlgroup[1], color='r', markersize=1, marker='o', linestyle='none', label='M3 control group')\n",
    "ax[0].set_xlabel('RA')\n",
    "ax[0].set_ylabel('DEC')\n",
    "ax[0].set_title('RA vs DEC')\n",
    "\n",
    "ax[1].plot(data_snrfilter[5], data_snrfilter[7], color='k', markersize=1, marker='o', linestyle='none', label='filtered star field')\n",
    "ax[1].plot(controlgroup[5], controlgroup[7], color='r', markersize=1, marker='o', linestyle='none', label='M3 control group')\n",
    "ax[1].set_xlabel('PMRA')\n",
    "ax[1].set_ylabel('PMDEC')\n",
    "ax[1].set_title('PMRA vs PMDEC')\n",
    "\n",
    "ax[2].plot(data_snrfilter[3], data_snrfilter[9], color='k', markersize=1, marker='o', linestyle='none', label='filtered star field')\n",
    "ax[2].plot(controlgroup[3], controlgroup[9], color='r', markersize=1, marker='o', linestyle='none', label='M3 control group')\n",
    "ax[2].set_xlabel('Gaia ID')\n",
    "ax[2].set_ylabel('RV')\n",
    "ax[2].set_title('RV')"
   ]
  },
  {
   "cell_type": "markdown",
   "metadata": {},
   "source": [
    "#### STEP 5: Run t-SNE on the control group and full filtered sample of APOGEE DR17 stars.\n",
    "\n",
    "First, we standardize the data to ensure that no elements dominate or skew the t-SNE run. We want to include 19 chemical abundances and radial velocities in our run.  "
   ]
  },
  {
   "cell_type": "code",
   "execution_count": null,
   "metadata": {},
   "outputs": [],
   "source": [
    "FE_H_filtered, C_FE_filtered, CI_FE_filtered = data_snrfilter[24], data_snrfilter[26], data_snrfilter[28]\n",
    "N_FE_filtered, O_FE_filtered, MG_FE_filtered = data_snrfilter[30], data_snrfilter[32], data_snrfilter[34]\n",
    "AL_FE_filtered, SI_FE_filtered, P_FE_filtered = data_snrfilter[36], data_snrfilter[38], data_snrfilter[40]\n",
    "S_FE_filtered, K_FE_filtered, CA_FE_filtered = data_snrfilter[42], data_snrfilter[44], data_snrfilter[46]\n",
    "TI_FE_filtered, TIII_FE_filtered, V_FE_filtered = data_snrfilter[48], data_snrfilter[50], data_snrfilter[52]\n",
    "CR_FE_filtered, MN_FE_filtered, CO_FE_filtered, NI_FE_filtered = data_snrfilter[54], data_snrfilter[56], data_snrfilter[58], data_snrfilter[60]\n",
    "RV_filtered  = data_snrfilter[9]\n",
    "\n",
    "pretsne_array = np.array([FE_H_filtered, C_FE_filtered, CI_FE_filtered, N_FE_filtered, O_FE_filtered, MG_FE_filtered,\n",
    "                      AL_FE_filtered, SI_FE_filtered, P_FE_filtered, S_FE_filtered, K_FE_filtered, CA_FE_filtered, \n",
    "                      TI_FE_filtered, TIII_FE_filtered, V_FE_filtered, CR_FE_filtered, MN_FE_filtered, CO_FE_filtered,\n",
    "                       NI_FE_filtered, RV_filtered])\n",
    "\n",
    "standardized_array = []\n",
    "for i in pretsne_array:\n",
    "    mean, sigma = np.mean(i), np.std(i)\n",
    "    norm = (i - mean) / sigma\n",
    "    standardized_array.append(norm)"
   ]
  },
  {
   "cell_type": "markdown",
   "metadata": {},
   "source": [
    "Next, we apply the t-SNE algorithm via scikit-learn to reduce the dimensionality of the data from 20-D to 2-D."
   ]
  },
  {
   "cell_type": "code",
   "execution_count": null,
   "metadata": {},
   "outputs": [],
   "source": [
    "# Transpose the standardized + filtered array:\n",
    "standardized_array_transpose = np.transpose(standardized_array)\n",
    "\n",
    "# Run t-SNE on the transposed array:\n",
    "tsne_init = TSNE(n_components=2)\n",
    "tsne_2d = tsne_init.fit_transform(standardized_array_transpose)\n",
    "\n",
    "# Get t-SNE outputs for complete filtered dataset:\n",
    "t_SNE_dimX = tsne_2d[:, 0]\n",
    "t_SNE_dimY = tsne_2d[:, 1]\n",
    "\n",
    "# Get t-SNE outputs for control group:\n",
    "tsne_dimX_control = t_SNE_dimX[indices_control]\n",
    "tsne_dimY_control = t_SNE_dimY[indices_control]"
   ]
  },
  {
   "cell_type": "markdown",
   "metadata": {},
   "source": [
    "Finally, we plot the 2-D t-SNE projection. "
   ]
  },
  {
   "cell_type": "code",
   "execution_count": null,
   "metadata": {},
   "outputs": [],
   "source": [
    "fig, ax = plt.subplots(figsize=(8,6))\n",
    "ax.scatter(t_SNE_dimX, t_SNE_dimY, s=1, c='gray', label='APOGEE DR17 stars')\n",
    "ax.scatter(tsne_dimX_control , tsne_dimY_control, s=45, edgecolor='k', c='hotpink', label='M3 Control Group')\n",
    "ax.set_xlabel(\"t-SNE X-Dimension\", fontsize=16)\n",
    "ax.set_ylabel(\"t-SNE Y-Dimension\", fontsize=16)\n",
    "ax.tick_params(axis='both', which='major', labelsize=16)\n",
    "ax.tick_params(axis='both', which='minor', labelsize=16)\n",
    "ax.legend(fontsize=16, loc=1)\n",
    "plt.show()\n",
    "print('Total: ', len(t_SNE_dimX), 'Control: ', len(tsne_dimX_control))"
   ]
  },
  {
   "cell_type": "markdown",
   "metadata": {},
   "source": [
    "#### Changing Perplexity (default 30)\n",
    "related to # of nearby neighbours. Not sure what specifically"
   ]
  },
  {
   "cell_type": "code",
   "execution_count": null,
   "metadata": {
    "scrolled": true
   },
   "outputs": [],
   "source": [
    "### Perplexity changing\n",
    "# Transpose the standardized + filtered array:\n",
    "standardized_array_transpose = np.transpose(standardized_array)\n",
    "\n",
    "# Run t-SNE on the transposed array:\n",
    "# perplexity list (default 30)\n",
    "perp_list = [5, 10, 15, 20, 25, 35, 40, 45, 50]\n",
    "t_SNE_dimX_perp = []\n",
    "t_SNE_dimY_perp = []\n",
    "tsne_dimX_control_perp = []\n",
    "tsne_dimY_control_perp = []\n",
    "for i in perp_list:\n",
    "    tsne_init_perp = TSNE(n_components=2, perplexity=i)\n",
    "    tsne_2d_perp = tsne_init_perp.fit_transform(standardized_array_transpose)\n",
    "\n",
    "    # Get t-SNE outputs for complete filtered dataset:\n",
    "    t_SNE_dimX_perp.append(tsne_2d_perp[:, 0])\n",
    "    t_SNE_dimY_perp.append(tsne_2d_perp[:, 1])\n",
    "\n",
    "    # Get t-SNE outputs for control group:\n",
    "    tsne_dimX_control_perp.append(t_SNE_dimX_perp[-1][indices_control])\n",
    "    tsne_dimY_control_perp.append(t_SNE_dimY_perp[-1][indices_control])\n",
    "    \n",
    "    print('t_SNE done for perp =', i)\n",
    "\n",
    "print('t_SNE done')"
   ]
  },
  {
   "cell_type": "code",
   "execution_count": null,
   "metadata": {
    "scrolled": false
   },
   "outputs": [],
   "source": [
    "fig_perp, ax = plt.subplots(3, 3, figsize=(40,32))\n",
    "for i in range(3):\n",
    "    for j in range(3):\n",
    "        ax[i,j].scatter(t_SNE_dimX_perp[i + 3 * j], t_SNE_dimY_perp[i + 3 * j], s=1, c='gray', label='APOGEE DR17 stars')\n",
    "        ax[i,j].scatter(tsne_dimX_control_perp[i + 3 * j], tsne_dimY_control_perp[i + 3 * j], s=45, edgecolor='k', c='hotpink', label='M3 Control Group')\n",
    "        ax[i,j].set_xlabel(\"t-SNE X-Dimension\", fontsize=16)\n",
    "        ax[i,j].set_ylabel(\"t-SNE Y-Dimension\", fontsize=16)\n",
    "        ax[i,j].tick_params(axis='both', which='major', labelsize=16)\n",
    "        ax[i,j].tick_params(axis='both', which='minor', labelsize=16)\n",
    "        ax[i,j].set_title('Graph for perp =' + str(perp_list[i + 3 * j]))\n",
    "        ax[i,j].legend(fontsize=16, loc=1)\n",
    "        #print('Total: ', len(t_SNE_dimX_list[i + 3*j]), 'Control: ', len(tsne_dimX_control_list[i + 3 * j]))\n",
    "plt.tight_layout()\n",
    "plt.savefig('tSNE_perp')\n",
    "plt.show()\n",
    "\n"
   ]
  },
  {
   "cell_type": "markdown",
   "metadata": {},
   "source": [
    "Seems like the higher the perplexity, the more tightly grouped together the control stars. After 20 there seems to be a drop off in terms of cluster tightness increase. Running the same code doesn't yield the same graphs?"
   ]
  },
  {
   "cell_type": "markdown",
   "metadata": {},
   "source": [
    "#### Changing early exaggeration (default 12)\n",
    "controls tightness of natural clusters and how much space will be in between them?"
   ]
  },
  {
   "cell_type": "code",
   "execution_count": null,
   "metadata": {
    "scrolled": false
   },
   "outputs": [],
   "source": [
    "### early exaggeration changing\n",
    "# Transpose the standardized + filtered array:\n",
    "standardized_array_transpose = np.transpose(standardized_array)\n",
    "\n",
    "# Run t-SNE on the transposed array:\n",
    "# early exaggeration list (default 12.)\n",
    "exg_list = [4., 8., 16., 20., 24., 28., 32., 36., 40.]\n",
    "t_SNE_dimX_exg = []\n",
    "t_SNE_dimY_exg = []\n",
    "tsne_dimX_control_exg = []\n",
    "tsne_dimY_control_exg = []\n",
    "for i in exg_list:\n",
    "    tsne_init_exg = TSNE(n_components=2, perplexity=i)\n",
    "    tsne_2d_exg = tsne_init_exg.fit_transform(standardized_array_transpose)\n",
    "\n",
    "    # Get t-SNE outputs for complete filtered dataset:\n",
    "    t_SNE_dimX_exg.append(tsne_2d_exg[:, 0])\n",
    "    t_SNE_dimY_exg.append(tsne_2d_exg[:, 1])\n",
    "\n",
    "    # Get t-SNE outputs for control group:\n",
    "    tsne_dimX_control_exg.append(t_SNE_dimX_exg[-1][indices_control])\n",
    "    tsne_dimY_control_exg.append(t_SNE_dimY_exg[-1][indices_control])\n",
    "    \n",
    "    print('t_SNE done for exg =', i)\n",
    "\n",
    "print('t_SNE done')"
   ]
  },
  {
   "cell_type": "code",
   "execution_count": null,
   "metadata": {
    "scrolled": false
   },
   "outputs": [],
   "source": [
    "fig_exg, ax = plt.subplots(3, 3, figsize=(40,32))\n",
    "for i in range(3):\n",
    "    for j in range(3):\n",
    "        ax[i,j].scatter(t_SNE_dimX_exg[i + 3 * j], t_SNE_dimY_exg[i + 3 * j], s=1, c='gray', label='APOGEE DR17 stars')\n",
    "        ax[i,j].scatter(tsne_dimX_control_exg[i + 3 * j], tsne_dimY_control_exg[i + 3 * j], s=45, edgecolor='k', c='hotpink', label='M3 Control Group')\n",
    "        ax[i,j].set_xlabel(\"t-SNE X-Dimension\", fontsize=16)\n",
    "        ax[i,j].set_ylabel(\"t-SNE Y-Dimension\", fontsize=16)\n",
    "        ax[i,j].tick_params(axis='both', which='major', labelsize=16)\n",
    "        ax[i,j].tick_params(axis='both', which='minor', labelsize=16)\n",
    "        ax[i,j].set_title('Graph for early exg =' + str(exg_list[i + 3 * j]))\n",
    "        ax[i,j].legend(fontsize=16, loc=1)\n",
    "        #print('Total: ', len(t_SNE_dimX_exg[i + 3*j]), 'Control: ', len(tsne_dimX_control_exg[i + 3 * j]))\n",
    "plt.tight_layout()\n",
    "plt.savefig('tSNE_exg')\n",
    "plt.show()\n",
    "\n"
   ]
  },
  {
   "cell_type": "markdown",
   "metadata": {},
   "source": [
    "Seems like higher early exaggeration leads to tighter groups. Just like perplexity, there seems to be a falloff in group tightness increase"
   ]
  },
  {
   "cell_type": "markdown",
   "metadata": {},
   "source": [
    "#### Changing learning rate (default 200)\n",
    "something to do with step size and optimization for ML algorithms i think"
   ]
  },
  {
   "cell_type": "code",
   "execution_count": null,
   "metadata": {},
   "outputs": [],
   "source": [
    "### early exaggeration changing\n",
    "# Transpose the standardized + filtered array:\n",
    "standardized_array_transpose = np.transpose(standardized_array)\n",
    "\n",
    "# Run t-SNE on the transposed array:\n",
    "# early exaggeration list (default 12.)\n",
    "learn_list = [10., 100., 300., 400., 500., 600., 700., 800., 900.]\n",
    "t_SNE_dimX_learn = []\n",
    "t_SNE_dimY_learn = []\n",
    "tsne_dimX_control_learn = []\n",
    "tsne_dimY_control_learn = []\n",
    "for i in learn_list:\n",
    "    tsne_init_learn = TSNE(n_components=2, learning_rate=i)\n",
    "    tsne_2d_learn = tsne_init_learn.fit_transform(standardized_array_transpose)\n",
    "\n",
    "    # Get t-SNE outputs for complete filtered dataset:\n",
    "    t_SNE_dimX_learn.append(tsne_2d_learn[:, 0])\n",
    "    t_SNE_dimY_learn.append(tsne_2d_learn[:, 1])\n",
    "\n",
    "    # Get t-SNE outputs for control group:\n",
    "    tsne_dimX_control_learn.append(t_SNE_dimX_learn[-1][indices_control])\n",
    "    tsne_dimY_control_learn.append(t_SNE_dimY_learn[-1][indices_control])\n",
    "    \n",
    "    print('t_SNE done for learn =', i)\n",
    "\n",
    "print('t_SNE done')"
   ]
  },
  {
   "cell_type": "code",
   "execution_count": null,
   "metadata": {
    "scrolled": false
   },
   "outputs": [],
   "source": [
    "fig_learn, ax = plt.subplots(3, 3, figsize=(40,32))\n",
    "for i in range(3):\n",
    "    for j in range(3):\n",
    "        ax[i,j].scatter(t_SNE_dimX_learn[i + 3 * j], t_SNE_dimY_learn[i + 3 * j], s=1, c='gray', label='APOGEE DR17 stars')\n",
    "        ax[i,j].scatter(tsne_dimX_control_learn[i + 3 * j], tsne_dimY_control_learn[i + 3 * j], s=45, edgecolor='k', c='hotpink', label='M3 Control Group')\n",
    "        ax[i,j].set_xlabel(\"t-SNE X-Dimension\", fontsize=16)\n",
    "        ax[i,j].set_ylabel(\"t-SNE Y-Dimension\", fontsize=16)\n",
    "        ax[i,j].tick_params(axis='both', which='major', labelsize=16)\n",
    "        ax[i,j].tick_params(axis='both', which='minor', labelsize=16)\n",
    "        ax[i,j].set_title('Graph for learning rate =' + str(exg_list[i + 3 * j]))\n",
    "        ax[i,j].legend(fontsize=16, loc=1)\n",
    "        #print('Total: ', len(t_SNE_dimX_exg[i + 3*j]), 'Control: ', len(tsne_dimX_control_exg[i + 3 * j]))\n",
    "plt.tight_layout()\n",
    "plt.savefig('tSNE_learn')\n",
    "plt.show()"
   ]
  },
  {
   "cell_type": "markdown",
   "metadata": {},
   "source": [
    "Not too much noticable change surprisingly."
   ]
  },
  {
   "cell_type": "markdown",
   "metadata": {},
   "source": [
    "### OVerall remarks\n",
    "\n",
    "Seems to have a similar structure each time, just different control group locations and orientations"
   ]
  },
  {
   "cell_type": "markdown",
   "metadata": {},
   "source": [
    "#### ***CHECK-IN: You succesfully ran t-SNE!*\n",
    "\n",
    "What does this specific t-SNE projection actually tell you? How could you improve this t-SNE run? Importantly, how could you extend this method to find extra-tidal candidates of M3?\n",
    "\n",
    "This specific t-SNE only tells us the likely control group stars of M3 and where they fall in parameter space. A further analysis of the other stars that are similar to the M3 control group stars could identify extra tidal candidates."
   ]
  },
  {
   "cell_type": "markdown",
   "metadata": {},
   "source": [
    "#### Improving the Dimensionality Reduction\n",
    "Fine tune the hyper-parameters:\n",
    "- understand how the different hyper-parameters affect the data\n",
    "- what combination of hyper-parameters achieve the best separation of the control group? to acheive the best \n",
    "\n",
    "Helpful Papers:\n",
    "\n",
    "https://distill.pub/2016/misread-tsne/ \n",
    "\n",
    "https://towardsdatascience.com/how-to-tune-hyperparameters-of-tsne-7c0596a18868 \n",
    "\n",
    "Dimensional Reduction Astronomy Example:\n",
    "https://arxiv.org/pdf/2210.02471.pdf\n"
   ]
  },
  {
   "cell_type": "code",
   "execution_count": null,
   "metadata": {},
   "outputs": [],
   "source": []
  }
 ],
 "metadata": {
  "kernelspec": {
   "display_name": "Python 3",
   "language": "python",
   "name": "python3"
  },
  "language_info": {
   "codemirror_mode": {
    "name": "ipython",
    "version": 3
   },
   "file_extension": ".py",
   "mimetype": "text/x-python",
   "name": "python",
   "nbconvert_exporter": "python",
   "pygments_lexer": "ipython3",
   "version": "3.8.5"
  }
 },
 "nbformat": 4,
 "nbformat_minor": 4
}
